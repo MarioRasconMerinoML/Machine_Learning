{
 "cells": [
  {
   "attachments": {},
   "cell_type": "markdown",
   "metadata": {},
   "source": [
    "# TS Classification of FordA Dataset with a Transformer Encoder in Keras.\n",
    "\n",
    "The Encoder part of the transformer architecture, can be used for sequence classifications tasks like Sentiment Analysis in NLP.\n",
    "\n",
    "It can be also applied to time series."
   ]
  },
  {
   "cell_type": "code",
   "execution_count": null,
   "metadata": {},
   "outputs": [],
   "source": [
    "import os, pathlib, shutil, random, urllib, zipfile\n",
    "from tensorflow import keras\n",
    "from tensorflow.keras import layers\n",
    "import numpy as np\n",
    "import pandas as pd\n",
    "import matplotlib.pyplot as plt"
   ]
  },
  {
   "cell_type": "code",
   "execution_count": null,
   "metadata": {},
   "outputs": [],
   "source": [
    "# Load Train and Test datasets in Pandas\n",
    "train = pd.read_table('./FordA/FordA_TRAIN.txt',sep = '\\s+', header = None)\n",
    "test = pd.read_table('./FordA/FordA_TEST.txt', sep = '\\s+',header = None)\n",
    "\n",
    "# First column is the label and the rest of the columns are the Timestamps for each signal\n",
    "# Convert to numpy arrays\n",
    "X_train, y_train = train.iloc[:,1:].values, train.iloc[:,0].values.astype('int64')\n",
    "X_test, y_test = test.iloc[:,1:].values, test.iloc[:,0].values.astype('int64')\n",
    "\n"
   ]
  },
  {
   "cell_type": "code",
   "execution_count": null,
   "metadata": {},
   "outputs": [],
   "source": [
    "# Plot a couple of signals\n",
    "plt.figure()\n",
    "plt.scatter(x=np.arange(0,X_train.shape[1]), y = X_train[0,:], label = 'Class -1', c ='r', marker = 's', s=5)\n",
    "plt.scatter(x=np.arange(0,X_train.shape[1]), y = X_train[1,:], label = 'Class 1', c= 'g', marker = 'o',s=6)\n",
    "plt.legend(loc = 'best')\n",
    "plt.grid(True)\n",
    "plt.show()"
   ]
  },
  {
   "cell_type": "code",
   "execution_count": null,
   "metadata": {},
   "outputs": [],
   "source": [
    "\n",
    "X_train = X_train.reshape((X_train.shape[0], X_train.shape[1], 1))\n",
    "X_test = X_test.reshape((X_test.shape[0], X_train.shape[1], 1))\n",
    "\n",
    "print('Shape train set = ', X_train.shape)\n",
    "\n",
    "# Get number of classes / labels\n",
    "n_classes = train.iloc[:,0].nunique()\n",
    "print(n_classes)\n",
    "\n",
    "# Shuffle data\n",
    "\n",
    "idx = np.random.permutation(len(X_train))\n",
    "X_train = X_train[idx]\n",
    "y_train = y_train[idx]\n",
    "\n",
    "y_train = np.where(y_train == -1, 0, 1)\n",
    "y_test = np.where(y_test == -1, 0, 1)\n",
    "print(y_test[0:5])\n",
    "print(y_train[0:10])"
   ]
  },
  {
   "attachments": {},
   "cell_type": "markdown",
   "metadata": {},
   "source": [
    "Our model processes a tensor of shape (batch size, sequence length, features),\n",
    " where sequence length is the number of time steps and features is each input timeseries."
   ]
  }
 ],
 "metadata": {
  "language_info": {
   "name": "python"
  },
  "orig_nbformat": 4
 },
 "nbformat": 4,
 "nbformat_minor": 2
}
