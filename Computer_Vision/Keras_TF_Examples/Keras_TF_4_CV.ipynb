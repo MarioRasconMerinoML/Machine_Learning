{
 "cells": [
  {
   "attachments": {},
   "cell_type": "markdown",
   "metadata": {},
   "source": [
    "##  INTRODUCTION TO CONVNETS WITH KERAS - CLASSIFY THE MNIST DATASET"
   ]
  },
  {
   "cell_type": "code",
   "execution_count": 1,
   "metadata": {},
   "outputs": [],
   "source": [
    "import tensorflow as tf\n",
    "from tensorflow import keras\n",
    "from tensorflow.keras import layers\n",
    "from tensorflow.keras.datasets import mnist"
   ]
  },
  {
   "attachments": {},
   "cell_type": "markdown",
   "metadata": {},
   "source": [
    "### Define a model using the Functional API"
   ]
  },
  {
   "cell_type": "code",
   "execution_count": 4,
   "metadata": {},
   "outputs": [
    {
     "name": "stdout",
     "output_type": "stream",
     "text": [
      "Model: \"model\"\n",
      "_________________________________________________________________\n",
      " Layer (type)                Output Shape              Param #   \n",
      "=================================================================\n",
      " input_3 (InputLayer)        [(None, 28, 28, 1)]       0         \n",
      "                                                                 \n",
      " conv2d_3 (Conv2D)           (None, 26, 26, 32)        320       \n",
      "                                                                 \n",
      " max_pooling2d_2 (MaxPooling  (None, 13, 13, 32)       0         \n",
      " 2D)                                                             \n",
      "                                                                 \n",
      " conv2d_4 (Conv2D)           (None, 11, 11, 64)        18496     \n",
      "                                                                 \n",
      " max_pooling2d_3 (MaxPooling  (None, 5, 5, 64)         0         \n",
      " 2D)                                                             \n",
      "                                                                 \n",
      " conv2d_5 (Conv2D)           (None, 3, 3, 128)         73856     \n",
      "                                                                 \n",
      " flatten_1 (Flatten)         (None, 1152)              0         \n",
      "                                                                 \n",
      " dense_1 (Dense)             (None, 10)                11530     \n",
      "                                                                 \n",
      "=================================================================\n",
      "Total params: 104,202\n",
      "Trainable params: 104,202\n",
      "Non-trainable params: 0\n",
      "_________________________________________________________________\n"
     ]
    }
   ],
   "source": [
    "inputs = keras.Input(shape=(28,28,1)) # 28 x 28 pixels and 1 channel\n",
    "\n",
    "x1 = layers.Conv2D(filters = 32,  kernel_size = 3, activation = 'relu')(inputs)\n",
    "x2 = layers.MaxPool2D(pool_size = 2)(x1)\n",
    "x3 = layers.Conv2D(filters = 64,  kernel_size = 3, activation = 'relu')(x2)\n",
    "x4 = layers.MaxPool2D(pool_size = 2)(x3)\n",
    "x5 = layers.Conv2D(filters = 128,  kernel_size = 3, activation = 'relu')(x4)\n",
    "x6 = layers.Flatten()(x5)\n",
    "\n",
    "output = layers.Dense(10, activation = 'softmax')(x6)\n",
    "\n",
    "model = keras.Model(inputs = inputs, outputs = output)\n",
    "model.summary()"
   ]
  },
  {
   "attachments": {},
   "cell_type": "markdown",
   "metadata": {},
   "source": [
    "### Load dataset and split into train and test \n",
    "(No validation in this toy sample)"
   ]
  },
  {
   "cell_type": "code",
   "execution_count": 5,
   "metadata": {},
   "outputs": [],
   "source": [
    "(train_images, train_labels), (test_images, test_labels) = mnist.load_data()"
   ]
  },
  {
   "cell_type": "code",
   "execution_count": 8,
   "metadata": {},
   "outputs": [],
   "source": [
    "train_images = train_images.reshape((60000,28,28,1))\n",
    "train_images = train_images.astype('float32')/255 # Normalize\n",
    "test_images = test_images.reshape((10000,28,28,1))\n",
    "test_images = test_images.astype('float32')/255 # Normalize"
   ]
  },
  {
   "attachments": {},
   "cell_type": "markdown",
   "metadata": {},
   "source": [
    "### Compile and train"
   ]
  },
  {
   "cell_type": "code",
   "execution_count": 10,
   "metadata": {},
   "outputs": [
    {
     "name": "stdout",
     "output_type": "stream",
     "text": [
      "Epoch 1/10\n",
      "938/938 [==============================] - 95s 96ms/step - loss: 0.1568 - accuracy: 0.9516\n",
      "Epoch 2/10\n",
      "938/938 [==============================] - 79s 85ms/step - loss: 0.0452 - accuracy: 0.9858\n",
      "Epoch 3/10\n",
      "938/938 [==============================] - 80s 85ms/step - loss: 0.0319 - accuracy: 0.9902\n",
      "Epoch 4/10\n",
      "938/938 [==============================] - 83s 88ms/step - loss: 0.0239 - accuracy: 0.9924\n",
      "Epoch 5/10\n",
      "938/938 [==============================] - 82s 88ms/step - loss: 0.0191 - accuracy: 0.9943\n",
      "Epoch 6/10\n",
      "938/938 [==============================] - 81s 86ms/step - loss: 0.0148 - accuracy: 0.9954\n",
      "Epoch 7/10\n",
      "938/938 [==============================] - 83s 88ms/step - loss: 0.0119 - accuracy: 0.9964\n",
      "Epoch 8/10\n",
      "938/938 [==============================] - 79s 85ms/step - loss: 0.0095 - accuracy: 0.9972\n",
      "Epoch 9/10\n",
      "938/938 [==============================] - 112s 119ms/step - loss: 0.0081 - accuracy: 0.9975\n",
      "Epoch 10/10\n",
      "938/938 [==============================] - 103s 109ms/step - loss: 0.0072 - accuracy: 0.9979\n"
     ]
    },
    {
     "data": {
      "text/plain": [
       "<keras.callbacks.History at 0x21d3f3aca90>"
      ]
     },
     "execution_count": 10,
     "metadata": {},
     "output_type": "execute_result"
    }
   ],
   "source": [
    "model.compile(optimizer = 'RMSProp', \n",
    "              loss = 'sparse_categorical_crossentropy',\n",
    "              metrics = ['accuracy']) \n",
    "model.fit(train_images,train_labels, epochs = 10, batch_size=64)"
   ]
  },
  {
   "attachments": {},
   "cell_type": "markdown",
   "metadata": {},
   "source": [
    "### Evaluate"
   ]
  },
  {
   "cell_type": "code",
   "execution_count": 11,
   "metadata": {},
   "outputs": [
    {
     "name": "stdout",
     "output_type": "stream",
     "text": [
      "313/313 [==============================] - 12s 17ms/step - loss: 0.0360 - accuracy: 0.9931\n",
      "Test Accuracy: 0.993\n"
     ]
    }
   ],
   "source": [
    "test_loss, test_acc = model.evaluate(test_images,test_labels)\n",
    "print(f'Test Accuracy: {test_acc:.3f}')"
   ]
  }
 ],
 "metadata": {
  "kernelspec": {
   "display_name": "base",
   "language": "python",
   "name": "python3"
  },
  "language_info": {
   "codemirror_mode": {
    "name": "ipython",
    "version": 3
   },
   "file_extension": ".py",
   "mimetype": "text/x-python",
   "name": "python",
   "nbconvert_exporter": "python",
   "pygments_lexer": "ipython3",
   "version": "3.9.12 (main, Apr  4 2022, 05:22:27) [MSC v.1916 64 bit (AMD64)]"
  },
  "orig_nbformat": 4,
  "vscode": {
   "interpreter": {
    "hash": "d0dc47902d1593f6230e2968c5407e6840ccdeeb8f463fc3a0b69a589899a5dd"
   }
  }
 },
 "nbformat": 4,
 "nbformat_minor": 2
}
