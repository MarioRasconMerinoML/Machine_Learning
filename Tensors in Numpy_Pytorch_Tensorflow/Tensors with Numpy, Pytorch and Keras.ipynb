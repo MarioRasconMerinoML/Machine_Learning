{
 "cells": [
  {
   "cell_type": "markdown",
   "id": "ff093774",
   "metadata": {},
   "source": [
    "<b> This notebook is a compilation of simple samples around the gears of Machine Learning and Deep Learning operations, nothing else that algebra operations using matrix or tensor operations, with Numpy, Pytorch and Keras / Tensorflow in order to show the similarities and differences around them."
   ]
  },
  {
   "cell_type": "code",
   "execution_count": 1,
   "id": "e0745819",
   "metadata": {
    "ExecuteTime": {
     "end_time": "2022-09-04T10:41:04.859887Z",
     "start_time": "2022-09-04T10:40:28.799771Z"
    }
   },
   "outputs": [],
   "source": [
    "import numpy as np\n",
    "import torch\n",
    "import tensorflow as tf"
   ]
  },
  {
   "cell_type": "markdown",
   "id": "437578b5",
   "metadata": {},
   "source": [
    "## Numpy"
   ]
  },
  {
   "cell_type": "code",
   "execution_count": 22,
   "id": "626cec26",
   "metadata": {
    "ExecuteTime": {
     "end_time": "2022-09-04T13:37:32.635212Z",
     "start_time": "2022-09-04T13:37:32.610986Z"
    }
   },
   "outputs": [
    {
     "name": "stdout",
     "output_type": "stream",
     "text": [
      "The number of dimensions of a scalar is 0\n",
      "The number of dimensions of a vector is 1\n",
      "The number of dimensions of a matrix is 2\n",
      "The number of dimensions of a tensor is 3\n"
     ]
    }
   ],
   "source": [
    "## Basics\n",
    "\n",
    "# Scalars (Rank 0 tensors)\n",
    "x = np.array(5)\n",
    "print(f'The number of dimensions of a scalar is {x.ndim}')\n",
    "\n",
    "# Vectors (Rank 1 tensors) --> (samples) in a column\n",
    "y = np.array(([1,2,3,4]))\n",
    "print(f'The number of dimensions of a vector is {y.ndim}')\n",
    "\n",
    "# Matrices (Rank 2 Tensors) --> Tabular data (samples, features)\n",
    "      \n",
    "z = np.array([[1,2,4],\n",
    "             [9, 13, 14],\n",
    "             [98, 52, 72]])\n",
    "print(f'The number of dimensions of a matrix is {z.ndim}')\n",
    "\n",
    "# Higher Rank tensors, 3 and above\n",
    "# Time Series --> Rank 3 tensors (samples, timesteps, features)\n",
    "# Images --> Rank 4 tensors (samples, weight, height, channels)\n",
    "# Video --> Rank 5 ((samples, frames, height, width, channels))\n",
    "      \n",
    "alpha = np.array(\n",
    "    [\n",
    "        [\n",
    "            [5, 78, 2, 34, 0],\n",
    "            [6, 79, 3, 35, 1],\n",
    "            [7, 80, 4, 36, 2]],\n",
    "        [\n",
    "            [5, 78, 2, 34, 0],\n",
    "            [6, 79, 3, 35, 1],\n",
    "            [7, 80, 4, 36, 2]],\n",
    "        [\n",
    "            [5, 78, 2, 34, 0],\n",
    "            [6, 79, 3, 35, 1],\n",
    "            [7, 80, 4, 36, 2]\n",
    "        ]\n",
    "    ]\n",
    ")\n",
    "print(f'The number of dimensions of a tensor is {alpha.ndim}')"
   ]
  },
  {
   "cell_type": "markdown",
   "id": "f235e2f8",
   "metadata": {
    "ExecuteTime": {
     "end_time": "2022-09-04T13:35:58.284522Z",
     "start_time": "2022-09-04T13:35:58.257961Z"
    }
   },
   "source": [
    "## Tensorflow / Keras and Pytorch"
   ]
  },
  {
   "cell_type": "code",
   "execution_count": 31,
   "id": "e49e53be",
   "metadata": {
    "ExecuteTime": {
     "end_time": "2022-09-04T14:36:54.238090Z",
     "start_time": "2022-09-04T14:36:54.212723Z"
    }
   },
   "outputs": [
    {
     "name": "stdout",
     "output_type": "stream",
     "text": [
      "Vector of ones in Numpy [[1.]\n",
      " [1.]]\n",
      "Vector of ones in Tensorflow [[1.]\n",
      " [1.]]\n",
      "Vector of ones in Pytorch [[1.]\n",
      " [1.]]\n",
      "Array of zeros in Numpy\n",
      "[[0.]\n",
      " [0.]]\n",
      "\n",
      "Array of zeros in Tensorflow\n",
      "tf.Tensor(\n",
      "[[0.]\n",
      " [0.]\n",
      " [0.]], shape=(3, 1), dtype=float32)\n",
      "\n",
      "Array of zeros in Pytorch\n",
      "tensor([[0.],\n",
      "        [0.],\n",
      "        [0.]])\n",
      "\n"
     ]
    }
   ],
   "source": [
    "x1 = np.ones((2,1))\n",
    "print(f'Vector of ones in Numpy {x1}')\n",
    "\n",
    "x1_tf = tf.ones((2,1))\n",
    "print(f'Vector of ones in Tensorflow {x1_tf}')\n",
    "\n",
    "x1_pytorch = torch.ones((2,1))\n",
    "print(f'Vector of ones in Pytorch {x1}')\n",
    "\n",
    "x_zeros = np.zeros((2,1))\n",
    "print('Array of zeros in Numpy')\n",
    "print(x_zeros)\n",
    "print()\n",
    "x_zeros_tf = tf.zeros((3,1))\n",
    "print('Array of zeros in Tensorflow')\n",
    "print(x_zeros_tf)\n",
    "print()\n",
    "x_zeros_pytorch = torch.zeros((3,1))\n",
    "print('Array of zeros in Pytorch')\n",
    "print(x_zeros_pytorch)\n",
    "print()"
   ]
  },
  {
   "cell_type": "code",
   "execution_count": 32,
   "id": "7249ade7",
   "metadata": {
    "ExecuteTime": {
     "end_time": "2022-09-04T14:43:50.356352Z",
     "start_time": "2022-09-04T14:43:50.345444Z"
    }
   },
   "outputs": [
    {
     "name": "stdout",
     "output_type": "stream",
     "text": [
      "Converted numpy array into tensor in Tensorflow:\n",
      "tf.Tensor([3. 6. 8. 4.], shape=(4,), dtype=float64)\n",
      "\n",
      "Converted numpy array into tensor in Tensorflow:\n",
      "tensor([3., 6., 8., 4.], dtype=torch.float64)\n"
     ]
    }
   ],
   "source": [
    "# Creating tensor from from list and from Numpy\n",
    "\n",
    "a = [1,2,3]\n",
    "b = np.array([3.0,6.0,8.0,4.0])\n",
    "\n",
    "tensor_tf = tf.convert_to_tensor(b)\n",
    "print(\"Converted numpy array into tensor in Tensorflow:\")\n",
    "print(tensor_tf)\n",
    "print()\n",
    "t_b = torch.from_numpy(b)\n",
    "print(\"Converted numpy array into tensor in Tensorflow:\")\n",
    "print(t_b)\n"
   ]
  },
  {
   "cell_type": "code",
   "execution_count": 36,
   "id": "54d85810",
   "metadata": {
    "ExecuteTime": {
     "end_time": "2022-09-04T15:28:45.222541Z",
     "start_time": "2022-09-04T15:28:45.196107Z"
    }
   },
   "outputs": [
    {
     "name": "stdout",
     "output_type": "stream",
     "text": [
      "[ 0  1  2  3  4  5  6  7  8  9 10 11]\n",
      "\n",
      "tensor([ 0.,  1.,  2.,  3.,  4.,  5.,  6.,  7.,  8.,  9., 10., 11.])\n",
      "\n",
      "tf.Tensor([ 0.  1.  2.  3.  4.  5.  6.  7.  8.  9. 10. 11.], shape=(12,), dtype=float32)\n",
      "\n"
     ]
    }
   ],
   "source": [
    "\n",
    "x = np.arange(12)\n",
    "print(x)\n",
    "print()\n",
    "\n",
    "x_torch = torch.arange(12, dtype=torch.float32)\n",
    "print(x_torch)\n",
    "print()\n",
    "x_tf = tf.range(12, dtype=tf.float32)\n",
    "print(x_tf)\n",
    "print()"
   ]
  },
  {
   "cell_type": "code",
   "execution_count": 37,
   "id": "ea02ddab",
   "metadata": {
    "ExecuteTime": {
     "end_time": "2022-09-04T15:31:59.958902Z",
     "start_time": "2022-09-04T15:31:59.938921Z"
    }
   },
   "outputs": [
    {
     "name": "stdout",
     "output_type": "stream",
     "text": [
      "torch.Size([12])\n",
      "(12,)\n"
     ]
    }
   ],
   "source": [
    "# To get the shape all use same command\n",
    "print(x_torch.shape)\n",
    "print(x_tf.shape)"
   ]
  },
  {
   "cell_type": "code",
   "execution_count": 40,
   "id": "8c307b21",
   "metadata": {
    "ExecuteTime": {
     "end_time": "2022-09-04T15:33:30.938536Z",
     "start_time": "2022-09-04T15:33:30.917009Z"
    }
   },
   "outputs": [
    {
     "name": "stdout",
     "output_type": "stream",
     "text": [
      "12\n",
      "tf.Tensor(12, shape=(), dtype=int32)\n"
     ]
    }
   ],
   "source": [
    "# Number of elements\n",
    "print(x_torch.numel())\n",
    "print(tf.size(x_tf))"
   ]
  },
  {
   "cell_type": "code",
   "execution_count": 42,
   "id": "691aa9af",
   "metadata": {
    "ExecuteTime": {
     "end_time": "2022-09-04T15:35:07.024795Z",
     "start_time": "2022-09-04T15:35:06.992128Z"
    }
   },
   "outputs": [
    {
     "name": "stdout",
     "output_type": "stream",
     "text": [
      "tensor([[ 0.,  1.,  2.,  3.],\n",
      "        [ 4.,  5.,  6.,  7.],\n",
      "        [ 8.,  9., 10., 11.]])\n",
      "tf.Tensor(\n",
      "[[ 0.  1.  2.  3.]\n",
      " [ 4.  5.  6.  7.]\n",
      " [ 8.  9. 10. 11.]], shape=(3, 4), dtype=float32)\n"
     ]
    }
   ],
   "source": [
    "# Reshaping operation\n",
    "\n",
    "X_torch_reshaped = x_torch.reshape(3, 4)\n",
    "print(X_torch_reshaped)\n",
    "\n",
    "X_tf_reshape = tf.reshape(x_tf, (3, 4))\n",
    "print(X_tf_reshape)"
   ]
  },
  {
   "cell_type": "code",
   "execution_count": 46,
   "id": "4dc25e4c",
   "metadata": {
    "ExecuteTime": {
     "end_time": "2022-09-04T15:42:23.781620Z",
     "start_time": "2022-09-04T15:42:23.765873Z"
    }
   },
   "outputs": [
    {
     "name": "stdout",
     "output_type": "stream",
     "text": [
      "tensor([[ 0.0277,  1.5940,  0.0547,  0.9075],\n",
      "        [-0.0830, -0.7713,  0.2638, -0.4091],\n",
      "        [ 0.3752,  0.7395,  0.9938, -1.4249]])\n",
      "\n",
      "tf.Tensor(\n",
      "[[-0.6559008  -0.7705256   0.64018154 -1.7344484 ]\n",
      " [ 0.01427678 -0.566826    0.09488212 -2.305249  ]\n",
      " [ 1.2057362   1.2659192   0.8795296   1.6820922 ]], shape=(3, 4), dtype=float32)\n"
     ]
    }
   ],
   "source": [
    "# Random Distributions normal, uniform\n",
    "\n",
    "torch_normal = torch.randn(3, 4)\n",
    "print(torch_normal)\n",
    "print()\n",
    "tf_normal = tf.random.normal(shape=(3, 4), mean = 0, stddev = 1)\n",
    "print(tf_normal)"
   ]
  },
  {
   "cell_type": "code",
   "execution_count": 50,
   "id": "0b7041b2",
   "metadata": {
    "ExecuteTime": {
     "end_time": "2022-09-04T15:44:53.767767Z",
     "start_time": "2022-09-04T15:44:53.751597Z"
    }
   },
   "outputs": [
    {
     "name": "stdout",
     "output_type": "stream",
     "text": [
      "tensor([[0.2805, 0.2310, 0.7696, 0.9047],\n",
      "        [0.3666, 0.7605, 0.1266, 0.0117],\n",
      "        [0.1890, 0.5101, 0.8271, 0.3158]])\n",
      "\n",
      "tf.Tensor(\n",
      "[[0.13370037 0.24581933 0.5363015  0.454782  ]\n",
      " [0.8107952  0.7274295  0.51091313 0.36327183]\n",
      " [0.83478    0.67665136 0.57968926 0.16813481]], shape=(3, 4), dtype=float32)\n"
     ]
    }
   ],
   "source": [
    "torch_uniform = torch.rand(3,4)\n",
    "print(torch_uniform)\n",
    "print()\n",
    "tf_unif = tf.random.uniform([3,4], minval = 0., maxval = 1.)\n",
    "print(tf_unif)"
   ]
  },
  {
   "cell_type": "code",
   "execution_count": null,
   "id": "87cc94ed",
   "metadata": {},
   "outputs": [],
   "source": [
    "torch.tensor([[2, 1, 4, 3], [1, 2, 3, 4], [4, 3, 2, 1]])\n",
    "tf.constant([[2, 1, 4, 3], [1, 2, 3, 4], [4, 3, 2, 1]])"
   ]
  },
  {
   "cell_type": "code",
   "execution_count": 51,
   "id": "ef412f87",
   "metadata": {
    "ExecuteTime": {
     "end_time": "2022-09-04T16:22:14.816655Z",
     "start_time": "2022-09-04T16:22:14.788812Z"
    }
   },
   "outputs": [
    {
     "name": "stdout",
     "output_type": "stream",
     "text": [
      "tensor([[ 0.,  1.,  2.,  3.],\n",
      "        [ 4.,  5.,  6.,  7.],\n",
      "        [ 8.,  9., 10., 11.]])\n"
     ]
    },
    {
     "data": {
      "text/plain": [
       "tensor([[ 0.,  1.,  2.,  3.],\n",
       "        [ 4.,  5.,  3.,  7.],\n",
       "        [ 8.,  9., 10., 11.]])"
      ]
     },
     "execution_count": 51,
     "metadata": {},
     "output_type": "execute_result"
    }
   ],
   "source": [
    "# In Pytorch tensors can be modified\n",
    "X_torch = X_torch_reshaped\n",
    "print(X_torch_reshaped)\n",
    "X_torch[1,2] = 3\n",
    "X_torch"
   ]
  },
  {
   "cell_type": "code",
   "execution_count": 55,
   "id": "f82db7a6",
   "metadata": {
    "ExecuteTime": {
     "end_time": "2022-09-04T16:25:33.700678Z",
     "start_time": "2022-09-04T16:25:33.655507Z"
    }
   },
   "outputs": [
    {
     "name": "stdout",
     "output_type": "stream",
     "text": [
      "tf.Tensor(\n",
      "[[ 0.  1.  2.  3.]\n",
      " [ 4.  5.  6.  7.]\n",
      " [ 8.  9. 10. 11.]], shape=(3, 4), dtype=float32)\n"
     ]
    },
    {
     "data": {
      "text/plain": [
       "<tf.Variable 'Variable:0' shape=(3, 4) dtype=float32, numpy=\n",
       "array([[ 0.,  1.,  2.,  3.],\n",
       "       [ 4.,  5.,  3.,  7.],\n",
       "       [ 8.,  9., 10., 11.]], dtype=float32)>"
      ]
     },
     "execution_count": 55,
     "metadata": {},
     "output_type": "execute_result"
    }
   ],
   "source": [
    "# In Tensorflow tensors are not assignable, they have to be converted to .Variable,\n",
    "# the state of a variable can be changed with the assign function\n",
    "\n",
    "print(X_tf_reshape)\n",
    "\n",
    "X_var_tf = tf.Variable(X_tf_reshape)\n",
    "X_var_tf[1, 2].assign(3)\n",
    "X_var_tf"
   ]
  },
  {
   "cell_type": "code",
   "execution_count": 64,
   "id": "e8639254",
   "metadata": {
    "ExecuteTime": {
     "end_time": "2022-09-04T16:31:11.106447Z",
     "start_time": "2022-09-04T16:31:11.093788Z"
    }
   },
   "outputs": [
    {
     "name": "stdout",
     "output_type": "stream",
     "text": [
      "torch.Size([3, 4])\n",
      "torch.Size([3, 4])\n"
     ]
    }
   ],
   "source": [
    "# Remove unnecesary dimensions\n",
    "torch_squeze = torch.squeeze(X_torch, 0)\n",
    "print(torch_squeze.shape)\n",
    "print(X_torch.shape)"
   ]
  },
  {
   "cell_type": "markdown",
   "id": "3e20feba",
   "metadata": {},
   "source": [
    "## Math operations"
   ]
  },
  {
   "cell_type": "code",
   "execution_count": 65,
   "id": "e10a65cb",
   "metadata": {
    "ExecuteTime": {
     "end_time": "2022-09-04T16:32:12.269773Z",
     "start_time": "2022-09-04T16:32:12.247387Z"
    }
   },
   "outputs": [
    {
     "name": "stdout",
     "output_type": "stream",
     "text": [
      "tensor([[1.0000e+00, 2.7183e+00, 7.3891e+00, 2.0086e+01],\n",
      "        [5.4598e+01, 1.4841e+02, 2.0086e+01, 1.0966e+03],\n",
      "        [2.9810e+03, 8.1031e+03, 2.2026e+04, 5.9874e+04]])\n",
      "tf.Tensor(\n",
      "[[1.0000000e+00 2.7182817e+00 7.3890562e+00 2.0085537e+01]\n",
      " [5.4598148e+01 1.4841316e+02 2.0085537e+01 1.0966332e+03]\n",
      " [2.9809580e+03 8.1030835e+03 2.2026465e+04 5.9874141e+04]], shape=(3, 4), dtype=float32)\n"
     ]
    }
   ],
   "source": [
    "# https://pytorch.org/docs/stable/torch.html#math-operations\n",
    "# Exponential\n",
    "print(torch.exp(X_torch))\n",
    "print(tf.exp(X_var_tf))\n",
    "\n",
    "# Others\n",
    "# Pytorch\n",
    "# torch.mean(),torch.std(), torch.matmul(),torch.sum(),torch.zeros_like(Y)\n",
    "\n",
    "# Tensorflow\n",
    "# tf.mean(),tf.std(), tf.matmul(a,b),tf.reduce_sum(X),tf.Variable(tf.zeros_like(Y))"
   ]
  },
  {
   "cell_type": "code",
   "execution_count": 67,
   "id": "c694c4db",
   "metadata": {
    "ExecuteTime": {
     "end_time": "2022-09-04T16:34:15.286491Z",
     "start_time": "2022-09-04T16:34:15.262445Z"
    }
   },
   "outputs": [
    {
     "name": "stdout",
     "output_type": "stream",
     "text": [
      "tensor([ 3.,  4.,  6., 10.]) tensor([-1.,  0.,  2.,  6.]) tensor([ 2.,  4.,  8., 16.]) tensor([0.5000, 1.0000, 2.0000, 4.0000]) tensor([ 1.,  4., 16., 64.])\n",
      "\n",
      "tf.Tensor([ 3.  4.  6. 10.], shape=(4,), dtype=float32) tf.Tensor([-1.  0.  2.  6.], shape=(4,), dtype=float32) tf.Tensor([ 2.  4.  8. 16.], shape=(4,), dtype=float32) tf.Tensor([0.5 1.  2.  4. ], shape=(4,), dtype=float32) tf.Tensor([ 1.  4. 16. 64.], shape=(4,), dtype=float32)\n"
     ]
    }
   ],
   "source": [
    "x = torch.tensor([1.0, 2, 4, 8])\n",
    "y = torch.tensor([2, 2, 2, 2])\n",
    "print(x + y, x - y, x * y, x / y, x ** y)\n",
    "print()\n",
    "x_tf = tf.constant([1.0, 2, 4, 8])\n",
    "y_tf = tf.constant([2.0, 2, 2, 2])\n",
    "print(x_tf + y_tf, x_tf - y_tf, x_tf * y_tf, x_tf / y_tf, x_tf ** y_tf)"
   ]
  },
  {
   "cell_type": "markdown",
   "id": "f800467f",
   "metadata": {},
   "source": [
    "## Split, Stack, Concatenate Tensors"
   ]
  },
  {
   "cell_type": "code",
   "execution_count": 68,
   "id": "ea42c0cb",
   "metadata": {
    "ExecuteTime": {
     "end_time": "2022-09-04T16:45:45.386189Z",
     "start_time": "2022-09-04T16:45:45.354167Z"
    }
   },
   "outputs": [
    {
     "data": {
      "text/plain": [
       "(tensor([[ 0.,  1.,  2.,  3.],\n",
       "         [ 4.,  5.,  6.,  7.],\n",
       "         [ 8.,  9., 10., 11.],\n",
       "         [ 2.,  1.,  4.,  3.],\n",
       "         [ 1.,  2.,  3.,  4.],\n",
       "         [ 4.,  3.,  2.,  1.]]),\n",
       " tensor([[ 0.,  1.,  2.,  3.,  2.,  1.,  4.,  3.],\n",
       "         [ 4.,  5.,  6.,  7.,  1.,  2.,  3.,  4.],\n",
       "         [ 8.,  9., 10., 11.,  4.,  3.,  2.,  1.]]))"
      ]
     },
     "execution_count": 68,
     "metadata": {},
     "output_type": "execute_result"
    }
   ],
   "source": [
    "X = torch.arange(12, dtype=torch.float32).reshape((3,4))\n",
    "Y = torch.tensor([[2.0, 1, 4, 3], [1, 2, 3, 4], [4, 3, 2, 1]])\n",
    "torch.cat((X, Y), dim=0), torch.cat((X, Y), dim=1)"
   ]
  },
  {
   "cell_type": "code",
   "execution_count": 71,
   "id": "063d1c2e",
   "metadata": {
    "ExecuteTime": {
     "end_time": "2022-09-04T16:47:43.610455Z",
     "start_time": "2022-09-04T16:47:43.589246Z"
    }
   },
   "outputs": [
    {
     "data": {
      "text/plain": [
       "tensor([[[ 0.,  1.,  2.,  3.],\n",
       "         [ 4.,  5.,  6.,  7.],\n",
       "         [ 8.,  9., 10., 11.]],\n",
       "\n",
       "        [[ 2.,  1.,  4.,  3.],\n",
       "         [ 1.,  2.,  3.,  4.],\n",
       "         [ 4.,  3.,  2.,  1.]]])"
      ]
     },
     "execution_count": 71,
     "metadata": {},
     "output_type": "execute_result"
    }
   ],
   "source": [
    "torch.stack([X,Y], axis = 0)"
   ]
  },
  {
   "cell_type": "code",
   "execution_count": 72,
   "id": "f2c688fd",
   "metadata": {
    "ExecuteTime": {
     "end_time": "2022-09-04T16:48:00.126636Z",
     "start_time": "2022-09-04T16:48:00.108569Z"
    }
   },
   "outputs": [
    {
     "data": {
      "text/plain": [
       "tensor([[[ 0.,  1.,  2.,  3.],\n",
       "         [ 2.,  1.,  4.,  3.]],\n",
       "\n",
       "        [[ 4.,  5.,  6.,  7.],\n",
       "         [ 1.,  2.,  3.,  4.]],\n",
       "\n",
       "        [[ 8.,  9., 10., 11.],\n",
       "         [ 4.,  3.,  2.,  1.]]])"
      ]
     },
     "execution_count": 72,
     "metadata": {},
     "output_type": "execute_result"
    }
   ],
   "source": [
    "torch.stack([X,Y], axis = 1)"
   ]
  },
  {
   "cell_type": "code",
   "execution_count": 69,
   "id": "32229e16",
   "metadata": {
    "ExecuteTime": {
     "end_time": "2022-09-04T16:46:32.100274Z",
     "start_time": "2022-09-04T16:46:32.069250Z"
    }
   },
   "outputs": [
    {
     "name": "stdout",
     "output_type": "stream",
     "text": [
      "(tensor([[0., 1., 2., 3.],\n",
      "        [4., 5., 6., 7.]]), tensor([[ 8.,  9., 10., 11.]]))\n"
     ]
    }
   ],
   "source": [
    "torch_splits = torch.chunk(X, 2)\n",
    "print(torch_splits)"
   ]
  },
  {
   "cell_type": "code",
   "execution_count": 73,
   "id": "ef82c7fe",
   "metadata": {
    "ExecuteTime": {
     "end_time": "2022-09-04T16:50:01.134536Z",
     "start_time": "2022-09-04T16:50:01.106146Z"
    }
   },
   "outputs": [
    {
     "data": {
      "text/plain": [
       "(<tf.Tensor: shape=(6, 4), dtype=float32, numpy=\n",
       " array([[ 0.,  1.,  2.,  3.],\n",
       "        [ 4.,  5.,  6.,  7.],\n",
       "        [ 8.,  9., 10., 11.],\n",
       "        [ 2.,  1.,  4.,  3.],\n",
       "        [ 1.,  2.,  3.,  4.],\n",
       "        [ 4.,  3.,  2.,  1.]], dtype=float32)>,\n",
       " <tf.Tensor: shape=(3, 8), dtype=float32, numpy=\n",
       " array([[ 0.,  1.,  2.,  3.,  2.,  1.,  4.,  3.],\n",
       "        [ 4.,  5.,  6.,  7.,  1.,  2.,  3.,  4.],\n",
       "        [ 8.,  9., 10., 11.,  4.,  3.,  2.,  1.]], dtype=float32)>)"
      ]
     },
     "execution_count": 73,
     "metadata": {},
     "output_type": "execute_result"
    }
   ],
   "source": [
    "# In Tensorflow\n",
    "X = tf.reshape(tf.range(12, dtype=tf.float32), (3, 4))\n",
    "Y = tf.constant([[2.0, 1, 4, 3], [1, 2, 3, 4], [4, 3, 2, 1]])\n",
    "tf.concat([X, Y], axis=0), tf.concat([X, Y], axis=1)"
   ]
  },
  {
   "cell_type": "code",
   "execution_count": 74,
   "id": "9f329aad",
   "metadata": {
    "ExecuteTime": {
     "end_time": "2022-09-04T16:52:45.508693Z",
     "start_time": "2022-09-04T16:52:45.475238Z"
    }
   },
   "outputs": [
    {
     "name": "stdout",
     "output_type": "stream",
     "text": [
      "tf.Tensor([[2 3]], shape=(1, 2), dtype=int32)\n"
     ]
    }
   ],
   "source": [
    "x = tf.linalg.matmul([[1]], [[2, 3]])\n",
    "print(x)"
   ]
  },
  {
   "cell_type": "code",
   "execution_count": 77,
   "id": "46941ce8",
   "metadata": {
    "ExecuteTime": {
     "end_time": "2022-09-04T16:54:53.280812Z",
     "start_time": "2022-09-04T16:54:53.256881Z"
    }
   },
   "outputs": [
    {
     "name": "stdout",
     "output_type": "stream",
     "text": [
      "tensor([[ 42.,  48.,  54.],\n",
      "        [114., 136., 158.],\n",
      "        [186., 224., 262.]])\n"
     ]
    }
   ],
   "source": [
    "x_matmul_torch= torch.matmul( torch.arange(12, dtype=torch.float32).reshape((3,4)),\n",
    "                              torch.arange(12, dtype=torch.float32).reshape((4,3)))\n",
    "print(x_matmul_torch)"
   ]
  }
 ],
 "metadata": {
  "kernelspec": {
   "display_name": "Python 3 (ipykernel)",
   "language": "python",
   "name": "python3"
  },
  "language_info": {
   "codemirror_mode": {
    "name": "ipython",
    "version": 3
   },
   "file_extension": ".py",
   "mimetype": "text/x-python",
   "name": "python",
   "nbconvert_exporter": "python",
   "pygments_lexer": "ipython3",
   "version": "3.8.6"
  },
  "toc": {
   "base_numbering": 1,
   "nav_menu": {},
   "number_sections": true,
   "sideBar": true,
   "skip_h1_title": false,
   "title_cell": "Table of Contents",
   "title_sidebar": "Contents",
   "toc_cell": false,
   "toc_position": {},
   "toc_section_display": true,
   "toc_window_display": false
  },
  "varInspector": {
   "cols": {
    "lenName": 16,
    "lenType": 16,
    "lenVar": 40
   },
   "kernels_config": {
    "python": {
     "delete_cmd_postfix": "",
     "delete_cmd_prefix": "del ",
     "library": "var_list.py",
     "varRefreshCmd": "print(var_dic_list())"
    },
    "r": {
     "delete_cmd_postfix": ") ",
     "delete_cmd_prefix": "rm(",
     "library": "var_list.r",
     "varRefreshCmd": "cat(var_dic_list()) "
    }
   },
   "types_to_exclude": [
    "module",
    "function",
    "builtin_function_or_method",
    "instance",
    "_Feature"
   ],
   "window_display": false
  }
 },
 "nbformat": 4,
 "nbformat_minor": 5
}
