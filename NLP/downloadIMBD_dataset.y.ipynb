{
 "cells": [
  {
   "cell_type": "code",
   "execution_count": 1,
   "metadata": {},
   "outputs": [
    {
     "name": "stderr",
     "output_type": "stream",
     "text": [
      "  % Total    % Received % Xferd  Average Speed   Time    Time     Time  Current\n",
      "                                 Dload  Upload   Total   Spent    Left  Speed\n",
      "\n",
      "  0     0    0     0    0     0      0      0 --:--:-- --:--:-- --:--:--     0\n",
      "  0 80.2M    0 16384    0     0  16419      0  1:25:23 --:--:--  1:25:23 16466\n",
      "  0 80.2M    0  144k    0     0  71338      0  0:19:39  0:00:02  0:19:37 71476\n",
      "  0 80.2M    0  272k    0     0  94520      0  0:14:50  0:00:02  0:14:48 94608\n",
      "  0 80.2M    0  576k    0     0   142k      0  0:09:38  0:00:04  0:09:34  142k\n",
      "  1 80.2M    1  928k    0     0   186k      0  0:07:19  0:00:04  0:07:15  186k\n",
      "  1 80.2M    1 1376k    0     0   227k      0  0:06:01  0:00:06  0:05:55  269k\n",
      "  2 80.2M    2 1872k    0     0   269k      0  0:05:04  0:00:06  0:04:58  354k\n",
      "  3 80.2M    3 2672k    0     0   334k      0  0:04:05  0:00:07  0:03:58  475k\n",
      "  4 80.2M    4 3728k    0     0   410k      0  0:03:20  0:00:09  0:03:11  627k\n",
      "  5 80.2M    5 4928k    0     0   493k      0  0:02:46  0:00:09  0:02:37  796k\n",
      "  7 80.2M    7 6560k    0     0   593k      0  0:02:18  0:00:11  0:02:07 1034k\n",
      " 10 80.2M   10 8288k    0     0   693k      0  0:01:58  0:00:11  0:01:47 1279k\n",
      " 13 80.2M   13 10.7M    0     0   843k      0  0:01:37  0:00:13  0:01:24 1656k\n",
      " 16 80.2M   16 13.5M    0     0   992k      0  0:01:22  0:00:13  0:01:09 2074k\n",
      " 21 80.2M   21 17.4M    0     0  1197k      0  0:01:08  0:00:14  0:00:54 2620k\n",
      " 27 80.2M   27 22.1M    0     0  1419k      0  0:00:57  0:00:15  0:00:42 3286k\n",
      " 35 80.2M   35 28.2M    0     0  1705k      0  0:00:48  0:00:16  0:00:32 4130k\n",
      " 45 80.2M   45 36.1M    0     0  2061k      0  0:00:39  0:00:17  0:00:22 5260k\n",
      " 56 80.2M   56 45.6M    0     0  2458k      0  0:00:33  0:00:19  0:00:14 6496k\n",
      " 70 80.2M   70 56.4M    0     0  2898k      0  0:00:28  0:00:19  0:00:09 7977k\n",
      " 87 80.2M   87 70.4M    0     0  3444k      0  0:00:23  0:00:20  0:00:03 9934k\n",
      "100 80.2M  100 80.2M    0     0  3812k      0  0:00:21  0:00:21 --:--:-- 11.2M\n",
      "\"rm\" no se reconoce como un comando interno o externo,\n",
      "programa o archivo por lotes ejecutable.\n"
     ]
    }
   ],
   "source": [
    "!curl -O https://ai.stanford.edu/~amaas/data/sentiment/aclImdb_v1.tar.gz\n",
    "!tar -xf aclImdb_v1.tar.gz\n",
    "!rm -r aclImdb/train/unsup"
   ]
  },
  {
   "cell_type": "markdown",
   "metadata": {},
   "source": []
  }
 ],
 "metadata": {
  "kernelspec": {
   "display_name": "base",
   "language": "python",
   "name": "python3"
  },
  "language_info": {
   "codemirror_mode": {
    "name": "ipython",
    "version": 3
   },
   "file_extension": ".py",
   "mimetype": "text/x-python",
   "name": "python",
   "nbconvert_exporter": "python",
   "pygments_lexer": "ipython3",
   "version": "3.9.12"
  },
  "orig_nbformat": 4
 },
 "nbformat": 4,
 "nbformat_minor": 2
}
