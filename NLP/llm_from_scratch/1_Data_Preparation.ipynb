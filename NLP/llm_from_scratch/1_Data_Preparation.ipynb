{
 "cells": [
  {
   "cell_type": "markdown",
   "metadata": {},
   "source": [
    "'''\n",
    "Steps preparing a dataset for a GPT like model\n",
    "\n",
    "1) Load a free text from internet, usually they are pdf documents which can be converted to txt to ease processing\n",
    "2) Tokenize the text, depending on your application you can choose to keep or leave certain separators, to lowercase or not\n",
    "   your data, etc.., alternatives depending on the model exists in Hugging Face, Spacy etc.., for GPT like models tiktoken library is used\n",
    "   to provide BPE (Byte-Pair Encoding) tokenization.\n",
    "3) Create a dataloader in the library you choose, Keras NLP or Pytorch, include the tokenizer step\n",
    "4) Create token embeddings including the position embeddings\n",
    "'''"
   ]
  },
  {
   "cell_type": "code",
   "execution_count": 1,
   "metadata": {},
   "outputs": [
    {
     "data": {
      "text/plain": [
       "'\\nText Input Source: https://en.wikisource.org/wiki/The_Verdict\\n\\nI have downloaded the text in pdf, the first step is to extract the text from it\\n\\n'"
      ]
     },
     "execution_count": 1,
     "metadata": {},
     "output_type": "execute_result"
    }
   ],
   "source": [
    "'''\n",
    "Text Input Source: https://en.wikisource.org/wiki/The_Verdict\n",
    "\n",
    "I have downloaded the text in pdf, the first step is to extract the text from it\n",
    "\n",
    "'''"
   ]
  },
  {
   "cell_type": "code",
   "execution_count": 2,
   "metadata": {},
   "outputs": [
    {
     "name": "stdout",
     "output_type": "stream",
     "text": [
      "I HAD always thought Jack Gisburn rather a cheap genius--\n",
      "though a good fellow enough--so it was no great surprise to\n",
      "me to hear that, in the height of his glory , he had dropped\n",
      "his painting, married a rich widow , and established himself\n",
      "in a villa on the Riviera. (Though I rather thought it would\n",
      "have been Rome or Florence.)\n",
      "\"The height of his glory\"--that was what the women called\n",
      "it. I can hear Mrs. Gideon Thwing--his last Chicago sitter --\n",
      "deploring his unaccountable abdication. \"Of course it's\n",
      "going to send the value of my picture 'way up; but I don't\n",
      "think of that, Mr . Rickham--the loss to Arrt is all I think of.\"\n",
      "The word, on Mrs. Thwing's lips, multiplied its _rs_ as\n",
      "though they were reflected in an endless vista of mirrors.\n",
      "And it was not only the Mrs. Thwings who mourned. Had\n",
      "not the exquisite  Hermia Croft, at the last Grafton Gallery\n",
      "show , stopped me before Gisburn's \"Moon-dancers\" to say,\n",
      "with tears in her eyes: \"We shall not look upon its like\n",
      "again\"?\n",
      "Well!--even through the prism of Hermia's tears I felt able\n",
      "to face the fact with equanimity . Poor Jack Gisburn! The\n",
      "women had made him--it was fitting that they should mourn\n",
      "him. Among his own sex fewer  regrets were heard, and in\n",
      "his own trade hardly a murmur . Professional jealousy?\n",
      "Perhaps. If it were, the honour of the craft was vindicated\n",
      "by little Claude Nutley , who, in all good faith, brought out\n",
      "in the Burlington a very handsome \"obituary\" on Jack--one3of those  showy articles stocked  with random technicalities\n",
      "that I have heard (I won't say by whom) compared to\n",
      "Gisburn's painting. And so--his resolve being apparently\n",
      "irrevocable--the discussion gradually died out, and, as Mrs.\n",
      "Thwing had predicted, the price of \"Gisburns\" went up.\n",
      "It was not till three years later that, in the course of a few\n",
      "weeks' idling on the Riviera, it suddenly occurred to me to\n",
      "wonder why Gisburn had given up his painting. On\n",
      "reflection, it really was a tempting problem. To accuse his\n",
      "wife would have been too easy--his fair sitters had been\n",
      "denied the solace of saying that Mrs. Gisburn had \"dragged\n",
      "him down.\" For Mrs. Gisburn--as such--had not existed till\n",
      "nearly a year after Jack's resolve had been taken. It might be\n",
      "that he had married her--since he liked his ease--because he\n",
      "didn't want to go on painting; but it would have been hard\n",
      "to prove that he had given up his painting because he had\n",
      "married her .\n",
      "Of course, if she had not dragged him down, she had\n",
      "equally , as Miss Croft contende d, failed to \"lift him up\"--\n",
      "she had not led him back to the easel. To put the brush into\n",
      "his hand again--what a vocat ion for a wife! But Mrs.\n",
      "Gisburn appeared to have disdained it--and I felt it might be\n",
      "interesting to find out why .\n",
      "The desultory life of the Riviera lends itself to such purely\n",
      "academic speculations; and having, on my way to Monte4Carlo, caught a glimpse of Jack's balustraded terraces\n",
      "between the pines, I had myself borne thither the next day .\n",
      "I found the coup le at tea beneath  their palm-trees; and Mrs.\n",
      "Gisburn's welcome was so genial that, in the ensuing\n",
      "weeks, I claimed it frequently . It was not that my hostess\n",
      "was \"interesting\": on that point I could have given Miss\n",
      "Croft the fullest reassurance. It was just because she was\n",
      "_not_ interesting--if I may be pardoned the bull--that I\n",
      "found her so. For Jack, all his life, had been surrounded by\n",
      "interesting wom en: they had fostered his art, it had been\n",
      "reared in the hot-house of their adulation. And it was\n",
      "therefore instructive to note what effect the \"deadening\n",
      "atmosphere of mediocrity\" (I quote Miss Croft) was having\n",
      "on him.\n",
      "I have mentione d that Mrs. Gisburn was rich; and it was\n",
      "immediately perceptible that her husband was extracting\n",
      "from this circumstance a delicate but substantial\n",
      "satisfaction. It is, as a rule, the people who scorn money\n",
      "who get most out of it; and Jack's elegant disdain of his\n",
      "wife's big balance enabled him, with an appearance of\n",
      "perfect good-breeding, to transmute it into objects of art and\n",
      "luxury . To the latter , I must add, he remained relatively\n",
      "indifferent; but he was buying  Renaissance bronzes and\n",
      "eighteenth-century pictures with a discrimination that\n",
      "bespoke the amplest resources.5\"Money's only excuse is to put beauty into circulation,\" was\n",
      "one of the axioms he laid down across the Sevres and silver\n",
      "of an exquisitely appointed luncheon-table, when, on a later\n",
      "day, I had again run over from Monte Carlo; and Mrs.\n",
      "Gisburn, beaming on him, added for my enlightenment:\n",
      "\"Jack is so morbidly sensitive to every form of beauty .\"\n",
      "Poor Jack! It had always been his fate to have women say\n",
      "such things of him: the fact should be set down in\n",
      "extenuation. What struck me now was that, for the first\n",
      "time, he resented  the tone. I had seen him, so often, basking\n",
      "under similar tributes--was it the conjugal note that robbed\n",
      "them of their savour? No--for , oddly enough, it became\n",
      "apparent that he was fond of Mrs. Gisburn--fond enough\n",
      "not to see her absurdity . It was his own absurdity he seemed\n",
      "to be wincing under --his own attitude as an object for\n",
      "garlands and incense.\n",
      "\"My dear, since I've chucked painting people don't say that\n",
      "stuff about me--they say it about Victor Grindle,\" was his\n",
      "only protest, as he rose from the table and strolled out onto\n",
      "the sunlit terrace.\n",
      "I glanced after him, struck by his last word. Victor Grindle\n",
      "was, in fact, becoming the man of the moment--as Jack\n",
      "himself, one might put it, had been the man of the hour. The\n",
      "younger artist was said to have formed himself at my\n",
      "friend's feet, and I wondered if a tinge of jealousy underlay\n",
      "the latter's mysterious abdication. But no--for it was not till6after that event that the _rose Dubarry_ drawing-rooms had\n",
      "begun to display their \"Grindles.\"\n",
      "I turned  to Mrs. Gisburn, who had lingered to give a lump\n",
      "of sugar to her spaniel in the dining-room.\n",
      "\"Why _has_ he chucked painting?\" I asked abruptly .\n",
      "She raised her eyebrows with a hint of good-humoured\n",
      "surprise.\n",
      "\"Oh, he doesn't _have_ to now, you know; and I want him\n",
      "to enjoy himself,\" she said quite simply .\n",
      "I looked about the spacious white-panelled room, with its\n",
      "_famille-verte_ vases repeating the tones of the pale\n",
      "damask curtain s, and its eighteenth-century pastels in\n",
      "delicate faded frames.\n",
      "\"Has he chucked his pictures too? I haven't seen a single\n",
      "one in the house.\"\n",
      "A slight shade of constraint crossed Mrs. Gisburn's open\n",
      "countenance. \"It's his ridiculous modesty , you know . He\n",
      "says they're not fit to have about; he's sent them all away\n",
      "except one--my portrait--and that I have to keep upstairs.\"\n",
      "His ridiculous modesty--Jack's modesty about his pictures?\n",
      "My curiosity was growing like the bean-stalk. I said7persuasively to my hostess: \"I must really see your portrait,\n",
      "you know .\"\n",
      "She glanced out almost timorously at the terrace where her\n",
      "husband, loungi ng in a hooded chair , had lit a cigar and\n",
      "drawn the Russian deerhound's head between his knees.\n",
      "\"Well, come while he's not looking,\" she said, with a laugh\n",
      "that tried to hide her nervousness; and I followed her\n",
      "between the marble Emperors of the hall, and up the wide\n",
      "stairs with terra-cotta nymphs poised among flowers at each\n",
      "landing.\n",
      "In the dimmest corner of her boudoir , amid a profusion of\n",
      "delicate and distinguished objects, hung one of the familiar\n",
      "oval canvases, in the inevitable garlanded frame. The mere\n",
      "outline of the frame called up all Gisburn's past!\n",
      "Mrs. Gisburn drew back the window-curtains, moved aside\n",
      "a _jardiniere_ full of pink azaleas, pushed an arm-chair\n",
      "away , and said: \"If you stand here you can just manage to\n",
      "see it. I had it over the mantel-piece, but he wouldn't let it\n",
      "stay.\"\n",
      "Yes--I could just manage to see it--the first portrait of Jack's\n",
      "I had ever had to strain my eyes over! Usually they had the\n",
      "place of honour --say the centra l panel in a pale yellow or\n",
      "_rose Dubarry_  drawing-room , or a monumental easel\n",
      "placed so that it took the light through curtains of old8Venetian point. The more modest place became the picture\n",
      "better; yet, as my eyes grew accustomed to the half-light, all\n",
      "the characteristic qualities came out--all the hesitations\n",
      "disguised as audacities, the tricks of prestidigitation by\n",
      "which, with such consummate skill, he managed to divert\n",
      "attention from the real business of the picture to some pretty\n",
      "irrelevance of detail. Mrs. Gisburn, presenting a neutral\n",
      "surface to work on--forming, as it were, so inevitably the\n",
      "background of her own picture--had lent herself in an\n",
      "unusual degree to the display of this false virtuosity . The\n",
      "picture was one of Jack's \"strong est,\" as his admirers would\n",
      "have put it--it represented, on his part, a swelling of\n",
      "muscles, a congesting of veins, a balancing, straddling and\n",
      "straining, that reminded one of the circus-clown's ironic\n",
      "efforts to lift a feather . It met, in short, at every point the\n",
      "demand of lovely woman to be painted \"strongly\" because\n",
      "she was tired of being painted \"sweetly\"--and yet not to lose\n",
      "an atom of the sweetness.\n",
      "\"It's the last he painted, you know ,\" Mrs. Gisburn said with\n",
      "pardonable pride. \"The last but one,\" she corrected herself--\n",
      "\"but the other doesn't count, because he destroyed it.\"\n",
      "\"Destroyed it?\" I was about to follow up this clue when I\n",
      "heard a footstep and saw Jack himself on the threshold.\n",
      "As he stood there, his hands in the pockets of his velveteen\n",
      "coat, the thin brown waves of hair pushed back from his\n",
      "white forehead, his lean sunburnt cheeks furrowed by a9smile that lifted the tips of a self-confident moustache, I felt\n",
      "to what a degree  he had the same quality as his pictures--the\n",
      "quality of looking cleverer than he was.\n",
      "His wife glanced at him deprecatingly , but his eyes\n",
      "travelled past her to the portrait.\n",
      "\"Mr. Rickham wanted to see it,\" she began, as if excusing\n",
      "herself. He shrugged his shoulders, still smiling.\n",
      "\"Oh, Rickham found me out long ago,\" he said lightly; then,\n",
      "passing his arm through mine: \"Come and see the rest of the\n",
      "house.\"\n",
      "He showed it to me with a kind of naive suburban pride: the\n",
      "bath-rooms, the speaking-tubes, the dress-closets, the\n",
      "trouser -presses--all the complex simplifications of the\n",
      "millionaire's domestic economy . And whenever my wonder\n",
      "paid the expected tribute he said, throwing out his chest a\n",
      "little: \"Yes, I really don't see how people manage to live\n",
      "without that.\"\n",
      "Well--it was just the end one might have foreseen for him.\n",
      "Only he was, through it all and in spite of it all--as he had\n",
      "been through, and in spite of, his pictures--so handsome, so\n",
      "charming, so disarming, that one longed to cry out: \"Be\n",
      "dissatisfied with your leisure!\" as once one had longed to\n",
      "say: \"Be dissatisfied with your work!\"10But, with the cry on my lips, my diagnosis suffered an\n",
      "unexpected check.\n",
      "\"This is my own lair,\" he said, leading me into a dark plain\n",
      "room at the end of the florid vista. It was square and brown\n",
      "and leath ery: no \"effects\"; no bric-a-brac, none of the air of\n",
      "posing for reproduction in a picture weekly--above all, no\n",
      "least sign of ever having been used as a studio.\n",
      "The fact brought home to me the absolute finality of Jack's\n",
      "break with his old life.\n",
      "\"Don't you ever dabble with paint any more?\" I asked, still\n",
      "looking about for a trace of such activity .\n",
      "\"Never ,\" he said briefly .\n",
      "\"Or water -colour --or etching?\"\n",
      "His confident eyes grew dim, and his cheeks paled a little\n",
      "under their handsome sunburn.\n",
      "\"Never think of it, my dear fellow--any more than if I'd\n",
      "never touched a brush.\"\n",
      "And his tone told me in a flash that he never thought of\n",
      "anything else.\n",
      "I moved away , instinctively embarrassed by my unexpected\n",
      "discovery; and as I turned, my eye fell on a small picture1 1above the mante l-piece--the only object breaking the plain\n",
      "oak panelling of the room.\n",
      "\"Oh, by Jove!\" I said.\n",
      "It was a sketch of a donkey--an old tired donkey , standing\n",
      "in the rain under a wall.\n",
      "\"By Jove--a Stroud!\" I cried.\n",
      "He was silent; but I felt him close behind me, breathing a\n",
      "little quickly .\n",
      "\"What a wonder! Made with a dozen lines--but on\n",
      "everlasting foundations. You lucky chap, where did you get\n",
      "it?\"\n",
      "He answered slowly: \"Mrs. Stroud gave it to me.\"\n",
      "\"Ah--I didn't know you even knew the Strouds. He was\n",
      "such an inflexible hermit.\"\n",
      "\"I didn't--till after. . . . She sent for me to paint him when he\n",
      "was dead.\"\n",
      "\"When he was dead? Y ou?\"\n",
      "I must have let a little too much  amazement escape through\n",
      "my surprise, for he answered with a deprecating laugh:\n",
      "\"Yes--she's an awful simpleton, you know , Mrs. Stroud. Her12only idea was to have him done by a fashionable painter --\n",
      "ah, poor Strou d! She thought it the surest way of\n",
      "proclaiming his greatness--of forcing it on a purblind\n",
      "public. And at the moment I was _the_ fashionable painter .\"\n",
      "\"Ah, poor Stroud--as you say . Was _that_ his history?\"\n",
      "\"That was his history . She belie ved in him, gloried in him--\n",
      "or thought she did. But she couldn't bear not to have all the\n",
      "drawing-rooms with her. She couldn't bear the fact that, on\n",
      "varnishing days, one could always get near enough to see\n",
      "his pictures. Poor woman! She's just a fragment groping for\n",
      "other fragments. Stroud is the only whole I ever knew .\"\n",
      "\"You ever knew? But you just said--\"\n",
      "Gisburn had a curious smile in his eyes.\n",
      "\"Oh, I knew him, and he knew me--only it happened after\n",
      "he was dead.\"\n",
      "I dropped my voice instinctively . \"When she sent for you?\"\n",
      "\"Yes--quite insensible to the irony . She wanted him\n",
      "vindicated--and by me!\"\n",
      "He laughed again, and threw back his head to look up at the\n",
      "sketch of the donkey . \"There were days when I couldn't\n",
      "look at that thing--couldn't face it. But I forced myself to\n",
      "put it here; and now it's cured me--cured me. That's the13reason why I don't dabble any more, my dear Rickham; or\n",
      "rather Stroud himself is the reason.\"\n",
      "For the first time my idle curiosity about my companion\n",
      "turned into a serious desire to understand him better .\n",
      "\"I wish you'd tell me how it happened,\" I said.\n",
      "He stood  looking up at the sketch, and twirling between his\n",
      "fingers a cigarette he had forgotten to light. Suddenly he\n",
      "turned toward me.\n",
      "\"I'd rather like to tell you--because I've always suspected\n",
      "you of loathing my work.\"\n",
      "I made a deprecating gesture, which he negatived with a\n",
      "good-humoured shrug.\n",
      "\"Oh, I didn't care a straw when  I believed in myself--and\n",
      "now it's an added tie between us!\"\n",
      "He laughed slightly , without bitterness, and pushed one of\n",
      "the deep arm-chairs forward . \"There: make yourself\n",
      "comfortable--and here are the cigars you like.\"\n",
      "He placed them at my elbow and continued to wander up\n",
      "and down the room, stopping now and then beneath the\n",
      "picture.14\"How it happened? I can tell you in five minutes--and it\n",
      "didn't take much  longer to happe n. . . . I can remember now\n",
      "how surprised and pleased I was when I got Mrs. Stroud's\n",
      "note. Of course, deep down, I had always _felt_ there was\n",
      "no one like him--only I had gone with the stream, echoed\n",
      "the usual platitudes about him, till I half got to think he was\n",
      "a failure, one of the kind that are left behind. By Jove, and\n",
      "he _was _ left behind--because he had come to stay! The\n",
      "rest of us had to let ourselves be swept along or go under ,\n",
      "but he was high above the current--on everlasting\n",
      "foundations, as you say .\n",
      "\"Well, I went off to the house in my most egregious mood--\n",
      "rather moved, Lord forgive me, at the pathos of poor\n",
      "Stroud's career of failure being crowned by the glory of my\n",
      "painting him! Of course I meant to do the picture for\n",
      "nothing--I told Mrs. Stroud so when she began to stammer\n",
      "something about her poverty . I remember getting off a\n",
      "prodigious phrase about the honour being _mine_--oh, I\n",
      "was princely, my dear Rickham! I was posing to myself like\n",
      "one of my own sitters.\n",
      "\"Then I was taken up and left alone with him. I had sent all\n",
      "my traps  in advance, and I had only to set up the easel and\n",
      "get to work. He had been dead only twenty-four hours, and\n",
      "he died suddenly , of heart diseas e, so that there had been no\n",
      "preliminary work of destructio n--his face was clear and\n",
      "untouched. I had met him once  or twice, years before, and15thought him insignificant and dingy . Now I saw that he was\n",
      "superb.\n",
      "\"I was glad at first, with a merely aesthetic satisfaction:\n",
      "glad to have my hand on such a 'subject.' Then his strange\n",
      "life-likeness began to affect me queerly--as I blocked the\n",
      "head in I felt as if he were watch ing me do it. The sensation\n",
      "was followed by the thought: if he _were_ watching me,\n",
      "what would he say to my way of working? My strokes\n",
      "began to go a little wild--I felt nervous and uncertain.\n",
      "\"Once, when I looked up, I seemed to see a smile behind his\n",
      "close grayish beard--as if he had the secret, and were\n",
      "amusing himself by holding it back from me. That\n",
      "exasperated me still more. The secret? Why , I had a secret\n",
      "worth twenty of his! I dashed at the canvas furiously , and\n",
      "tried some of my bravura tricks. But they failed me, they\n",
      "crumbled. I saw that he wasn't watching the showy bits--I\n",
      "couldn't distract his attention; he just kept his eyes on the\n",
      "hard passages between. Those were the ones I had always\n",
      "shirked, or covered up with some lying paint. And how he\n",
      "saw through my lies!\n",
      "\"I looked up again, and caught sight of that sketch of the\n",
      "donkey hanging  on the wall near his bed. His wife told me\n",
      "afterward it was the last thing he had done--just a note taken\n",
      "with a shaking hand, when he was down in Devonshire\n",
      "recovering from  a previous heart attack. Just a note! But it\n",
      "tells his whole history . There are years of patient scornful16persistence in every line. A man who had swum with the\n",
      "current could never have learned that mighty up-stream\n",
      "stroke. . . .\n",
      "\"I turne d back to my work, and went on groping and\n",
      "muddling; then I looked at the donkey again. I saw that,\n",
      "when Stroud laid in the first stroke, he knew just what the\n",
      "end would be. He had possessed his subject, absorbed it,\n",
      "recreated it. When had I done that with any of my things?\n",
      "They hadn't been born of me--I had just adopted them. . . .\n",
      "\"Hang it, Rickham, with that face watching me I couldn't do\n",
      "another stroke. The plain truth was, I didn't know where to\n",
      "put it--_I had never known_. Only , with my sitters and my\n",
      "public, a showy splash of colou r covered up the fact--I just\n",
      "threw paint into their faces. . . . Well, paint was the one\n",
      "medium those dead eyes could see through--see straight to\n",
      "the tottering foundations undern eath. Don't you know how,\n",
      "in talkin g a foreign language, even fluently , one says half\n",
      "the time not what one wants to but what one can? Well--that\n",
      "was the way I painted; and as he lay there and watched me,\n",
      "the thing they called my 'technique' collapsed like a house\n",
      "of cards. He didn't sneer , you understand, poor Stroud--he\n",
      "just lay there quietly watching, and on his lips, through the\n",
      "gray beard, I seemed to hear the question: 'Are you sure you\n",
      "know where you're coming out?'\n",
      "\"If I could have painted that face, with that question on it, I\n",
      "should have done a great thing. The next greatest thing was17to see that I couldn't--and that grace was given me. But, oh,\n",
      "at that minute, Rickham, was there anything on earth I\n",
      "wouldn't have given to have Stroud alive before me, and to\n",
      "hear him say: 'It's not too late--I'll show you how'?\n",
      "\"It _was_ too late--it would have been, even if he'd been\n",
      "alive. I packed up my traps, and went down and told Mrs.\n",
      "Stroud. Of course I didn't tell her _that_--it would have\n",
      "been Greek to her. I simply said I couldn't paint him, that I\n",
      "was too moved. She rather liked the idea--she's so romantic!\n",
      "It was that that made her give me the donkey . But she was\n",
      "terribly upset at not getting the portrait--she did so want\n",
      "him 'done' by some one showy ! At first I was afraid she\n",
      "wouldn't let me off--and at my wits' end I suggested\n",
      "Grindle. Yes, it was I who started Grindle: I told Mrs.\n",
      "Stroud he was the 'coming' man, and she told somebody\n",
      "else, and so it got to be true. . . . And he painted Stroud\n",
      "without wincing; and she hung the picture among her\n",
      "husband's things. . . .\"\n",
      "He flung himself down in the arm-chair near mine, laid\n",
      "back his head, and clasping his arms beneath it, looked up\n",
      "at the picture above the chimney-piece.\n",
      "\"I like to fancy that Stroud himself would have given it to\n",
      "me, if he'd been able to say what he thought that day .\"\n",
      "And, in answer to a question I put half-mechanically--\n",
      "\"Begin again?\" he flashed out. \"When the one thing that18brings me anywhere near him is that I knew enough to leave\n",
      "off?\"\n",
      "He stood up and laid his hand on my shoulder with a laugh.\n",
      "\"Only the irony of it is that I _am_ still painting--since\n",
      "Grindle's doing it for me! The Strouds stand alone, and\n",
      "happen once--but there's no exterminating our kind of art.\"\n"
     ]
    }
   ],
   "source": [
    "import pandas as pd\n",
    "import glob, os, sys\n",
    "from PyPDF2 import PdfReader\n",
    "from tqdm import tqdm\n",
    "\n",
    "# Directorio donde se encuentran los PDFs\n",
    "pdf_directory = os.getcwd()\n",
    "pdf_file = 'The_Verdict.pdf'\n",
    "paginas_a_extraer = list(range(1,18))\n",
    "\n",
    "with open(os.path.join(pdf_directory, pdf_file), \"rb\") as file:\n",
    "    reader = PdfReader(file)\n",
    "   \n",
    "    text = \"\"\n",
    "    for pagina in paginas_a_extraer: \n",
    "        if pagina < len(reader.pages): \n",
    "            pagina_pdf = reader.pages[pagina] \n",
    "            text += pagina_pdf.extract_text()\n",
    "print(text[1:])\n",
    "\n",
    "txt_path = os.path.join(pdf_directory, 'The_Verdict.txt')\n",
    "# Escribir el texto extraído a un fichero .txt \n",
    "with open(txt_path, \"w\", encoding=\"utf-8\") as txt_file:\n",
    "      txt_file.write(text[1:])"
   ]
  },
  {
   "cell_type": "code",
   "execution_count": 3,
   "metadata": {},
   "outputs": [
    {
     "name": "stdout",
     "output_type": "stream",
     "text": [
      "Total number of character: 20479\n",
      "I HAD always thought Jack Gisburn rather a cheap genius--though a good fellow enough--so it was no great surprise to me to hear that, in the height of\n"
     ]
    }
   ],
   "source": [
    "with open(\"The-Verdict.txt\", \"r\", encoding=\"utf-8\") as f:\n",
    "    raw_text = f.read()\n",
    "print(\"Total number of character:\", len(raw_text))\n",
    "print(raw_text[:150])"
   ]
  },
  {
   "cell_type": "code",
   "execution_count": 4,
   "metadata": {},
   "outputs": [
    {
     "name": "stdout",
     "output_type": "stream",
     "text": [
      "4690\n",
      "['I', 'HAD', 'always', 'thought', 'Jack', 'Gisburn', 'rather', 'a', 'cheap', 'genius', '--', 'though', 'a', 'good', 'fellow', 'enough', '--', 'so', 'it', 'was', 'no', 'great', 'surprise', 'to', 'me', 'to', 'hear', 'that', ',', 'in']\n"
     ]
    }
   ],
   "source": [
    "import re\n",
    "preprocessed = re.split(r'([,.:;?_!\"()\\']|--|\\s)', raw_text)\n",
    "preprocessed = [item.strip() for item in preprocessed if item.strip()]\n",
    "print(len(preprocessed))\n",
    "print(preprocessed[:30])"
   ]
  },
  {
   "cell_type": "code",
   "execution_count": 5,
   "metadata": {},
   "outputs": [
    {
     "name": "stdout",
     "output_type": "stream",
     "text": [
      "1130\n"
     ]
    }
   ],
   "source": [
    "all_words = sorted(set(preprocessed))\n",
    "vocab_size = len(all_words)\n",
    "print(vocab_size)"
   ]
  },
  {
   "cell_type": "code",
   "execution_count": 6,
   "metadata": {},
   "outputs": [
    {
     "name": "stdout",
     "output_type": "stream",
     "text": [
      "1130\n"
     ]
    }
   ],
   "source": [
    "vocab = {token:integer for integer,token in enumerate(all_words)}\n",
    "print(len(vocab))"
   ]
  },
  {
   "cell_type": "code",
   "execution_count": 7,
   "metadata": {},
   "outputs": [
    {
     "name": "stdout",
     "output_type": "stream",
     "text": [
      "1132\n"
     ]
    }
   ],
   "source": [
    "all_tokens = sorted(list(set(preprocessed)))\n",
    "all_tokens.extend([\"<|endoftext|>\", \"<|unk|>\"])\n",
    "vocab = {token:integer for integer,token in enumerate(all_tokens)}\n",
    "print(len(vocab.items()))"
   ]
  },
  {
   "cell_type": "code",
   "execution_count": 8,
   "metadata": {},
   "outputs": [],
   "source": [
    "class SimpleTokenizerV2:\n",
    "    def __init__(self, vocab):\n",
    "        self.str_to_int = vocab\n",
    "        self.int_to_str = { i:s for s,i in vocab.items()}\n",
    "\n",
    "    def encode(self, text):\n",
    "        preprocessed = re.split(r'([,.:;?_!\"()\\']|--|\\s)',text)\n",
    "        preprocessed = [item.strip() for item in preprocessed if item.strip()]\n",
    "        preprocessed = [item if item in self.str_to_int else \"<|unk|>\" for item in preprocessed]\n",
    "        ids = [self.str_to_int[s] for s in preprocessed]\n",
    "        return ids\n",
    "    \n",
    "    def decode(self, ids):\n",
    "        text = \" \".join([self.int_to_str[i] for i in ids])\n",
    "        text = re.sub(r'\\s+([,.:;?!\"()\\'])', r'\\1', text)\n",
    "        return text"
   ]
  },
  {
   "cell_type": "code",
   "execution_count": 9,
   "metadata": {},
   "outputs": [
    {
     "name": "stdout",
     "output_type": "stream",
     "text": [
      "Hello, do you like tea? <|endoftext|> In the sunlit terraces of the palace.\n"
     ]
    }
   ],
   "source": [
    "text1 = \"Hello, do you like tea?\"\n",
    "text2 = \"In the sunlit terraces of the palace.\"\n",
    "text = \" <|endoftext|> \".join((text1, text2))\n",
    "print(text)"
   ]
  },
  {
   "cell_type": "code",
   "execution_count": 10,
   "metadata": {},
   "outputs": [
    {
     "name": "stdout",
     "output_type": "stream",
     "text": [
      "[1131, 5, 355, 1126, 628, 975, 10, 1130, 55, 988, 956, 984, 722, 988, 1131, 7]\n"
     ]
    }
   ],
   "source": [
    "simple_tokenizer = SimpleTokenizerV2(vocab)\n",
    "print(simple_tokenizer.encode(text))"
   ]
  },
  {
   "cell_type": "code",
   "execution_count": 11,
   "metadata": {},
   "outputs": [
    {
     "name": "stdout",
     "output_type": "stream",
     "text": [
      "<|unk|>, do you like tea? <|endoftext|> In the sunlit terraces of the <|unk|>.\n"
     ]
    }
   ],
   "source": [
    "print(simple_tokenizer.decode(simple_tokenizer.encode(text)))"
   ]
  },
  {
   "cell_type": "code",
   "execution_count": 12,
   "metadata": {},
   "outputs": [
    {
     "name": "stdout",
     "output_type": "stream",
     "text": [
      "tiktoken version: 0.8.0\n"
     ]
    }
   ],
   "source": [
    "\n",
    "import importlib\n",
    "import tiktoken\n",
    "\n",
    "print(\"tiktoken version:\", importlib.metadata.version(\"tiktoken\"))\n",
    "\n",
    "tokenizer= tiktoken.get_encoding('gpt2')"
   ]
  },
  {
   "cell_type": "code",
   "execution_count": 13,
   "metadata": {},
   "outputs": [
    {
     "name": "stdout",
     "output_type": "stream",
     "text": [
      "[15496, 11, 466, 345, 588, 8887, 30, 220, 50256, 554, 262, 4252, 18250, 8812, 2114, 1659, 617, 34680, 27271, 13]\n"
     ]
    }
   ],
   "source": [
    "text = (\n",
    "\"Hello, do you like tea? <|endoftext|> In the sunlit terraces\"\n",
    "\"of someunknownPlace.\"\n",
    ")\n",
    "integers = tokenizer.encode(text, allowed_special={\"<|endoftext|>\"})\n",
    "print(integers)"
   ]
  },
  {
   "cell_type": "markdown",
   "metadata": {},
   "source": [
    "In fact, the BPE tokenizer, which was used to train models such as GPT-2, GPT-3, and\n",
    "the original model used in ChatGPT, has a total vocabulary size of 50,257, with\n",
    "<|endoftext|> being assigned the largest token ID."
   ]
  },
  {
   "cell_type": "code",
   "execution_count": 14,
   "metadata": {},
   "outputs": [
    {
     "name": "stdout",
     "output_type": "stream",
     "text": [
      "5145\n"
     ]
    }
   ],
   "source": [
    "enc_text = tokenizer.encode(raw_text)\n",
    "print(len(enc_text))"
   ]
  },
  {
   "cell_type": "code",
   "execution_count": 15,
   "metadata": {},
   "outputs": [
    {
     "data": {
      "text/plain": [
       "50085"
      ]
     },
     "execution_count": 15,
     "metadata": {},
     "output_type": "execute_result"
    }
   ],
   "source": [
    "import numpy as np\n",
    "np.max(enc_text)"
   ]
  },
  {
   "cell_type": "code",
   "execution_count": 16,
   "metadata": {},
   "outputs": [],
   "source": [
    "# Implement input-target pairs from the training dataset using Dataset and Dataloader classes\n",
    "import torch\n",
    "from torch.utils.data import Dataset, DataLoader\n",
    "\n",
    "class GPTDatasetV1(Dataset):\n",
    "    def __init__(self, txt, tokenizer, max_length, stride):\n",
    "        self.input_ids = []\n",
    "        self.target_ids = []\n",
    "\n",
    "        token_ids = tokenizer.encode(txt)\n",
    "        # Create sliding windows\n",
    "        for i in range(0, len(token_ids) - max_length, stride):\n",
    "            input_chunk = token_ids[i:i + max_length]\n",
    "            target_chunk = token_ids[i+1: i + max_length + 1]\n",
    "            #convert to tensors\n",
    "            self.input_ids.append(torch.tensor(input_chunk))\n",
    "            self.target_ids.append(torch.tensor(target_chunk))\n",
    "    \n",
    "    def __len__(self):\n",
    "        return len(self.input_ids)\n",
    "    \n",
    "    def __getitem__(self, idx):\n",
    "        return self.input_ids[idx], self.target_ids[idx]\n",
    "\n",
    "\n",
    "def create_dataloader_v1(txt, batch_size = 4, max_length = 256, \n",
    "                         stride = 128, shuffle = True, drop_last = True, \n",
    "                         num_workers = 0):\n",
    "    \n",
    "    tokenizer= tiktoken.get_encoding('gpt2')\n",
    "    dataset = GPTDatasetV1(txt, tokenizer, max_length, stride)\n",
    "\n",
    "    dataloader = DataLoader(\n",
    "        dataset,\n",
    "        batch_size = batch_size,\n",
    "        shuffle = shuffle,\n",
    "        drop_last=drop_last,\n",
    "        num_workers=num_workers\n",
    "    )\n",
    "    return dataloader"
   ]
  },
  {
   "cell_type": "code",
   "execution_count": 17,
   "metadata": {},
   "outputs": [
    {
     "name": "stdout",
     "output_type": "stream",
     "text": [
      "Inputs:\n",
      " tensor([[   40,   367,  2885,  1464],\n",
      "        [ 1807,  3619,   402,   271],\n",
      "        [10899,  2138,   257,  7026],\n",
      "        [15632,   438,  2016,   257],\n",
      "        [  922,  5891,  1576,   438],\n",
      "        [  568,   340,   373,   645],\n",
      "        [ 1049,  5975,   284,   502],\n",
      "        [  284,  3285,   326,    11]])\n",
      "\n",
      "Targets:\n",
      " tensor([[  367,  2885,  1464,  1807],\n",
      "        [ 3619,   402,   271, 10899],\n",
      "        [ 2138,   257,  7026, 15632],\n",
      "        [  438,  2016,   257,   922],\n",
      "        [ 5891,  1576,   438,   568],\n",
      "        [  340,   373,   645,  1049],\n",
      "        [ 5975,   284,   502,   284],\n",
      "        [ 3285,   326,    11,   287]])\n"
     ]
    }
   ],
   "source": [
    "max_length = 4\n",
    "dataloader = create_dataloader_v1(raw_text, batch_size=8, max_length=max_length, stride=max_length,shuffle=False)\n",
    "data_iter = iter(dataloader)\n",
    "inputs, targets = next(data_iter)\n",
    "print(\"Inputs:\\n\", inputs)\n",
    "print(\"\\nTargets:\\n\", targets)"
   ]
  },
  {
   "cell_type": "code",
   "execution_count": 18,
   "metadata": {},
   "outputs": [
    {
     "name": "stdout",
     "output_type": "stream",
     "text": [
      "Parameter containing:\n",
      "tensor([[ 0.3374, -0.1778, -0.3035,  ...,  1.3337,  0.0771, -0.0522],\n",
      "        [ 0.2386,  0.1411, -1.3354,  ..., -0.0315, -1.0640,  0.9417],\n",
      "        [-1.3152, -0.0677, -0.1350,  ..., -0.3181, -1.3936,  0.5226],\n",
      "        ...,\n",
      "        [-1.1053,  0.5125,  0.4518,  ...,  1.9856, -2.5345, -1.1502],\n",
      "        [-1.0242, -0.9165,  0.8011,  ...,  0.8245,  0.6877, -0.6184],\n",
      "        [ 0.9898,  0.5546,  0.5102,  ...,  0.4626, -0.0853, -1.4430]],\n",
      "       requires_grad=True)\n",
      "torch.Size([50247, 256])\n"
     ]
    }
   ],
   "source": [
    "#  Create Token Embeddings including positional embedding, which can be absolute or relative, GPT uses absolute\n",
    "vocab_size = 50247\n",
    "output_dim = 256\n",
    "\n",
    "torch.manual_seed(123)\n",
    "token_embedding_layer = torch.nn.Embedding(vocab_size, output_dim)\n",
    "print(token_embedding_layer.weight)\n",
    "print(token_embedding_layer.weight.shape)"
   ]
  },
  {
   "cell_type": "code",
   "execution_count": 19,
   "metadata": {},
   "outputs": [
    {
     "name": "stdout",
     "output_type": "stream",
     "text": [
      "torch.Size([8, 4, 256])\n"
     ]
    }
   ],
   "source": [
    "token_embeddings = token_embedding_layer(inputs)\n",
    "print(token_embeddings.shape)"
   ]
  },
  {
   "cell_type": "code",
   "execution_count": 20,
   "metadata": {},
   "outputs": [
    {
     "name": "stdout",
     "output_type": "stream",
     "text": [
      "torch.Size([4, 256])\n"
     ]
    }
   ],
   "source": [
    "context_length = max_length\n",
    "pos_embedding_layer = torch.nn.Embedding(context_length, output_dim)\n",
    "pos_embeddings = pos_embedding_layer(torch.arange(context_length))\n",
    "print(pos_embeddings.shape)"
   ]
  },
  {
   "cell_type": "code",
   "execution_count": 21,
   "metadata": {},
   "outputs": [
    {
     "name": "stdout",
     "output_type": "stream",
     "text": [
      "torch.Size([8, 4, 256])\n"
     ]
    }
   ],
   "source": [
    "input_embeddings = token_embeddings + pos_embeddings\n",
    "print(input_embeddings.shape)"
   ]
  },
  {
   "cell_type": "code",
   "execution_count": 22,
   "metadata": {},
   "outputs": [
    {
     "data": {
      "text/plain": [
       "tensor([[ 1.4117,  0.9599,  1.8852,  2.5063],\n",
       "        [ 1.3674,  1.0696,  0.3401,  1.3563],\n",
       "        [ 1.5433,  0.0562,  1.0025,  1.7163],\n",
       "        [ 2.8333,  4.8586,  0.3163,  1.8257],\n",
       "        [ 1.1971,  0.2007,  2.7901,  5.2530],\n",
       "        [ 1.8696,  2.4908,  1.9542,  2.2539],\n",
       "        [ 0.1828, -0.1302, -1.8858,  0.5482],\n",
       "        [-1.2937,  1.7937,  0.4240,  3.5123]], grad_fn=<SelectBackward0>)"
      ]
     },
     "execution_count": 22,
     "metadata": {},
     "output_type": "execute_result"
    }
   ],
   "source": [
    "# An example from first embedding dimension to be used in Ch. 2\n",
    "input_embeddings[:,:,0]"
   ]
  }
 ],
 "metadata": {
  "kernelspec": {
   "display_name": "LLMs",
   "language": "python",
   "name": "python3"
  },
  "language_info": {
   "codemirror_mode": {
    "name": "ipython",
    "version": 3
   },
   "file_extension": ".py",
   "mimetype": "text/x-python",
   "name": "python",
   "nbconvert_exporter": "python",
   "pygments_lexer": "ipython3",
   "version": "3.10.15"
  }
 },
 "nbformat": 4,
 "nbformat_minor": 2
}
