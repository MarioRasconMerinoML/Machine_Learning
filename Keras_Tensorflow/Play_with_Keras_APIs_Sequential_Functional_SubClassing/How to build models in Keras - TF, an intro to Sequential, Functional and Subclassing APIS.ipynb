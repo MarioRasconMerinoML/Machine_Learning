{
 "cells": [
  {
   "cell_type": "code",
   "execution_count": 1,
   "id": "95042dc1",
   "metadata": {
    "ExecuteTime": {
     "end_time": "2022-09-26T17:37:52.814388Z",
     "start_time": "2022-09-26T17:37:29.156629Z"
    }
   },
   "outputs": [
    {
     "name": "stdout",
     "output_type": "stream",
     "text": [
      "Tensorflow version  2.10.0\n",
      "Keras version  2.10.0\n"
     ]
    }
   ],
   "source": [
    "import tensorflow as tf\n",
    "from tensorflow import keras\n",
    "\n",
    "print(\"Tensorflow version \", tf.__version__)\n",
    "print(\"Keras version \", keras.__version__)"
   ]
  },
  {
   "cell_type": "code",
   "execution_count": 38,
   "id": "31006a68",
   "metadata": {
    "ExecuteTime": {
     "end_time": "2022-09-26T18:09:28.832761Z",
     "start_time": "2022-09-26T18:09:28.813721Z"
    }
   },
   "outputs": [],
   "source": [
    "import pandas as pd\n",
    "import matplotlib.pyplot as plt\n",
    "%matplotlib inline\n",
    "import numpy as np"
   ]
  },
  {
   "cell_type": "markdown",
   "id": "56b9c3b4",
   "metadata": {},
   "source": [
    "## The Sequential API\n",
    "\n",
    "This is basically a list, in which we stack components, of the model, layers, etc.."
   ]
  },
  {
   "cell_type": "code",
   "execution_count": null,
   "id": "ead00aca",
   "metadata": {
    "ExecuteTime": {
     "end_time": "2022-09-26T17:37:55.022187Z",
     "start_time": "2022-09-26T17:37:55.022187Z"
    }
   },
   "outputs": [],
   "source": [
    "# A Sequential Model\n",
    "\n",
    "from tensorflow.keras import layers\n",
    "\n",
    "model_1 = keras.Sequential(\n",
    "    layers.Dense(64, activation = 'relu'),\n",
    "    layers.Dense(10, activation = 'softmax') # Classification problem\n",
    ")\n",
    "\n",
    "model_1.build(input_shape = (None,3)) \n",
    "# It is needed to first build the model,i.e initialize weights\n",
    "# to see after its summary and contents\n",
    "print(model_1.summary())\n",
    "print()\n",
    "\n",
    "model_1b = keras.Sequential(name = 'Model_1b') # A name can be given\n",
    "model_1b.add(layers.Dense(64, activation = 'relu'))\n",
    "model_1b.add(layers.Dense(10, activation = 'softmax'))\n",
    "\n",
    "model_1b.build(input_shape = (None,3))\n",
    "print(model_1b.summary())"
   ]
  },
  {
   "cell_type": "code",
   "execution_count": null,
   "id": "5488a8ef",
   "metadata": {
    "ExecuteTime": {
     "end_time": "2022-09-26T17:37:55.026984Z",
     "start_time": "2022-09-26T17:37:55.026984Z"
    }
   },
   "outputs": [],
   "source": [
    "\n",
    "model_1c = keras.Sequential(name = 'Model_1c') # A name can be given\n",
    "model_1c.add(keras.Input(shape = (3,))) # Shape of each sample\n",
    "model_1c.add(layers.Dense(64, activation = 'relu'))\n",
    "model_1c.add(layers.Dense(10, activation = 'softmax'))\n",
    "\n",
    "model_1c.build(input_shape = (None,3))\n",
    "print(model_1b.summary())"
   ]
  },
  {
   "cell_type": "markdown",
   "id": "7a82bc2a",
   "metadata": {},
   "source": [
    "### Sequential API for Classification Task\n",
    "\n",
    "Use any toy dataset like the Iris or the Fashion MNIST"
   ]
  },
  {
   "cell_type": "code",
   "execution_count": null,
   "id": "a69f556b",
   "metadata": {
    "ExecuteTime": {
     "end_time": "2022-09-26T17:37:55.030973Z",
     "start_time": "2022-09-26T17:37:55.030973Z"
    }
   },
   "outputs": [],
   "source": [
    "fashion_mnist = keras.datasets.fashion_mnist\n",
    "fashion_mnist"
   ]
  },
  {
   "cell_type": "code",
   "execution_count": null,
   "id": "2a325ad3",
   "metadata": {
    "ExecuteTime": {
     "end_time": "2022-09-26T17:37:55.033965Z",
     "start_time": "2022-09-26T17:37:55.033965Z"
    }
   },
   "outputs": [],
   "source": [
    "from sklearn.preprocessing import MinMaxScaler\n",
    "from sklearn.pipeline import make_pipeline\n",
    "\n",
    "(X_train_full, y_train_full), (X_test, y_test) = fashion_mnist.load_data()\n",
    "# Also we are going to set aside a validation dataset\n",
    "\n",
    "from sklearn.model_selection import train_test_split\n",
    "\n",
    "X_train, X_valid, y_train, y_valid = train_test_split(X_train_full, y_train_full, test_size = 0.2, \n",
    "                                                      random_state = 0,shuffle = 'y')\n",
    "\n",
    "#X_train, X_test, y_train, y_test = train_test_split(X, y, test_size=0.3, random_state=1, stratify=y)\n",
    "\n",
    "print('Full Train Shape: ', X_train_full.shape)\n",
    "print('Test Shape: ', X_test.shape)\n",
    "print('Train Shape: ', X_train.shape)\n",
    "print('Validation Shape: ', X_valid.shape)\n",
    "\n",
    "print('Each sample has a ' + str(X_train.shape[1]) + ' by ' + str(X_train.shape[2]) + ' shape' )"
   ]
  },
  {
   "cell_type": "code",
   "execution_count": null,
   "id": "63a99edb",
   "metadata": {
    "ExecuteTime": {
     "end_time": "2022-09-26T17:37:55.037156Z",
     "start_time": "2022-09-26T17:37:55.037156Z"
    }
   },
   "outputs": [],
   "source": [
    "# Standarize each pixel intensity is represented as a byte (0 to 255), so you can divide by 255 each sample \n",
    "# or use Scikit Learn MinMaxScaler(), depending on the input shapes expected by your neural network you will have to reshape\n",
    "# your inputs\n",
    "\n",
    "num_pipeline = make_pipeline(MinMaxScaler())\n",
    "\n",
    "X_train_full_sc = num_pipeline.fit_transform(X_train_full.reshape(60000,28*28)).reshape(60000, 28, 28) # in order to make work the scaler it needs a 2d array\n",
    "X_test_sc = num_pipeline.fit_transform(X_test.reshape(10000,28*28)).reshape(10000,28,28)\n",
    "\n",
    "X_train_sc = num_pipeline.fit_transform(X_train.reshape(48000,28*28)).reshape(48000,28,28)\n",
    "X_valid_sc = num_pipeline.fit_transform(X_valid.reshape(12000,28*28)).reshape(12000,28,28)\n",
    "\n",
    "\n"
   ]
  },
  {
   "cell_type": "code",
   "execution_count": null,
   "id": "3e4661ac",
   "metadata": {
    "ExecuteTime": {
     "end_time": "2022-09-26T17:37:55.040950Z",
     "start_time": "2022-09-26T17:37:55.040950Z"
    }
   },
   "outputs": [],
   "source": [
    "X_train_full_sc[0]"
   ]
  },
  {
   "cell_type": "code",
   "execution_count": null,
   "id": "6b1d24d1",
   "metadata": {
    "ExecuteTime": {
     "end_time": "2022-09-26T17:37:55.044937Z",
     "start_time": "2022-09-26T17:37:55.043939Z"
    }
   },
   "outputs": [],
   "source": [
    "X_train_full_sc.shape"
   ]
  },
  {
   "cell_type": "code",
   "execution_count": null,
   "id": "1ec9dae4",
   "metadata": {
    "ExecuteTime": {
     "end_time": "2022-09-26T17:37:55.048926Z",
     "start_time": "2022-09-26T17:37:55.048926Z"
    }
   },
   "outputs": [],
   "source": [
    "import matplotlib.pyplot as plt\n",
    "plt.imshow(X_train_sc[0].reshape(28,28), cmap = 'binary')\n",
    "plt.axis('off')\n",
    "plt.show()"
   ]
  },
  {
   "cell_type": "code",
   "execution_count": null,
   "id": "f2be7d07",
   "metadata": {
    "ExecuteTime": {
     "end_time": "2022-09-26T17:37:55.051917Z",
     "start_time": "2022-09-26T17:37:55.051917Z"
    }
   },
   "outputs": [],
   "source": [
    "class_names = [\"T-shirt/top\", \"Trouser\", \"Pullover\", \"Dress\", \"Coat\",\n",
    "               \"Sandal\", \"Shirt\", \"Sneaker\", \"Bag\", \"Ankle boot\"]\n",
    "class_names[y_train[0]]"
   ]
  },
  {
   "cell_type": "code",
   "execution_count": null,
   "id": "ec38c561",
   "metadata": {
    "ExecuteTime": {
     "end_time": "2022-09-26T17:37:55.055908Z",
     "start_time": "2022-09-26T17:37:55.055908Z"
    }
   },
   "outputs": [],
   "source": [
    "# Build the model sequentially\n",
    "model_class_fmnist = keras.models.Sequential()\n",
    "model_class_fmnist.add(keras.layers.Flatten(input_shape =[28, 28]))\n",
    "model_class_fmnist.add(keras.layers.Dense(300, activation=\"relu\"))\n",
    "model_class_fmnist.add(keras.layers.Dense(100, activation=\"relu\"))\n",
    "model_class_fmnist.add(keras.layers.Dense(10, activation=\"softmax\"))"
   ]
  },
  {
   "cell_type": "code",
   "execution_count": null,
   "id": "43c1ae8b",
   "metadata": {
    "ExecuteTime": {
     "end_time": "2022-09-26T17:37:55.058898Z",
     "start_time": "2022-09-26T17:37:55.058898Z"
    }
   },
   "outputs": [],
   "source": [
    "model_class_fmnist.summary()"
   ]
  },
  {
   "cell_type": "code",
   "execution_count": null,
   "id": "1e2dbf50",
   "metadata": {
    "ExecuteTime": {
     "end_time": "2022-09-26T17:37:55.062887Z",
     "start_time": "2022-09-26T17:37:55.062887Z"
    }
   },
   "outputs": [],
   "source": [
    "# Once the model is initialized with the inputs, we can retreive information from the different layers, like the weights\n",
    "hidden1 = model_class_fmnist.layers[1]\n",
    "hidden1.get_weights() # the iput are the weights and the biases"
   ]
  },
  {
   "cell_type": "code",
   "execution_count": null,
   "id": "03be512c",
   "metadata": {
    "ExecuteTime": {
     "end_time": "2022-09-26T17:37:55.066267Z",
     "start_time": "2022-09-26T17:37:55.066267Z"
    }
   },
   "outputs": [],
   "source": [
    "model_class_fmnist.compile(loss=\"sparse_categorical_crossentropy\",\n",
    "                           optimizer=\"sgd\",\n",
    "                           metrics=[\"accuracy\"])\n",
    "history = model_class_fmnist.fit(X_train_sc, y_train, epochs=30,\n",
    "                    validation_data=(X_valid_sc, y_valid))"
   ]
  },
  {
   "cell_type": "code",
   "execution_count": 42,
   "id": "e323a663",
   "metadata": {},
   "outputs": [
    {
     "data": {
      "image/png": "[encoded data removed]",
      "text/plain": [
       "<Figure size 720x432 with 1 Axes>"
      ]
     },
     "metadata": {
      "needs_background": "light"
     },
     "output_type": "display_data"
    }
   ],
   "source": [
    "pd.DataFrame(history.history).plot(figsize = (10,6))\n",
    "plt.grid(True)\n",
    "plt.gca().set_ylim(0,1)\n",
    "plt.show()"
   ]
  },
  {
   "cell_type": "code",
   "execution_count": 45,
   "id": "333a8c81",
   "metadata": {},
   "outputs": [
    {
     "name": "stdout",
     "output_type": "stream",
     "text": [
      "375/375 [==============================] - 1s 3ms/step - loss: 0.3429 - accuracy: 0.8912\n"
     ]
    },
    {
     "data": {
      "text/plain": [
       "[0.3428519368171692, 0.8911666870117188]"
      ]
     },
     "execution_count": 45,
     "metadata": {},
     "output_type": "execute_result"
    }
   ],
   "source": [
    "# Evaluate Model\n",
    "model_class_fmnist.evaluate(X_valid_sc, y_valid)"
   ]
  },
  {
   "cell_type": "code",
   "execution_count": 59,
   "id": "1d21730a",
   "metadata": {},
   "outputs": [
    {
     "name": "stdout",
     "output_type": "stream",
     "text": [
      "313/313 [==============================] - 1s 2ms/step\n"
     ]
    }
   ],
   "source": [
    "# Predict\n",
    "Y_pred = model_class_fmnist.predict(X_test_sc)"
   ]
  },
  {
   "cell_type": "code",
   "execution_count": 60,
   "id": "591f6049",
   "metadata": {},
   "outputs": [
    {
     "data": {
      "text/plain": [
       "array([[9.5949008e-07, 1.9624995e-08, 4.4083474e-05, ..., 6.1849132e-03,\n",
       "        2.5946820e-05, 9.9221230e-01],\n",
       "       [1.2461774e-04, 7.4457933e-11, 9.9782664e-01, ..., 2.4111269e-13,\n",
       "        8.2800926e-11, 8.8395206e-14],\n",
       "       [1.5484053e-06, 9.9999845e-01, 2.5323346e-09, ..., 1.0974512e-13,\n",
       "        1.9287512e-10, 6.8034724e-15],\n",
       "       ...,\n",
       "       [4.3130902e-04, 3.1621331e-10, 6.5354898e-04, ..., 1.4793233e-07,\n",
       "        9.9864966e-01, 7.5844164e-11],\n",
       "       [1.8306791e-06, 9.9998808e-01, 8.5397915e-08, ..., 2.6893270e-09,\n",
       "        8.2711900e-09, 7.6113707e-08],\n",
       "       [3.4705357e-07, 8.1160141e-07, 1.0987268e-05, ..., 2.4139062e-03,\n",
       "        1.7030516e-05, 3.7035854e-06]], dtype=float32)"
      ]
     },
     "execution_count": 60,
     "metadata": {},
     "output_type": "execute_result"
    }
   ],
   "source": [
    "Y_pred"
   ]
  },
  {
   "cell_type": "code",
   "execution_count": 65,
   "id": "b08eb1ff",
   "metadata": {},
   "outputs": [
    {
     "data": {
      "text/plain": [
       "array([9, 2, 1, ..., 8, 1, 5], dtype=int64)"
      ]
     },
     "execution_count": 65,
     "metadata": {},
     "output_type": "execute_result"
    }
   ],
   "source": [
    "np.argmax(Y_pred, axis = 1) # Get position of max probability on every row in the predictions"
   ]
  },
  {
   "cell_type": "code",
   "execution_count": 73,
   "id": "1ffba1f6",
   "metadata": {},
   "outputs": [
    {
     "name": "stdout",
     "output_type": "stream",
     "text": [
      "[9 2 1 ... 8 1 5]\n",
      "[9 2 1 ... 8 1 5]\n"
     ]
    },
    {
     "data": {
      "text/plain": [
       "True"
      ]
     },
     "execution_count": 73,
     "metadata": {},
     "output_type": "execute_result"
    }
   ],
   "source": [
    "print(np.argmax(Y_pred, axis = 1))\n",
    "print(y_test)\n",
    "any(np.argmax(Y_pred, axis = 1) - y_test)"
   ]
  },
  {
   "cell_type": "markdown",
   "id": "7976db6f",
   "metadata": {},
   "source": [
    "### Sequential API for Regression Task\n",
    "\n",
    "Neural Networks support natively either simple regression or multioutput regression.\n",
    "\n",
    "You have to leave the last layer with the number of neurons equal to the number of intended predicted variables, and \n",
    "without any kind of activation function as we do in classification problems with sigmoid or softmax"
   ]
  },
  {
   "cell_type": "code",
   "execution_count": 3,
   "id": "990bc572",
   "metadata": {
    "ExecuteTime": {
     "end_time": "2022-09-26T17:42:38.116541Z",
     "start_time": "2022-09-26T17:42:38.098413Z"
    }
   },
   "outputs": [],
   "source": [
    "from sklearn.datasets import fetch_california_housing # We use the California Dataset loaded in Sklearn\n",
    "from sklearn.model_selection import train_test_split\n",
    "from sklearn.preprocessing import StandardScaler\n"
   ]
  },
  {
   "cell_type": "code",
   "execution_count": 6,
   "id": "22d23d03",
   "metadata": {
    "ExecuteTime": {
     "end_time": "2022-09-26T17:49:17.791348Z",
     "start_time": "2022-09-26T17:49:17.740108Z"
    }
   },
   "outputs": [],
   "source": [
    "housing = fetch_california_housing() # Predict the median, so it is a single output regression\n",
    "\n",
    "X_train_full, X_test, y_train_full, y_test = train_test_split(housing.data, housing.target,\n",
    "                                                              test_size = 0.2, \n",
    "                                                              random_state = 0,shuffle = 'y')\n",
    "X_train, X_valid, y_train, y_valid = train_test_split(X_train_full,y_train_full,\n",
    "                                                      test_size = 0.2, \n",
    "                                                      random_state = 0,shuffle = 'y')\n",
    "\n",
    "# Scale data\n",
    "std_scaler = StandardScaler()\n",
    "X_train_full_sc = std_scaler.fit_transform(X_train_full)\n",
    "X_train_sc = std_scaler.fit_transform(X_train)\n",
    "X_valid_sc = std_scaler.fit_transform(X_valid)\n",
    "X_test_sc = std_scaler.fit_transform(X_test)"
   ]
  },
  {
   "cell_type": "code",
   "execution_count": 11,
   "id": "e043b543",
   "metadata": {
    "ExecuteTime": {
     "end_time": "2022-09-26T17:57:49.763337Z",
     "start_time": "2022-09-26T17:57:47.716964Z"
    }
   },
   "outputs": [
    {
     "name": "stdout",
     "output_type": "stream",
     "text": [
      "413/413 [==============================] - 2s 3ms/step - loss: 0.9948 - val_loss: 0.4644\n"
     ]
    }
   ],
   "source": [
    "# Prepare model\n",
    "\n",
    "def model_regression(input_shape):\n",
    "    model = keras.models.Sequential([\n",
    "        keras.layers.Dense(50, activation = 'relu', input_shape = input_shape),\n",
    "        keras.layers.Dense(30, activation = 'relu'),\n",
    "        keras.layers.Dense(1)\n",
    "        \n",
    "    ])\n",
    "    model.compile(loss = 'mean_squared_error', optimizer = 'adam')\n",
    "    return model\n",
    "\n",
    "model_reg = model_regression(X_train_sc.shape[1:])\n",
    "\n",
    "history_reg = model_reg.fit(X_train_sc,y_train, validation_data = (X_valid_sc, y_valid))\n",
    "\n"
   ]
  },
  {
   "cell_type": "code",
   "execution_count": 12,
   "id": "b1b22710",
   "metadata": {
    "ExecuteTime": {
     "end_time": "2022-09-26T17:57:51.878568Z",
     "start_time": "2022-09-26T17:57:51.612231Z"
    }
   },
   "outputs": [
    {
     "name": "stdout",
     "output_type": "stream",
     "text": [
      "104/104 [==============================] - 0s 1ms/step - loss: 0.4644\n"
     ]
    }
   ],
   "source": [
    "mse_test = model_reg.evaluate(X_valid_sc, y_valid)"
   ]
  },
  {
   "cell_type": "code",
   "execution_count": 18,
   "id": "a77cb38a",
   "metadata": {
    "ExecuteTime": {
     "end_time": "2022-09-26T18:02:49.682969Z",
     "start_time": "2022-09-26T18:02:49.342842Z"
    }
   },
   "outputs": [
    {
     "name": "stdout",
     "output_type": "stream",
     "text": [
      "129/129 [==============================] - 0s 1ms/step\n"
     ]
    }
   ],
   "source": [
    "y_pred = model_reg.predict(X_test_sc)"
   ]
  },
  {
   "cell_type": "code",
   "execution_count": 22,
   "id": "12befe82",
   "metadata": {
    "ExecuteTime": {
     "end_time": "2022-09-26T18:04:26.681902Z",
     "start_time": "2022-09-26T18:04:26.670896Z"
    }
   },
   "outputs": [
    {
     "data": {
      "text/plain": [
       "(4128, 8)"
      ]
     },
     "execution_count": 22,
     "metadata": {},
     "output_type": "execute_result"
    }
   ],
   "source": [
    "X_test_sc.shape"
   ]
  },
  {
   "cell_type": "code",
   "execution_count": 43,
   "id": "1c2a7ab6",
   "metadata": {
    "ExecuteTime": {
     "end_time": "2022-09-26T18:11:17.669101Z",
     "start_time": "2022-09-26T18:11:17.146678Z"
    }
   },
   "outputs": [
    {
     "data": {
      "image/png": "[encoded data removed]",
      "text/plain": [
       "<Figure size 720x432 with 1 Axes>"
      ]
     },
     "metadata": {
      "needs_background": "light"
     },
     "output_type": "display_data"
    }
   ],
   "source": [
    "# plot R2\n",
    "%matplotlib inline\n",
    "fig, axes = plt.subplots(figsize=(10, 6))\n",
    "\n",
    "# Plot outputs\n",
    "plt.scatter(X_test_sc[:,0], y_test, color=\"red\",alpha=0.3,label=\"ground truth\")\n",
    "plt.scatter(X_test_sc[:,0], y_pred, color=\"blue\", linewidth=3,alpha=0.2,label=\"predictions\")\n",
    "\n",
    "plt.grid(True)\n",
    "plt.legend()\n",
    "plt.show()"
   ]
  },
  {
   "cell_type": "markdown",
   "id": "856024cb",
   "metadata": {},
   "source": [
    "## The Functional API\n",
    "\n",
    "Uses Graph Architectures, represents a mid-point between easy to use and flexibility"
   ]
  },
  {
   "cell_type": "code",
   "execution_count": 4,
   "id": "21423351",
   "metadata": {
    "ExecuteTime": {
     "end_time": "2022-09-17T20:09:39.745553Z",
     "start_time": "2022-09-17T20:09:39.666552Z"
    }
   },
   "outputs": [
    {
     "name": "stdout",
     "output_type": "stream",
     "text": [
      "(None, 3)\n",
      "<dtype: 'float32'>\n",
      "(None, 64)\n",
      "Model: \"model\"\n",
      "_________________________________________________________________\n",
      " Layer (type)                Output Shape              Param #   \n",
      "=================================================================\n",
      " inputs (InputLayer)         [(None, 3)]               0         \n",
      "                                                                 \n",
      " features (Dense)            (None, 64)                256       \n",
      "                                                                 \n",
      " outputs (Dense)             (None, 10)                650       \n",
      "                                                                 \n",
      "=================================================================\n",
      "Total params: 906\n",
      "Trainable params: 906\n",
      "Non-trainable params: 0\n",
      "_________________________________________________________________\n"
     ]
    }
   ],
   "source": [
    "# A simple functional model with two layers, this works by linking different parts outputs from predecing function\n",
    "# become inputs of the following\n",
    "\n",
    "inputs = keras.Input(shape=(3,), name = 'inputs')\n",
    "features = layers.Dense(64, activation = 'relu', name = 'features')(inputs)\n",
    "outputs = layers.Dense(10, activation = 'softmax', name = 'outputs')(features)\n",
    "\n",
    "print(inputs.shape)\n",
    "print(inputs.dtype)\n",
    "\n",
    "print(features.shape)\n",
    "\n",
    "model_func= keras.Model(inputs = inputs, outputs = outputs)\n",
    "model_func.summary()"
   ]
  },
  {
   "cell_type": "code",
   "execution_count": 7,
   "id": "9772f26c",
   "metadata": {
    "ExecuteTime": {
     "end_time": "2022-09-17T20:11:03.395841Z",
     "start_time": "2022-09-17T20:11:03.355747Z"
    }
   },
   "outputs": [
    {
     "name": "stdout",
     "output_type": "stream",
     "text": [
      "WARNING:tensorflow:Compiled the loaded model, but the compiled metrics have yet to be built. `model.compile_metrics` will be empty until you train or evaluate the model.\n",
      "Serving 'test.h5' at http://localhost:8088\n"
     ]
    },
    {
     "data": {
      "text/plain": [
       "('localhost', 8088)"
      ]
     },
     "execution_count": 7,
     "metadata": {},
     "output_type": "execute_result"
    }
   ],
   "source": [
    "import netron\n",
    "model_func.save('test.h5')\n",
    "port = 8088\n",
    "model_path = 'test.h5'\n",
    "netron.start(model_path, port, browse=False)\n",
    "#import IPython\n",
    "#IPython.display.IFrame(f\"http://localhost:{port}\", width=1000, height=1000)"
   ]
  },
  {
   "cell_type": "markdown",
   "id": "0cde384e",
   "metadata": {},
   "source": [
    "### Multi-Input / Multi-Output models\n",
    "\n",
    "With perhaps the exception of simple regression or toy classification problems, dl models don´t look like stacks of simple layers, usually they have branches, with different types of inputs which need preprocessing, and later on are joined together into the model flow as a pipeline"
   ]
  },
  {
   "cell_type": "code",
   "execution_count": 13,
   "id": "fc869945",
   "metadata": {
    "ExecuteTime": {
     "end_time": "2022-09-17T20:18:15.828118Z",
     "start_time": "2022-09-17T20:18:06.644914Z"
    }
   },
   "outputs": [
    {
     "name": "stdout",
     "output_type": "stream",
     "text": [
      "Epoch 1/5\n",
      "47/47 [==============================] - 2s 23ms/step - loss: 31.1600 - priority_loss: 0.3386 - department_loss: 30.8214 - priority_mean_absolute_error: 0.5030 - department_accuracy: 0.2413\n",
      "Epoch 2/5\n",
      "47/47 [==============================] - 1s 24ms/step - loss: 34.4515 - priority_loss: 0.3437 - department_loss: 34.1078 - priority_mean_absolute_error: 0.5085 - department_accuracy: 0.2400\n",
      "Epoch 3/5\n",
      "47/47 [==============================] - 1s 24ms/step - loss: 40.5947 - priority_loss: 0.3437 - department_loss: 40.2510 - priority_mean_absolute_error: 0.5085 - department_accuracy: 0.2780\n",
      "Epoch 4/5\n",
      "47/47 [==============================] - 1s 25ms/step - loss: 51.9198 - priority_loss: 0.3437 - department_loss: 51.5761 - priority_mean_absolute_error: 0.5085 - department_accuracy: 0.2447\n",
      "Epoch 5/5\n",
      "47/47 [==============================] - 1s 25ms/step - loss: 63.3318 - priority_loss: 0.3437 - department_loss: 62.9881 - priority_mean_absolute_error: 0.5085 - department_accuracy: 0.2453\n",
      "47/47 [==============================] - 1s 7ms/step - loss: 44.4984 - priority_loss: 0.3437 - department_loss: 44.1548 - priority_mean_absolute_error: 0.5085 - department_accuracy: 0.2573\n",
      "47/47 [==============================] - 1s 7ms/step\n"
     ]
    }
   ],
   "source": [
    "vocabulary_size = 10000\n",
    "n_tags = 100\n",
    "n_depts = 4\n",
    "\n",
    "# Define model inputs\n",
    "\n",
    "title = keras.Input(shape = (vocabulary_size,), name = 'title')\n",
    "text_body = keras.Input(shape = (vocabulary_size,), name = 'text_body')\n",
    "tags = keras.Input(shape = (n_tags,), name = 'tags')\n",
    "\n",
    "# Join input Features into a single tensor\n",
    "\n",
    "features = keras.layers.Concatenate()([title, text_body, tags])\n",
    "features = keras.layers.Dense(64, activation = 'relu')(features)\n",
    "\n",
    "# Define outputs\n",
    "\n",
    "priority = keras.layers.Dense(1, activation = 'sigmoid', name = 'priority')(features)\n",
    "department = keras.layers.Dense(n_depts, activation = 'softmax', name = 'department')(features)\n",
    "\n",
    "model_multi = keras.Model(inputs = [title, text_body, tags],\n",
    "                         outputs = [priority, department])\n",
    "\n",
    "# Training\n",
    "import numpy as np\n",
    "\n",
    "n_samples = 1500\n",
    "\n",
    "# Dummy input data\n",
    "title_data = np.random.randint(0, 2, size = (n_samples, vocabulary_size))\n",
    "text_data = np.random.randint(0, 2, size = (n_samples, vocabulary_size))\n",
    "tags_data = np.random.randint(0, 2, size = (n_samples, n_tags))\n",
    "\n",
    "# Output dummy\n",
    "prio_data = np.random.random(size = (n_samples, 1))\n",
    "dept_data = np.random.randint(0, 2, size = (n_samples, n_depts))\n",
    "\n",
    "model_multi.compile(optimizer = 'rmsprop',\n",
    "             loss = ['mean_squared_error', 'categorical_crossentropy'],\n",
    "             metrics = [['mean_absolute_error'], ['accuracy']])\n",
    "\n",
    "inputs = [title_data,text_data, tags_data]\n",
    "outputs = [prio_data, dept_data]\n",
    "\n",
    "# In this dummy example we do not split among train, validation and test sets as we should do\n",
    "\n",
    "model_multi.fit(inputs, outputs, epochs = 5, verbose = 1)\n",
    "model_multi.evaluate(inputs, outputs)\n",
    "\n",
    "priority_preds, department_preds = model_multi.predict([title_data, text_data, tags_data])\n"
   ]
  },
  {
   "cell_type": "code",
   "execution_count": 16,
   "id": "3326da10",
   "metadata": {
    "ExecuteTime": {
     "end_time": "2022-09-17T20:20:10.809573Z",
     "start_time": "2022-09-17T20:20:10.634161Z"
    }
   },
   "outputs": [
    {
     "name": "stdout",
     "output_type": "stream",
     "text": [
      "Serving' at http://localhost:8080\n"
     ]
    },
    {
     "data": {
      "text/plain": [
       "('localhost', 8080)"
      ]
     },
     "execution_count": 16,
     "metadata": {},
     "output_type": "execute_result"
    }
   ],
   "source": [
    "# You can visualize the model using Netron, later you can add the png into this notebook\n",
    "model_multi.save('multi.h5')\n",
    "port = 8088\n",
    "model_path = 'multi.h5'\n",
    "netron.start()"
   ]
  },
  {
   "cell_type": "code",
   "execution_count": 21,
   "id": "eccd9bec",
   "metadata": {
    "ExecuteTime": {
     "end_time": "2022-09-17T20:25:26.986075Z",
     "start_time": "2022-09-17T20:25:26.969909Z"
    },
    "scrolled": true
   },
   "outputs": [
    {
     "data": {
      "image/png": "[encoded data removed]",
      "text/plain": [
       "<IPython.core.display.Image object>"
      ]
     },
     "execution_count": 21,
     "metadata": {},
     "output_type": "execute_result"
    }
   ],
   "source": [
    "from IPython import display\n",
    "display.Image(\"multi.png\")"
   ]
  },
  {
   "cell_type": "code",
   "execution_count": 29,
   "id": "08629741",
   "metadata": {
    "ExecuteTime": {
     "end_time": "2022-09-18T16:39:31.914676Z",
     "start_time": "2022-09-18T16:39:27.964218Z"
    }
   },
   "outputs": [
    {
     "name": "stdout",
     "output_type": "stream",
     "text": [
      "47/47 [==============================] - 2s 24ms/step - loss: 87.1716 - priority_loss: 0.3437 - department_loss: 86.8280 - priority_mean_absolute_error: 0.5085 - department_accuracy: 0.2593\n",
      "47/47 [==============================] - 1s 7ms/step - loss: 94.2182 - priority_loss: 0.3437 - department_loss: 93.8745 - priority_mean_absolute_error: 0.5085 - department_accuracy: 0.1413\n",
      "47/47 [==============================] - 0s 7ms/step\n"
     ]
    }
   ],
   "source": [
    "# Training a model by providing dicts of input & target arrays\n",
    "model_multi.compile(optimizer=\"rmsprop\",\n",
    "              loss={\"priority\": \"mean_squared_error\", \"department\": \"categorical_crossentropy\"},\n",
    "              metrics={\"priority\": [\"mean_absolute_error\"], \"department\": [\"accuracy\"]})\n",
    "model_multi.fit({\"title\": title_data, \"text_body\": text_data, \"tags\": tags_data},\n",
    "          {\"priority\": prio_data, \"department\": dept_data},\n",
    "          epochs=1)\n",
    "model_multi.evaluate({\"title\": title_data, \"text_body\": text_data, \"tags\": tags_data},\n",
    "               {\"priority\": prio_data, \"department\": dept_data})\n",
    "priority_preds, department_preds = model_multi.predict(\n",
    "    {\"title\": title_data, \"text_body\": text_data, \"tags\": tags_data})"
   ]
  },
  {
   "cell_type": "markdown",
   "id": "dc73a88d",
   "metadata": {},
   "source": [
    " ### The Functional API used to created more complicated models with branches.\n",
    " \n",
    " Here we are going to provide more samples about the flexibility of the Funcional API. Contrary to the Sequential where we \n",
    " stack layers, in the Functional API we can create ramifications, in order to tackle for instance the famous problem of the vanishing gradients."
   ]
  },
  {
   "cell_type": "code",
   "execution_count": null,
   "id": "3d63d9c7",
   "metadata": {},
   "outputs": [],
   "source": []
  },
  {
   "cell_type": "markdown",
   "id": "475fd6d0",
   "metadata": {},
   "source": [
    "## The Subclassing API\n",
    "\n",
    "It is a low-level option where the user writes everything. Ideal for research if you want to control every part of the design, but without the Keras built-in features, more risk-prone and needs deep knowledge on how a deep learningframework works in order to identify bugs"
   ]
  },
  {
   "cell_type": "markdown",
   "id": "90955de7",
   "metadata": {},
   "source": [
    "When subclassing a Model in Keras do:\n",
    "- In the __init__() method, define the layers to use\n",
    "- In the call() method, defien the forward pass of the model, reusing the layers previously created.\n",
    "- Instantiate the subclass and call it on the data to create its weights"
   ]
  },
  {
   "cell_type": "code",
   "execution_count": 22,
   "id": "4a1a0dc6",
   "metadata": {
    "ExecuteTime": {
     "end_time": "2022-09-18T16:34:10.736781Z",
     "start_time": "2022-09-18T16:34:10.724620Z"
    }
   },
   "outputs": [],
   "source": [
    "class CustomerTicketModel(keras.Model):\n",
    "    def __init__(self, n_depts):\n",
    "        \n",
    "        super().__init__()\n",
    "        self.concat_layer = layers.Concatenate()\n",
    "        self.features_layer_mix = layers.Dense(64, activation = 'relu', name = 'mix_layer')\n",
    "        self.priority_scorer = layers.Dense(1, activation = 'sigmoid', name = 'priority')\n",
    "        self.dept_classifier = layers.Dense(n_depts, activation = 'softmax', name = 'dept_class')\n",
    "    \n",
    "    def call(self, inputs):\n",
    "        \n",
    "        title = inputs['title']\n",
    "        text_body = inputs['text_body']\n",
    "        tags = inputs['tags']\n",
    "        \n",
    "        features = self.concat_layer([title, text_body, tags])\n",
    "        features = self.features_layer_mix(features)\n",
    "        priority = self.priority_scorer(features)\n",
    "        department = self.dept_classifier(features)\n",
    "        return priority, department"
   ]
  },
  {
   "cell_type": "code",
   "execution_count": 24,
   "id": "3f780b4c",
   "metadata": {
    "ExecuteTime": {
     "end_time": "2022-09-18T16:36:14.790203Z",
     "start_time": "2022-09-18T16:36:14.584611Z"
    }
   },
   "outputs": [],
   "source": [
    "# Instantiate\n",
    "\n",
    "model_subclassed = CustomerTicketModel(n_depts = 4)\n",
    "priority, department = model_subclassed( {\"title\": title_data, \"text_body\": text_data, \"tags\": tags_data})"
   ]
  },
  {
   "cell_type": "code",
   "execution_count": 32,
   "id": "776ce1eb",
   "metadata": {
    "ExecuteTime": {
     "end_time": "2022-09-18T16:41:35.189782Z",
     "start_time": "2022-09-18T16:41:31.248901Z"
    }
   },
   "outputs": [
    {
     "name": "stdout",
     "output_type": "stream",
     "text": [
      "47/47 [==============================] - 2s 24ms/step - loss: 32.8649 - output_1_loss: 0.3437 - output_2_loss: 32.5212 - output_1_mean_absolute_error: 0.5085 - output_2_accuracy: 0.2560\n",
      "47/47 [==============================] - 1s 7ms/step - loss: 45.4309 - output_1_loss: 0.3437 - output_2_loss: 45.0872 - output_1_mean_absolute_error: 0.5085 - output_2_accuracy: 0.2573\n",
      "47/47 [==============================] - 0s 7ms/step\n"
     ]
    }
   ],
   "source": [
    "# Compile and train like in the Sequential of Functional model\n",
    "\n",
    "model_subclassed.compile(optimizer=\"rmsprop\",\n",
    "              loss=[\"mean_squared_error\", \"categorical_crossentropy\"],\n",
    "              metrics=[[\"mean_absolute_error\"], [\"accuracy\"]])\n",
    "model_subclassed.fit({\"title\": title_data,\n",
    "           \"text_body\": text_data,\n",
    "           \"tags\": tags_data},\n",
    "          [prio_data, dept_data],\n",
    "          epochs=1)\n",
    "model_subclassed.evaluate({\"title\": title_data,\n",
    "                \"text_body\": text_data,\n",
    "                \"tags\": tags_data},\n",
    "               [prio_data, dept_data])\n",
    "priority_preds, department_preds = model_subclassed.predict({\"title\": title_data,\n",
    "                                                  \"text_body\": text_data,\n",
    "                                                  \"tags\": tags_data})"
   ]
  },
  {
   "cell_type": "markdown",
   "id": "58d20696",
   "metadata": {},
   "source": [
    "<b> In general using Functional Models that include subclassed layers, provides the best of both worlds: high development flexibility while retaining the advantages of the Functional API."
   ]
  },
  {
   "cell_type": "code",
   "execution_count": 38,
   "id": "2eeb00da",
   "metadata": {
    "ExecuteTime": {
     "end_time": "2022-09-18T16:54:33.495303Z",
     "start_time": "2022-09-18T16:54:33.418633Z"
    }
   },
   "outputs": [],
   "source": [
    "# Example a Functional Model that includes a subclassed model\n",
    "\n",
    "class Classifier(keras.Model):\n",
    "    # A Class to create the final output layer for classification\n",
    "    \n",
    "    def __init__(self, num_classes = 2):\n",
    "        super().__init__()\n",
    "        if (num_classes == 2):\n",
    "            n_units = 1\n",
    "            activation = 'sigmoid'\n",
    "        else:\n",
    "            n_units = num_classes\n",
    "            activation = 'softmax'\n",
    "        self.dense = layers.Dense(n_units, activation = activation)\n",
    "    \n",
    "    def call(self, inputs):\n",
    "        return self.dense(inputs)\n",
    "\n",
    "inputs = keras.Input(shape = (3,))\n",
    "features = layers.Dense(64, activation = 'relu')(inputs)\n",
    "outputs = Classifier(num_classes = 10)(features)\n",
    "\n",
    "model_hybrid = keras.Model(inputs = inputs, outputs = outputs)"
   ]
  },
  {
   "cell_type": "code",
   "execution_count": null,
   "id": "c7736bb9",
   "metadata": {},
   "outputs": [],
   "source": []
  }
 ],
 "metadata": {
  "kernelspec": {
   "display_name": "Python 3 (ipykernel)",
   "language": "python",
   "name": "python3"
  },
  "language_info": {
   "codemirror_mode": {
    "name": "ipython",
    "version": 3
   },
   "file_extension": ".py",
   "mimetype": "text/x-python",
   "name": "python",
   "nbconvert_exporter": "python",
   "pygments_lexer": "ipython3",
   "version": "3.8.6"
  },
  "toc": {
   "base_numbering": 1,
   "nav_menu": {},
   "number_sections": true,
   "sideBar": true,
   "skip_h1_title": false,
   "title_cell": "Table of Contents",
   "title_sidebar": "Contents",
   "toc_cell": false,
   "toc_position": {},
   "toc_section_display": true,
   "toc_window_display": false
  },
  "varInspector": {
   "cols": {
    "lenName": 16,
    "lenType": 16,
    "lenVar": 40
   },
   "kernels_config": {
    "python": {
     "delete_cmd_postfix": "",
     "delete_cmd_prefix": "del ",
     "library": "var_list.py",
     "varRefreshCmd": "print(var_dic_list())"
    },
    "r": {
     "delete_cmd_postfix": ") ",
     "delete_cmd_prefix": "rm(",
     "library": "var_list.r",
     "varRefreshCmd": "cat(var_dic_list()) "
    }
   },
   "types_to_exclude": [
    "module",
    "function",
    "builtin_function_or_method",
    "instance",
    "_Feature"
   ],
   "window_display": false
  }
 },
 "nbformat": 4,
 "nbformat_minor": 5
}
