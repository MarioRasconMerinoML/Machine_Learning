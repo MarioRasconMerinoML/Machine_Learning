{
 "cells": [
  {
   "cell_type": "code",
   "execution_count": 1,
   "id": "95042dc1",
   "metadata": {
    "ExecuteTime": {
     "end_time": "2022-09-17T20:09:33.816272Z",
     "start_time": "2022-09-17T20:09:22.464566Z"
    }
   },
   "outputs": [
    {
     "name": "stdout",
     "output_type": "stream",
     "text": [
      "Tensorflow version  2.10.0\n",
      "Keras version  2.10.0\n"
     ]
    }
   ],
   "source": [
    "import tensorflow as tf\n",
    "from tensorflow import keras\n",
    "\n",
    "print(\"Tensorflow version \", tf.__version__)\n",
    "print(\"Keras version \", keras.__version__)"
   ]
  },
  {
   "cell_type": "markdown",
   "id": "56b9c3b4",
   "metadata": {},
   "source": [
    "## The Sequential API\n",
    "\n",
    "This is basically a list, in which we stack components, of the model, layers, etc.."
   ]
  },
  {
   "cell_type": "code",
   "execution_count": 2,
   "id": "ead00aca",
   "metadata": {
    "ExecuteTime": {
     "end_time": "2022-09-17T20:09:36.150904Z",
     "start_time": "2022-09-17T20:09:35.977687Z"
    }
   },
   "outputs": [
    {
     "name": "stdout",
     "output_type": "stream",
     "text": [
      "Model: \"<keras.layers.core.dense.Dense object at 0x00000279BBD18D60>\"\n",
      "_________________________________________________________________\n",
      " Layer (type)                Output Shape              Param #   \n",
      "=================================================================\n",
      " dense (Dense)               (None, 64)                256       \n",
      "                                                                 \n",
      "=================================================================\n",
      "Total params: 256\n",
      "Trainable params: 256\n",
      "Non-trainable params: 0\n",
      "_________________________________________________________________\n",
      "None\n",
      "\n",
      "Model: \"Model_1b\"\n",
      "_________________________________________________________________\n",
      " Layer (type)                Output Shape              Param #   \n",
      "=================================================================\n",
      " dense_2 (Dense)             (None, 64)                256       \n",
      "                                                                 \n",
      " dense_3 (Dense)             (None, 10)                650       \n",
      "                                                                 \n",
      "=================================================================\n",
      "Total params: 906\n",
      "Trainable params: 906\n",
      "Non-trainable params: 0\n",
      "_________________________________________________________________\n",
      "None\n"
     ]
    }
   ],
   "source": [
    "# A Sequential Model\n",
    "\n",
    "from tensorflow.keras import layers\n",
    "\n",
    "model_1 = keras.Sequential(\n",
    "    layers.Dense(64, activation = 'relu'),\n",
    "    layers.Dense(10, activation = 'softmax') # Classification problem\n",
    ")\n",
    "\n",
    "model_1.build(input_shape = (None,3)) \n",
    "# It is needed to first build the model,i.e initialize weights\n",
    "# to see after its summary and contents\n",
    "print(model_1.summary())\n",
    "print()\n",
    "\n",
    "model_1b = keras.Sequential(name = 'Model_1b') # A name can be given\n",
    "model_1b.add(layers.Dense(64, activation = 'relu'))\n",
    "model_1b.add(layers.Dense(10, activation = 'softmax'))\n",
    "\n",
    "model_1b.build(input_shape = (None,3))\n",
    "print(model_1b.summary())"
   ]
  },
  {
   "cell_type": "code",
   "execution_count": 3,
   "id": "5488a8ef",
   "metadata": {
    "ExecuteTime": {
     "end_time": "2022-09-17T20:09:37.420505Z",
     "start_time": "2022-09-17T20:09:37.361694Z"
    }
   },
   "outputs": [
    {
     "name": "stdout",
     "output_type": "stream",
     "text": [
      "Model: \"Model_1b\"\n",
      "_________________________________________________________________\n",
      " Layer (type)                Output Shape              Param #   \n",
      "=================================================================\n",
      " dense_2 (Dense)             (None, 64)                256       \n",
      "                                                                 \n",
      " dense_3 (Dense)             (None, 10)                650       \n",
      "                                                                 \n",
      "=================================================================\n",
      "Total params: 906\n",
      "Trainable params: 906\n",
      "Non-trainable params: 0\n",
      "_________________________________________________________________\n",
      "None\n"
     ]
    }
   ],
   "source": [
    "\n",
    "model_1c = keras.Sequential(name = 'Model_1c') # A name can be given\n",
    "model_1c.add(keras.Input(shape = (3,))) # Shape of each sample\n",
    "model_1c.add(layers.Dense(64, activation = 'relu'))\n",
    "model_1c.add(layers.Dense(10, activation = 'softmax'))\n",
    "\n",
    "model_1c.build(input_shape = (None,3))\n",
    "print(model_1b.summary())"
   ]
  },
  {
   "cell_type": "markdown",
   "id": "856024cb",
   "metadata": {},
   "source": [
    "## The Functional API\n",
    "\n",
    "Uses Graph Architectures, represents a mid-point between easy to use and flexibility"
   ]
  },
  {
   "cell_type": "code",
   "execution_count": 4,
   "id": "21423351",
   "metadata": {
    "ExecuteTime": {
     "end_time": "2022-09-17T20:09:39.745553Z",
     "start_time": "2022-09-17T20:09:39.666552Z"
    }
   },
   "outputs": [
    {
     "name": "stdout",
     "output_type": "stream",
     "text": [
      "(None, 3)\n",
      "<dtype: 'float32'>\n",
      "(None, 64)\n",
      "Model: \"model\"\n",
      "_________________________________________________________________\n",
      " Layer (type)                Output Shape              Param #   \n",
      "=================================================================\n",
      " inputs (InputLayer)         [(None, 3)]               0         \n",
      "                                                                 \n",
      " features (Dense)            (None, 64)                256       \n",
      "                                                                 \n",
      " outputs (Dense)             (None, 10)                650       \n",
      "                                                                 \n",
      "=================================================================\n",
      "Total params: 906\n",
      "Trainable params: 906\n",
      "Non-trainable params: 0\n",
      "_________________________________________________________________\n"
     ]
    }
   ],
   "source": [
    "# A simple functional model with two layers, this works by linking different parts outputs from predecing function\n",
    "# become inputs of the following\n",
    "\n",
    "inputs = keras.Input(shape=(3,), name = 'inputs')\n",
    "features = layers.Dense(64, activation = 'relu', name = 'features')(inputs)\n",
    "outputs = layers.Dense(10, activation = 'softmax', name = 'outputs')(features)\n",
    "\n",
    "print(inputs.shape)\n",
    "print(inputs.dtype)\n",
    "\n",
    "print(features.shape)\n",
    "\n",
    "model_func= keras.Model(inputs = inputs, outputs = outputs)\n",
    "model_func.summary()"
   ]
  },
  {
   "cell_type": "code",
   "execution_count": 7,
   "id": "9772f26c",
   "metadata": {
    "ExecuteTime": {
     "end_time": "2022-09-17T20:11:03.395841Z",
     "start_time": "2022-09-17T20:11:03.355747Z"
    }
   },
   "outputs": [
    {
     "name": "stdout",
     "output_type": "stream",
     "text": [
      "WARNING:tensorflow:Compiled the loaded model, but the compiled metrics have yet to be built. `model.compile_metrics` will be empty until you train or evaluate the model.\n",
      "Serving 'test.h5' at http://localhost:8088\n"
     ]
    },
    {
     "data": {
      "text/plain": [
       "('localhost', 8088)"
      ]
     },
     "execution_count": 7,
     "metadata": {},
     "output_type": "execute_result"
    }
   ],
   "source": [
    "import netron\n",
    "model_func.save('test.h5')\n",
    "port = 8088\n",
    "model_path = 'test.h5'\n",
    "netron.start(model_path, port, browse=False)\n",
    "#import IPython\n",
    "#IPython.display.IFrame(f\"http://localhost:{port}\", width=1000, height=1000)"
   ]
  },
  {
   "cell_type": "markdown",
   "id": "0cde384e",
   "metadata": {},
   "source": [
    "### Multi-Input / Multi-Output models\n",
    "\n",
    "With perhaps the exception of simple regression or toy classification problems, dl models don´t look like stacks of simple layers, usually they have branches, with different types of inputs which need preprocessing, and later on are joined together into the model flow as a pipeline"
   ]
  },
  {
   "cell_type": "code",
   "execution_count": 13,
   "id": "fc869945",
   "metadata": {
    "ExecuteTime": {
     "end_time": "2022-09-17T20:18:15.828118Z",
     "start_time": "2022-09-17T20:18:06.644914Z"
    }
   },
   "outputs": [
    {
     "name": "stdout",
     "output_type": "stream",
     "text": [
      "Epoch 1/5\n",
      "47/47 [==============================] - 2s 23ms/step - loss: 31.1600 - priority_loss: 0.3386 - department_loss: 30.8214 - priority_mean_absolute_error: 0.5030 - department_accuracy: 0.2413\n",
      "Epoch 2/5\n",
      "47/47 [==============================] - 1s 24ms/step - loss: 34.4515 - priority_loss: 0.3437 - department_loss: 34.1078 - priority_mean_absolute_error: 0.5085 - department_accuracy: 0.2400\n",
      "Epoch 3/5\n",
      "47/47 [==============================] - 1s 24ms/step - loss: 40.5947 - priority_loss: 0.3437 - department_loss: 40.2510 - priority_mean_absolute_error: 0.5085 - department_accuracy: 0.2780\n",
      "Epoch 4/5\n",
      "47/47 [==============================] - 1s 25ms/step - loss: 51.9198 - priority_loss: 0.3437 - department_loss: 51.5761 - priority_mean_absolute_error: 0.5085 - department_accuracy: 0.2447\n",
      "Epoch 5/5\n",
      "47/47 [==============================] - 1s 25ms/step - loss: 63.3318 - priority_loss: 0.3437 - department_loss: 62.9881 - priority_mean_absolute_error: 0.5085 - department_accuracy: 0.2453\n",
      "47/47 [==============================] - 1s 7ms/step - loss: 44.4984 - priority_loss: 0.3437 - department_loss: 44.1548 - priority_mean_absolute_error: 0.5085 - department_accuracy: 0.2573\n",
      "47/47 [==============================] - 1s 7ms/step\n"
     ]
    }
   ],
   "source": [
    "vocabulary_size = 10000\n",
    "n_tags = 100\n",
    "n_depts = 4\n",
    "\n",
    "# Define model inputs\n",
    "\n",
    "title = keras.Input(shape = (vocabulary_size,), name = 'title')\n",
    "text_body = keras.Input(shape = (vocabulary_size,), name = 'text_body')\n",
    "tags = keras.Input(shape = (n_tags,), name = 'tags')\n",
    "\n",
    "# Join input Features into a single tensor\n",
    "\n",
    "features = keras.layers.Concatenate()([title, text_body, tags])\n",
    "features = keras.layers.Dense(64, activation = 'relu')(features)\n",
    "\n",
    "# Define outputs\n",
    "\n",
    "priority = keras.layers.Dense(1, activation = 'sigmoid', name = 'priority')(features)\n",
    "department = keras.layers.Dense(n_depts, activation = 'softmax', name = 'department')(features)\n",
    "\n",
    "model_multi = keras.Model(inputs = [title, text_body, tags],\n",
    "                         outputs = [priority, department])\n",
    "\n",
    "# Training\n",
    "import numpy as np\n",
    "\n",
    "n_samples = 1500\n",
    "\n",
    "# Dummy input data\n",
    "title_data = np.random.randint(0, 2, size = (n_samples, vocabulary_size))\n",
    "text_data = np.random.randint(0, 2, size = (n_samples, vocabulary_size))\n",
    "tags_data = np.random.randint(0, 2, size = (n_samples, n_tags))\n",
    "\n",
    "# Output dummy\n",
    "prio_data = np.random.random(size = (n_samples, 1))\n",
    "dept_data = np.random.randint(0, 2, size = (n_samples, n_depts))\n",
    "\n",
    "model_multi.compile(optimizer = 'rmsprop',\n",
    "             loss = ['mean_squared_error', 'categorical_crossentropy'],\n",
    "             metrics = [['mean_absolute_error'], ['accuracy']])\n",
    "\n",
    "inputs = [title_data,text_data, tags_data]\n",
    "outputs = [prio_data, dept_data]\n",
    "\n",
    "# In this dummy example we do not split among train, validation and test sets as we should do\n",
    "\n",
    "model_multi.fit(inputs, outputs, epochs = 5, verbose = 1)\n",
    "model_multi.evaluate(inputs, outputs)\n",
    "\n",
    "priority_preds, department_preds = model_multi.predict([title_data, text_data, tags_data])\n"
   ]
  },
  {
   "cell_type": "code",
   "execution_count": 16,
   "id": "3326da10",
   "metadata": {
    "ExecuteTime": {
     "end_time": "2022-09-17T20:20:10.809573Z",
     "start_time": "2022-09-17T20:20:10.634161Z"
    }
   },
   "outputs": [
    {
     "name": "stdout",
     "output_type": "stream",
     "text": [
      "Serving' at http://localhost:8080\n"
     ]
    },
    {
     "data": {
      "text/plain": [
       "('localhost', 8080)"
      ]
     },
     "execution_count": 16,
     "metadata": {},
     "output_type": "execute_result"
    }
   ],
   "source": [
    "# You can visualize the model using Netron, later you can add the png into this notebook\n",
    "model_multi.save('multi.h5')\n",
    "port = 8088\n",
    "model_path = 'multi.h5'\n",
    "netron.start()"
   ]
  },
  {
   "cell_type": "code",
   "execution_count": 21,
   "id": "eccd9bec",
   "metadata": {
    "ExecuteTime": {
     "end_time": "2022-09-17T20:25:26.986075Z",
     "start_time": "2022-09-17T20:25:26.969909Z"
    },
    "scrolled": true
   },
   "outputs": [
    {
     "data": {
      "image/png": "[encoded data removed]",
      "text/plain": [
       "<IPython.core.display.Image object>"
      ]
     },
     "execution_count": 21,
     "metadata": {},
     "output_type": "execute_result"
    }
   ],
   "source": [
    "from IPython import display\n",
    "display.Image(\"multi.png\")"
   ]
  },
  {
   "cell_type": "code",
   "execution_count": 29,
   "id": "08629741",
   "metadata": {
    "ExecuteTime": {
     "end_time": "2022-09-18T16:39:31.914676Z",
     "start_time": "2022-09-18T16:39:27.964218Z"
    }
   },
   "outputs": [
    {
     "name": "stdout",
     "output_type": "stream",
     "text": [
      "47/47 [==============================] - 2s 24ms/step - loss: 87.1716 - priority_loss: 0.3437 - department_loss: 86.8280 - priority_mean_absolute_error: 0.5085 - department_accuracy: 0.2593\n",
      "47/47 [==============================] - 1s 7ms/step - loss: 94.2182 - priority_loss: 0.3437 - department_loss: 93.8745 - priority_mean_absolute_error: 0.5085 - department_accuracy: 0.1413\n",
      "47/47 [==============================] - 0s 7ms/step\n"
     ]
    }
   ],
   "source": [
    "# Training a model by providing dicts of input & target arrays\n",
    "model_multi.compile(optimizer=\"rmsprop\",\n",
    "              loss={\"priority\": \"mean_squared_error\", \"department\": \"categorical_crossentropy\"},\n",
    "              metrics={\"priority\": [\"mean_absolute_error\"], \"department\": [\"accuracy\"]})\n",
    "model_multi.fit({\"title\": title_data, \"text_body\": text_data, \"tags\": tags_data},\n",
    "          {\"priority\": prio_data, \"department\": dept_data},\n",
    "          epochs=1)\n",
    "model_multi.evaluate({\"title\": title_data, \"text_body\": text_data, \"tags\": tags_data},\n",
    "               {\"priority\": prio_data, \"department\": dept_data})\n",
    "priority_preds, department_preds = model_multi.predict(\n",
    "    {\"title\": title_data, \"text_body\": text_data, \"tags\": tags_data})"
   ]
  },
  {
   "cell_type": "markdown",
   "id": "475fd6d0",
   "metadata": {},
   "source": [
    "## The Subclassing API\n",
    "\n",
    "It is a low-level option where the user writes everything. Ideal for research if you want to control every part of the design, but without the Keras built-in features, more risk-prone and needs deep knowledge on how a deep learningframework works in order to identify bugs"
   ]
  },
  {
   "cell_type": "markdown",
   "id": "90955de7",
   "metadata": {},
   "source": [
    "When subclassing a Model in Keras do:\n",
    "- In the __init__() method, define the layers to use\n",
    "- In the call() method, defien the forward pass of the model, reusing the layers previously created.\n",
    "- Instantiate the subclass and call it on the data to create its weights"
   ]
  },
  {
   "cell_type": "code",
   "execution_count": 22,
   "id": "4a1a0dc6",
   "metadata": {
    "ExecuteTime": {
     "end_time": "2022-09-18T16:34:10.736781Z",
     "start_time": "2022-09-18T16:34:10.724620Z"
    }
   },
   "outputs": [],
   "source": [
    "class CustomerTicketModel(keras.Model):\n",
    "    def __init__(self, n_depts):\n",
    "        \n",
    "        super().__init__()\n",
    "        self.concat_layer = layers.Concatenate()\n",
    "        self.features_layer_mix = layers.Dense(64, activation = 'relu', name = 'mix_layer')\n",
    "        self.priority_scorer = layers.Dense(1, activation = 'sigmoid', name = 'priority')\n",
    "        self.dept_classifier = layers.Dense(n_depts, activation = 'softmax', name = 'dept_class')\n",
    "    \n",
    "    def call(self, inputs):\n",
    "        \n",
    "        title = inputs['title']\n",
    "        text_body = inputs['text_body']\n",
    "        tags = inputs['tags']\n",
    "        \n",
    "        features = self.concat_layer([title, text_body, tags])\n",
    "        features = self.features_layer_mix(features)\n",
    "        priority = self.priority_scorer(features)\n",
    "        department = self.dept_classifier(features)\n",
    "        return priority, department"
   ]
  },
  {
   "cell_type": "code",
   "execution_count": 24,
   "id": "3f780b4c",
   "metadata": {
    "ExecuteTime": {
     "end_time": "2022-09-18T16:36:14.790203Z",
     "start_time": "2022-09-18T16:36:14.584611Z"
    }
   },
   "outputs": [],
   "source": [
    "# Instantiate\n",
    "\n",
    "model_subclassed = CustomerTicketModel(n_depts = 4)\n",
    "priority, department = model_subclassed( {\"title\": title_data, \"text_body\": text_data, \"tags\": tags_data})"
   ]
  },
  {
   "cell_type": "code",
   "execution_count": 32,
   "id": "776ce1eb",
   "metadata": {
    "ExecuteTime": {
     "end_time": "2022-09-18T16:41:35.189782Z",
     "start_time": "2022-09-18T16:41:31.248901Z"
    }
   },
   "outputs": [
    {
     "name": "stdout",
     "output_type": "stream",
     "text": [
      "47/47 [==============================] - 2s 24ms/step - loss: 32.8649 - output_1_loss: 0.3437 - output_2_loss: 32.5212 - output_1_mean_absolute_error: 0.5085 - output_2_accuracy: 0.2560\n",
      "47/47 [==============================] - 1s 7ms/step - loss: 45.4309 - output_1_loss: 0.3437 - output_2_loss: 45.0872 - output_1_mean_absolute_error: 0.5085 - output_2_accuracy: 0.2573\n",
      "47/47 [==============================] - 0s 7ms/step\n"
     ]
    }
   ],
   "source": [
    "# Compile and train like in the Sequential of Functional model\n",
    "\n",
    "model_subclassed.compile(optimizer=\"rmsprop\",\n",
    "              loss=[\"mean_squared_error\", \"categorical_crossentropy\"],\n",
    "              metrics=[[\"mean_absolute_error\"], [\"accuracy\"]])\n",
    "model_subclassed.fit({\"title\": title_data,\n",
    "           \"text_body\": text_data,\n",
    "           \"tags\": tags_data},\n",
    "          [prio_data, dept_data],\n",
    "          epochs=1)\n",
    "model_subclassed.evaluate({\"title\": title_data,\n",
    "                \"text_body\": text_data,\n",
    "                \"tags\": tags_data},\n",
    "               [prio_data, dept_data])\n",
    "priority_preds, department_preds = model_subclassed.predict({\"title\": title_data,\n",
    "                                                  \"text_body\": text_data,\n",
    "                                                  \"tags\": tags_data})"
   ]
  },
  {
   "cell_type": "markdown",
   "id": "58d20696",
   "metadata": {},
   "source": [
    "<b> In general using Functional Models that include subclassed layers, provides the best of both worlds: high development flexibility while retaining the advantages of the Functional API."
   ]
  },
  {
   "cell_type": "code",
   "execution_count": 38,
   "id": "2eeb00da",
   "metadata": {
    "ExecuteTime": {
     "end_time": "2022-09-18T16:54:33.495303Z",
     "start_time": "2022-09-18T16:54:33.418633Z"
    }
   },
   "outputs": [],
   "source": [
    "# Example a Functional Model that includes a subclassed model\n",
    "\n",
    "class Classifier(keras.Model):\n",
    "    # A Class to create the final output layer for classification\n",
    "    \n",
    "    def __init__(self, num_classes = 2):\n",
    "        super().__init__()\n",
    "        if (num_classes == 2):\n",
    "            n_units = 1\n",
    "            activation = 'sigmoid'\n",
    "        else:\n",
    "            n_units = num_classes\n",
    "            activation = 'softmax'\n",
    "        self.dense = layers.Dense(n_units, activation = activation)\n",
    "    \n",
    "    def call(self, inputs):\n",
    "        return self.dense(inputs)\n",
    "\n",
    "inputs = keras.Input(shape = (3,))\n",
    "features = layers.Dense(64, activation = 'relu')(inputs)\n",
    "outputs = Classifier(num_classes = 10)(features)\n",
    "\n",
    "model_hybrid = keras.Model(inputs = inputs, outputs = outputs)"
   ]
  },
  {
   "cell_type": "code",
   "execution_count": null,
   "id": "c7736bb9",
   "metadata": {},
   "outputs": [],
   "source": []
  }
 ],
 "metadata": {
  "kernelspec": {
   "display_name": "Python 3 (ipykernel)",
   "language": "python",
   "name": "python3"
  },
  "language_info": {
   "codemirror_mode": {
    "name": "ipython",
    "version": 3
   },
   "file_extension": ".py",
   "mimetype": "text/x-python",
   "name": "python",
   "nbconvert_exporter": "python",
   "pygments_lexer": "ipython3",
   "version": "3.8.6"
  },
  "toc": {
   "base_numbering": 1,
   "nav_menu": {},
   "number_sections": true,
   "sideBar": true,
   "skip_h1_title": false,
   "title_cell": "Table of Contents",
   "title_sidebar": "Contents",
   "toc_cell": false,
   "toc_position": {},
   "toc_section_display": true,
   "toc_window_display": false
  },
  "varInspector": {
   "cols": {
    "lenName": 16,
    "lenType": 16,
    "lenVar": 40
   },
   "kernels_config": {
    "python": {
     "delete_cmd_postfix": "",
     "delete_cmd_prefix": "del ",
     "library": "var_list.py",
     "varRefreshCmd": "print(var_dic_list())"
    },
    "r": {
     "delete_cmd_postfix": ") ",
     "delete_cmd_prefix": "rm(",
     "library": "var_list.r",
     "varRefreshCmd": "cat(var_dic_list()) "
    }
   },
   "types_to_exclude": [
    "module",
    "function",
    "builtin_function_or_method",
    "instance",
    "_Feature"
   ],
   "window_display": false
  }
 },
 "nbformat": 4,
 "nbformat_minor": 5
}
