{
 "cells": [
  {
   "cell_type": "code",
   "execution_count": 78,
   "id": "e3cc440d",
   "metadata": {
    "ExecuteTime": {
     "end_time": "2022-09-03T06:40:15.851285Z",
     "start_time": "2022-09-03T06:40:15.315878Z"
    }
   },
   "outputs": [],
   "source": [
    "\n",
    "# Standard mathematical functions\n",
    "import math  \n",
    "# Operating system  functions\n",
    "import os, sys, glob, json, time, copy\n",
    "from pathlib import Path\n",
    "\n",
    "import tarfile\n",
    "import urllib.request\n",
    "\n",
    "import numpy as np \n",
    "import pandas as pd\n",
    "\n",
    "pd.set_option(\"display.max_columns\", 200)\n",
    "from fastparquet import ParquetFile\n",
    "# To plot pretty figures\n",
    "%matplotlib inline\n",
    "import matplotlib as mpl\n",
    "import matplotlib.pyplot as plt\n",
    "mpl.rc('axes', labelsize=14)\n",
    "mpl.rc('xtick', labelsize=12)\n",
    "mpl.rc('ytick', labelsize=12)\n",
    "\n",
    "from mlxtend.plotting import scatterplotmatrix\n",
    "import seaborn as sns\n",
    "\n",
    "# Plotly\n",
    "from plotly.offline import download_plotlyjs, init_notebook_mode, plot, iplot\n",
    "import plotly.figure_factory as ff\n",
    "\n",
    "pd.options.display.max_columns = None\n",
    "from plotly.subplots import make_subplots\n",
    "import plotly.graph_objects as go\n",
    "pd.options.plotting.backend = \"plotly\"\n",
    "from IPython.display import display,HTML\n",
    "import plotly.express as px\n",
    "\n",
    "## ML Libraries\n",
    "import tensorflow as tf\n",
    "from tensorflow import keras\n",
    "from tensorflow.keras import models\n",
    "from keras.layers import Dense\n",
    "from tensorflow.keras import layers\n",
    "from sklearn.model_selection import RepeatedKFold\n",
    "from sklearn.model_selection import train_test_split\n",
    "import keras.backend as K\n",
    "\n",
    "from sklearn.preprocessing import KBinsDiscretizer\n",
    "from sklearn.compose import ColumnTransformer\n",
    "from sklearn.pipeline import make_pipeline, Pipeline\n",
    "from sklearn.preprocessing import StandardScaler"
   ]
  },
  {
   "cell_type": "code",
   "execution_count": 123,
   "id": "02bc8e6e",
   "metadata": {
    "ExecuteTime": {
     "end_time": "2022-09-07T09:09:08.938148Z",
     "start_time": "2022-09-07T09:09:08.510809Z"
    }
   },
   "outputs": [
    {
     "data": {
      "text/html": [
       "<div>\n",
       "<style scoped>\n",
       "    .dataframe tbody tr th:only-of-type {\n",
       "        vertical-align: middle;\n",
       "    }\n",
       "\n",
       "    .dataframe tbody tr th {\n",
       "        vertical-align: top;\n",
       "    }\n",
       "\n",
       "    .dataframe thead th {\n",
       "        text-align: right;\n",
       "    }\n",
       "</style>\n",
       "<table border=\"1\" class=\"dataframe\">\n",
       "  <thead>\n",
       "    <tr style=\"text-align: right;\">\n",
       "      <th></th>\n",
       "      <th>Alt[ft]</th>\n",
       "      <th>Mach</th>\n",
       "      <th>RPM</th>\n",
       "      <th>Tamb</th>\n",
       "      <th>Pamb[Pa]</th>\n",
       "      <th>SFC[kg/Ns]</th>\n",
       "      <th>FN[N]</th>\n",
       "      <th>WH2[g/s]</th>\n",
       "      <th>Pt3[Pa]</th>\n",
       "      <th>Nozzle_Tt8[K]</th>\n",
       "    </tr>\n",
       "  </thead>\n",
       "  <tbody>\n",
       "    <tr>\n",
       "      <th>count</th>\n",
       "      <td>1980.000000</td>\n",
       "      <td>1980.000000</td>\n",
       "      <td>1980.000000</td>\n",
       "      <td>1980.000000</td>\n",
       "      <td>1980.000000</td>\n",
       "      <td>1980.000000</td>\n",
       "      <td>1980.000000</td>\n",
       "      <td>1980.000000</td>\n",
       "      <td>1980.000000</td>\n",
       "      <td>1980.000000</td>\n",
       "    </tr>\n",
       "    <tr>\n",
       "      <th>mean</th>\n",
       "      <td>16400.000000</td>\n",
       "      <td>0.400000</td>\n",
       "      <td>0.860560</td>\n",
       "      <td>255.589050</td>\n",
       "      <td>57953.045353</td>\n",
       "      <td>0.000012</td>\n",
       "      <td>338.992599</td>\n",
       "      <td>3.705640</td>\n",
       "      <td>297504.982199</td>\n",
       "      <td>694.701007</td>\n",
       "    </tr>\n",
       "    <tr>\n",
       "      <th>std</th>\n",
       "      <td>10374.890978</td>\n",
       "      <td>0.258264</td>\n",
       "      <td>0.123054</td>\n",
       "      <td>20.598555</td>\n",
       "      <td>23700.593137</td>\n",
       "      <td>0.000005</td>\n",
       "      <td>207.492350</td>\n",
       "      <td>2.112164</td>\n",
       "      <td>141254.868152</td>\n",
       "      <td>112.738121</td>\n",
       "    </tr>\n",
       "    <tr>\n",
       "      <th>min</th>\n",
       "      <td>0.000000</td>\n",
       "      <td>0.000000</td>\n",
       "      <td>0.370238</td>\n",
       "      <td>223.028100</td>\n",
       "      <td>26436.233513</td>\n",
       "      <td>0.000008</td>\n",
       "      <td>20.584683</td>\n",
       "      <td>0.433902</td>\n",
       "      <td>40881.858686</td>\n",
       "      <td>439.762979</td>\n",
       "    </tr>\n",
       "    <tr>\n",
       "      <th>25%</th>\n",
       "      <td>6560.000000</td>\n",
       "      <td>0.200000</td>\n",
       "      <td>0.798044</td>\n",
       "      <td>236.052480</td>\n",
       "      <td>35599.775931</td>\n",
       "      <td>0.000010</td>\n",
       "      <td>171.723603</td>\n",
       "      <td>2.019397</td>\n",
       "      <td>191519.734525</td>\n",
       "      <td>600.666697</td>\n",
       "    </tr>\n",
       "    <tr>\n",
       "      <th>50%</th>\n",
       "      <td>16400.000000</td>\n",
       "      <td>0.400000</td>\n",
       "      <td>0.892349</td>\n",
       "      <td>255.589050</td>\n",
       "      <td>54019.880008</td>\n",
       "      <td>0.000011</td>\n",
       "      <td>323.710583</td>\n",
       "      <td>3.372669</td>\n",
       "      <td>270887.647735</td>\n",
       "      <td>687.639830</td>\n",
       "    </tr>\n",
       "    <tr>\n",
       "      <th>75%</th>\n",
       "      <td>26240.000000</td>\n",
       "      <td>0.600000</td>\n",
       "      <td>0.960524</td>\n",
       "      <td>275.125620</td>\n",
       "      <td>79495.197435</td>\n",
       "      <td>0.000012</td>\n",
       "      <td>480.351208</td>\n",
       "      <td>4.997470</td>\n",
       "      <td>385656.691033</td>\n",
       "      <td>803.527439</td>\n",
       "    </tr>\n",
       "    <tr>\n",
       "      <th>max</th>\n",
       "      <td>32800.000000</td>\n",
       "      <td>0.800000</td>\n",
       "      <td>1.005003</td>\n",
       "      <td>288.150000</td>\n",
       "      <td>101325.000000</td>\n",
       "      <td>0.000049</td>\n",
       "      <td>950.804945</td>\n",
       "      <td>10.612773</td>\n",
       "      <td>765939.198725</td>\n",
       "      <td>987.818530</td>\n",
       "    </tr>\n",
       "  </tbody>\n",
       "</table>\n",
       "</div>"
      ],
      "text/plain": [
       "            Alt[ft]         Mach          RPM         Tamb       Pamb[Pa]  \\\n",
       "count   1980.000000  1980.000000  1980.000000  1980.000000    1980.000000   \n",
       "mean   16400.000000     0.400000     0.860560   255.589050   57953.045353   \n",
       "std    10374.890978     0.258264     0.123054    20.598555   23700.593137   \n",
       "min        0.000000     0.000000     0.370238   223.028100   26436.233513   \n",
       "25%     6560.000000     0.200000     0.798044   236.052480   35599.775931   \n",
       "50%    16400.000000     0.400000     0.892349   255.589050   54019.880008   \n",
       "75%    26240.000000     0.600000     0.960524   275.125620   79495.197435   \n",
       "max    32800.000000     0.800000     1.005003   288.150000  101325.000000   \n",
       "\n",
       "        SFC[kg/Ns]        FN[N]     WH2[g/s]        Pt3[Pa]  Nozzle_Tt8[K]  \n",
       "count  1980.000000  1980.000000  1980.000000    1980.000000    1980.000000  \n",
       "mean      0.000012   338.992599     3.705640  297504.982199     694.701007  \n",
       "std       0.000005   207.492350     2.112164  141254.868152     112.738121  \n",
       "min       0.000008    20.584683     0.433902   40881.858686     439.762979  \n",
       "25%       0.000010   171.723603     2.019397  191519.734525     600.666697  \n",
       "50%       0.000011   323.710583     3.372669  270887.647735     687.639830  \n",
       "75%       0.000012   480.351208     4.997470  385656.691033     803.527439  \n",
       "max       0.000049   950.804945    10.612773  765939.198725     987.818530  "
      ]
     },
     "execution_count": 123,
     "metadata": {},
     "output_type": "execute_result"
    }
   ],
   "source": [
    "testml = pd.read_parquet('../data/AnalysisDF4_MLmodels.parquet')\n",
    "# Drop columns without relevant information or duplicated like WH2[kg/s] is similar to WH2[g/s]\n",
    "testml = testml.drop(columns = ['A0_Streamtube_m2','D0_Streamtube_m', 'WH2[kg/s]'])\n",
    "dataset = testml[['Alt[ft]','Mach','RPM',\"Tamb\",'Pamb[Pa]','SFC[kg/Ns]','FN[N]','WH2[g/s]','Pt3[Pa]','Nozzle_Tt8[K]']]\n",
    "dataset.describe()"
   ]
  },
  {
   "cell_type": "code",
   "execution_count": 124,
   "id": "c7aacb9f",
   "metadata": {
    "ExecuteTime": {
     "end_time": "2022-09-07T09:09:24.563641Z",
     "start_time": "2022-09-07T09:09:24.531602Z"
    }
   },
   "outputs": [
    {
     "data": {
      "text/plain": [
       "Alt[ft]            11\n",
       "Mach                9\n",
       "RPM              1980\n",
       "Tamb               11\n",
       "Pamb[Pa]           11\n",
       "SFC[kg/Ns]       1980\n",
       "FN[N]            1980\n",
       "WH2[g/s]         1980\n",
       "Pt3[Pa]          1980\n",
       "Nozzle_Tt8[K]    1980\n",
       "dtype: int64"
      ]
     },
     "execution_count": 124,
     "metadata": {},
     "output_type": "execute_result"
    }
   ],
   "source": [
    "dataset.nunique() "
   ]
  },
  {
   "cell_type": "code",
   "execution_count": 2,
   "id": "e71670fc",
   "metadata": {
    "ExecuteTime": {
     "end_time": "2022-09-08T17:59:27.725351Z",
     "start_time": "2022-09-08T17:59:27.696946Z"
    }
   },
   "outputs": [],
   "source": [
    "# In order to fine tune the model we need to wrap our Keras model in objects\n",
    "# that mimic Scikit-Learn regressors\n",
    "\n",
    "# get the model\n",
    "def build_model(n_inputs, n_outputs, hidden_layer_sizes = 2, n_neurons = 128, lr = 1e-3,name = 'test'):\n",
    "    \n",
    "    model = keras.Sequential(name = name)\n",
    "    model.add(keras.layers.InputLayer(input_shape = n_inputs))\n",
    "    for layer in range(hidden_layer_sizes):\n",
    "        model.add(keras.layers.Dense(n_neurons, activation = 'relu'))\n",
    "    # Output Layer\n",
    "    model.add(Dense(n_outputs))\n",
    "    optim = keras.optimizers.Adam(learning_rate = lr)\n",
    "    model.compile(loss='mse', \n",
    "                  optimizer= optim, \n",
    "                  metrics =[tf.keras.metrics.MeanSquaredError()])\n",
    "    return model\n",
    "\n",
    "\n",
    "def evaluate_model(X, y):\n",
    "    results = []\n",
    "    n_inputs, n_outputs = X.shape[1], y.shape[1]\n",
    "    # define evaluation procedure\n",
    "    cv = RepeatedKFold(n_splits=10, n_repeats=3, random_state=1)\n",
    "    # enumerate folds\n",
    "    for train_ix, test_ix in cv.split(X):\n",
    "        # prepare data\n",
    "        X_train, X_test = X[train_ix], X[test_ix]\n",
    "        y_train, y_test = y[train_ix], y[test_ix]\n",
    "        # define model\n",
    "        model = build_model(n_inputs, n_outputs,hidden_layer_sizes = 2, n_neurons = 128, lr = 1e-3,name = 'test')\n",
    "        # fit model\n",
    "        model.fit(X_train, y_train, verbose=0, epochs=100)\n",
    "        # evaluate model on test set\n",
    "        mse_history = model.evaluate(X_test, y_test, verbose=0)\n",
    "        # store result\n",
    "        #print(mse_history[0])\n",
    "        results.append(mse_history[0])\n",
    "    return results"
   ]
  },
  {
   "cell_type": "code",
   "execution_count": 128,
   "id": "b1b10728",
   "metadata": {
    "ExecuteTime": {
     "end_time": "2022-09-07T09:45:04.237391Z",
     "start_time": "2022-09-07T09:32:21.123638Z"
    }
   },
   "outputs": [
    {
     "name": "stdout",
     "output_type": "stream",
     "text": [
      "(1980, 7) (1980, 4)\n",
      "min loss 0.013097390532493591\n",
      "train min mse 0.013097390532493591\n",
      "9/9 [==============================] - 0s 2ms/step - loss: 0.0154 - mean_squared_error: 0.0154\n",
      "train mse 0.013097390532493591/ validation mse 0.015410076826810837\n",
      "min loss 0.004860274493694305\n",
      "train min mse 0.004860274493694305\n",
      "9/9 [==============================] - 0s 1ms/step - loss: 0.0065 - mean_squared_error: 0.0065\n",
      "train mse 0.004860274493694305/ validation mse 0.006454497575759888\n",
      "min loss 0.005517732352018356\n",
      "train min mse 0.005517732352018356\n",
      "9/9 [==============================] - 0s 1ms/step - loss: 0.0083 - mean_squared_error: 0.0083\n",
      "train mse 0.005517732352018356/ validation mse 0.008302411995828152\n",
      "min loss 0.0022080340422689915\n",
      "train min mse 0.0022080340422689915\n",
      "9/9 [==============================] - 0s 1ms/step - loss: 0.0030 - mean_squared_error: 0.0030\n",
      "train mse 0.0022080340422689915/ validation mse 0.003021436743438244\n",
      "min loss 0.0013310657814145088\n",
      "train min mse 0.0013310657814145088\n",
      "9/9 [==============================] - 0s 997us/step - loss: 0.0022 - mean_squared_error: 0.0022  \n",
      "train mse 0.0013310657814145088/ validation mse 0.002209750469774008\n",
      "min loss 0.0016993398312479258\n",
      "train min mse 0.0016993398312479258\n",
      "9/9 [==============================] - 0s 1ms/step - loss: 0.0029 - mean_squared_error: 0.0029\n",
      "train mse 0.0016993398312479258/ validation mse 0.0029200694989413023\n",
      "min loss 0.001246598083525896\n",
      "train min mse 0.001246598083525896\n",
      "9/9 [==============================] - 0s 1ms/step - loss: 0.0024 - mean_squared_error: 0.0024    \n",
      "train mse 0.001246598083525896/ validation mse 0.0023833250161260366\n",
      "min loss 0.001110048033297062\n",
      "train min mse 0.001110048033297062\n",
      "9/9 [==============================] - 0s 1ms/step - loss: 0.0019 - mean_squared_error: 0.0019    \n",
      "train mse 0.001110048033297062/ validation mse 0.0019128200365230441\n",
      "min loss 0.007480985950678587\n",
      "train min mse 0.007480985950678587\n",
      "9/9 [==============================] - 0s 1ms/step - loss: 0.0100 - mean_squared_error: 0.0100\n",
      "train mse 0.007480985950678587/ validation mse 0.010047131218016148\n",
      "min loss 0.0022410135716199875\n",
      "train min mse 0.0022410135716199875\n",
      "9/9 [==============================] - 0s 1ms/step - loss: 0.0029 - mean_squared_error: 0.0029\n",
      "train mse 0.0022410135716199875/ validation mse 0.0028712779749184847\n",
      "min loss 0.0009782902197912335\n",
      "train min mse 0.0009782902197912335\n",
      "9/9 [==============================] - 0s 1ms/step - loss: 0.0012 - mean_squared_error: 0.0012    \n",
      "train mse 0.0009782902197912335/ validation mse 0.0012493946123868227\n",
      "min loss 0.0006815647357143462\n",
      "train min mse 0.0006815647357143462\n",
      "9/9 [==============================] - 0s 997us/step - loss: 7.3593e-04 - mean_squared_error: 7.3593e-04\n",
      "train mse 0.0006815647357143462/ validation mse 0.00073592783883214\n",
      "min loss 0.0006602139328606427\n",
      "train min mse 0.0006602139328606427\n",
      "9/9 [==============================] - 0s 1ms/step - loss: 8.7609e-04 - mean_squared_error: 8.7609e-04\n",
      "train mse 0.0006602139328606427/ validation mse 0.0008760856580920517\n",
      "min loss 0.000340549013344571\n",
      "train min mse 0.000340549013344571\n",
      "9/9 [==============================] - 0s 1ms/step - loss: 5.3100e-04 - mean_squared_error: 5.3100e-04\n",
      "train mse 0.000340549013344571/ validation mse 0.0005310034612193704\n",
      "min loss 0.00033474116935394704\n",
      "train min mse 0.00033474116935394704\n",
      "9/9 [==============================] - 0s 1ms/step - loss: 4.5677e-04 - mean_squared_error: 4.5677e-04\n",
      "train mse 0.00033474116935394704/ validation mse 0.00045677059097215533\n",
      "min loss 0.00019594670447986573\n",
      "train min mse 0.00019594670447986573\n",
      "9/9 [==============================] - 0s 1ms/step - loss: 2.5276e-04 - mean_squared_error: 2.5276e-04\n",
      "train mse 0.00019594670447986573/ validation mse 0.00025275893858633935\n",
      "min loss 0.006734412629157305\n",
      "train min mse 0.006734412629157305\n",
      "9/9 [==============================] - 0s 993us/step - loss: 0.0071 - mean_squared_error: 0.0071\n",
      "train mse 0.006734412629157305/ validation mse 0.007135523017495871\n",
      "min loss 0.0011025427374988794\n",
      "train min mse 0.0011025427374988794\n",
      "9/9 [==============================] - 0s 1ms/step - loss: 0.0011 - mean_squared_error: 0.0011\n",
      "train mse 0.0011025427374988794/ validation mse 0.001098030828870833\n",
      "min loss 0.0005227242363616824\n",
      "train min mse 0.0005227242363616824\n",
      "9/9 [==============================] - 0s 1ms/step - loss: 4.8812e-04 - mean_squared_error: 4.8812e-04\n",
      "train mse 0.0005227242363616824/ validation mse 0.0004881198692601174\n",
      "min loss 0.0003936078865081072\n",
      "train min mse 0.0003936078865081072\n",
      "9/9 [==============================] - 0s 1ms/step - loss: 3.0658e-04 - mean_squared_error: 3.0658e-04\n",
      "train mse 0.0003936078865081072/ validation mse 0.0003065844939555973\n",
      "min loss 0.00027279547066427767\n",
      "train min mse 0.00027279547066427767\n",
      "9/9 [==============================] - 0s 997us/step - loss: 3.4071e-04 - mean_squared_error: 3.4071e-04\n",
      "train mse 0.00027279547066427767/ validation mse 0.0003407067561056465\n",
      "min loss 0.00028156096232123673\n",
      "train min mse 0.00028156096232123673\n",
      "9/9 [==============================] - 0s 1ms/step - loss: 8.9126e-04 - mean_squared_error: 8.9126e-04\n",
      "train mse 0.00028156096232123673/ validation mse 0.0008912602788768709\n",
      "min loss 0.00019858033920172602\n",
      "train min mse 0.00019858033920172602\n",
      "9/9 [==============================] - 0s 1ms/step - loss: 2.8233e-04 - mean_squared_error: 2.8233e-04\n",
      "train mse 0.00019858033920172602/ validation mse 0.00028232656768523157\n",
      "min loss 0.0001765245251590386\n",
      "train min mse 0.0001765245251590386\n",
      "9/9 [==============================] - 0s 1ms/step - loss: 0.0011 - mean_squared_error: 0.0011\n",
      "train mse 0.0001765245251590386/ validation mse 0.0011215416016057134\n",
      "(1980, 9) (1980, 4)\n",
      "min loss 0.014815829694271088\n",
      "train min mse 0.014815829694271088\n",
      "9/9 [==============================] - 0s 1ms/step - loss: 0.0188 - mean_squared_error: 0.0188\n",
      "train mse 0.014815829694271088/ validation mse 0.018781939521431923\n",
      "min loss 0.004426027648150921\n",
      "train min mse 0.004426027648150921\n",
      "9/9 [==============================] - 0s 1ms/step - loss: 0.0057 - mean_squared_error: 0.0057\n",
      "train mse 0.004426027648150921/ validation mse 0.005704141221940517\n",
      "min loss 0.0035076639614999294\n",
      "train min mse 0.0035076639614999294\n",
      "9/9 [==============================] - 0s 1ms/step - loss: 0.0043 - mean_squared_error: 0.0043\n",
      "train mse 0.0035076639614999294/ validation mse 0.0042635356076061726\n",
      "min loss 0.0034775282256305218\n",
      "train min mse 0.0034775282256305218\n",
      "9/9 [==============================] - 0s 1ms/step - loss: 0.0049 - mean_squared_error: 0.0049\n",
      "train mse 0.0034775282256305218/ validation mse 0.004880968015640974\n",
      "min loss 0.001872131833806634\n",
      "train min mse 0.001872131833806634\n",
      "9/9 [==============================] - 0s 1ms/step - loss: 0.0024 - mean_squared_error: 0.0024\n",
      "train mse 0.001872131833806634/ validation mse 0.002414502901956439\n",
      "min loss 0.0011915735667571425\n",
      "train min mse 0.0011915735667571425\n",
      "9/9 [==============================] - 0s 1ms/step - loss: 0.0015 - mean_squared_error: 0.0015    \n",
      "train mse 0.0011915735667571425/ validation mse 0.0014915012288838625\n",
      "min loss 0.0012838203692808747\n",
      "train min mse 0.0012838203692808747\n",
      "9/9 [==============================] - 0s 2ms/step - loss: 0.0016 - mean_squared_error: 0.0016\n",
      "train mse 0.0012838203692808747/ validation mse 0.0016286560567095876\n",
      "min loss 0.0008894030470401049\n",
      "train min mse 0.0008894030470401049\n",
      "9/9 [==============================] - 0s 2ms/step - loss: 0.0013 - mean_squared_error: 0.0013    \n",
      "train mse 0.0008894030470401049/ validation mse 0.0012624170631170273\n",
      "min loss 0.008808371610939503\n",
      "train min mse 0.008808371610939503\n",
      "9/9 [==============================] - 0s 1ms/step - loss: 0.0107 - mean_squared_error: 0.0107\n",
      "train mse 0.008808371610939503/ validation mse 0.010684686712920666\n",
      "min loss 0.0018995088757947087\n",
      "train min mse 0.0018995088757947087\n",
      "9/9 [==============================] - 0s 2ms/step - loss: 0.0020 - mean_squared_error: 0.0020\n",
      "train mse 0.0018995088757947087/ validation mse 0.001976963598281145\n",
      "min loss 0.0010629631578922272\n",
      "train min mse 0.0010629631578922272\n",
      "9/9 [==============================] - 0s 1ms/step - loss: 0.0013 - mean_squared_error: 0.0013    \n",
      "train mse 0.0010629631578922272/ validation mse 0.0012782596750184894\n"
     ]
    },
    {
     "name": "stdout",
     "output_type": "stream",
     "text": [
      "min loss 0.0008634469122625887\n",
      "train min mse 0.0008634469122625887\n",
      "9/9 [==============================] - 0s 1ms/step - loss: 7.2487e-04 - mean_squared_error: 7.2487e-04\n",
      "train mse 0.0008634469122625887/ validation mse 0.0007248672773130238\n",
      "min loss 0.00046882868628017604\n",
      "train min mse 0.00046882868628017604\n",
      "9/9 [==============================] - 0s 1ms/step - loss: 5.0154e-04 - mean_squared_error: 5.0154e-04\n",
      "train mse 0.00046882868628017604/ validation mse 0.0005015396163798869\n",
      "min loss 0.0003715981438290328\n",
      "train min mse 0.0003715981438290328\n",
      "9/9 [==============================] - 0s 2ms/step - loss: 4.8183e-04 - mean_squared_error: 4.8183e-04\n",
      "train mse 0.0003715981438290328/ validation mse 0.00048183463513851166\n",
      "min loss 0.0002883403794839978\n",
      "train min mse 0.0002883403794839978\n",
      "9/9 [==============================] - 0s 997us/step - loss: 3.0484e-04 - mean_squared_error: 3.0484e-04\n",
      "train mse 0.0002883403794839978/ validation mse 0.0003048373619094491\n",
      "min loss 0.0002354237949475646\n",
      "train min mse 0.0002354237949475646\n",
      "9/9 [==============================] - 0s 997us/step - loss: 3.6582e-04 - mean_squared_error: 3.6582e-04\n",
      "train mse 0.0002354237949475646/ validation mse 0.0003658209752757102\n",
      "min loss 0.007484918925911188\n",
      "train min mse 0.007484918925911188\n",
      "9/9 [==============================] - 0s 1000us/step - loss: 0.0108 - mean_squared_error: 0.0108\n",
      "train mse 0.007484918925911188/ validation mse 0.010829240083694458\n",
      "min loss 0.00218829489313066\n",
      "train min mse 0.00218829489313066\n",
      "9/9 [==============================] - 0s 1ms/step - loss: 0.0034 - mean_squared_error: 0.0034\n",
      "train mse 0.00218829489313066/ validation mse 0.0033696189057081938\n",
      "min loss 0.0009062619647011161\n",
      "train min mse 0.0009062619647011161\n",
      "9/9 [==============================] - 1s 997us/step - loss: 9.4173e-04 - mean_squared_error: 9.4173e-04\n",
      "train mse 0.0009062619647011161/ validation mse 0.0009417308610863984\n",
      "min loss 0.00044782040640711784\n",
      "train min mse 0.00044782040640711784\n",
      "9/9 [==============================] - 0s 872us/step - loss: 4.4365e-04 - mean_squared_error: 4.4365e-04\n",
      "train mse 0.00044782040640711784/ validation mse 0.000443653465481475\n",
      "min loss 0.00044181925477460027\n",
      "train min mse 0.00044181925477460027\n",
      "9/9 [==============================] - 0s 998us/step - loss: 4.6527e-04 - mean_squared_error: 4.6527e-04\n",
      "train mse 0.00044181925477460027/ validation mse 0.00046526940423063934\n",
      "min loss 0.00027500721625983715\n",
      "train min mse 0.00027500721625983715\n",
      "9/9 [==============================] - 0s 1ms/step - loss: 1.9879e-04 - mean_squared_error: 1.9879e-04\n",
      "train mse 0.00027500721625983715/ validation mse 0.00019878728198818862\n",
      "min loss 0.00023166595201473683\n",
      "train min mse 0.00023166595201473683\n",
      "9/9 [==============================] - 0s 997us/step - loss: 3.7809e-04 - mean_squared_error: 3.7809e-04\n",
      "train mse 0.00023166595201473683/ validation mse 0.0003780870756600052\n",
      "min loss 0.00019931100541725755\n",
      "train min mse 0.00019931100541725755\n",
      "9/9 [==============================] - 0s 997us/step - loss: 0.0041 - mean_squared_error: 0.0041\n",
      "train mse 0.00019931100541725755/ validation mse 0.004084629472345114\n",
      "(1980, 11) (1980, 4)\n",
      "min loss 0.008407016284763813\n",
      "train min mse 0.008407016284763813\n",
      "9/9 [==============================] - 0s 954us/step - loss: 0.0115 - mean_squared_error: 0.0115\n",
      "train mse 0.008407016284763813/ validation mse 0.011486079543828964\n",
      "min loss 0.006345728412270546\n",
      "train min mse 0.006345728412270546\n",
      "9/9 [==============================] - 0s 2ms/step - loss: 0.0086 - mean_squared_error: 0.0086\n",
      "train mse 0.006345728412270546/ validation mse 0.008609426207840443\n",
      "min loss 0.005359525326639414\n",
      "train min mse 0.005359525326639414\n",
      "9/9 [==============================] - 0s 1ms/step - loss: 0.0077 - mean_squared_error: 0.0077\n",
      "train mse 0.005359525326639414/ validation mse 0.007655534893274307\n",
      "min loss 0.003002565586939454\n",
      "train min mse 0.003002565586939454\n",
      "9/9 [==============================] - 0s 1ms/step - loss: 0.0040 - mean_squared_error: 0.0040\n",
      "train mse 0.003002565586939454/ validation mse 0.004012811463326216\n",
      "min loss 0.0018441521096974611\n",
      "train min mse 0.0018441521096974611\n",
      "9/9 [==============================] - 0s 1ms/step - loss: 0.0027 - mean_squared_error: 0.0027\n",
      "train mse 0.0018441521096974611/ validation mse 0.0027017490938305855\n",
      "min loss 0.0016092559089884162\n",
      "train min mse 0.0016092559089884162\n",
      "9/9 [==============================] - 0s 3ms/step - loss: 0.0024 - mean_squared_error: 0.0024\n",
      "train mse 0.0016092559089884162/ validation mse 0.0024018692784011364\n",
      "min loss 0.0013501738430932164\n",
      "train min mse 0.0013501738430932164\n",
      "9/9 [==============================] - 0s 3ms/step - loss: 0.0018 - mean_squared_error: 0.0018    \n",
      "train mse 0.0013501738430932164/ validation mse 0.001798739074729383\n",
      "min loss 0.0012397085083648562\n",
      "train min mse 0.0012397085083648562\n",
      "9/9 [==============================] - 0s 1ms/step - loss: 0.0018 - mean_squared_error: 0.0018    \n",
      "train mse 0.0012397085083648562/ validation mse 0.0017938415985554457\n",
      "min loss 0.008689479902386665\n",
      "train min mse 0.008689479902386665\n",
      "9/9 [==============================] - 0s 872us/step - loss: 0.0109 - mean_squared_error: 0.0109\n",
      "train mse 0.008689479902386665/ validation mse 0.010858035646378994\n",
      "min loss 0.0022847407963126898\n",
      "train min mse 0.0022847407963126898\n",
      "9/9 [==============================] - 0s 1ms/step - loss: 0.0033 - mean_squared_error: 0.0033\n",
      "train mse 0.0022847407963126898/ validation mse 0.003297690534964204\n",
      "min loss 0.001205567386932671\n",
      "train min mse 0.001205567386932671\n",
      "9/9 [==============================] - 0s 1ms/step - loss: 0.0014 - mean_squared_error: 0.0014\n",
      "train mse 0.001205567386932671/ validation mse 0.0013737105764448643\n",
      "min loss 0.0014653797261416912\n",
      "train min mse 0.0014653797261416912\n",
      "9/9 [==============================] - 0s 997us/step - loss: 0.0019 - mean_squared_error: 0.0019  \n",
      "train mse 0.0014653797261416912/ validation mse 0.0019046778324991465\n",
      "min loss 0.0005817903438583016\n",
      "train min mse 0.0005817903438583016\n",
      "9/9 [==============================] - 0s 997us/step - loss: 6.2218e-04 - mean_squared_error: 6.2218e-04\n",
      "train mse 0.0005817903438583016/ validation mse 0.0006221793591976166\n",
      "min loss 0.00044268908095546067\n",
      "train min mse 0.00044268908095546067\n",
      "9/9 [==============================] - 0s 1ms/step - loss: 4.1989e-04 - mean_squared_error: 4.1989e-04\n",
      "train mse 0.00044268908095546067/ validation mse 0.00041988989687524736\n",
      "min loss 0.00029290467500686646\n",
      "train min mse 0.00029290467500686646\n",
      "9/9 [==============================] - 0s 998us/step - loss: 2.6137e-04 - mean_squared_error: 2.6137e-04\n",
      "train mse 0.00029290467500686646/ validation mse 0.00026137434178963304\n",
      "min loss 0.00028071552515029907\n",
      "train min mse 0.00028071552515029907\n",
      "9/9 [==============================] - 0s 1ms/step - loss: 2.5286e-04 - mean_squared_error: 2.5286e-04\n",
      "train mse 0.00028071552515029907/ validation mse 0.000252862781053409\n",
      "min loss 0.006270409096032381\n",
      "train min mse 0.006270409096032381\n",
      "9/9 [==============================] - 0s 1ms/step - loss: 0.0086 - mean_squared_error: 0.0086\n",
      "train mse 0.006270409096032381/ validation mse 0.008640332147479057\n",
      "min loss 0.0012796700466424227\n",
      "train min mse 0.0012796700466424227\n",
      "9/9 [==============================] - 0s 877us/step - loss: 0.0013 - mean_squared_error: 0.0013\n",
      "train mse 0.0012796700466424227/ validation mse 0.0013382835313677788\n",
      "min loss 0.0008828762802295387\n",
      "train min mse 0.0008828762802295387\n",
      "9/9 [==============================] - 0s 1ms/step - loss: 9.0349e-04 - mean_squared_error: 9.0349e-04\n",
      "train mse 0.0008828762802295387/ validation mse 0.0009034862159751356\n",
      "min loss 0.0005246323999017477\n",
      "train min mse 0.0005246323999017477\n",
      "9/9 [==============================] - 0s 997us/step - loss: 4.6672e-04 - mean_squared_error: 4.6672e-04\n",
      "train mse 0.0005246323999017477/ validation mse 0.0004667236644309014\n",
      "min loss 0.00036831237957812846\n",
      "train min mse 0.00036831237957812846\n",
      "9/9 [==============================] - 0s 996us/step - loss: 3.2569e-04 - mean_squared_error: 3.2569e-04\n",
      "train mse 0.00036831237957812846/ validation mse 0.0003256883064750582\n",
      "min loss 0.00024190734256990254\n",
      "train min mse 0.00024190734256990254\n",
      "9/9 [==============================] - 0s 998us/step - loss: 2.3498e-04 - mean_squared_error: 2.3498e-04\n",
      "train mse 0.00024190734256990254/ validation mse 0.00023498029622714967\n",
      "min loss 0.00024379536625929177\n",
      "train min mse 0.00024379536625929177\n",
      "9/9 [==============================] - 0s 1ms/step - loss: 5.7039e-04 - mean_squared_error: 5.7039e-04\n",
      "train mse 0.00024379536625929177/ validation mse 0.0005703881033696234\n",
      "min loss 0.00019191006140317768\n",
      "train min mse 0.00019191006140317768\n",
      "9/9 [==============================] - 0s 1ms/step - loss: 3.0325e-04 - mean_squared_error: 3.0325e-04\n",
      "train mse 0.00019191006140317768/ validation mse 0.0003032521635759622\n",
      "(1980, 8) (1980, 4)\n",
      "min loss 0.018521731719374657\n",
      "train min mse 0.018521731719374657\n",
      "9/9 [==============================] - 0s 3ms/step - loss: 0.0248 - mean_squared_error: 0.0248\n",
      "train mse 0.018521731719374657/ validation mse 0.024789292365312576\n",
      "min loss 0.013199160806834698\n",
      "train min mse 0.013199160806834698\n",
      "9/9 [==============================] - 0s 993us/step - loss: 0.0181 - mean_squared_error: 0.0181\n",
      "train mse 0.013199160806834698/ validation mse 0.01805184781551361\n",
      "min loss 0.009669245220720768\n",
      "train min mse 0.009669245220720768\n",
      "9/9 [==============================] - 0s 873us/step - loss: 0.0130 - mean_squared_error: 0.0130\n",
      "train mse 0.009669245220720768/ validation mse 0.013015520758926868\n",
      "min loss 0.00645865872502327\n",
      "train min mse 0.00645865872502327\n",
      "9/9 [==============================] - 0s 873us/step - loss: 0.0087 - mean_squared_error: 0.0087\n",
      "train mse 0.00645865872502327/ validation mse 0.008749768137931824\n",
      "min loss 0.005588431842625141\n",
      "train min mse 0.005588431842625141\n",
      "9/9 [==============================] - 0s 2ms/step - loss: 0.0081 - mean_squared_error: 0.0081\n",
      "train mse 0.005588431842625141/ validation mse 0.008144005201756954\n",
      "min loss 0.0044374312274158\n",
      "train min mse 0.0044374312274158\n",
      "9/9 [==============================] - 0s 1ms/step - loss: 0.0062 - mean_squared_error: 0.0062\n",
      "train mse 0.0044374312274158/ validation mse 0.006238461006432772\n",
      "min loss 0.0042283013463020325\n",
      "train min mse 0.0042283013463020325\n",
      "9/9 [==============================] - 0s 997us/step - loss: 0.0062 - mean_squared_error: 0.0062\n",
      "train mse 0.0042283013463020325/ validation mse 0.0062211803160607815\n",
      "min loss 0.0028651412576436996\n",
      "train min mse 0.0028651412576436996\n",
      "9/9 [==============================] - 0s 873us/step - loss: 0.0046 - mean_squared_error: 0.0046\n",
      "train mse 0.0028651412576436996/ validation mse 0.004552653059363365\n",
      "min loss 0.013908101245760918\n",
      "train min mse 0.013908101245760918\n",
      "9/9 [==============================] - 0s 1ms/step - loss: 0.0194 - mean_squared_error: 0.0194\n",
      "train mse 0.013908101245760918/ validation mse 0.019391724839806557\n",
      "min loss 0.006691870745271444\n",
      "train min mse 0.006691870745271444\n",
      "9/9 [==============================] - 0s 868us/step - loss: 0.0097 - mean_squared_error: 0.0097\n",
      "train mse 0.006691870745271444/ validation mse 0.009723120369017124\n",
      "min loss 0.0029556741937994957\n",
      "train min mse 0.0029556741937994957\n",
      "9/9 [==============================] - 0s 868us/step - loss: 0.0046 - mean_squared_error: 0.0046\n",
      "train mse 0.0029556741937994957/ validation mse 0.004619842395186424\n",
      "min loss 0.002468615071848035\n",
      "train min mse 0.002468615071848035\n",
      "9/9 [==============================] - 0s 1ms/step - loss: 0.0034 - mean_squared_error: 0.0034\n",
      "train mse 0.002468615071848035/ validation mse 0.003370143473148346\n",
      "min loss 0.0018057451816275716\n",
      "train min mse 0.0018057451816275716\n",
      "9/9 [==============================] - 0s 1ms/step - loss: 0.0024 - mean_squared_error: 0.0024\n",
      "train mse 0.0018057451816275716/ validation mse 0.0023824037052690983\n",
      "min loss 0.0008536608074791729\n",
      "train min mse 0.0008536608074791729\n",
      "9/9 [==============================] - 0s 1ms/step - loss: 8.2228e-04 - mean_squared_error: 8.2228e-04\n",
      "train mse 0.0008536608074791729/ validation mse 0.0008222797769121826\n",
      "min loss 0.0008122537401504815\n",
      "train min mse 0.0008122537401504815\n",
      "9/9 [==============================] - 0s 2ms/step - loss: 8.5413e-04 - mean_squared_error: 8.5413e-04\n",
      "train mse 0.0008122537401504815/ validation mse 0.0008541339193470776\n",
      "min loss 0.0005778467166237533\n",
      "train min mse 0.0005778467166237533\n",
      "9/9 [==============================] - 0s 1ms/step - loss: 5.6119e-04 - mean_squared_error: 5.6119e-04\n",
      "train mse 0.0005778467166237533/ validation mse 0.0005611850647255778\n",
      "min loss 0.008474518544971943\n",
      "train min mse 0.008474518544971943\n",
      "9/9 [==============================] - 0s 1ms/step - loss: 0.0095 - mean_squared_error: 0.0095\n",
      "train mse 0.008474518544971943/ validation mse 0.009538774378597736\n",
      "min loss 0.0029330463148653507\n",
      "train min mse 0.0029330463148653507\n",
      "9/9 [==============================] - 0s 2ms/step - loss: 0.0029 - mean_squared_error: 0.0029\n",
      "train mse 0.0029330463148653507/ validation mse 0.002939184196293354\n",
      "min loss 0.001973321894183755\n",
      "train min mse 0.001973321894183755\n",
      "9/9 [==============================] - 0s 1ms/step - loss: 0.0022 - mean_squared_error: 0.0022\n",
      "train mse 0.001973321894183755/ validation mse 0.0021618790924549103\n",
      "min loss 0.0014268207596614957\n",
      "train min mse 0.0014268207596614957\n",
      "9/9 [==============================] - 0s 1ms/step - loss: 0.0020 - mean_squared_error: 0.0020\n",
      "train mse 0.0014268207596614957/ validation mse 0.002029831288382411\n",
      "min loss 0.0007480375934392214\n",
      "train min mse 0.0007480375934392214\n",
      "9/9 [==============================] - 0s 994us/step - loss: 8.0446e-04 - mean_squared_error: 8.0446e-04\n",
      "train mse 0.0007480375934392214/ validation mse 0.0008044574060477316\n",
      "min loss 0.0003635292814578861\n",
      "train min mse 0.0003635292814578861\n",
      "9/9 [==============================] - 0s 1ms/step - loss: 0.0012 - mean_squared_error: 0.0012\n",
      "train mse 0.0003635292814578861/ validation mse 0.0011569565394893289\n",
      "min loss 0.0003376159002073109\n",
      "train min mse 0.0003376159002073109\n",
      "9/9 [==============================] - 0s 1ms/step - loss: 2.6272e-04 - mean_squared_error: 2.6272e-04\n",
      "train mse 0.0003376159002073109/ validation mse 0.00026271920069120824\n",
      "min loss 0.0002869008749257773\n",
      "train min mse 0.0002869008749257773\n",
      "9/9 [==============================] - 0s 1ms/step - loss: 4.4939e-04 - mean_squared_error: 4.4939e-04\n",
      "train mse 0.0002869008749257773/ validation mse 0.0004493913147598505\n",
      "(1980, 12) (1980, 4)\n",
      "min loss 0.017311986535787582\n",
      "train min mse 0.017311986535787582\n",
      "9/9 [==============================] - 0s 873us/step - loss: 0.0194 - mean_squared_error: 0.0194\n",
      "train mse 0.017311986535787582/ validation mse 0.01936671882867813\n",
      "min loss 0.008298925124108791\n",
      "train min mse 0.008298925124108791\n",
      "9/9 [==============================] - 0s 1ms/step - loss: 0.0117 - mean_squared_error: 0.0117\n",
      "train mse 0.008298925124108791/ validation mse 0.011697431094944477\n",
      "min loss 0.0040136645548045635\n",
      "train min mse 0.0040136645548045635\n",
      "9/9 [==============================] - 0s 993us/step - loss: 0.0048 - mean_squared_error: 0.0048\n",
      "train mse 0.0040136645548045635/ validation mse 0.004792416468262672\n",
      "min loss 0.003718877676874399\n",
      "train min mse 0.003718877676874399\n",
      "9/9 [==============================] - 0s 997us/step - loss: 0.0048 - mean_squared_error: 0.0048\n",
      "train mse 0.003718877676874399/ validation mse 0.004823013208806515\n",
      "min loss 0.0033846248406916857\n",
      "train min mse 0.0033846248406916857\n",
      "9/9 [==============================] - 0s 873us/step - loss: 0.0039 - mean_squared_error: 0.0039\n",
      "train mse 0.0033846248406916857/ validation mse 0.003941080532968044\n",
      "min loss 0.003066947450861335\n",
      "train min mse 0.003066947450861335\n",
      "9/9 [==============================] - 0s 1ms/step - loss: 0.0032 - mean_squared_error: 0.0032\n",
      "train mse 0.003066947450861335/ validation mse 0.0031766758766025305\n",
      "min loss 0.002571730874478817\n",
      "train min mse 0.002571730874478817\n",
      "9/9 [==============================] - 0s 1ms/step - loss: 0.0027 - mean_squared_error: 0.0027\n",
      "train mse 0.002571730874478817/ validation mse 0.0027497464325278997\n",
      "min loss 0.0022924377117305994\n",
      "train min mse 0.0022924377117305994\n",
      "9/9 [==============================] - 0s 877us/step - loss: 0.0027 - mean_squared_error: 0.0027\n",
      "train mse 0.0022924377117305994/ validation mse 0.0027360140811651945\n",
      "min loss 0.008236760273575783\n",
      "train min mse 0.008236760273575783\n"
     ]
    },
    {
     "name": "stdout",
     "output_type": "stream",
     "text": [
      "9/9 [==============================] - 0s 997us/step - loss: 0.0107 - mean_squared_error: 0.0107\n",
      "train mse 0.008236760273575783/ validation mse 0.010735896416008472\n",
      "min loss 0.0038792691193521023\n",
      "train min mse 0.0038792691193521023\n",
      "9/9 [==============================] - 0s 997us/step - loss: 0.0046 - mean_squared_error: 0.0046\n",
      "train mse 0.0038792691193521023/ validation mse 0.004581918474286795\n",
      "min loss 0.002496614120900631\n",
      "train min mse 0.002496614120900631\n",
      "9/9 [==============================] - 0s 997us/step - loss: 0.0026 - mean_squared_error: 0.0026\n",
      "train mse 0.002496614120900631/ validation mse 0.002619638340547681\n",
      "min loss 0.0019344318425282836\n",
      "train min mse 0.0019344318425282836\n",
      "9/9 [==============================] - 0s 867us/step - loss: 0.0021 - mean_squared_error: 0.0021\n",
      "train mse 0.0019344318425282836/ validation mse 0.002060502767562866\n",
      "min loss 0.00161486875731498\n",
      "train min mse 0.00161486875731498\n",
      "9/9 [==============================] - 0s 993us/step - loss: 0.0015 - mean_squared_error: 0.0015\n",
      "train mse 0.00161486875731498/ validation mse 0.0015484142350032926\n",
      "min loss 0.001421423046849668\n",
      "train min mse 0.001421423046849668\n",
      "9/9 [==============================] - 0s 1ms/step - loss: 0.0017 - mean_squared_error: 0.0017\n",
      "train mse 0.001421423046849668/ validation mse 0.001661740941926837\n",
      "min loss 0.0013863957719877362\n",
      "train min mse 0.0013863957719877362\n",
      "9/9 [==============================] - 0s 1ms/step - loss: 0.0013 - mean_squared_error: 0.0013\n",
      "train mse 0.0013863957719877362/ validation mse 0.001341655501164496\n",
      "min loss 0.0011345266830176115\n",
      "train min mse 0.0011345266830176115\n",
      "9/9 [==============================] - 0s 1ms/step - loss: 0.0013 - mean_squared_error: 0.0013\n",
      "train mse 0.0011345266830176115/ validation mse 0.0013455119915306568\n",
      "min loss 0.012536287307739258\n",
      "train min mse 0.012536287307739258\n",
      "9/9 [==============================] - 0s 868us/step - loss: 0.0172 - mean_squared_error: 0.0172\n",
      "train mse 0.012536287307739258/ validation mse 0.01722915656864643\n",
      "min loss 0.003447433467954397\n",
      "train min mse 0.003447433467954397\n",
      "9/9 [==============================] - 0s 1ms/step - loss: 0.0037 - mean_squared_error: 0.0037\n",
      "train mse 0.003447433467954397/ validation mse 0.0036672293208539486\n",
      "min loss 0.0020927959121763706\n",
      "train min mse 0.0020927959121763706\n",
      "9/9 [==============================] - 0s 1ms/step - loss: 0.0027 - mean_squared_error: 0.0027\n",
      "train mse 0.0020927959121763706/ validation mse 0.002683615079149604\n",
      "min loss 0.0014899608213454485\n",
      "train min mse 0.0014899608213454485\n",
      "9/9 [==============================] - 0s 1ms/step - loss: 0.0014 - mean_squared_error: 0.0014\n",
      "train mse 0.0014899608213454485/ validation mse 0.0013982373056933284\n",
      "min loss 0.0016630793688818812\n",
      "train min mse 0.0016630793688818812\n",
      "9/9 [==============================] - 0s 997us/step - loss: 0.0019 - mean_squared_error: 0.0019\n",
      "train mse 0.0016630793688818812/ validation mse 0.0018835357623174787\n",
      "min loss 0.0008839255315251648\n",
      "train min mse 0.0008839255315251648\n",
      "9/9 [==============================] - 0s 997us/step - loss: 7.1689e-04 - mean_squared_error: 7.1689e-04\n",
      "train mse 0.0008839255315251648/ validation mse 0.0007168946322053671\n",
      "min loss 0.000785805459599942\n",
      "train min mse 0.000785805459599942\n",
      "9/9 [==============================] - 0s 1ms/step - loss: 9.3428e-04 - mean_squared_error: 9.3428e-04\n",
      "train mse 0.000785805459599942/ validation mse 0.0009342815610580146\n",
      "min loss 0.0006265328847803175\n",
      "train min mse 0.0006265328847803175\n",
      "9/9 [==============================] - 0s 1ms/step - loss: 6.5631e-04 - mean_squared_error: 6.5631e-04\n",
      "train mse 0.0006265328847803175/ validation mse 0.0006563123897649348\n",
      "(1980, 16) (1980, 4)\n",
      "min loss 0.015655919909477234\n",
      "train min mse 0.015655919909477234\n",
      "9/9 [==============================] - 1s 873us/step - loss: 0.0178 - mean_squared_error: 0.0178\n",
      "train mse 0.015655919909477234/ validation mse 0.017784910276532173\n",
      "min loss 0.005705108400434256\n",
      "train min mse 0.005705108400434256\n",
      "9/9 [==============================] - 0s 878us/step - loss: 0.0081 - mean_squared_error: 0.0081\n",
      "train mse 0.005705108400434256/ validation mse 0.00805167481303215\n",
      "min loss 0.0035405682865530252\n",
      "train min mse 0.0035405682865530252\n",
      "9/9 [==============================] - 0s 877us/step - loss: 0.0050 - mean_squared_error: 0.0050\n",
      "train mse 0.0035405682865530252/ validation mse 0.005029190797358751\n",
      "min loss 0.0032290080562233925\n",
      "train min mse 0.0032290080562233925\n",
      "9/9 [==============================] - 0s 1ms/step - loss: 0.0039 - mean_squared_error: 0.0039\n",
      "train mse 0.0032290080562233925/ validation mse 0.0038542631082236767\n",
      "min loss 0.0024376437067985535\n",
      "train min mse 0.0024376437067985535\n",
      "9/9 [==============================] - 0s 1ms/step - loss: 0.0030 - mean_squared_error: 0.0030\n",
      "train mse 0.0024376437067985535/ validation mse 0.0030120278242975473\n",
      "min loss 0.0018871052889153361\n",
      "train min mse 0.0018871052889153361\n",
      "9/9 [==============================] - 0s 1ms/step - loss: 0.0022 - mean_squared_error: 0.0022\n",
      "train mse 0.0018871052889153361/ validation mse 0.0021622672211378813\n",
      "min loss 0.0015635770978406072\n",
      "train min mse 0.0015635770978406072\n",
      "9/9 [==============================] - 0s 2ms/step - loss: 0.0018 - mean_squared_error: 0.0018\n",
      "train mse 0.0015635770978406072/ validation mse 0.0018235616153106093\n",
      "min loss 0.001677961554378271\n",
      "train min mse 0.001677961554378271\n",
      "9/9 [==============================] - 0s 1ms/step - loss: 0.0020 - mean_squared_error: 0.0020\n",
      "train mse 0.001677961554378271/ validation mse 0.0020385216921567917\n",
      "min loss 0.007128091529011726\n",
      "train min mse 0.007128091529011726\n",
      "9/9 [==============================] - 0s 1ms/step - loss: 0.0099 - mean_squared_error: 0.0099\n",
      "train mse 0.007128091529011726/ validation mse 0.009918863885104656\n",
      "min loss 0.0031397927086800337\n",
      "train min mse 0.0031397927086800337\n",
      "9/9 [==============================] - 0s 1ms/step - loss: 0.0040 - mean_squared_error: 0.0040\n",
      "train mse 0.0031397927086800337/ validation mse 0.0040339818224310875\n",
      "min loss 0.0017770129488781095\n",
      "train min mse 0.0017770129488781095\n",
      "9/9 [==============================] - 0s 3ms/step - loss: 0.0019 - mean_squared_error: 0.0019\n",
      "train mse 0.0017770129488781095/ validation mse 0.0018579516327008605\n",
      "min loss 0.0015199354384094477\n",
      "train min mse 0.0015199354384094477\n",
      "9/9 [==============================] - 0s 1ms/step - loss: 0.0017 - mean_squared_error: 0.0017\n",
      "train mse 0.0015199354384094477/ validation mse 0.0016878660535439849\n",
      "min loss 0.0012908645439893007\n",
      "train min mse 0.0012908645439893007\n",
      "9/9 [==============================] - 0s 1ms/step - loss: 0.0016 - mean_squared_error: 0.0016\n",
      "train mse 0.0012908645439893007/ validation mse 0.0015533664263784885\n",
      "min loss 0.0009036135743372142\n",
      "train min mse 0.0009036135743372142\n",
      "9/9 [==============================] - 0s 1ms/step - loss: 0.0013 - mean_squared_error: 0.0013\n",
      "train mse 0.0009036135743372142/ validation mse 0.0013061683857813478\n",
      "min loss 0.0010600939858704805\n",
      "train min mse 0.0010600939858704805\n",
      "9/9 [==============================] - 0s 1ms/step - loss: 0.0014 - mean_squared_error: 0.0014\n",
      "train mse 0.0010600939858704805/ validation mse 0.001352960360236466\n",
      "min loss 0.0009086801437661052\n",
      "train min mse 0.0009086801437661052\n",
      "9/9 [==============================] - 0s 2ms/step - loss: 9.6274e-04 - mean_squared_error: 9.6274e-04\n",
      "train mse 0.0009086801437661052/ validation mse 0.0009627445251680911\n",
      "min loss 0.009588021785020828\n",
      "train min mse 0.009588021785020828\n",
      "9/9 [==============================] - 0s 1ms/step - loss: 0.0129 - mean_squared_error: 0.0129\n",
      "train mse 0.009588021785020828/ validation mse 0.012887399643659592\n",
      "min loss 0.002486988203600049\n",
      "train min mse 0.002486988203600049\n",
      "9/9 [==============================] - 0s 997us/step - loss: 0.0029 - mean_squared_error: 0.0029\n",
      "train mse 0.002486988203600049/ validation mse 0.0029491521418094635\n",
      "min loss 0.0016011962434276938\n",
      "train min mse 0.0016011962434276938\n",
      "9/9 [==============================] - 0s 1ms/step - loss: 0.0020 - mean_squared_error: 0.0020\n",
      "train mse 0.0016011962434276938/ validation mse 0.0019947104156017303\n",
      "min loss 0.0012693488970398903\n",
      "train min mse 0.0012693488970398903\n",
      "9/9 [==============================] - 0s 993us/step - loss: 0.0014 - mean_squared_error: 0.0014\n",
      "train mse 0.0012693488970398903/ validation mse 0.0013898718170821667\n",
      "min loss 0.000983186298981309\n",
      "train min mse 0.000983186298981309\n",
      "9/9 [==============================] - 0s 1ms/step - loss: 0.0014 - mean_squared_error: 0.0014\n",
      "train mse 0.000983186298981309/ validation mse 0.0013598109362646937\n",
      "min loss 0.000996956368908286\n",
      "train min mse 0.000996956368908286\n",
      "9/9 [==============================] - 0s 1ms/step - loss: 0.0011 - mean_squared_error: 0.0011\n",
      "train mse 0.000996956368908286/ validation mse 0.0010907049290835857\n",
      "min loss 0.0007413398707285523\n",
      "train min mse 0.0007413398707285523\n",
      "9/9 [==============================] - 0s 1ms/step - loss: 8.9230e-04 - mean_squared_error: 8.9230e-04\n",
      "train mse 0.0007413398707285523/ validation mse 0.0008922995184548199\n",
      "min loss 0.000700542819686234\n",
      "train min mse 0.000700542819686234\n",
      "9/9 [==============================] - 0s 997us/step - loss: 9.0714e-04 - mean_squared_error: 9.0714e-04\n",
      "train mse 0.000700542819686234/ validation mse 0.0009071407839655876\n"
     ]
    }
   ],
   "source": [
    "dataset_num_atr = [\"Tamb\",'Pamb[Pa]','RPM','SFC[kg/Ns]','FN[N]','WH2[g/s]','Pt3[Pa]','Nozzle_Tt8[K]']\n",
    "dataset_binned_atr = ['Alt[ft]','Mach']\n",
    "n_binned_vars = np.arange(0,len(dataset_binned_atr))\n",
    "n_bins = np.arange(2,8,2)\n",
    "\n",
    "data = []\n",
    "\n",
    "for n_vars, var in enumerate(dataset_binned_atr):\n",
    "    binned_vars = dataset_binned_atr[0:n_vars+1]\n",
    "    not_binned_vars = dataset_binned_atr[n_vars + 1:] + dataset_num_atr\n",
    "    for bins in n_bins:\n",
    "        # Pipeline\n",
    "        num_pipeline = make_pipeline(StandardScaler())\n",
    "        column_trans = ColumnTransformer(\n",
    "            [\n",
    "                (\"binned_numeric\", KBinsDiscretizer(n_bins = bins), binned_vars),\n",
    "                ('numeric', num_pipeline, not_binned_vars),\n",
    "            ]\n",
    "        )\n",
    "\n",
    "        dataset_prepared_trans = column_trans.fit_transform(dataset)\n",
    "        \n",
    "        features = dataset_prepared_trans[:,:-4]\n",
    "        targets = dataset_prepared_trans[:,-4:]\n",
    "        print(features.shape, targets.shape)\n",
    "        \n",
    "        # Train / Valid / Test splits\n",
    "        X_train_full, X_test, y_train_full, y_test = train_test_split(features, targets, test_size = 0.3, random_state = 0)\n",
    "        X_train, X_valid, y_train, y_valid = train_test_split(X_train_full, y_train_full, test_size = 0.2, random_state = 0)\n",
    "        \n",
    "        # Test Several NN simple configurations\n",
    "        n_neurons = np.arange(8,72,8)\n",
    "        n_layers = np.arange(1,4,1)\n",
    "        for l in n_layers:\n",
    "            for n in n_neurons:\n",
    "                model = build_model(X_train_full.shape[1], y_train_full.shape[1],\n",
    "                                    hidden_layer_sizes = l, n_neurons = n, lr = 1e-3)\n",
    "        # fit model\n",
    "                    \n",
    "                history = model.fit(X_train_full, y_train_full, epochs=100, verbose=0)\n",
    "                \n",
    "                print('min loss ' + str(np.min(history.history['loss'])))\n",
    "                #train_min_mse.append(np.min(history.history['mean_squared_error']))\n",
    "                print('train min mse ' + str(np.min(history.history['mean_squared_error'])))\n",
    "                \n",
    "                np.save('./NN_binning_eval/history_'+'n_vars_bin_'+ str(len(binned_vars)) + '_bins_'+ str(bins) + '_nlayers_' + str(l)+ '_neurons_' + str(n) + '_.npy',history.history)\n",
    "                \n",
    "                valid_scores = model.evaluate(X_valid, y_valid)\n",
    "                \n",
    "                data.append([len(binned_vars), \n",
    "                             bins, \n",
    "                             l, \n",
    "                             n,\n",
    "                             np.min(history.history['mean_squared_error']),\n",
    "                             valid_scores[1], \n",
    "                            ])\n",
    "                #test_mse.append(test_scores[1])\n",
    "                print('train mse ' + str(np.min(history.history['mean_squared_error'])) + '/' + ' validation mse ' + str(valid_scores[1]))\n",
    "        \n",
    "        "
   ]
  },
  {
   "cell_type": "code",
   "execution_count": 139,
   "id": "d65bdf0e",
   "metadata": {
    "ExecuteTime": {
     "end_time": "2022-09-07T09:54:43.822267Z",
     "start_time": "2022-09-07T09:54:43.798032Z"
    }
   },
   "outputs": [
    {
     "data": {
      "text/html": [
       "<div>\n",
       "<style scoped>\n",
       "    .dataframe tbody tr th:only-of-type {\n",
       "        vertical-align: middle;\n",
       "    }\n",
       "\n",
       "    .dataframe tbody tr th {\n",
       "        vertical-align: top;\n",
       "    }\n",
       "\n",
       "    .dataframe thead th {\n",
       "        text-align: right;\n",
       "    }\n",
       "</style>\n",
       "<table border=\"1\" class=\"dataframe\">\n",
       "  <thead>\n",
       "    <tr style=\"text-align: right;\">\n",
       "      <th></th>\n",
       "      <th>binned_vars</th>\n",
       "      <th>n_bins</th>\n",
       "      <th>n_layers</th>\n",
       "      <th>n_neurons_per_layer</th>\n",
       "      <th>train_mse</th>\n",
       "      <th>val_mse</th>\n",
       "    </tr>\n",
       "  </thead>\n",
       "  <tbody>\n",
       "    <tr>\n",
       "      <th>0</th>\n",
       "      <td>1</td>\n",
       "      <td>2</td>\n",
       "      <td>1</td>\n",
       "      <td>8</td>\n",
       "      <td>0.013097</td>\n",
       "      <td>0.015410</td>\n",
       "    </tr>\n",
       "    <tr>\n",
       "      <th>1</th>\n",
       "      <td>1</td>\n",
       "      <td>2</td>\n",
       "      <td>1</td>\n",
       "      <td>16</td>\n",
       "      <td>0.004860</td>\n",
       "      <td>0.006454</td>\n",
       "    </tr>\n",
       "    <tr>\n",
       "      <th>2</th>\n",
       "      <td>1</td>\n",
       "      <td>2</td>\n",
       "      <td>1</td>\n",
       "      <td>24</td>\n",
       "      <td>0.005518</td>\n",
       "      <td>0.008302</td>\n",
       "    </tr>\n",
       "    <tr>\n",
       "      <th>3</th>\n",
       "      <td>1</td>\n",
       "      <td>2</td>\n",
       "      <td>1</td>\n",
       "      <td>32</td>\n",
       "      <td>0.002208</td>\n",
       "      <td>0.003021</td>\n",
       "    </tr>\n",
       "    <tr>\n",
       "      <th>4</th>\n",
       "      <td>1</td>\n",
       "      <td>2</td>\n",
       "      <td>1</td>\n",
       "      <td>40</td>\n",
       "      <td>0.001331</td>\n",
       "      <td>0.002210</td>\n",
       "    </tr>\n",
       "  </tbody>\n",
       "</table>\n",
       "</div>"
      ],
      "text/plain": [
       "   binned_vars  n_bins  n_layers  n_neurons_per_layer  train_mse   val_mse\n",
       "0            1       2         1                    8   0.013097  0.015410\n",
       "1            1       2         1                   16   0.004860  0.006454\n",
       "2            1       2         1                   24   0.005518  0.008302\n",
       "3            1       2         1                   32   0.002208  0.003021\n",
       "4            1       2         1                   40   0.001331  0.002210"
      ]
     },
     "execution_count": 139,
     "metadata": {},
     "output_type": "execute_result"
    }
   ],
   "source": [
    "report_df = pd.DataFrame(data, columns = ['binned_vars','n_bins','n_layers','n_neurons_per_layer','train_mse','val_mse'])\n",
    "report_df.head()"
   ]
  },
  {
   "cell_type": "code",
   "execution_count": 140,
   "id": "d74808d4",
   "metadata": {
    "ExecuteTime": {
     "end_time": "2022-09-07T09:54:46.055301Z",
     "start_time": "2022-09-07T09:54:46.036241Z"
    }
   },
   "outputs": [
    {
     "data": {
      "text/html": [
       "<div>\n",
       "<style scoped>\n",
       "    .dataframe tbody tr th:only-of-type {\n",
       "        vertical-align: middle;\n",
       "    }\n",
       "\n",
       "    .dataframe tbody tr th {\n",
       "        vertical-align: top;\n",
       "    }\n",
       "\n",
       "    .dataframe thead th {\n",
       "        text-align: right;\n",
       "    }\n",
       "</style>\n",
       "<table border=\"1\" class=\"dataframe\">\n",
       "  <thead>\n",
       "    <tr style=\"text-align: right;\">\n",
       "      <th></th>\n",
       "      <th>binned_vars</th>\n",
       "      <th>n_bins</th>\n",
       "      <th>n_layers</th>\n",
       "      <th>n_neurons_per_layer</th>\n",
       "      <th>train_mse</th>\n",
       "      <th>val_mse</th>\n",
       "    </tr>\n",
       "  </thead>\n",
       "  <tbody>\n",
       "    <tr>\n",
       "      <th>139</th>\n",
       "      <td>2</td>\n",
       "      <td>6</td>\n",
       "      <td>3</td>\n",
       "      <td>32</td>\n",
       "      <td>0.001269</td>\n",
       "      <td>0.001390</td>\n",
       "    </tr>\n",
       "    <tr>\n",
       "      <th>140</th>\n",
       "      <td>2</td>\n",
       "      <td>6</td>\n",
       "      <td>3</td>\n",
       "      <td>40</td>\n",
       "      <td>0.000983</td>\n",
       "      <td>0.001360</td>\n",
       "    </tr>\n",
       "    <tr>\n",
       "      <th>141</th>\n",
       "      <td>2</td>\n",
       "      <td>6</td>\n",
       "      <td>3</td>\n",
       "      <td>48</td>\n",
       "      <td>0.000997</td>\n",
       "      <td>0.001091</td>\n",
       "    </tr>\n",
       "    <tr>\n",
       "      <th>142</th>\n",
       "      <td>2</td>\n",
       "      <td>6</td>\n",
       "      <td>3</td>\n",
       "      <td>56</td>\n",
       "      <td>0.000741</td>\n",
       "      <td>0.000892</td>\n",
       "    </tr>\n",
       "    <tr>\n",
       "      <th>143</th>\n",
       "      <td>2</td>\n",
       "      <td>6</td>\n",
       "      <td>3</td>\n",
       "      <td>64</td>\n",
       "      <td>0.000701</td>\n",
       "      <td>0.000907</td>\n",
       "    </tr>\n",
       "  </tbody>\n",
       "</table>\n",
       "</div>"
      ],
      "text/plain": [
       "     binned_vars  n_bins  n_layers  n_neurons_per_layer  train_mse   val_mse\n",
       "139            2       6         3                   32   0.001269  0.001390\n",
       "140            2       6         3                   40   0.000983  0.001360\n",
       "141            2       6         3                   48   0.000997  0.001091\n",
       "142            2       6         3                   56   0.000741  0.000892\n",
       "143            2       6         3                   64   0.000701  0.000907"
      ]
     },
     "execution_count": 140,
     "metadata": {},
     "output_type": "execute_result"
    }
   ],
   "source": [
    "report_df.tail()"
   ]
  },
  {
   "cell_type": "code",
   "execution_count": 141,
   "id": "b117643d",
   "metadata": {
    "ExecuteTime": {
     "end_time": "2022-09-07T09:54:47.755255Z",
     "start_time": "2022-09-07T09:54:47.722342Z"
    }
   },
   "outputs": [
    {
     "data": {
      "text/html": [
       "<div>\n",
       "<style scoped>\n",
       "    .dataframe tbody tr th:only-of-type {\n",
       "        vertical-align: middle;\n",
       "    }\n",
       "\n",
       "    .dataframe tbody tr th {\n",
       "        vertical-align: top;\n",
       "    }\n",
       "\n",
       "    .dataframe thead th {\n",
       "        text-align: right;\n",
       "    }\n",
       "</style>\n",
       "<table border=\"1\" class=\"dataframe\">\n",
       "  <thead>\n",
       "    <tr style=\"text-align: right;\">\n",
       "      <th></th>\n",
       "      <th>binned_vars</th>\n",
       "      <th>n_bins</th>\n",
       "      <th>n_layers</th>\n",
       "      <th>n_neurons_per_layer</th>\n",
       "      <th>train_mse</th>\n",
       "      <th>val_mse</th>\n",
       "      <th>Delta_val_train_mse</th>\n",
       "    </tr>\n",
       "  </thead>\n",
       "  <tbody>\n",
       "    <tr>\n",
       "      <th>0</th>\n",
       "      <td>1</td>\n",
       "      <td>2</td>\n",
       "      <td>1</td>\n",
       "      <td>8</td>\n",
       "      <td>0.013097</td>\n",
       "      <td>0.015410</td>\n",
       "      <td>0.002313</td>\n",
       "    </tr>\n",
       "    <tr>\n",
       "      <th>1</th>\n",
       "      <td>1</td>\n",
       "      <td>2</td>\n",
       "      <td>1</td>\n",
       "      <td>16</td>\n",
       "      <td>0.004860</td>\n",
       "      <td>0.006454</td>\n",
       "      <td>0.001594</td>\n",
       "    </tr>\n",
       "    <tr>\n",
       "      <th>2</th>\n",
       "      <td>1</td>\n",
       "      <td>2</td>\n",
       "      <td>1</td>\n",
       "      <td>24</td>\n",
       "      <td>0.005518</td>\n",
       "      <td>0.008302</td>\n",
       "      <td>0.002785</td>\n",
       "    </tr>\n",
       "    <tr>\n",
       "      <th>3</th>\n",
       "      <td>1</td>\n",
       "      <td>2</td>\n",
       "      <td>1</td>\n",
       "      <td>32</td>\n",
       "      <td>0.002208</td>\n",
       "      <td>0.003021</td>\n",
       "      <td>0.000813</td>\n",
       "    </tr>\n",
       "    <tr>\n",
       "      <th>4</th>\n",
       "      <td>1</td>\n",
       "      <td>2</td>\n",
       "      <td>1</td>\n",
       "      <td>40</td>\n",
       "      <td>0.001331</td>\n",
       "      <td>0.002210</td>\n",
       "      <td>0.000879</td>\n",
       "    </tr>\n",
       "  </tbody>\n",
       "</table>\n",
       "</div>"
      ],
      "text/plain": [
       "   binned_vars  n_bins  n_layers  n_neurons_per_layer  train_mse   val_mse  \\\n",
       "0            1       2         1                    8   0.013097  0.015410   \n",
       "1            1       2         1                   16   0.004860  0.006454   \n",
       "2            1       2         1                   24   0.005518  0.008302   \n",
       "3            1       2         1                   32   0.002208  0.003021   \n",
       "4            1       2         1                   40   0.001331  0.002210   \n",
       "\n",
       "   Delta_val_train_mse  \n",
       "0             0.002313  \n",
       "1             0.001594  \n",
       "2             0.002785  \n",
       "3             0.000813  \n",
       "4             0.000879  "
      ]
     },
     "execution_count": 141,
     "metadata": {},
     "output_type": "execute_result"
    }
   ],
   "source": [
    "report_df['Delta_val_train_mse'] = report_df['val_mse'] - report_df['train_mse']\n",
    "report_df.head()"
   ]
  },
  {
   "cell_type": "code",
   "execution_count": 142,
   "id": "c4b69d1b",
   "metadata": {
    "ExecuteTime": {
     "end_time": "2022-09-07T09:54:53.643825Z",
     "start_time": "2022-09-07T09:54:53.616115Z"
    }
   },
   "outputs": [],
   "source": [
    "report_df.to_parquet('../data/Effect_of_Bins_in_NN.parquet',engine=\"pyarrow\")"
   ]
  },
  {
   "cell_type": "code",
   "execution_count": 143,
   "id": "df50f66a",
   "metadata": {
    "ExecuteTime": {
     "end_time": "2022-09-07T09:54:54.803779Z",
     "start_time": "2022-09-07T09:54:54.730785Z"
    },
    "scrolled": true
   },
   "outputs": [
    {
     "data": {
      "application/vnd.plotly.v1+json": {
       "config": {
        "plotlyServerURL": "https://plot.ly"
       },
       "data": [
        {
         "hovertemplate": "variable=train_mse<br>index=%{x}<br>value=%{y}<extra></extra>",
         "legendgroup": "train_mse",
         "marker": {
          "color": "#636efa",
          "symbol": "circle"
         },
         "mode": "markers",
         "name": "train_mse",
         "orientation": "v",
         "showlegend": true,
         "type": "scatter",
         "x": [
          0,
          1,
          2,
          3,
          4,
          5,
          6,
          7,
          8,
          9,
          10,
          11,
          12,
          13,
          14,
          15,
          16,
          17,
          18,
          19,
          20,
          21,
          22,
          23,
          24,
          25,
          26,
          27,
          28,
          29,
          30,
          31,
          32,
          33,
          34,
          35,
          36,
          37,
          38,
          39,
          40,
          41,
          42,
          43,
          44,
          45,
          46,
          47,
          48,
          49,
          50,
          51,
          52,
          53,
          54,
          55,
          56,
          57,
          58,
          59,
          60,
          61,
          62,
          63,
          64,
          65,
          66,
          67,
          68,
          69,
          70,
          71,
          72,
          73,
          74,
          75,
          76,
          77,
          78,
          79,
          80,
          81,
          82,
          83,
          84,
          85,
          86,
          87,
          88,
          89,
          90,
          91,
          92,
          93,
          94,
          95,
          96,
          97,
          98,
          99,
          100,
          101,
          102,
          103,
          104,
          105,
          106,
          107,
          108,
          109,
          110,
          111,
          112,
          113,
          114,
          115,
          116,
          117,
          118,
          119,
          120,
          121,
          122,
          123,
          124,
          125,
          126,
          127,
          128,
          129,
          130,
          131,
          132,
          133,
          134,
          135,
          136,
          137,
          138,
          139,
          140,
          141,
          142,
          143
         ],
         "xaxis": "x",
         "y": [
          0.013097390532493591,
          0.004860274493694305,
          0.005517732352018356,
          0.0022080340422689915,
          0.0013310657814145088,
          0.0016993398312479258,
          0.001246598083525896,
          0.001110048033297062,
          0.007480985950678587,
          0.0022410135716199875,
          0.0009782902197912335,
          0.0006815647357143462,
          0.0006602139328606427,
          0.000340549013344571,
          0.00033474116935394704,
          0.00019594670447986573,
          0.006734412629157305,
          0.0011025427374988794,
          0.0005227242363616824,
          0.0003936078865081072,
          0.00027279547066427767,
          0.00028156096232123673,
          0.00019858033920172602,
          0.0001765245251590386,
          0.014815829694271088,
          0.004426027648150921,
          0.0035076639614999294,
          0.0034775282256305218,
          0.001872131833806634,
          0.0011915735667571425,
          0.0012838203692808747,
          0.0008894030470401049,
          0.008808371610939503,
          0.0018995088757947087,
          0.0010629631578922272,
          0.0008634469122625887,
          0.00046882868628017604,
          0.0003715981438290328,
          0.0002883403794839978,
          0.0002354237949475646,
          0.007484918925911188,
          0.00218829489313066,
          0.0009062619647011161,
          0.00044782040640711784,
          0.00044181925477460027,
          0.00027500721625983715,
          0.00023166595201473683,
          0.00019931100541725755,
          0.008407016284763813,
          0.006345728412270546,
          0.005359525326639414,
          0.003002565586939454,
          0.0018441521096974611,
          0.0016092559089884162,
          0.0013501738430932164,
          0.0012397085083648562,
          0.008689479902386665,
          0.0022847407963126898,
          0.001205567386932671,
          0.0014653797261416912,
          0.0005817903438583016,
          0.00044268908095546067,
          0.00029290467500686646,
          0.00028071552515029907,
          0.006270409096032381,
          0.0012796700466424227,
          0.0008828762802295387,
          0.0005246323999017477,
          0.00036831237957812846,
          0.00024190734256990254,
          0.00024379536625929177,
          0.00019191006140317768,
          0.018521731719374657,
          0.013199160806834698,
          0.009669245220720768,
          0.00645865872502327,
          0.005588431842625141,
          0.0044374312274158,
          0.0042283013463020325,
          0.0028651412576436996,
          0.013908101245760918,
          0.006691870745271444,
          0.0029556741937994957,
          0.002468615071848035,
          0.0018057451816275716,
          0.0008536608074791729,
          0.0008122537401504815,
          0.0005778467166237533,
          0.008474518544971943,
          0.0029330463148653507,
          0.001973321894183755,
          0.0014268207596614957,
          0.0007480375934392214,
          0.0003635292814578861,
          0.0003376159002073109,
          0.0002869008749257773,
          0.017311986535787582,
          0.008298925124108791,
          0.0040136645548045635,
          0.003718877676874399,
          0.0033846248406916857,
          0.003066947450861335,
          0.002571730874478817,
          0.0022924377117305994,
          0.008236760273575783,
          0.0038792691193521023,
          0.002496614120900631,
          0.0019344318425282836,
          0.00161486875731498,
          0.001421423046849668,
          0.0013863957719877362,
          0.0011345266830176115,
          0.012536287307739258,
          0.003447433467954397,
          0.0020927959121763706,
          0.0014899608213454485,
          0.0016630793688818812,
          0.0008839255315251648,
          0.000785805459599942,
          0.0006265328847803175,
          0.015655919909477234,
          0.005705108400434256,
          0.0035405682865530252,
          0.0032290080562233925,
          0.0024376437067985535,
          0.0018871052889153361,
          0.0015635770978406072,
          0.001677961554378271,
          0.007128091529011726,
          0.0031397927086800337,
          0.0017770129488781095,
          0.0015199354384094477,
          0.0012908645439893007,
          0.0009036135743372142,
          0.0010600939858704805,
          0.0009086801437661052,
          0.009588021785020828,
          0.002486988203600049,
          0.0016011962434276938,
          0.0012693488970398903,
          0.000983186298981309,
          0.000996956368908286,
          0.0007413398707285523,
          0.000700542819686234
         ],
         "yaxis": "y"
        },
        {
         "hovertemplate": "variable=val_mse<br>index=%{x}<br>value=%{y}<extra></extra>",
         "legendgroup": "val_mse",
         "marker": {
          "color": "#EF553B",
          "symbol": "circle"
         },
         "mode": "markers",
         "name": "val_mse",
         "orientation": "v",
         "showlegend": true,
         "type": "scatter",
         "x": [
          0,
          1,
          2,
          3,
          4,
          5,
          6,
          7,
          8,
          9,
          10,
          11,
          12,
          13,
          14,
          15,
          16,
          17,
          18,
          19,
          20,
          21,
          22,
          23,
          24,
          25,
          26,
          27,
          28,
          29,
          30,
          31,
          32,
          33,
          34,
          35,
          36,
          37,
          38,
          39,
          40,
          41,
          42,
          43,
          44,
          45,
          46,
          47,
          48,
          49,
          50,
          51,
          52,
          53,
          54,
          55,
          56,
          57,
          58,
          59,
          60,
          61,
          62,
          63,
          64,
          65,
          66,
          67,
          68,
          69,
          70,
          71,
          72,
          73,
          74,
          75,
          76,
          77,
          78,
          79,
          80,
          81,
          82,
          83,
          84,
          85,
          86,
          87,
          88,
          89,
          90,
          91,
          92,
          93,
          94,
          95,
          96,
          97,
          98,
          99,
          100,
          101,
          102,
          103,
          104,
          105,
          106,
          107,
          108,
          109,
          110,
          111,
          112,
          113,
          114,
          115,
          116,
          117,
          118,
          119,
          120,
          121,
          122,
          123,
          124,
          125,
          126,
          127,
          128,
          129,
          130,
          131,
          132,
          133,
          134,
          135,
          136,
          137,
          138,
          139,
          140,
          141,
          142,
          143
         ],
         "xaxis": "x",
         "y": [
          0.015410076826810837,
          0.006454497575759888,
          0.008302411995828152,
          0.003021436743438244,
          0.002209750469774008,
          0.0029200694989413023,
          0.0023833250161260366,
          0.0019128200365230441,
          0.010047131218016148,
          0.0028712779749184847,
          0.0012493946123868227,
          0.00073592783883214,
          0.0008760856580920517,
          0.0005310034612193704,
          0.00045677059097215533,
          0.00025275893858633935,
          0.007135523017495871,
          0.001098030828870833,
          0.0004881198692601174,
          0.0003065844939555973,
          0.0003407067561056465,
          0.0008912602788768709,
          0.00028232656768523157,
          0.0011215416016057134,
          0.018781939521431923,
          0.005704141221940517,
          0.0042635356076061726,
          0.004880968015640974,
          0.002414502901956439,
          0.0014915012288838625,
          0.0016286560567095876,
          0.0012624170631170273,
          0.010684686712920666,
          0.001976963598281145,
          0.0012782596750184894,
          0.0007248672773130238,
          0.0005015396163798869,
          0.00048183463513851166,
          0.0003048373619094491,
          0.0003658209752757102,
          0.010829240083694458,
          0.0033696189057081938,
          0.0009417308610863984,
          0.000443653465481475,
          0.00046526940423063934,
          0.00019878728198818862,
          0.0003780870756600052,
          0.004084629472345114,
          0.011486079543828964,
          0.008609426207840443,
          0.007655534893274307,
          0.004012811463326216,
          0.0027017490938305855,
          0.0024018692784011364,
          0.001798739074729383,
          0.0017938415985554457,
          0.010858035646378994,
          0.003297690534964204,
          0.0013737105764448643,
          0.0019046778324991465,
          0.0006221793591976166,
          0.00041988989687524736,
          0.00026137434178963304,
          0.000252862781053409,
          0.008640332147479057,
          0.0013382835313677788,
          0.0009034862159751356,
          0.0004667236644309014,
          0.0003256883064750582,
          0.00023498029622714967,
          0.0005703881033696234,
          0.0003032521635759622,
          0.024789292365312576,
          0.01805184781551361,
          0.013015520758926868,
          0.008749768137931824,
          0.008144005201756954,
          0.006238461006432772,
          0.0062211803160607815,
          0.004552653059363365,
          0.019391724839806557,
          0.009723120369017124,
          0.004619842395186424,
          0.003370143473148346,
          0.0023824037052690983,
          0.0008222797769121826,
          0.0008541339193470776,
          0.0005611850647255778,
          0.009538774378597736,
          0.002939184196293354,
          0.0021618790924549103,
          0.002029831288382411,
          0.0008044574060477316,
          0.0011569565394893289,
          0.00026271920069120824,
          0.0004493913147598505,
          0.01936671882867813,
          0.011697431094944477,
          0.004792416468262672,
          0.004823013208806515,
          0.003941080532968044,
          0.0031766758766025305,
          0.0027497464325278997,
          0.0027360140811651945,
          0.010735896416008472,
          0.004581918474286795,
          0.002619638340547681,
          0.002060502767562866,
          0.0015484142350032926,
          0.001661740941926837,
          0.001341655501164496,
          0.0013455119915306568,
          0.01722915656864643,
          0.0036672293208539486,
          0.002683615079149604,
          0.0013982373056933284,
          0.0018835357623174787,
          0.0007168946322053671,
          0.0009342815610580146,
          0.0006563123897649348,
          0.017784910276532173,
          0.00805167481303215,
          0.005029190797358751,
          0.0038542631082236767,
          0.0030120278242975473,
          0.0021622672211378813,
          0.0018235616153106093,
          0.0020385216921567917,
          0.009918863885104656,
          0.0040339818224310875,
          0.0018579516327008605,
          0.0016878660535439849,
          0.0015533664263784885,
          0.0013061683857813478,
          0.001352960360236466,
          0.0009627445251680911,
          0.012887399643659592,
          0.0029491521418094635,
          0.0019947104156017303,
          0.0013898718170821667,
          0.0013598109362646937,
          0.0010907049290835857,
          0.0008922995184548199,
          0.0009071407839655876
         ],
         "yaxis": "y"
        }
       ],
       "layout": {
        "legend": {
         "title": {
          "text": "variable"
         },
         "tracegroupgap": 0
        },
        "margin": {
         "t": 60
        },
        "template": {
         "data": {
          "bar": [
           {
            "error_x": {
             "color": "#2a3f5f"
            },
            "error_y": {
             "color": "#2a3f5f"
            },
            "marker": {
             "line": {
              "color": "#E5ECF6",
              "width": 0.5
             },
             "pattern": {
              "fillmode": "overlay",
              "size": 10,
              "solidity": 0.2
             }
            },
            "type": "bar"
           }
          ],
          "barpolar": [
           {
            "marker": {
             "line": {
              "color": "#E5ECF6",
              "width": 0.5
             },
             "pattern": {
              "fillmode": "overlay",
              "size": 10,
              "solidity": 0.2
             }
            },
            "type": "barpolar"
           }
          ],
          "carpet": [
           {
            "aaxis": {
             "endlinecolor": "#2a3f5f",
             "gridcolor": "white",
             "linecolor": "white",
             "minorgridcolor": "white",
             "startlinecolor": "#2a3f5f"
            },
            "baxis": {
             "endlinecolor": "#2a3f5f",
             "gridcolor": "white",
             "linecolor": "white",
             "minorgridcolor": "white",
             "startlinecolor": "#2a3f5f"
            },
            "type": "carpet"
           }
          ],
          "choropleth": [
           {
            "colorbar": {
             "outlinewidth": 0,
             "ticks": ""
            },
            "type": "choropleth"
           }
          ],
          "contour": [
           {
            "colorbar": {
             "outlinewidth": 0,
             "ticks": ""
            },
            "colorscale": [
             [
              0,
              "#0d0887"
             ],
             [
              0.1111111111111111,
              "#46039f"
             ],
             [
              0.2222222222222222,
              "#7201a8"
             ],
             [
              0.3333333333333333,
              "#9c179e"
             ],
             [
              0.4444444444444444,
              "#bd3786"
             ],
             [
              0.5555555555555556,
              "#d8576b"
             ],
             [
              0.6666666666666666,
              "#ed7953"
             ],
             [
              0.7777777777777778,
              "#fb9f3a"
             ],
             [
              0.8888888888888888,
              "#fdca26"
             ],
             [
              1,
              "#f0f921"
             ]
            ],
            "type": "contour"
           }
          ],
          "contourcarpet": [
           {
            "colorbar": {
             "outlinewidth": 0,
             "ticks": ""
            },
            "type": "contourcarpet"
           }
          ],
          "heatmap": [
           {
            "colorbar": {
             "outlinewidth": 0,
             "ticks": ""
            },
            "colorscale": [
             [
              0,
              "#0d0887"
             ],
             [
              0.1111111111111111,
              "#46039f"
             ],
             [
              0.2222222222222222,
              "#7201a8"
             ],
             [
              0.3333333333333333,
              "#9c179e"
             ],
             [
              0.4444444444444444,
              "#bd3786"
             ],
             [
              0.5555555555555556,
              "#d8576b"
             ],
             [
              0.6666666666666666,
              "#ed7953"
             ],
             [
              0.7777777777777778,
              "#fb9f3a"
             ],
             [
              0.8888888888888888,
              "#fdca26"
             ],
             [
              1,
              "#f0f921"
             ]
            ],
            "type": "heatmap"
           }
          ],
          "heatmapgl": [
           {
            "colorbar": {
             "outlinewidth": 0,
             "ticks": ""
            },
            "colorscale": [
             [
              0,
              "#0d0887"
             ],
             [
              0.1111111111111111,
              "#46039f"
             ],
             [
              0.2222222222222222,
              "#7201a8"
             ],
             [
              0.3333333333333333,
              "#9c179e"
             ],
             [
              0.4444444444444444,
              "#bd3786"
             ],
             [
              0.5555555555555556,
              "#d8576b"
             ],
             [
              0.6666666666666666,
              "#ed7953"
             ],
             [
              0.7777777777777778,
              "#fb9f3a"
             ],
             [
              0.8888888888888888,
              "#fdca26"
             ],
             [
              1,
              "#f0f921"
             ]
            ],
            "type": "heatmapgl"
           }
          ],
          "histogram": [
           {
            "marker": {
             "pattern": {
              "fillmode": "overlay",
              "size": 10,
              "solidity": 0.2
             }
            },
            "type": "histogram"
           }
          ],
          "histogram2d": [
           {
            "colorbar": {
             "outlinewidth": 0,
             "ticks": ""
            },
            "colorscale": [
             [
              0,
              "#0d0887"
             ],
             [
              0.1111111111111111,
              "#46039f"
             ],
             [
              0.2222222222222222,
              "#7201a8"
             ],
             [
              0.3333333333333333,
              "#9c179e"
             ],
             [
              0.4444444444444444,
              "#bd3786"
             ],
             [
              0.5555555555555556,
              "#d8576b"
             ],
             [
              0.6666666666666666,
              "#ed7953"
             ],
             [
              0.7777777777777778,
              "#fb9f3a"
             ],
             [
              0.8888888888888888,
              "#fdca26"
             ],
             [
              1,
              "#f0f921"
             ]
            ],
            "type": "histogram2d"
           }
          ],
          "histogram2dcontour": [
           {
            "colorbar": {
             "outlinewidth": 0,
             "ticks": ""
            },
            "colorscale": [
             [
              0,
              "#0d0887"
             ],
             [
              0.1111111111111111,
              "#46039f"
             ],
             [
              0.2222222222222222,
              "#7201a8"
             ],
             [
              0.3333333333333333,
              "#9c179e"
             ],
             [
              0.4444444444444444,
              "#bd3786"
             ],
             [
              0.5555555555555556,
              "#d8576b"
             ],
             [
              0.6666666666666666,
              "#ed7953"
             ],
             [
              0.7777777777777778,
              "#fb9f3a"
             ],
             [
              0.8888888888888888,
              "#fdca26"
             ],
             [
              1,
              "#f0f921"
             ]
            ],
            "type": "histogram2dcontour"
           }
          ],
          "mesh3d": [
           {
            "colorbar": {
             "outlinewidth": 0,
             "ticks": ""
            },
            "type": "mesh3d"
           }
          ],
          "parcoords": [
           {
            "line": {
             "colorbar": {
              "outlinewidth": 0,
              "ticks": ""
             }
            },
            "type": "parcoords"
           }
          ],
          "pie": [
           {
            "automargin": true,
            "type": "pie"
           }
          ],
          "scatter": [
           {
            "marker": {
             "colorbar": {
              "outlinewidth": 0,
              "ticks": ""
             }
            },
            "type": "scatter"
           }
          ],
          "scatter3d": [
           {
            "line": {
             "colorbar": {
              "outlinewidth": 0,
              "ticks": ""
             }
            },
            "marker": {
             "colorbar": {
              "outlinewidth": 0,
              "ticks": ""
             }
            },
            "type": "scatter3d"
           }
          ],
          "scattercarpet": [
           {
            "marker": {
             "colorbar": {
              "outlinewidth": 0,
              "ticks": ""
             }
            },
            "type": "scattercarpet"
           }
          ],
          "scattergeo": [
           {
            "marker": {
             "colorbar": {
              "outlinewidth": 0,
              "ticks": ""
             }
            },
            "type": "scattergeo"
           }
          ],
          "scattergl": [
           {
            "marker": {
             "colorbar": {
              "outlinewidth": 0,
              "ticks": ""
             }
            },
            "type": "scattergl"
           }
          ],
          "scattermapbox": [
           {
            "marker": {
             "colorbar": {
              "outlinewidth": 0,
              "ticks": ""
             }
            },
            "type": "scattermapbox"
           }
          ],
          "scatterpolar": [
           {
            "marker": {
             "colorbar": {
              "outlinewidth": 0,
              "ticks": ""
             }
            },
            "type": "scatterpolar"
           }
          ],
          "scatterpolargl": [
           {
            "marker": {
             "colorbar": {
              "outlinewidth": 0,
              "ticks": ""
             }
            },
            "type": "scatterpolargl"
           }
          ],
          "scatterternary": [
           {
            "marker": {
             "colorbar": {
              "outlinewidth": 0,
              "ticks": ""
             }
            },
            "type": "scatterternary"
           }
          ],
          "surface": [
           {
            "colorbar": {
             "outlinewidth": 0,
             "ticks": ""
            },
            "colorscale": [
             [
              0,
              "#0d0887"
             ],
             [
              0.1111111111111111,
              "#46039f"
             ],
             [
              0.2222222222222222,
              "#7201a8"
             ],
             [
              0.3333333333333333,
              "#9c179e"
             ],
             [
              0.4444444444444444,
              "#bd3786"
             ],
             [
              0.5555555555555556,
              "#d8576b"
             ],
             [
              0.6666666666666666,
              "#ed7953"
             ],
             [
              0.7777777777777778,
              "#fb9f3a"
             ],
             [
              0.8888888888888888,
              "#fdca26"
             ],
             [
              1,
              "#f0f921"
             ]
            ],
            "type": "surface"
           }
          ],
          "table": [
           {
            "cells": {
             "fill": {
              "color": "#EBF0F8"
             },
             "line": {
              "color": "white"
             }
            },
            "header": {
             "fill": {
              "color": "#C8D4E3"
             },
             "line": {
              "color": "white"
             }
            },
            "type": "table"
           }
          ]
         },
         "layout": {
          "annotationdefaults": {
           "arrowcolor": "#2a3f5f",
           "arrowhead": 0,
           "arrowwidth": 1
          },
          "autotypenumbers": "strict",
          "coloraxis": {
           "colorbar": {
            "outlinewidth": 0,
            "ticks": ""
           }
          },
          "colorscale": {
           "diverging": [
            [
             0,
             "#8e0152"
            ],
            [
             0.1,
             "#c51b7d"
            ],
            [
             0.2,
             "#de77ae"
            ],
            [
             0.3,
             "#f1b6da"
            ],
            [
             0.4,
             "#fde0ef"
            ],
            [
             0.5,
             "#f7f7f7"
            ],
            [
             0.6,
             "#e6f5d0"
            ],
            [
             0.7,
             "#b8e186"
            ],
            [
             0.8,
             "#7fbc41"
            ],
            [
             0.9,
             "#4d9221"
            ],
            [
             1,
             "#276419"
            ]
           ],
           "sequential": [
            [
             0,
             "#0d0887"
            ],
            [
             0.1111111111111111,
             "#46039f"
            ],
            [
             0.2222222222222222,
             "#7201a8"
            ],
            [
             0.3333333333333333,
             "#9c179e"
            ],
            [
             0.4444444444444444,
             "#bd3786"
            ],
            [
             0.5555555555555556,
             "#d8576b"
            ],
            [
             0.6666666666666666,
             "#ed7953"
            ],
            [
             0.7777777777777778,
             "#fb9f3a"
            ],
            [
             0.8888888888888888,
             "#fdca26"
            ],
            [
             1,
             "#f0f921"
            ]
           ],
           "sequentialminus": [
            [
             0,
             "#0d0887"
            ],
            [
             0.1111111111111111,
             "#46039f"
            ],
            [
             0.2222222222222222,
             "#7201a8"
            ],
            [
             0.3333333333333333,
             "#9c179e"
            ],
            [
             0.4444444444444444,
             "#bd3786"
            ],
            [
             0.5555555555555556,
             "#d8576b"
            ],
            [
             0.6666666666666666,
             "#ed7953"
            ],
            [
             0.7777777777777778,
             "#fb9f3a"
            ],
            [
             0.8888888888888888,
             "#fdca26"
            ],
            [
             1,
             "#f0f921"
            ]
           ]
          },
          "colorway": [
           "#636efa",
           "#EF553B",
           "#00cc96",
           "#ab63fa",
           "#FFA15A",
           "#19d3f3",
           "#FF6692",
           "#B6E880",
           "#FF97FF",
           "#FECB52"
          ],
          "font": {
           "color": "#2a3f5f"
          },
          "geo": {
           "bgcolor": "white",
           "lakecolor": "white",
           "landcolor": "#E5ECF6",
           "showlakes": true,
           "showland": true,
           "subunitcolor": "white"
          },
          "hoverlabel": {
           "align": "left"
          },
          "hovermode": "closest",
          "mapbox": {
           "style": "light"
          },
          "paper_bgcolor": "white",
          "plot_bgcolor": "#E5ECF6",
          "polar": {
           "angularaxis": {
            "gridcolor": "white",
            "linecolor": "white",
            "ticks": ""
           },
           "bgcolor": "#E5ECF6",
           "radialaxis": {
            "gridcolor": "white",
            "linecolor": "white",
            "ticks": ""
           }
          },
          "scene": {
           "xaxis": {
            "backgroundcolor": "#E5ECF6",
            "gridcolor": "white",
            "gridwidth": 2,
            "linecolor": "white",
            "showbackground": true,
            "ticks": "",
            "zerolinecolor": "white"
           },
           "yaxis": {
            "backgroundcolor": "#E5ECF6",
            "gridcolor": "white",
            "gridwidth": 2,
            "linecolor": "white",
            "showbackground": true,
            "ticks": "",
            "zerolinecolor": "white"
           },
           "zaxis": {
            "backgroundcolor": "#E5ECF6",
            "gridcolor": "white",
            "gridwidth": 2,
            "linecolor": "white",
            "showbackground": true,
            "ticks": "",
            "zerolinecolor": "white"
           }
          },
          "shapedefaults": {
           "line": {
            "color": "#2a3f5f"
           }
          },
          "ternary": {
           "aaxis": {
            "gridcolor": "white",
            "linecolor": "white",
            "ticks": ""
           },
           "baxis": {
            "gridcolor": "white",
            "linecolor": "white",
            "ticks": ""
           },
           "bgcolor": "#E5ECF6",
           "caxis": {
            "gridcolor": "white",
            "linecolor": "white",
            "ticks": ""
           }
          },
          "title": {
           "x": 0.05
          },
          "xaxis": {
           "automargin": true,
           "gridcolor": "white",
           "linecolor": "white",
           "ticks": "",
           "title": {
            "standoff": 15
           },
           "zerolinecolor": "white",
           "zerolinewidth": 2
          },
          "yaxis": {
           "automargin": true,
           "gridcolor": "white",
           "linecolor": "white",
           "ticks": "",
           "title": {
            "standoff": 15
           },
           "zerolinecolor": "white",
           "zerolinewidth": 2
          }
         }
        },
        "xaxis": {
         "anchor": "y",
         "domain": [
          0,
          1
         ],
         "title": {
          "text": "index"
         }
        },
        "yaxis": {
         "anchor": "x",
         "domain": [
          0,
          1
         ],
         "title": {
          "text": "value"
         }
        }
       }
      },
      "text/html": [
       "<div>                            <div id=\"0d421f7e-d5ae-414f-9eb4-e7222f4207ec\" class=\"plotly-graph-div\" style=\"height:525px; width:100%;\"></div>            <script type=\"text/javascript\">                require([\"plotly\"], function(Plotly) {                    window.PLOTLYENV=window.PLOTLYENV || {};                                    if (document.getElementById(\"0d421f7e-d5ae-414f-9eb4-e7222f4207ec\")) {                    Plotly.newPlot(                        \"0d421f7e-d5ae-414f-9eb4-e7222f4207ec\",                        [{\"hovertemplate\":\"variable=train_mse<br>index=%{x}<br>value=%{y}<extra></extra>\",\"legendgroup\":\"train_mse\",\"marker\":{\"color\":\"#636efa\",\"symbol\":\"circle\"},\"mode\":\"markers\",\"name\":\"train_mse\",\"orientation\":\"v\",\"showlegend\":true,\"x\":[0,1,2,3,4,5,6,7,8,9,10,11,12,13,14,15,16,17,18,19,20,21,22,23,24,25,26,27,28,29,30,31,32,33,34,35,36,37,38,39,40,41,42,43,44,45,46,47,48,49,50,51,52,53,54,55,56,57,58,59,60,61,62,63,64,65,66,67,68,69,70,71,72,73,74,75,76,77,78,79,80,81,82,83,84,85,86,87,88,89,90,91,92,93,94,95,96,97,98,99,100,101,102,103,104,105,106,107,108,109,110,111,112,113,114,115,116,117,118,119,120,121,122,123,124,125,126,127,128,129,130,131,132,133,134,135,136,137,138,139,140,141,142,143],\"xaxis\":\"x\",\"y\":[0.013097390532493591,0.004860274493694305,0.005517732352018356,0.0022080340422689915,0.0013310657814145088,0.0016993398312479258,0.001246598083525896,0.001110048033297062,0.007480985950678587,0.0022410135716199875,0.0009782902197912335,0.0006815647357143462,0.0006602139328606427,0.000340549013344571,0.00033474116935394704,0.00019594670447986573,0.006734412629157305,0.0011025427374988794,0.0005227242363616824,0.0003936078865081072,0.00027279547066427767,0.00028156096232123673,0.00019858033920172602,0.0001765245251590386,0.014815829694271088,0.004426027648150921,0.0035076639614999294,0.0034775282256305218,0.001872131833806634,0.0011915735667571425,0.0012838203692808747,0.0008894030470401049,0.008808371610939503,0.0018995088757947087,0.0010629631578922272,0.0008634469122625887,0.00046882868628017604,0.0003715981438290328,0.0002883403794839978,0.0002354237949475646,0.007484918925911188,0.00218829489313066,0.0009062619647011161,0.00044782040640711784,0.00044181925477460027,0.00027500721625983715,0.00023166595201473683,0.00019931100541725755,0.008407016284763813,0.006345728412270546,0.005359525326639414,0.003002565586939454,0.0018441521096974611,0.0016092559089884162,0.0013501738430932164,0.0012397085083648562,0.008689479902386665,0.0022847407963126898,0.001205567386932671,0.0014653797261416912,0.0005817903438583016,0.00044268908095546067,0.00029290467500686646,0.00028071552515029907,0.006270409096032381,0.0012796700466424227,0.0008828762802295387,0.0005246323999017477,0.00036831237957812846,0.00024190734256990254,0.00024379536625929177,0.00019191006140317768,0.018521731719374657,0.013199160806834698,0.009669245220720768,0.00645865872502327,0.005588431842625141,0.0044374312274158,0.0042283013463020325,0.0028651412576436996,0.013908101245760918,0.006691870745271444,0.0029556741937994957,0.002468615071848035,0.0018057451816275716,0.0008536608074791729,0.0008122537401504815,0.0005778467166237533,0.008474518544971943,0.0029330463148653507,0.001973321894183755,0.0014268207596614957,0.0007480375934392214,0.0003635292814578861,0.0003376159002073109,0.0002869008749257773,0.017311986535787582,0.008298925124108791,0.0040136645548045635,0.003718877676874399,0.0033846248406916857,0.003066947450861335,0.002571730874478817,0.0022924377117305994,0.008236760273575783,0.0038792691193521023,0.002496614120900631,0.0019344318425282836,0.00161486875731498,0.001421423046849668,0.0013863957719877362,0.0011345266830176115,0.012536287307739258,0.003447433467954397,0.0020927959121763706,0.0014899608213454485,0.0016630793688818812,0.0008839255315251648,0.000785805459599942,0.0006265328847803175,0.015655919909477234,0.005705108400434256,0.0035405682865530252,0.0032290080562233925,0.0024376437067985535,0.0018871052889153361,0.0015635770978406072,0.001677961554378271,0.007128091529011726,0.0031397927086800337,0.0017770129488781095,0.0015199354384094477,0.0012908645439893007,0.0009036135743372142,0.0010600939858704805,0.0009086801437661052,0.009588021785020828,0.002486988203600049,0.0016011962434276938,0.0012693488970398903,0.000983186298981309,0.000996956368908286,0.0007413398707285523,0.000700542819686234],\"yaxis\":\"y\",\"type\":\"scatter\"},{\"hovertemplate\":\"variable=val_mse<br>index=%{x}<br>value=%{y}<extra></extra>\",\"legendgroup\":\"val_mse\",\"marker\":{\"color\":\"#EF553B\",\"symbol\":\"circle\"},\"mode\":\"markers\",\"name\":\"val_mse\",\"orientation\":\"v\",\"showlegend\":true,\"x\":[0,1,2,3,4,5,6,7,8,9,10,11,12,13,14,15,16,17,18,19,20,21,22,23,24,25,26,27,28,29,30,31,32,33,34,35,36,37,38,39,40,41,42,43,44,45,46,47,48,49,50,51,52,53,54,55,56,57,58,59,60,61,62,63,64,65,66,67,68,69,70,71,72,73,74,75,76,77,78,79,80,81,82,83,84,85,86,87,88,89,90,91,92,93,94,95,96,97,98,99,100,101,102,103,104,105,106,107,108,109,110,111,112,113,114,115,116,117,118,119,120,121,122,123,124,125,126,127,128,129,130,131,132,133,134,135,136,137,138,139,140,141,142,143],\"xaxis\":\"x\",\"y\":[0.015410076826810837,0.006454497575759888,0.008302411995828152,0.003021436743438244,0.002209750469774008,0.0029200694989413023,0.0023833250161260366,0.0019128200365230441,0.010047131218016148,0.0028712779749184847,0.0012493946123868227,0.00073592783883214,0.0008760856580920517,0.0005310034612193704,0.00045677059097215533,0.00025275893858633935,0.007135523017495871,0.001098030828870833,0.0004881198692601174,0.0003065844939555973,0.0003407067561056465,0.0008912602788768709,0.00028232656768523157,0.0011215416016057134,0.018781939521431923,0.005704141221940517,0.0042635356076061726,0.004880968015640974,0.002414502901956439,0.0014915012288838625,0.0016286560567095876,0.0012624170631170273,0.010684686712920666,0.001976963598281145,0.0012782596750184894,0.0007248672773130238,0.0005015396163798869,0.00048183463513851166,0.0003048373619094491,0.0003658209752757102,0.010829240083694458,0.0033696189057081938,0.0009417308610863984,0.000443653465481475,0.00046526940423063934,0.00019878728198818862,0.0003780870756600052,0.004084629472345114,0.011486079543828964,0.008609426207840443,0.007655534893274307,0.004012811463326216,0.0027017490938305855,0.0024018692784011364,0.001798739074729383,0.0017938415985554457,0.010858035646378994,0.003297690534964204,0.0013737105764448643,0.0019046778324991465,0.0006221793591976166,0.00041988989687524736,0.00026137434178963304,0.000252862781053409,0.008640332147479057,0.0013382835313677788,0.0009034862159751356,0.0004667236644309014,0.0003256883064750582,0.00023498029622714967,0.0005703881033696234,0.0003032521635759622,0.024789292365312576,0.01805184781551361,0.013015520758926868,0.008749768137931824,0.008144005201756954,0.006238461006432772,0.0062211803160607815,0.004552653059363365,0.019391724839806557,0.009723120369017124,0.004619842395186424,0.003370143473148346,0.0023824037052690983,0.0008222797769121826,0.0008541339193470776,0.0005611850647255778,0.009538774378597736,0.002939184196293354,0.0021618790924549103,0.002029831288382411,0.0008044574060477316,0.0011569565394893289,0.00026271920069120824,0.0004493913147598505,0.01936671882867813,0.011697431094944477,0.004792416468262672,0.004823013208806515,0.003941080532968044,0.0031766758766025305,0.0027497464325278997,0.0027360140811651945,0.010735896416008472,0.004581918474286795,0.002619638340547681,0.002060502767562866,0.0015484142350032926,0.001661740941926837,0.001341655501164496,0.0013455119915306568,0.01722915656864643,0.0036672293208539486,0.002683615079149604,0.0013982373056933284,0.0018835357623174787,0.0007168946322053671,0.0009342815610580146,0.0006563123897649348,0.017784910276532173,0.00805167481303215,0.005029190797358751,0.0038542631082236767,0.0030120278242975473,0.0021622672211378813,0.0018235616153106093,0.0020385216921567917,0.009918863885104656,0.0040339818224310875,0.0018579516327008605,0.0016878660535439849,0.0015533664263784885,0.0013061683857813478,0.001352960360236466,0.0009627445251680911,0.012887399643659592,0.0029491521418094635,0.0019947104156017303,0.0013898718170821667,0.0013598109362646937,0.0010907049290835857,0.0008922995184548199,0.0009071407839655876],\"yaxis\":\"y\",\"type\":\"scatter\"}],                        {\"template\":{\"data\":{\"bar\":[{\"error_x\":{\"color\":\"#2a3f5f\"},\"error_y\":{\"color\":\"#2a3f5f\"},\"marker\":{\"line\":{\"color\":\"#E5ECF6\",\"width\":0.5},\"pattern\":{\"fillmode\":\"overlay\",\"size\":10,\"solidity\":0.2}},\"type\":\"bar\"}],\"barpolar\":[{\"marker\":{\"line\":{\"color\":\"#E5ECF6\",\"width\":0.5},\"pattern\":{\"fillmode\":\"overlay\",\"size\":10,\"solidity\":0.2}},\"type\":\"barpolar\"}],\"carpet\":[{\"aaxis\":{\"endlinecolor\":\"#2a3f5f\",\"gridcolor\":\"white\",\"linecolor\":\"white\",\"minorgridcolor\":\"white\",\"startlinecolor\":\"#2a3f5f\"},\"baxis\":{\"endlinecolor\":\"#2a3f5f\",\"gridcolor\":\"white\",\"linecolor\":\"white\",\"minorgridcolor\":\"white\",\"startlinecolor\":\"#2a3f5f\"},\"type\":\"carpet\"}],\"choropleth\":[{\"colorbar\":{\"outlinewidth\":0,\"ticks\":\"\"},\"type\":\"choropleth\"}],\"contour\":[{\"colorbar\":{\"outlinewidth\":0,\"ticks\":\"\"},\"colorscale\":[[0.0,\"#0d0887\"],[0.1111111111111111,\"#46039f\"],[0.2222222222222222,\"#7201a8\"],[0.3333333333333333,\"#9c179e\"],[0.4444444444444444,\"#bd3786\"],[0.5555555555555556,\"#d8576b\"],[0.6666666666666666,\"#ed7953\"],[0.7777777777777778,\"#fb9f3a\"],[0.8888888888888888,\"#fdca26\"],[1.0,\"#f0f921\"]],\"type\":\"contour\"}],\"contourcarpet\":[{\"colorbar\":{\"outlinewidth\":0,\"ticks\":\"\"},\"type\":\"contourcarpet\"}],\"heatmap\":[{\"colorbar\":{\"outlinewidth\":0,\"ticks\":\"\"},\"colorscale\":[[0.0,\"#0d0887\"],[0.1111111111111111,\"#46039f\"],[0.2222222222222222,\"#7201a8\"],[0.3333333333333333,\"#9c179e\"],[0.4444444444444444,\"#bd3786\"],[0.5555555555555556,\"#d8576b\"],[0.6666666666666666,\"#ed7953\"],[0.7777777777777778,\"#fb9f3a\"],[0.8888888888888888,\"#fdca26\"],[1.0,\"#f0f921\"]],\"type\":\"heatmap\"}],\"heatmapgl\":[{\"colorbar\":{\"outlinewidth\":0,\"ticks\":\"\"},\"colorscale\":[[0.0,\"#0d0887\"],[0.1111111111111111,\"#46039f\"],[0.2222222222222222,\"#7201a8\"],[0.3333333333333333,\"#9c179e\"],[0.4444444444444444,\"#bd3786\"],[0.5555555555555556,\"#d8576b\"],[0.6666666666666666,\"#ed7953\"],[0.7777777777777778,\"#fb9f3a\"],[0.8888888888888888,\"#fdca26\"],[1.0,\"#f0f921\"]],\"type\":\"heatmapgl\"}],\"histogram\":[{\"marker\":{\"pattern\":{\"fillmode\":\"overlay\",\"size\":10,\"solidity\":0.2}},\"type\":\"histogram\"}],\"histogram2d\":[{\"colorbar\":{\"outlinewidth\":0,\"ticks\":\"\"},\"colorscale\":[[0.0,\"#0d0887\"],[0.1111111111111111,\"#46039f\"],[0.2222222222222222,\"#7201a8\"],[0.3333333333333333,\"#9c179e\"],[0.4444444444444444,\"#bd3786\"],[0.5555555555555556,\"#d8576b\"],[0.6666666666666666,\"#ed7953\"],[0.7777777777777778,\"#fb9f3a\"],[0.8888888888888888,\"#fdca26\"],[1.0,\"#f0f921\"]],\"type\":\"histogram2d\"}],\"histogram2dcontour\":[{\"colorbar\":{\"outlinewidth\":0,\"ticks\":\"\"},\"colorscale\":[[0.0,\"#0d0887\"],[0.1111111111111111,\"#46039f\"],[0.2222222222222222,\"#7201a8\"],[0.3333333333333333,\"#9c179e\"],[0.4444444444444444,\"#bd3786\"],[0.5555555555555556,\"#d8576b\"],[0.6666666666666666,\"#ed7953\"],[0.7777777777777778,\"#fb9f3a\"],[0.8888888888888888,\"#fdca26\"],[1.0,\"#f0f921\"]],\"type\":\"histogram2dcontour\"}],\"mesh3d\":[{\"colorbar\":{\"outlinewidth\":0,\"ticks\":\"\"},\"type\":\"mesh3d\"}],\"parcoords\":[{\"line\":{\"colorbar\":{\"outlinewidth\":0,\"ticks\":\"\"}},\"type\":\"parcoords\"}],\"pie\":[{\"automargin\":true,\"type\":\"pie\"}],\"scatter\":[{\"marker\":{\"colorbar\":{\"outlinewidth\":0,\"ticks\":\"\"}},\"type\":\"scatter\"}],\"scatter3d\":[{\"line\":{\"colorbar\":{\"outlinewidth\":0,\"ticks\":\"\"}},\"marker\":{\"colorbar\":{\"outlinewidth\":0,\"ticks\":\"\"}},\"type\":\"scatter3d\"}],\"scattercarpet\":[{\"marker\":{\"colorbar\":{\"outlinewidth\":0,\"ticks\":\"\"}},\"type\":\"scattercarpet\"}],\"scattergeo\":[{\"marker\":{\"colorbar\":{\"outlinewidth\":0,\"ticks\":\"\"}},\"type\":\"scattergeo\"}],\"scattergl\":[{\"marker\":{\"colorbar\":{\"outlinewidth\":0,\"ticks\":\"\"}},\"type\":\"scattergl\"}],\"scattermapbox\":[{\"marker\":{\"colorbar\":{\"outlinewidth\":0,\"ticks\":\"\"}},\"type\":\"scattermapbox\"}],\"scatterpolar\":[{\"marker\":{\"colorbar\":{\"outlinewidth\":0,\"ticks\":\"\"}},\"type\":\"scatterpolar\"}],\"scatterpolargl\":[{\"marker\":{\"colorbar\":{\"outlinewidth\":0,\"ticks\":\"\"}},\"type\":\"scatterpolargl\"}],\"scatterternary\":[{\"marker\":{\"colorbar\":{\"outlinewidth\":0,\"ticks\":\"\"}},\"type\":\"scatterternary\"}],\"surface\":[{\"colorbar\":{\"outlinewidth\":0,\"ticks\":\"\"},\"colorscale\":[[0.0,\"#0d0887\"],[0.1111111111111111,\"#46039f\"],[0.2222222222222222,\"#7201a8\"],[0.3333333333333333,\"#9c179e\"],[0.4444444444444444,\"#bd3786\"],[0.5555555555555556,\"#d8576b\"],[0.6666666666666666,\"#ed7953\"],[0.7777777777777778,\"#fb9f3a\"],[0.8888888888888888,\"#fdca26\"],[1.0,\"#f0f921\"]],\"type\":\"surface\"}],\"table\":[{\"cells\":{\"fill\":{\"color\":\"#EBF0F8\"},\"line\":{\"color\":\"white\"}},\"header\":{\"fill\":{\"color\":\"#C8D4E3\"},\"line\":{\"color\":\"white\"}},\"type\":\"table\"}]},\"layout\":{\"annotationdefaults\":{\"arrowcolor\":\"#2a3f5f\",\"arrowhead\":0,\"arrowwidth\":1},\"autotypenumbers\":\"strict\",\"coloraxis\":{\"colorbar\":{\"outlinewidth\":0,\"ticks\":\"\"}},\"colorscale\":{\"diverging\":[[0,\"#8e0152\"],[0.1,\"#c51b7d\"],[0.2,\"#de77ae\"],[0.3,\"#f1b6da\"],[0.4,\"#fde0ef\"],[0.5,\"#f7f7f7\"],[0.6,\"#e6f5d0\"],[0.7,\"#b8e186\"],[0.8,\"#7fbc41\"],[0.9,\"#4d9221\"],[1,\"#276419\"]],\"sequential\":[[0.0,\"#0d0887\"],[0.1111111111111111,\"#46039f\"],[0.2222222222222222,\"#7201a8\"],[0.3333333333333333,\"#9c179e\"],[0.4444444444444444,\"#bd3786\"],[0.5555555555555556,\"#d8576b\"],[0.6666666666666666,\"#ed7953\"],[0.7777777777777778,\"#fb9f3a\"],[0.8888888888888888,\"#fdca26\"],[1.0,\"#f0f921\"]],\"sequentialminus\":[[0.0,\"#0d0887\"],[0.1111111111111111,\"#46039f\"],[0.2222222222222222,\"#7201a8\"],[0.3333333333333333,\"#9c179e\"],[0.4444444444444444,\"#bd3786\"],[0.5555555555555556,\"#d8576b\"],[0.6666666666666666,\"#ed7953\"],[0.7777777777777778,\"#fb9f3a\"],[0.8888888888888888,\"#fdca26\"],[1.0,\"#f0f921\"]]},\"colorway\":[\"#636efa\",\"#EF553B\",\"#00cc96\",\"#ab63fa\",\"#FFA15A\",\"#19d3f3\",\"#FF6692\",\"#B6E880\",\"#FF97FF\",\"#FECB52\"],\"font\":{\"color\":\"#2a3f5f\"},\"geo\":{\"bgcolor\":\"white\",\"lakecolor\":\"white\",\"landcolor\":\"#E5ECF6\",\"showlakes\":true,\"showland\":true,\"subunitcolor\":\"white\"},\"hoverlabel\":{\"align\":\"left\"},\"hovermode\":\"closest\",\"mapbox\":{\"style\":\"light\"},\"paper_bgcolor\":\"white\",\"plot_bgcolor\":\"#E5ECF6\",\"polar\":{\"angularaxis\":{\"gridcolor\":\"white\",\"linecolor\":\"white\",\"ticks\":\"\"},\"bgcolor\":\"#E5ECF6\",\"radialaxis\":{\"gridcolor\":\"white\",\"linecolor\":\"white\",\"ticks\":\"\"}},\"scene\":{\"xaxis\":{\"backgroundcolor\":\"#E5ECF6\",\"gridcolor\":\"white\",\"gridwidth\":2,\"linecolor\":\"white\",\"showbackground\":true,\"ticks\":\"\",\"zerolinecolor\":\"white\"},\"yaxis\":{\"backgroundcolor\":\"#E5ECF6\",\"gridcolor\":\"white\",\"gridwidth\":2,\"linecolor\":\"white\",\"showbackground\":true,\"ticks\":\"\",\"zerolinecolor\":\"white\"},\"zaxis\":{\"backgroundcolor\":\"#E5ECF6\",\"gridcolor\":\"white\",\"gridwidth\":2,\"linecolor\":\"white\",\"showbackground\":true,\"ticks\":\"\",\"zerolinecolor\":\"white\"}},\"shapedefaults\":{\"line\":{\"color\":\"#2a3f5f\"}},\"ternary\":{\"aaxis\":{\"gridcolor\":\"white\",\"linecolor\":\"white\",\"ticks\":\"\"},\"baxis\":{\"gridcolor\":\"white\",\"linecolor\":\"white\",\"ticks\":\"\"},\"bgcolor\":\"#E5ECF6\",\"caxis\":{\"gridcolor\":\"white\",\"linecolor\":\"white\",\"ticks\":\"\"}},\"title\":{\"x\":0.05},\"xaxis\":{\"automargin\":true,\"gridcolor\":\"white\",\"linecolor\":\"white\",\"ticks\":\"\",\"title\":{\"standoff\":15},\"zerolinecolor\":\"white\",\"zerolinewidth\":2},\"yaxis\":{\"automargin\":true,\"gridcolor\":\"white\",\"linecolor\":\"white\",\"ticks\":\"\",\"title\":{\"standoff\":15},\"zerolinecolor\":\"white\",\"zerolinewidth\":2}}},\"xaxis\":{\"anchor\":\"y\",\"domain\":[0.0,1.0],\"title\":{\"text\":\"index\"}},\"yaxis\":{\"anchor\":\"x\",\"domain\":[0.0,1.0],\"title\":{\"text\":\"value\"}},\"legend\":{\"title\":{\"text\":\"variable\"},\"tracegroupgap\":0},\"margin\":{\"t\":60}},                        {\"responsive\": true}                    ).then(function(){\n",
       "                            \n",
       "var gd = document.getElementById('0d421f7e-d5ae-414f-9eb4-e7222f4207ec');\n",
       "var x = new MutationObserver(function (mutations, observer) {{\n",
       "        var display = window.getComputedStyle(gd).display;\n",
       "        if (!display || display === 'none') {{\n",
       "            console.log([gd, 'removed!']);\n",
       "            Plotly.purge(gd);\n",
       "            observer.disconnect();\n",
       "        }}\n",
       "}});\n",
       "\n",
       "// Listen for the removal of the full notebook cells\n",
       "var notebookContainer = gd.closest('#notebook-container');\n",
       "if (notebookContainer) {{\n",
       "    x.observe(notebookContainer, {childList: true});\n",
       "}}\n",
       "\n",
       "// Listen for the clearing of the current output cell\n",
       "var outputEl = gd.closest('.output');\n",
       "if (outputEl) {{\n",
       "    x.observe(outputEl, {childList: true});\n",
       "}}\n",
       "\n",
       "                        })                };                });            </script>        </div>"
      ]
     },
     "metadata": {},
     "output_type": "display_data"
    }
   ],
   "source": [
    "report_df[['train_mse','val_mse']].plot(kind = 'scatter')"
   ]
  },
  {
   "cell_type": "code",
   "execution_count": 151,
   "id": "ff72c4d3",
   "metadata": {
    "ExecuteTime": {
     "end_time": "2022-09-07T10:05:50.321643Z",
     "start_time": "2022-09-07T10:05:50.265313Z"
    }
   },
   "outputs": [
    {
     "data": {
      "application/vnd.plotly.v1+json": {
       "config": {
        "plotlyServerURL": "https://plot.ly"
       },
       "data": [
        {
         "histnorm": "probability",
         "opacity": 0.5,
         "type": "histogram",
         "x": [
          0.013097390532493591,
          0.004860274493694305,
          0.005517732352018356,
          0.0022080340422689915,
          0.0013310657814145088,
          0.0016993398312479258,
          0.001246598083525896,
          0.001110048033297062,
          0.007480985950678587,
          0.0022410135716199875,
          0.0009782902197912335,
          0.0006815647357143462,
          0.0006602139328606427,
          0.000340549013344571,
          0.00033474116935394704,
          0.00019594670447986573,
          0.006734412629157305,
          0.0011025427374988794,
          0.0005227242363616824,
          0.0003936078865081072,
          0.00027279547066427767,
          0.00028156096232123673,
          0.00019858033920172602,
          0.0001765245251590386,
          0.014815829694271088,
          0.004426027648150921,
          0.0035076639614999294,
          0.0034775282256305218,
          0.001872131833806634,
          0.0011915735667571425,
          0.0012838203692808747,
          0.0008894030470401049,
          0.008808371610939503,
          0.0018995088757947087,
          0.0010629631578922272,
          0.0008634469122625887,
          0.00046882868628017604,
          0.0003715981438290328,
          0.0002883403794839978,
          0.0002354237949475646,
          0.007484918925911188,
          0.00218829489313066,
          0.0009062619647011161,
          0.00044782040640711784,
          0.00044181925477460027,
          0.00027500721625983715,
          0.00023166595201473683,
          0.00019931100541725755,
          0.008407016284763813,
          0.006345728412270546,
          0.005359525326639414,
          0.003002565586939454,
          0.0018441521096974611,
          0.0016092559089884162,
          0.0013501738430932164,
          0.0012397085083648562,
          0.008689479902386665,
          0.0022847407963126898,
          0.001205567386932671,
          0.0014653797261416912,
          0.0005817903438583016,
          0.00044268908095546067,
          0.00029290467500686646,
          0.00028071552515029907,
          0.006270409096032381,
          0.0012796700466424227,
          0.0008828762802295387,
          0.0005246323999017477,
          0.00036831237957812846,
          0.00024190734256990254,
          0.00024379536625929177,
          0.00019191006140317768,
          0.018521731719374657,
          0.013199160806834698,
          0.009669245220720768,
          0.00645865872502327,
          0.005588431842625141,
          0.0044374312274158,
          0.0042283013463020325,
          0.0028651412576436996,
          0.013908101245760918,
          0.006691870745271444,
          0.0029556741937994957,
          0.002468615071848035,
          0.0018057451816275716,
          0.0008536608074791729,
          0.0008122537401504815,
          0.0005778467166237533,
          0.008474518544971943,
          0.0029330463148653507,
          0.001973321894183755,
          0.0014268207596614957,
          0.0007480375934392214,
          0.0003635292814578861,
          0.0003376159002073109,
          0.0002869008749257773,
          0.017311986535787582,
          0.008298925124108791,
          0.0040136645548045635,
          0.003718877676874399,
          0.0033846248406916857,
          0.003066947450861335,
          0.002571730874478817,
          0.0022924377117305994,
          0.008236760273575783,
          0.0038792691193521023,
          0.002496614120900631,
          0.0019344318425282836,
          0.00161486875731498,
          0.001421423046849668,
          0.0013863957719877362,
          0.0011345266830176115,
          0.012536287307739258,
          0.003447433467954397,
          0.0020927959121763706,
          0.0014899608213454485,
          0.0016630793688818812,
          0.0008839255315251648,
          0.000785805459599942,
          0.0006265328847803175,
          0.015655919909477234,
          0.005705108400434256,
          0.0035405682865530252,
          0.0032290080562233925,
          0.0024376437067985535,
          0.0018871052889153361,
          0.0015635770978406072,
          0.001677961554378271,
          0.007128091529011726,
          0.0031397927086800337,
          0.0017770129488781095,
          0.0015199354384094477,
          0.0012908645439893007,
          0.0009036135743372142,
          0.0010600939858704805,
          0.0009086801437661052,
          0.009588021785020828,
          0.002486988203600049,
          0.0016011962434276938,
          0.0012693488970398903,
          0.000983186298981309,
          0.000996956368908286,
          0.0007413398707285523,
          0.000700542819686234
         ]
        },
        {
         "histnorm": "probability",
         "opacity": 0.5,
         "type": "histogram",
         "x": [
          0.015410076826810837,
          0.006454497575759888,
          0.008302411995828152,
          0.003021436743438244,
          0.002209750469774008,
          0.0029200694989413023,
          0.0023833250161260366,
          0.0019128200365230441,
          0.010047131218016148,
          0.0028712779749184847,
          0.0012493946123868227,
          0.00073592783883214,
          0.0008760856580920517,
          0.0005310034612193704,
          0.00045677059097215533,
          0.00025275893858633935,
          0.007135523017495871,
          0.001098030828870833,
          0.0004881198692601174,
          0.0003065844939555973,
          0.0003407067561056465,
          0.0008912602788768709,
          0.00028232656768523157,
          0.0011215416016057134,
          0.018781939521431923,
          0.005704141221940517,
          0.0042635356076061726,
          0.004880968015640974,
          0.002414502901956439,
          0.0014915012288838625,
          0.0016286560567095876,
          0.0012624170631170273,
          0.010684686712920666,
          0.001976963598281145,
          0.0012782596750184894,
          0.0007248672773130238,
          0.0005015396163798869,
          0.00048183463513851166,
          0.0003048373619094491,
          0.0003658209752757102,
          0.010829240083694458,
          0.0033696189057081938,
          0.0009417308610863984,
          0.000443653465481475,
          0.00046526940423063934,
          0.00019878728198818862,
          0.0003780870756600052,
          0.004084629472345114,
          0.011486079543828964,
          0.008609426207840443,
          0.007655534893274307,
          0.004012811463326216,
          0.0027017490938305855,
          0.0024018692784011364,
          0.001798739074729383,
          0.0017938415985554457,
          0.010858035646378994,
          0.003297690534964204,
          0.0013737105764448643,
          0.0019046778324991465,
          0.0006221793591976166,
          0.00041988989687524736,
          0.00026137434178963304,
          0.000252862781053409,
          0.008640332147479057,
          0.0013382835313677788,
          0.0009034862159751356,
          0.0004667236644309014,
          0.0003256883064750582,
          0.00023498029622714967,
          0.0005703881033696234,
          0.0003032521635759622,
          0.024789292365312576,
          0.01805184781551361,
          0.013015520758926868,
          0.008749768137931824,
          0.008144005201756954,
          0.006238461006432772,
          0.0062211803160607815,
          0.004552653059363365,
          0.019391724839806557,
          0.009723120369017124,
          0.004619842395186424,
          0.003370143473148346,
          0.0023824037052690983,
          0.0008222797769121826,
          0.0008541339193470776,
          0.0005611850647255778,
          0.009538774378597736,
          0.002939184196293354,
          0.0021618790924549103,
          0.002029831288382411,
          0.0008044574060477316,
          0.0011569565394893289,
          0.00026271920069120824,
          0.0004493913147598505,
          0.01936671882867813,
          0.011697431094944477,
          0.004792416468262672,
          0.004823013208806515,
          0.003941080532968044,
          0.0031766758766025305,
          0.0027497464325278997,
          0.0027360140811651945,
          0.010735896416008472,
          0.004581918474286795,
          0.002619638340547681,
          0.002060502767562866,
          0.0015484142350032926,
          0.001661740941926837,
          0.001341655501164496,
          0.0013455119915306568,
          0.01722915656864643,
          0.0036672293208539486,
          0.002683615079149604,
          0.0013982373056933284,
          0.0018835357623174787,
          0.0007168946322053671,
          0.0009342815610580146,
          0.0006563123897649348,
          0.017784910276532173,
          0.00805167481303215,
          0.005029190797358751,
          0.0038542631082236767,
          0.0030120278242975473,
          0.0021622672211378813,
          0.0018235616153106093,
          0.0020385216921567917,
          0.009918863885104656,
          0.0040339818224310875,
          0.0018579516327008605,
          0.0016878660535439849,
          0.0015533664263784885,
          0.0013061683857813478,
          0.001352960360236466,
          0.0009627445251680911,
          0.012887399643659592,
          0.0029491521418094635,
          0.0019947104156017303,
          0.0013898718170821667,
          0.0013598109362646937,
          0.0010907049290835857,
          0.0008922995184548199,
          0.0009071407839655876
         ]
        }
       ],
       "layout": {
        "barmode": "overlay",
        "template": {
         "data": {
          "bar": [
           {
            "error_x": {
             "color": "#2a3f5f"
            },
            "error_y": {
             "color": "#2a3f5f"
            },
            "marker": {
             "line": {
              "color": "#E5ECF6",
              "width": 0.5
             },
             "pattern": {
              "fillmode": "overlay",
              "size": 10,
              "solidity": 0.2
             }
            },
            "type": "bar"
           }
          ],
          "barpolar": [
           {
            "marker": {
             "line": {
              "color": "#E5ECF6",
              "width": 0.5
             },
             "pattern": {
              "fillmode": "overlay",
              "size": 10,
              "solidity": 0.2
             }
            },
            "type": "barpolar"
           }
          ],
          "carpet": [
           {
            "aaxis": {
             "endlinecolor": "#2a3f5f",
             "gridcolor": "white",
             "linecolor": "white",
             "minorgridcolor": "white",
             "startlinecolor": "#2a3f5f"
            },
            "baxis": {
             "endlinecolor": "#2a3f5f",
             "gridcolor": "white",
             "linecolor": "white",
             "minorgridcolor": "white",
             "startlinecolor": "#2a3f5f"
            },
            "type": "carpet"
           }
          ],
          "choropleth": [
           {
            "colorbar": {
             "outlinewidth": 0,
             "ticks": ""
            },
            "type": "choropleth"
           }
          ],
          "contour": [
           {
            "colorbar": {
             "outlinewidth": 0,
             "ticks": ""
            },
            "colorscale": [
             [
              0,
              "#0d0887"
             ],
             [
              0.1111111111111111,
              "#46039f"
             ],
             [
              0.2222222222222222,
              "#7201a8"
             ],
             [
              0.3333333333333333,
              "#9c179e"
             ],
             [
              0.4444444444444444,
              "#bd3786"
             ],
             [
              0.5555555555555556,
              "#d8576b"
             ],
             [
              0.6666666666666666,
              "#ed7953"
             ],
             [
              0.7777777777777778,
              "#fb9f3a"
             ],
             [
              0.8888888888888888,
              "#fdca26"
             ],
             [
              1,
              "#f0f921"
             ]
            ],
            "type": "contour"
           }
          ],
          "contourcarpet": [
           {
            "colorbar": {
             "outlinewidth": 0,
             "ticks": ""
            },
            "type": "contourcarpet"
           }
          ],
          "heatmap": [
           {
            "colorbar": {
             "outlinewidth": 0,
             "ticks": ""
            },
            "colorscale": [
             [
              0,
              "#0d0887"
             ],
             [
              0.1111111111111111,
              "#46039f"
             ],
             [
              0.2222222222222222,
              "#7201a8"
             ],
             [
              0.3333333333333333,
              "#9c179e"
             ],
             [
              0.4444444444444444,
              "#bd3786"
             ],
             [
              0.5555555555555556,
              "#d8576b"
             ],
             [
              0.6666666666666666,
              "#ed7953"
             ],
             [
              0.7777777777777778,
              "#fb9f3a"
             ],
             [
              0.8888888888888888,
              "#fdca26"
             ],
             [
              1,
              "#f0f921"
             ]
            ],
            "type": "heatmap"
           }
          ],
          "heatmapgl": [
           {
            "colorbar": {
             "outlinewidth": 0,
             "ticks": ""
            },
            "colorscale": [
             [
              0,
              "#0d0887"
             ],
             [
              0.1111111111111111,
              "#46039f"
             ],
             [
              0.2222222222222222,
              "#7201a8"
             ],
             [
              0.3333333333333333,
              "#9c179e"
             ],
             [
              0.4444444444444444,
              "#bd3786"
             ],
             [
              0.5555555555555556,
              "#d8576b"
             ],
             [
              0.6666666666666666,
              "#ed7953"
             ],
             [
              0.7777777777777778,
              "#fb9f3a"
             ],
             [
              0.8888888888888888,
              "#fdca26"
             ],
             [
              1,
              "#f0f921"
             ]
            ],
            "type": "heatmapgl"
           }
          ],
          "histogram": [
           {
            "marker": {
             "pattern": {
              "fillmode": "overlay",
              "size": 10,
              "solidity": 0.2
             }
            },
            "type": "histogram"
           }
          ],
          "histogram2d": [
           {
            "colorbar": {
             "outlinewidth": 0,
             "ticks": ""
            },
            "colorscale": [
             [
              0,
              "#0d0887"
             ],
             [
              0.1111111111111111,
              "#46039f"
             ],
             [
              0.2222222222222222,
              "#7201a8"
             ],
             [
              0.3333333333333333,
              "#9c179e"
             ],
             [
              0.4444444444444444,
              "#bd3786"
             ],
             [
              0.5555555555555556,
              "#d8576b"
             ],
             [
              0.6666666666666666,
              "#ed7953"
             ],
             [
              0.7777777777777778,
              "#fb9f3a"
             ],
             [
              0.8888888888888888,
              "#fdca26"
             ],
             [
              1,
              "#f0f921"
             ]
            ],
            "type": "histogram2d"
           }
          ],
          "histogram2dcontour": [
           {
            "colorbar": {
             "outlinewidth": 0,
             "ticks": ""
            },
            "colorscale": [
             [
              0,
              "#0d0887"
             ],
             [
              0.1111111111111111,
              "#46039f"
             ],
             [
              0.2222222222222222,
              "#7201a8"
             ],
             [
              0.3333333333333333,
              "#9c179e"
             ],
             [
              0.4444444444444444,
              "#bd3786"
             ],
             [
              0.5555555555555556,
              "#d8576b"
             ],
             [
              0.6666666666666666,
              "#ed7953"
             ],
             [
              0.7777777777777778,
              "#fb9f3a"
             ],
             [
              0.8888888888888888,
              "#fdca26"
             ],
             [
              1,
              "#f0f921"
             ]
            ],
            "type": "histogram2dcontour"
           }
          ],
          "mesh3d": [
           {
            "colorbar": {
             "outlinewidth": 0,
             "ticks": ""
            },
            "type": "mesh3d"
           }
          ],
          "parcoords": [
           {
            "line": {
             "colorbar": {
              "outlinewidth": 0,
              "ticks": ""
             }
            },
            "type": "parcoords"
           }
          ],
          "pie": [
           {
            "automargin": true,
            "type": "pie"
           }
          ],
          "scatter": [
           {
            "marker": {
             "colorbar": {
              "outlinewidth": 0,
              "ticks": ""
             }
            },
            "type": "scatter"
           }
          ],
          "scatter3d": [
           {
            "line": {
             "colorbar": {
              "outlinewidth": 0,
              "ticks": ""
             }
            },
            "marker": {
             "colorbar": {
              "outlinewidth": 0,
              "ticks": ""
             }
            },
            "type": "scatter3d"
           }
          ],
          "scattercarpet": [
           {
            "marker": {
             "colorbar": {
              "outlinewidth": 0,
              "ticks": ""
             }
            },
            "type": "scattercarpet"
           }
          ],
          "scattergeo": [
           {
            "marker": {
             "colorbar": {
              "outlinewidth": 0,
              "ticks": ""
             }
            },
            "type": "scattergeo"
           }
          ],
          "scattergl": [
           {
            "marker": {
             "colorbar": {
              "outlinewidth": 0,
              "ticks": ""
             }
            },
            "type": "scattergl"
           }
          ],
          "scattermapbox": [
           {
            "marker": {
             "colorbar": {
              "outlinewidth": 0,
              "ticks": ""
             }
            },
            "type": "scattermapbox"
           }
          ],
          "scatterpolar": [
           {
            "marker": {
             "colorbar": {
              "outlinewidth": 0,
              "ticks": ""
             }
            },
            "type": "scatterpolar"
           }
          ],
          "scatterpolargl": [
           {
            "marker": {
             "colorbar": {
              "outlinewidth": 0,
              "ticks": ""
             }
            },
            "type": "scatterpolargl"
           }
          ],
          "scatterternary": [
           {
            "marker": {
             "colorbar": {
              "outlinewidth": 0,
              "ticks": ""
             }
            },
            "type": "scatterternary"
           }
          ],
          "surface": [
           {
            "colorbar": {
             "outlinewidth": 0,
             "ticks": ""
            },
            "colorscale": [
             [
              0,
              "#0d0887"
             ],
             [
              0.1111111111111111,
              "#46039f"
             ],
             [
              0.2222222222222222,
              "#7201a8"
             ],
             [
              0.3333333333333333,
              "#9c179e"
             ],
             [
              0.4444444444444444,
              "#bd3786"
             ],
             [
              0.5555555555555556,
              "#d8576b"
             ],
             [
              0.6666666666666666,
              "#ed7953"
             ],
             [
              0.7777777777777778,
              "#fb9f3a"
             ],
             [
              0.8888888888888888,
              "#fdca26"
             ],
             [
              1,
              "#f0f921"
             ]
            ],
            "type": "surface"
           }
          ],
          "table": [
           {
            "cells": {
             "fill": {
              "color": "#EBF0F8"
             },
             "line": {
              "color": "white"
             }
            },
            "header": {
             "fill": {
              "color": "#C8D4E3"
             },
             "line": {
              "color": "white"
             }
            },
            "type": "table"
           }
          ]
         },
         "layout": {
          "annotationdefaults": {
           "arrowcolor": "#2a3f5f",
           "arrowhead": 0,
           "arrowwidth": 1
          },
          "autotypenumbers": "strict",
          "coloraxis": {
           "colorbar": {
            "outlinewidth": 0,
            "ticks": ""
           }
          },
          "colorscale": {
           "diverging": [
            [
             0,
             "#8e0152"
            ],
            [
             0.1,
             "#c51b7d"
            ],
            [
             0.2,
             "#de77ae"
            ],
            [
             0.3,
             "#f1b6da"
            ],
            [
             0.4,
             "#fde0ef"
            ],
            [
             0.5,
             "#f7f7f7"
            ],
            [
             0.6,
             "#e6f5d0"
            ],
            [
             0.7,
             "#b8e186"
            ],
            [
             0.8,
             "#7fbc41"
            ],
            [
             0.9,
             "#4d9221"
            ],
            [
             1,
             "#276419"
            ]
           ],
           "sequential": [
            [
             0,
             "#0d0887"
            ],
            [
             0.1111111111111111,
             "#46039f"
            ],
            [
             0.2222222222222222,
             "#7201a8"
            ],
            [
             0.3333333333333333,
             "#9c179e"
            ],
            [
             0.4444444444444444,
             "#bd3786"
            ],
            [
             0.5555555555555556,
             "#d8576b"
            ],
            [
             0.6666666666666666,
             "#ed7953"
            ],
            [
             0.7777777777777778,
             "#fb9f3a"
            ],
            [
             0.8888888888888888,
             "#fdca26"
            ],
            [
             1,
             "#f0f921"
            ]
           ],
           "sequentialminus": [
            [
             0,
             "#0d0887"
            ],
            [
             0.1111111111111111,
             "#46039f"
            ],
            [
             0.2222222222222222,
             "#7201a8"
            ],
            [
             0.3333333333333333,
             "#9c179e"
            ],
            [
             0.4444444444444444,
             "#bd3786"
            ],
            [
             0.5555555555555556,
             "#d8576b"
            ],
            [
             0.6666666666666666,
             "#ed7953"
            ],
            [
             0.7777777777777778,
             "#fb9f3a"
            ],
            [
             0.8888888888888888,
             "#fdca26"
            ],
            [
             1,
             "#f0f921"
            ]
           ]
          },
          "colorway": [
           "#636efa",
           "#EF553B",
           "#00cc96",
           "#ab63fa",
           "#FFA15A",
           "#19d3f3",
           "#FF6692",
           "#B6E880",
           "#FF97FF",
           "#FECB52"
          ],
          "font": {
           "color": "#2a3f5f"
          },
          "geo": {
           "bgcolor": "white",
           "lakecolor": "white",
           "landcolor": "#E5ECF6",
           "showlakes": true,
           "showland": true,
           "subunitcolor": "white"
          },
          "hoverlabel": {
           "align": "left"
          },
          "hovermode": "closest",
          "mapbox": {
           "style": "light"
          },
          "paper_bgcolor": "white",
          "plot_bgcolor": "#E5ECF6",
          "polar": {
           "angularaxis": {
            "gridcolor": "white",
            "linecolor": "white",
            "ticks": ""
           },
           "bgcolor": "#E5ECF6",
           "radialaxis": {
            "gridcolor": "white",
            "linecolor": "white",
            "ticks": ""
           }
          },
          "scene": {
           "xaxis": {
            "backgroundcolor": "#E5ECF6",
            "gridcolor": "white",
            "gridwidth": 2,
            "linecolor": "white",
            "showbackground": true,
            "ticks": "",
            "zerolinecolor": "white"
           },
           "yaxis": {
            "backgroundcolor": "#E5ECF6",
            "gridcolor": "white",
            "gridwidth": 2,
            "linecolor": "white",
            "showbackground": true,
            "ticks": "",
            "zerolinecolor": "white"
           },
           "zaxis": {
            "backgroundcolor": "#E5ECF6",
            "gridcolor": "white",
            "gridwidth": 2,
            "linecolor": "white",
            "showbackground": true,
            "ticks": "",
            "zerolinecolor": "white"
           }
          },
          "shapedefaults": {
           "line": {
            "color": "#2a3f5f"
           }
          },
          "ternary": {
           "aaxis": {
            "gridcolor": "white",
            "linecolor": "white",
            "ticks": ""
           },
           "baxis": {
            "gridcolor": "white",
            "linecolor": "white",
            "ticks": ""
           },
           "bgcolor": "#E5ECF6",
           "caxis": {
            "gridcolor": "white",
            "linecolor": "white",
            "ticks": ""
           }
          },
          "title": {
           "x": 0.05
          },
          "xaxis": {
           "automargin": true,
           "gridcolor": "white",
           "linecolor": "white",
           "ticks": "",
           "title": {
            "standoff": 15
           },
           "zerolinecolor": "white",
           "zerolinewidth": 2
          },
          "yaxis": {
           "automargin": true,
           "gridcolor": "white",
           "linecolor": "white",
           "ticks": "",
           "title": {
            "standoff": 15
           },
           "zerolinecolor": "white",
           "zerolinewidth": 2
          }
         }
        }
       }
      },
      "text/html": [
       "<div>                            <div id=\"f9c435a7-5df7-4050-927d-9a656a39222d\" class=\"plotly-graph-div\" style=\"height:525px; width:100%;\"></div>            <script type=\"text/javascript\">                require([\"plotly\"], function(Plotly) {                    window.PLOTLYENV=window.PLOTLYENV || {};                                    if (document.getElementById(\"f9c435a7-5df7-4050-927d-9a656a39222d\")) {                    Plotly.newPlot(                        \"f9c435a7-5df7-4050-927d-9a656a39222d\",                        [{\"histnorm\":\"probability\",\"x\":[0.013097390532493591,0.004860274493694305,0.005517732352018356,0.0022080340422689915,0.0013310657814145088,0.0016993398312479258,0.001246598083525896,0.001110048033297062,0.007480985950678587,0.0022410135716199875,0.0009782902197912335,0.0006815647357143462,0.0006602139328606427,0.000340549013344571,0.00033474116935394704,0.00019594670447986573,0.006734412629157305,0.0011025427374988794,0.0005227242363616824,0.0003936078865081072,0.00027279547066427767,0.00028156096232123673,0.00019858033920172602,0.0001765245251590386,0.014815829694271088,0.004426027648150921,0.0035076639614999294,0.0034775282256305218,0.001872131833806634,0.0011915735667571425,0.0012838203692808747,0.0008894030470401049,0.008808371610939503,0.0018995088757947087,0.0010629631578922272,0.0008634469122625887,0.00046882868628017604,0.0003715981438290328,0.0002883403794839978,0.0002354237949475646,0.007484918925911188,0.00218829489313066,0.0009062619647011161,0.00044782040640711784,0.00044181925477460027,0.00027500721625983715,0.00023166595201473683,0.00019931100541725755,0.008407016284763813,0.006345728412270546,0.005359525326639414,0.003002565586939454,0.0018441521096974611,0.0016092559089884162,0.0013501738430932164,0.0012397085083648562,0.008689479902386665,0.0022847407963126898,0.001205567386932671,0.0014653797261416912,0.0005817903438583016,0.00044268908095546067,0.00029290467500686646,0.00028071552515029907,0.006270409096032381,0.0012796700466424227,0.0008828762802295387,0.0005246323999017477,0.00036831237957812846,0.00024190734256990254,0.00024379536625929177,0.00019191006140317768,0.018521731719374657,0.013199160806834698,0.009669245220720768,0.00645865872502327,0.005588431842625141,0.0044374312274158,0.0042283013463020325,0.0028651412576436996,0.013908101245760918,0.006691870745271444,0.0029556741937994957,0.002468615071848035,0.0018057451816275716,0.0008536608074791729,0.0008122537401504815,0.0005778467166237533,0.008474518544971943,0.0029330463148653507,0.001973321894183755,0.0014268207596614957,0.0007480375934392214,0.0003635292814578861,0.0003376159002073109,0.0002869008749257773,0.017311986535787582,0.008298925124108791,0.0040136645548045635,0.003718877676874399,0.0033846248406916857,0.003066947450861335,0.002571730874478817,0.0022924377117305994,0.008236760273575783,0.0038792691193521023,0.002496614120900631,0.0019344318425282836,0.00161486875731498,0.001421423046849668,0.0013863957719877362,0.0011345266830176115,0.012536287307739258,0.003447433467954397,0.0020927959121763706,0.0014899608213454485,0.0016630793688818812,0.0008839255315251648,0.000785805459599942,0.0006265328847803175,0.015655919909477234,0.005705108400434256,0.0035405682865530252,0.0032290080562233925,0.0024376437067985535,0.0018871052889153361,0.0015635770978406072,0.001677961554378271,0.007128091529011726,0.0031397927086800337,0.0017770129488781095,0.0015199354384094477,0.0012908645439893007,0.0009036135743372142,0.0010600939858704805,0.0009086801437661052,0.009588021785020828,0.002486988203600049,0.0016011962434276938,0.0012693488970398903,0.000983186298981309,0.000996956368908286,0.0007413398707285523,0.000700542819686234],\"type\":\"histogram\",\"opacity\":0.5},{\"histnorm\":\"probability\",\"x\":[0.015410076826810837,0.006454497575759888,0.008302411995828152,0.003021436743438244,0.002209750469774008,0.0029200694989413023,0.0023833250161260366,0.0019128200365230441,0.010047131218016148,0.0028712779749184847,0.0012493946123868227,0.00073592783883214,0.0008760856580920517,0.0005310034612193704,0.00045677059097215533,0.00025275893858633935,0.007135523017495871,0.001098030828870833,0.0004881198692601174,0.0003065844939555973,0.0003407067561056465,0.0008912602788768709,0.00028232656768523157,0.0011215416016057134,0.018781939521431923,0.005704141221940517,0.0042635356076061726,0.004880968015640974,0.002414502901956439,0.0014915012288838625,0.0016286560567095876,0.0012624170631170273,0.010684686712920666,0.001976963598281145,0.0012782596750184894,0.0007248672773130238,0.0005015396163798869,0.00048183463513851166,0.0003048373619094491,0.0003658209752757102,0.010829240083694458,0.0033696189057081938,0.0009417308610863984,0.000443653465481475,0.00046526940423063934,0.00019878728198818862,0.0003780870756600052,0.004084629472345114,0.011486079543828964,0.008609426207840443,0.007655534893274307,0.004012811463326216,0.0027017490938305855,0.0024018692784011364,0.001798739074729383,0.0017938415985554457,0.010858035646378994,0.003297690534964204,0.0013737105764448643,0.0019046778324991465,0.0006221793591976166,0.00041988989687524736,0.00026137434178963304,0.000252862781053409,0.008640332147479057,0.0013382835313677788,0.0009034862159751356,0.0004667236644309014,0.0003256883064750582,0.00023498029622714967,0.0005703881033696234,0.0003032521635759622,0.024789292365312576,0.01805184781551361,0.013015520758926868,0.008749768137931824,0.008144005201756954,0.006238461006432772,0.0062211803160607815,0.004552653059363365,0.019391724839806557,0.009723120369017124,0.004619842395186424,0.003370143473148346,0.0023824037052690983,0.0008222797769121826,0.0008541339193470776,0.0005611850647255778,0.009538774378597736,0.002939184196293354,0.0021618790924549103,0.002029831288382411,0.0008044574060477316,0.0011569565394893289,0.00026271920069120824,0.0004493913147598505,0.01936671882867813,0.011697431094944477,0.004792416468262672,0.004823013208806515,0.003941080532968044,0.0031766758766025305,0.0027497464325278997,0.0027360140811651945,0.010735896416008472,0.004581918474286795,0.002619638340547681,0.002060502767562866,0.0015484142350032926,0.001661740941926837,0.001341655501164496,0.0013455119915306568,0.01722915656864643,0.0036672293208539486,0.002683615079149604,0.0013982373056933284,0.0018835357623174787,0.0007168946322053671,0.0009342815610580146,0.0006563123897649348,0.017784910276532173,0.00805167481303215,0.005029190797358751,0.0038542631082236767,0.0030120278242975473,0.0021622672211378813,0.0018235616153106093,0.0020385216921567917,0.009918863885104656,0.0040339818224310875,0.0018579516327008605,0.0016878660535439849,0.0015533664263784885,0.0013061683857813478,0.001352960360236466,0.0009627445251680911,0.012887399643659592,0.0029491521418094635,0.0019947104156017303,0.0013898718170821667,0.0013598109362646937,0.0010907049290835857,0.0008922995184548199,0.0009071407839655876],\"type\":\"histogram\",\"opacity\":0.5}],                        {\"template\":{\"data\":{\"bar\":[{\"error_x\":{\"color\":\"#2a3f5f\"},\"error_y\":{\"color\":\"#2a3f5f\"},\"marker\":{\"line\":{\"color\":\"#E5ECF6\",\"width\":0.5},\"pattern\":{\"fillmode\":\"overlay\",\"size\":10,\"solidity\":0.2}},\"type\":\"bar\"}],\"barpolar\":[{\"marker\":{\"line\":{\"color\":\"#E5ECF6\",\"width\":0.5},\"pattern\":{\"fillmode\":\"overlay\",\"size\":10,\"solidity\":0.2}},\"type\":\"barpolar\"}],\"carpet\":[{\"aaxis\":{\"endlinecolor\":\"#2a3f5f\",\"gridcolor\":\"white\",\"linecolor\":\"white\",\"minorgridcolor\":\"white\",\"startlinecolor\":\"#2a3f5f\"},\"baxis\":{\"endlinecolor\":\"#2a3f5f\",\"gridcolor\":\"white\",\"linecolor\":\"white\",\"minorgridcolor\":\"white\",\"startlinecolor\":\"#2a3f5f\"},\"type\":\"carpet\"}],\"choropleth\":[{\"colorbar\":{\"outlinewidth\":0,\"ticks\":\"\"},\"type\":\"choropleth\"}],\"contour\":[{\"colorbar\":{\"outlinewidth\":0,\"ticks\":\"\"},\"colorscale\":[[0.0,\"#0d0887\"],[0.1111111111111111,\"#46039f\"],[0.2222222222222222,\"#7201a8\"],[0.3333333333333333,\"#9c179e\"],[0.4444444444444444,\"#bd3786\"],[0.5555555555555556,\"#d8576b\"],[0.6666666666666666,\"#ed7953\"],[0.7777777777777778,\"#fb9f3a\"],[0.8888888888888888,\"#fdca26\"],[1.0,\"#f0f921\"]],\"type\":\"contour\"}],\"contourcarpet\":[{\"colorbar\":{\"outlinewidth\":0,\"ticks\":\"\"},\"type\":\"contourcarpet\"}],\"heatmap\":[{\"colorbar\":{\"outlinewidth\":0,\"ticks\":\"\"},\"colorscale\":[[0.0,\"#0d0887\"],[0.1111111111111111,\"#46039f\"],[0.2222222222222222,\"#7201a8\"],[0.3333333333333333,\"#9c179e\"],[0.4444444444444444,\"#bd3786\"],[0.5555555555555556,\"#d8576b\"],[0.6666666666666666,\"#ed7953\"],[0.7777777777777778,\"#fb9f3a\"],[0.8888888888888888,\"#fdca26\"],[1.0,\"#f0f921\"]],\"type\":\"heatmap\"}],\"heatmapgl\":[{\"colorbar\":{\"outlinewidth\":0,\"ticks\":\"\"},\"colorscale\":[[0.0,\"#0d0887\"],[0.1111111111111111,\"#46039f\"],[0.2222222222222222,\"#7201a8\"],[0.3333333333333333,\"#9c179e\"],[0.4444444444444444,\"#bd3786\"],[0.5555555555555556,\"#d8576b\"],[0.6666666666666666,\"#ed7953\"],[0.7777777777777778,\"#fb9f3a\"],[0.8888888888888888,\"#fdca26\"],[1.0,\"#f0f921\"]],\"type\":\"heatmapgl\"}],\"histogram\":[{\"marker\":{\"pattern\":{\"fillmode\":\"overlay\",\"size\":10,\"solidity\":0.2}},\"type\":\"histogram\"}],\"histogram2d\":[{\"colorbar\":{\"outlinewidth\":0,\"ticks\":\"\"},\"colorscale\":[[0.0,\"#0d0887\"],[0.1111111111111111,\"#46039f\"],[0.2222222222222222,\"#7201a8\"],[0.3333333333333333,\"#9c179e\"],[0.4444444444444444,\"#bd3786\"],[0.5555555555555556,\"#d8576b\"],[0.6666666666666666,\"#ed7953\"],[0.7777777777777778,\"#fb9f3a\"],[0.8888888888888888,\"#fdca26\"],[1.0,\"#f0f921\"]],\"type\":\"histogram2d\"}],\"histogram2dcontour\":[{\"colorbar\":{\"outlinewidth\":0,\"ticks\":\"\"},\"colorscale\":[[0.0,\"#0d0887\"],[0.1111111111111111,\"#46039f\"],[0.2222222222222222,\"#7201a8\"],[0.3333333333333333,\"#9c179e\"],[0.4444444444444444,\"#bd3786\"],[0.5555555555555556,\"#d8576b\"],[0.6666666666666666,\"#ed7953\"],[0.7777777777777778,\"#fb9f3a\"],[0.8888888888888888,\"#fdca26\"],[1.0,\"#f0f921\"]],\"type\":\"histogram2dcontour\"}],\"mesh3d\":[{\"colorbar\":{\"outlinewidth\":0,\"ticks\":\"\"},\"type\":\"mesh3d\"}],\"parcoords\":[{\"line\":{\"colorbar\":{\"outlinewidth\":0,\"ticks\":\"\"}},\"type\":\"parcoords\"}],\"pie\":[{\"automargin\":true,\"type\":\"pie\"}],\"scatter\":[{\"marker\":{\"colorbar\":{\"outlinewidth\":0,\"ticks\":\"\"}},\"type\":\"scatter\"}],\"scatter3d\":[{\"line\":{\"colorbar\":{\"outlinewidth\":0,\"ticks\":\"\"}},\"marker\":{\"colorbar\":{\"outlinewidth\":0,\"ticks\":\"\"}},\"type\":\"scatter3d\"}],\"scattercarpet\":[{\"marker\":{\"colorbar\":{\"outlinewidth\":0,\"ticks\":\"\"}},\"type\":\"scattercarpet\"}],\"scattergeo\":[{\"marker\":{\"colorbar\":{\"outlinewidth\":0,\"ticks\":\"\"}},\"type\":\"scattergeo\"}],\"scattergl\":[{\"marker\":{\"colorbar\":{\"outlinewidth\":0,\"ticks\":\"\"}},\"type\":\"scattergl\"}],\"scattermapbox\":[{\"marker\":{\"colorbar\":{\"outlinewidth\":0,\"ticks\":\"\"}},\"type\":\"scattermapbox\"}],\"scatterpolar\":[{\"marker\":{\"colorbar\":{\"outlinewidth\":0,\"ticks\":\"\"}},\"type\":\"scatterpolar\"}],\"scatterpolargl\":[{\"marker\":{\"colorbar\":{\"outlinewidth\":0,\"ticks\":\"\"}},\"type\":\"scatterpolargl\"}],\"scatterternary\":[{\"marker\":{\"colorbar\":{\"outlinewidth\":0,\"ticks\":\"\"}},\"type\":\"scatterternary\"}],\"surface\":[{\"colorbar\":{\"outlinewidth\":0,\"ticks\":\"\"},\"colorscale\":[[0.0,\"#0d0887\"],[0.1111111111111111,\"#46039f\"],[0.2222222222222222,\"#7201a8\"],[0.3333333333333333,\"#9c179e\"],[0.4444444444444444,\"#bd3786\"],[0.5555555555555556,\"#d8576b\"],[0.6666666666666666,\"#ed7953\"],[0.7777777777777778,\"#fb9f3a\"],[0.8888888888888888,\"#fdca26\"],[1.0,\"#f0f921\"]],\"type\":\"surface\"}],\"table\":[{\"cells\":{\"fill\":{\"color\":\"#EBF0F8\"},\"line\":{\"color\":\"white\"}},\"header\":{\"fill\":{\"color\":\"#C8D4E3\"},\"line\":{\"color\":\"white\"}},\"type\":\"table\"}]},\"layout\":{\"annotationdefaults\":{\"arrowcolor\":\"#2a3f5f\",\"arrowhead\":0,\"arrowwidth\":1},\"autotypenumbers\":\"strict\",\"coloraxis\":{\"colorbar\":{\"outlinewidth\":0,\"ticks\":\"\"}},\"colorscale\":{\"diverging\":[[0,\"#8e0152\"],[0.1,\"#c51b7d\"],[0.2,\"#de77ae\"],[0.3,\"#f1b6da\"],[0.4,\"#fde0ef\"],[0.5,\"#f7f7f7\"],[0.6,\"#e6f5d0\"],[0.7,\"#b8e186\"],[0.8,\"#7fbc41\"],[0.9,\"#4d9221\"],[1,\"#276419\"]],\"sequential\":[[0.0,\"#0d0887\"],[0.1111111111111111,\"#46039f\"],[0.2222222222222222,\"#7201a8\"],[0.3333333333333333,\"#9c179e\"],[0.4444444444444444,\"#bd3786\"],[0.5555555555555556,\"#d8576b\"],[0.6666666666666666,\"#ed7953\"],[0.7777777777777778,\"#fb9f3a\"],[0.8888888888888888,\"#fdca26\"],[1.0,\"#f0f921\"]],\"sequentialminus\":[[0.0,\"#0d0887\"],[0.1111111111111111,\"#46039f\"],[0.2222222222222222,\"#7201a8\"],[0.3333333333333333,\"#9c179e\"],[0.4444444444444444,\"#bd3786\"],[0.5555555555555556,\"#d8576b\"],[0.6666666666666666,\"#ed7953\"],[0.7777777777777778,\"#fb9f3a\"],[0.8888888888888888,\"#fdca26\"],[1.0,\"#f0f921\"]]},\"colorway\":[\"#636efa\",\"#EF553B\",\"#00cc96\",\"#ab63fa\",\"#FFA15A\",\"#19d3f3\",\"#FF6692\",\"#B6E880\",\"#FF97FF\",\"#FECB52\"],\"font\":{\"color\":\"#2a3f5f\"},\"geo\":{\"bgcolor\":\"white\",\"lakecolor\":\"white\",\"landcolor\":\"#E5ECF6\",\"showlakes\":true,\"showland\":true,\"subunitcolor\":\"white\"},\"hoverlabel\":{\"align\":\"left\"},\"hovermode\":\"closest\",\"mapbox\":{\"style\":\"light\"},\"paper_bgcolor\":\"white\",\"plot_bgcolor\":\"#E5ECF6\",\"polar\":{\"angularaxis\":{\"gridcolor\":\"white\",\"linecolor\":\"white\",\"ticks\":\"\"},\"bgcolor\":\"#E5ECF6\",\"radialaxis\":{\"gridcolor\":\"white\",\"linecolor\":\"white\",\"ticks\":\"\"}},\"scene\":{\"xaxis\":{\"backgroundcolor\":\"#E5ECF6\",\"gridcolor\":\"white\",\"gridwidth\":2,\"linecolor\":\"white\",\"showbackground\":true,\"ticks\":\"\",\"zerolinecolor\":\"white\"},\"yaxis\":{\"backgroundcolor\":\"#E5ECF6\",\"gridcolor\":\"white\",\"gridwidth\":2,\"linecolor\":\"white\",\"showbackground\":true,\"ticks\":\"\",\"zerolinecolor\":\"white\"},\"zaxis\":{\"backgroundcolor\":\"#E5ECF6\",\"gridcolor\":\"white\",\"gridwidth\":2,\"linecolor\":\"white\",\"showbackground\":true,\"ticks\":\"\",\"zerolinecolor\":\"white\"}},\"shapedefaults\":{\"line\":{\"color\":\"#2a3f5f\"}},\"ternary\":{\"aaxis\":{\"gridcolor\":\"white\",\"linecolor\":\"white\",\"ticks\":\"\"},\"baxis\":{\"gridcolor\":\"white\",\"linecolor\":\"white\",\"ticks\":\"\"},\"bgcolor\":\"#E5ECF6\",\"caxis\":{\"gridcolor\":\"white\",\"linecolor\":\"white\",\"ticks\":\"\"}},\"title\":{\"x\":0.05},\"xaxis\":{\"automargin\":true,\"gridcolor\":\"white\",\"linecolor\":\"white\",\"ticks\":\"\",\"title\":{\"standoff\":15},\"zerolinecolor\":\"white\",\"zerolinewidth\":2},\"yaxis\":{\"automargin\":true,\"gridcolor\":\"white\",\"linecolor\":\"white\",\"ticks\":\"\",\"title\":{\"standoff\":15},\"zerolinecolor\":\"white\",\"zerolinewidth\":2}}},\"barmode\":\"overlay\"},                        {\"responsive\": true}                    ).then(function(){\n",
       "                            \n",
       "var gd = document.getElementById('f9c435a7-5df7-4050-927d-9a656a39222d');\n",
       "var x = new MutationObserver(function (mutations, observer) {{\n",
       "        var display = window.getComputedStyle(gd).display;\n",
       "        if (!display || display === 'none') {{\n",
       "            console.log([gd, 'removed!']);\n",
       "            Plotly.purge(gd);\n",
       "            observer.disconnect();\n",
       "        }}\n",
       "}});\n",
       "\n",
       "// Listen for the removal of the full notebook cells\n",
       "var notebookContainer = gd.closest('#notebook-container');\n",
       "if (notebookContainer) {{\n",
       "    x.observe(notebookContainer, {childList: true});\n",
       "}}\n",
       "\n",
       "// Listen for the clearing of the current output cell\n",
       "var outputEl = gd.closest('.output');\n",
       "if (outputEl) {{\n",
       "    x.observe(outputEl, {childList: true});\n",
       "}}\n",
       "\n",
       "                        })                };                });            </script>        </div>"
      ]
     },
     "metadata": {},
     "output_type": "display_data"
    }
   ],
   "source": [
    "import plotly.graph_objects as go\n",
    "\n",
    "import numpy as np\n",
    "\n",
    "x0 = report_df['train_mse']\n",
    "x1 = report_df['val_mse']\n",
    "\n",
    "\n",
    "fig = go.Figure()\n",
    "fig.add_trace(go.Histogram(x=x0,histnorm='probability'))\n",
    "fig.add_trace(go.Histogram(x=x1,histnorm='probability'))\n",
    "\n",
    "# The two histograms are drawn on top of another\n",
    "fig.update_layout(barmode='overlay')\n",
    "fig.update_traces(opacity=0.5)\n",
    "fig.show()"
   ]
  },
  {
   "cell_type": "code",
   "execution_count": 153,
   "id": "e449ca33",
   "metadata": {
    "ExecuteTime": {
     "end_time": "2022-09-07T10:08:30.806816Z",
     "start_time": "2022-09-07T10:08:30.718510Z"
    }
   },
   "outputs": [
    {
     "data": {
      "application/vnd.plotly.v1+json": {
       "config": {
        "plotlyServerURL": "https://plot.ly"
       },
       "data": [
        {
         "autobinx": false,
         "histnorm": "probability density",
         "legendgroup": "Train MSE",
         "marker": {
          "color": "#A56CC1"
         },
         "name": "Train MSE",
         "opacity": 0.7,
         "type": "histogram",
         "x": [
          0.013097390532493591,
          0.004860274493694305,
          0.005517732352018356,
          0.0022080340422689915,
          0.0013310657814145088,
          0.0016993398312479258,
          0.001246598083525896,
          0.001110048033297062,
          0.007480985950678587,
          0.0022410135716199875,
          0.0009782902197912335,
          0.0006815647357143462,
          0.0006602139328606427,
          0.000340549013344571,
          0.00033474116935394704,
          0.00019594670447986573,
          0.006734412629157305,
          0.0011025427374988794,
          0.0005227242363616824,
          0.0003936078865081072,
          0.00027279547066427767,
          0.00028156096232123673,
          0.00019858033920172602,
          0.0001765245251590386,
          0.014815829694271088,
          0.004426027648150921,
          0.0035076639614999294,
          0.0034775282256305218,
          0.001872131833806634,
          0.0011915735667571425,
          0.0012838203692808747,
          0.0008894030470401049,
          0.008808371610939503,
          0.0018995088757947087,
          0.0010629631578922272,
          0.0008634469122625887,
          0.00046882868628017604,
          0.0003715981438290328,
          0.0002883403794839978,
          0.0002354237949475646,
          0.007484918925911188,
          0.00218829489313066,
          0.0009062619647011161,
          0.00044782040640711784,
          0.00044181925477460027,
          0.00027500721625983715,
          0.00023166595201473683,
          0.00019931100541725755,
          0.008407016284763813,
          0.006345728412270546,
          0.005359525326639414,
          0.003002565586939454,
          0.0018441521096974611,
          0.0016092559089884162,
          0.0013501738430932164,
          0.0012397085083648562,
          0.008689479902386665,
          0.0022847407963126898,
          0.001205567386932671,
          0.0014653797261416912,
          0.0005817903438583016,
          0.00044268908095546067,
          0.00029290467500686646,
          0.00028071552515029907,
          0.006270409096032381,
          0.0012796700466424227,
          0.0008828762802295387,
          0.0005246323999017477,
          0.00036831237957812846,
          0.00024190734256990254,
          0.00024379536625929177,
          0.00019191006140317768,
          0.018521731719374657,
          0.013199160806834698,
          0.009669245220720768,
          0.00645865872502327,
          0.005588431842625141,
          0.0044374312274158,
          0.0042283013463020325,
          0.0028651412576436996,
          0.013908101245760918,
          0.006691870745271444,
          0.0029556741937994957,
          0.002468615071848035,
          0.0018057451816275716,
          0.0008536608074791729,
          0.0008122537401504815,
          0.0005778467166237533,
          0.008474518544971943,
          0.0029330463148653507,
          0.001973321894183755,
          0.0014268207596614957,
          0.0007480375934392214,
          0.0003635292814578861,
          0.0003376159002073109,
          0.0002869008749257773,
          0.017311986535787582,
          0.008298925124108791,
          0.0040136645548045635,
          0.003718877676874399,
          0.0033846248406916857,
          0.003066947450861335,
          0.002571730874478817,
          0.0022924377117305994,
          0.008236760273575783,
          0.0038792691193521023,
          0.002496614120900631,
          0.0019344318425282836,
          0.00161486875731498,
          0.001421423046849668,
          0.0013863957719877362,
          0.0011345266830176115,
          0.012536287307739258,
          0.003447433467954397,
          0.0020927959121763706,
          0.0014899608213454485,
          0.0016630793688818812,
          0.0008839255315251648,
          0.000785805459599942,
          0.0006265328847803175,
          0.015655919909477234,
          0.005705108400434256,
          0.0035405682865530252,
          0.0032290080562233925,
          0.0024376437067985535,
          0.0018871052889153361,
          0.0015635770978406072,
          0.001677961554378271,
          0.007128091529011726,
          0.0031397927086800337,
          0.0017770129488781095,
          0.0015199354384094477,
          0.0012908645439893007,
          0.0009036135743372142,
          0.0010600939858704805,
          0.0009086801437661052,
          0.009588021785020828,
          0.002486988203600049,
          0.0016011962434276938,
          0.0012693488970398903,
          0.000983186298981309,
          0.000996956368908286,
          0.0007413398707285523,
          0.000700542819686234
         ],
         "xaxis": "x",
         "xbins": {
          "end": 0.018521731719374657,
          "size": 0.2,
          "start": 0.0001765245251590386
         },
         "yaxis": "y"
        },
        {
         "autobinx": false,
         "histnorm": "probability density",
         "legendgroup": "Val MSE",
         "marker": {
          "color": "#A6ACEC"
         },
         "name": "Val MSE",
         "opacity": 0.7,
         "type": "histogram",
         "x": [
          0.015410076826810837,
          0.006454497575759888,
          0.008302411995828152,
          0.003021436743438244,
          0.002209750469774008,
          0.0029200694989413023,
          0.0023833250161260366,
          0.0019128200365230441,
          0.010047131218016148,
          0.0028712779749184847,
          0.0012493946123868227,
          0.00073592783883214,
          0.0008760856580920517,
          0.0005310034612193704,
          0.00045677059097215533,
          0.00025275893858633935,
          0.007135523017495871,
          0.001098030828870833,
          0.0004881198692601174,
          0.0003065844939555973,
          0.0003407067561056465,
          0.0008912602788768709,
          0.00028232656768523157,
          0.0011215416016057134,
          0.018781939521431923,
          0.005704141221940517,
          0.0042635356076061726,
          0.004880968015640974,
          0.002414502901956439,
          0.0014915012288838625,
          0.0016286560567095876,
          0.0012624170631170273,
          0.010684686712920666,
          0.001976963598281145,
          0.0012782596750184894,
          0.0007248672773130238,
          0.0005015396163798869,
          0.00048183463513851166,
          0.0003048373619094491,
          0.0003658209752757102,
          0.010829240083694458,
          0.0033696189057081938,
          0.0009417308610863984,
          0.000443653465481475,
          0.00046526940423063934,
          0.00019878728198818862,
          0.0003780870756600052,
          0.004084629472345114,
          0.011486079543828964,
          0.008609426207840443,
          0.007655534893274307,
          0.004012811463326216,
          0.0027017490938305855,
          0.0024018692784011364,
          0.001798739074729383,
          0.0017938415985554457,
          0.010858035646378994,
          0.003297690534964204,
          0.0013737105764448643,
          0.0019046778324991465,
          0.0006221793591976166,
          0.00041988989687524736,
          0.00026137434178963304,
          0.000252862781053409,
          0.008640332147479057,
          0.0013382835313677788,
          0.0009034862159751356,
          0.0004667236644309014,
          0.0003256883064750582,
          0.00023498029622714967,
          0.0005703881033696234,
          0.0003032521635759622,
          0.024789292365312576,
          0.01805184781551361,
          0.013015520758926868,
          0.008749768137931824,
          0.008144005201756954,
          0.006238461006432772,
          0.0062211803160607815,
          0.004552653059363365,
          0.019391724839806557,
          0.009723120369017124,
          0.004619842395186424,
          0.003370143473148346,
          0.0023824037052690983,
          0.0008222797769121826,
          0.0008541339193470776,
          0.0005611850647255778,
          0.009538774378597736,
          0.002939184196293354,
          0.0021618790924549103,
          0.002029831288382411,
          0.0008044574060477316,
          0.0011569565394893289,
          0.00026271920069120824,
          0.0004493913147598505,
          0.01936671882867813,
          0.011697431094944477,
          0.004792416468262672,
          0.004823013208806515,
          0.003941080532968044,
          0.0031766758766025305,
          0.0027497464325278997,
          0.0027360140811651945,
          0.010735896416008472,
          0.004581918474286795,
          0.002619638340547681,
          0.002060502767562866,
          0.0015484142350032926,
          0.001661740941926837,
          0.001341655501164496,
          0.0013455119915306568,
          0.01722915656864643,
          0.0036672293208539486,
          0.002683615079149604,
          0.0013982373056933284,
          0.0018835357623174787,
          0.0007168946322053671,
          0.0009342815610580146,
          0.0006563123897649348,
          0.017784910276532173,
          0.00805167481303215,
          0.005029190797358751,
          0.0038542631082236767,
          0.0030120278242975473,
          0.0021622672211378813,
          0.0018235616153106093,
          0.0020385216921567917,
          0.009918863885104656,
          0.0040339818224310875,
          0.0018579516327008605,
          0.0016878660535439849,
          0.0015533664263784885,
          0.0013061683857813478,
          0.001352960360236466,
          0.0009627445251680911,
          0.012887399643659592,
          0.0029491521418094635,
          0.0019947104156017303,
          0.0013898718170821667,
          0.0013598109362646937,
          0.0010907049290835857,
          0.0008922995184548199,
          0.0009071407839655876
         ],
         "xaxis": "x",
         "xbins": {
          "end": 0.024789292365312576,
          "size": 0.2,
          "start": 0.00019878728198818862
         },
         "yaxis": "y"
        },
        {
         "legendgroup": "Train MSE",
         "marker": {
          "color": "#A56CC1"
         },
         "mode": "lines",
         "name": "Train MSE",
         "showlegend": false,
         "type": "scatter",
         "x": [
          0.0001765245251590386,
          0.00021321493954746984,
          0.00024990535393590107,
          0.00028659576832433233,
          0.00032328618271276353,
          0.0003599765971011948,
          0.00039666701148962605,
          0.00043335742587805726,
          0.0004700478402664885,
          0.0005067382546549197,
          0.000543428669043351,
          0.0005801190834317821,
          0.0006168094978202135,
          0.0006534999122086447,
          0.0006901903265970759,
          0.0007268807409855072,
          0.0007635711553739384,
          0.0008002615697623696,
          0.0008369519841508008,
          0.0008736423985392321,
          0.0009103328129276634,
          0.0009470232273160945,
          0.0009837136417045257,
          0.001020404056092957,
          0.0010570944704813884,
          0.0010937848848698196,
          0.0011304752992582507,
          0.001167165713646682,
          0.0012038561280351132,
          0.0012405465424235444,
          0.0012772369568119757,
          0.0013139273712004069,
          0.0013506177855888383,
          0.0013873081999772694,
          0.0014239986143657006,
          0.001460689028754132,
          0.001497379443142563,
          0.0015340698575309944,
          0.0015707602719194256,
          0.0016074506863078568,
          0.0016441411006962881,
          0.0016808315150847193,
          0.0017175219294731504,
          0.0017542123438615818,
          0.001790902758250013,
          0.0018275931726384443,
          0.0018642835870268755,
          0.0019009740014153066,
          0.001937664415803738,
          0.001974354830192169,
          0.0020110452445806005,
          0.0020477356589690314,
          0.002084426073357463,
          0.002121116487745894,
          0.0021578069021343255,
          0.0021944973165227565,
          0.002231187730911188,
          0.002267878145299619,
          0.00230456855968805,
          0.0023412589740764815,
          0.002377949388464913,
          0.002414639802853344,
          0.002451330217241775,
          0.0024880206316302065,
          0.002524711046018638,
          0.002561401460407069,
          0.0025980918747955,
          0.0026347822891839316,
          0.0026714727035723625,
          0.002708163117960794,
          0.0027448535323492253,
          0.002781543946737656,
          0.0028182343611260876,
          0.002854924775514519,
          0.0028916151899029503,
          0.0029283056042913812,
          0.0029649960186798126,
          0.003001686433068244,
          0.003038376847456675,
          0.0030750672618451063,
          0.0031117576762335376,
          0.0031484480906219686,
          0.0031851385050104,
          0.0032218289193988313,
          0.0032585193337872622,
          0.0032952097481756936,
          0.003331900162564125,
          0.0033685905769525563,
          0.0034052809913409873,
          0.0034419714057294186,
          0.00347866182011785,
          0.003515352234506281,
          0.0035520426488947123,
          0.0035887330632831437,
          0.0036254234776715746,
          0.003662113892060006,
          0.0036988043064484374,
          0.0037354947208368687,
          0.0037721851352252997,
          0.003808875549613731,
          0.0038455659640021624,
          0.0038822563783905933,
          0.003918946792779024,
          0.0039556372071674565,
          0.003992327621555887,
          0.004029018035944318,
          0.00406570845033275,
          0.004102398864721181,
          0.0041390892791096125,
          0.004175779693498043,
          0.004212470107886474,
          0.004249160522274906,
          0.004285850936663337,
          0.0043225413510517684,
          0.0043592317654402,
          0.004395922179828631,
          0.004432612594217062,
          0.004469303008605493,
          0.004505993422993924,
          0.004542683837382356,
          0.004579374251770787,
          0.0046160646661592185,
          0.004652755080547649,
          0.00468944549493608,
          0.004726135909324512,
          0.004762826323712943,
          0.0047995167381013745,
          0.004836207152489806,
          0.004872897566878237,
          0.004909587981266668,
          0.004946278395655099,
          0.0049829688100435305,
          0.005019659224431962,
          0.005056349638820393,
          0.0050930400532088246,
          0.005129730467597255,
          0.0051664208819856864,
          0.005203111296374118,
          0.005239801710762549,
          0.0052764921251509805,
          0.005313182539539412,
          0.005349872953927843,
          0.005386563368316274,
          0.005423253782704705,
          0.0054599441970931365,
          0.005496634611481568,
          0.005533325025869999,
          0.005570015440258431,
          0.005606705854646862,
          0.0056433962690352925,
          0.005680086683423724,
          0.005716777097812155,
          0.005753467512200587,
          0.005790157926589018,
          0.005826848340977449,
          0.00586353875536588,
          0.005900229169754311,
          0.0059369195841427426,
          0.005973609998531174,
          0.006010300412919605,
          0.006046990827308037,
          0.006083681241696468,
          0.0061203716560848985,
          0.00615706207047333,
          0.006193752484861761,
          0.006230442899250193,
          0.006267133313638624,
          0.006303823728027055,
          0.006340514142415486,
          0.006377204556803917,
          0.006413894971192349,
          0.00645058538558078,
          0.006487275799969211,
          0.006523966214357643,
          0.006560656628746074,
          0.006597347043134505,
          0.006634037457522936,
          0.006670727871911367,
          0.006707418286299799,
          0.00674410870068823,
          0.006780799115076661,
          0.006817489529465092,
          0.006854179943853523,
          0.006890870358241955,
          0.006927560772630386,
          0.006964251187018817,
          0.007000941601407249,
          0.00703763201579568,
          0.007074322430184111,
          0.007111012844572542,
          0.007147703258960973,
          0.007184393673349405,
          0.007221084087737836,
          0.0072577745021262675,
          0.007294464916514699,
          0.007331155330903129,
          0.007367845745291561,
          0.007404536159679992,
          0.0074412265740684234,
          0.007477916988456855,
          0.007514607402845286,
          0.007551297817233717,
          0.007587988231622148,
          0.007624678646010579,
          0.007661369060399011,
          0.007698059474787442,
          0.0077347498891758735,
          0.007771440303564305,
          0.007808130717952735,
          0.007844821132341168,
          0.007881511546729598,
          0.007918201961118029,
          0.00795489237550646,
          0.007991582789894891,
          0.008028273204283324,
          0.008064963618671754,
          0.008101654033060186,
          0.008138344447448617,
          0.008175034861837047,
          0.00821172527622548,
          0.00824841569061391,
          0.008285106105002342,
          0.008321796519390773,
          0.008358486933779205,
          0.008395177348167636,
          0.008431867762556066,
          0.008468558176944498,
          0.008505248591332929,
          0.008541939005721361,
          0.008578629420109792,
          0.008615319834498224,
          0.008652010248886654,
          0.008688700663275085,
          0.008725391077663517,
          0.008762081492051947,
          0.00879877190644038,
          0.00883546232082881,
          0.00887215273521724,
          0.008908843149605673,
          0.008945533563994103,
          0.008982223978382536,
          0.009018914392770966,
          0.009055604807159398,
          0.009092295221547829,
          0.00912898563593626,
          0.009165676050324692,
          0.009202366464713122,
          0.009239056879101554,
          0.009275747293489985,
          0.009312437707878417,
          0.009349128122266848,
          0.009385818536655278,
          0.00942250895104371,
          0.009459199365432141,
          0.009495889779820573,
          0.009532580194209004,
          0.009569270608597436,
          0.009605961022985866,
          0.009642651437374297,
          0.009679341851762729,
          0.00971603226615116,
          0.009752722680539592,
          0.009789413094928022,
          0.009826103509316455,
          0.009862793923704885,
          0.009899484338093316,
          0.009936174752481748,
          0.009972865166870178,
          0.01000955558125861,
          0.010046245995647041,
          0.010082936410035472,
          0.010119626824423904,
          0.010156317238812334,
          0.010193007653200767,
          0.010229698067589197,
          0.01026638848197763,
          0.01030307889636606,
          0.01033976931075449,
          0.010376459725142922,
          0.010413150139531353,
          0.010449840553919785,
          0.010486530968308216,
          0.010523221382696648,
          0.010559911797085078,
          0.010596602211473509,
          0.010633292625861941,
          0.010669983040250372,
          0.010706673454638804,
          0.010743363869027234,
          0.010780054283415667,
          0.010816744697804097,
          0.010853435112192528,
          0.01089012552658096,
          0.01092681594096939,
          0.010963506355357823,
          0.011000196769746253,
          0.011036887184134685,
          0.011073577598523116,
          0.011110268012911546,
          0.011146958427299979,
          0.011183648841688409,
          0.011220339256076841,
          0.011257029670465272,
          0.011293720084853702,
          0.011330410499242135,
          0.011367100913630565,
          0.011403791328018997,
          0.011440481742407428,
          0.01147717215679586,
          0.01151386257118429,
          0.011550552985572721,
          0.011587243399961153,
          0.011623933814349584,
          0.011660624228738016,
          0.011697314643126447,
          0.011734005057514879,
          0.01177069547190331,
          0.01180738588629174,
          0.011844076300680172,
          0.011880766715068602,
          0.011917457129457035,
          0.011954147543845465,
          0.011990837958233897,
          0.012027528372622328,
          0.012064218787010758,
          0.01210090920139919,
          0.012137599615787621,
          0.012174290030176053,
          0.012210980444564484,
          0.012247670858952914,
          0.012284361273341347,
          0.012321051687729777,
          0.01235774210211821,
          0.01239443251650664,
          0.012431122930895072,
          0.012467813345283503,
          0.012504503759671933,
          0.012541194174060365,
          0.012577884588448796,
          0.012614575002837228,
          0.012651265417225659,
          0.01268795583161409,
          0.012724646246002521,
          0.012761336660390952,
          0.012798027074779384,
          0.012834717489167815,
          0.012871407903556247,
          0.012908098317944677,
          0.01294478873233311,
          0.01298147914672154,
          0.01301816956110997,
          0.013054859975498403,
          0.013091550389886833,
          0.013128240804275266,
          0.013164931218663696,
          0.013201621633052128,
          0.013238312047440559,
          0.01327500246182899,
          0.013311692876217422,
          0.013348383290605852,
          0.013385073704994284,
          0.013421764119382715,
          0.013458454533771145,
          0.013495144948159577,
          0.013531835362548008,
          0.01356852577693644,
          0.01360521619132487,
          0.013641906605713303,
          0.013678597020101733,
          0.013715287434490164,
          0.013751977848878596,
          0.013788668263267027,
          0.013825358677655459,
          0.01386204909204389,
          0.013898739506432322,
          0.013935429920820752,
          0.013972120335209183,
          0.014008810749597615,
          0.014045501163986045,
          0.014082191578374478,
          0.014118881992762908,
          0.01415557240715134,
          0.01419226282153977,
          0.014228953235928201,
          0.014265643650316634,
          0.014302334064705064,
          0.014339024479093496,
          0.014375714893481927,
          0.014412405307870359,
          0.01444909572225879,
          0.01448578613664722,
          0.014522476551035652,
          0.014559166965424083,
          0.014595857379812515,
          0.014632547794200946,
          0.014669238208589376,
          0.014705928622977808,
          0.014742619037366239,
          0.014779309451754671,
          0.014815999866143102,
          0.014852690280531534,
          0.014889380694919964,
          0.014926071109308395,
          0.014962761523696827,
          0.014999451938085257,
          0.01503614235247369,
          0.01507283276686212,
          0.015109523181250552,
          0.015146213595638983,
          0.015182904010027413,
          0.015219594424415846,
          0.015256284838804276,
          0.015292975253192708,
          0.015329665667581139,
          0.015366356081969571,
          0.015403046496358002,
          0.015439736910746432,
          0.015476427325134864,
          0.015513117739523295,
          0.015549808153911727,
          0.015586498568300158,
          0.01562318898268859,
          0.01565987939707702,
          0.01569656981146545,
          0.015733260225853883,
          0.015769950640242315,
          0.015806641054630744,
          0.015843331469019176,
          0.01588002188340761,
          0.015916712297796037,
          0.01595340271218447,
          0.015990093126572902,
          0.016026783540961334,
          0.016063473955349763,
          0.016100164369738195,
          0.016136854784126627,
          0.016173545198515056,
          0.01621023561290349,
          0.01624692602729192,
          0.016283616441680353,
          0.01632030685606878,
          0.016356997270457214,
          0.016393687684845646,
          0.016430378099234075,
          0.016467068513622507,
          0.01650375892801094,
          0.01654044934239937,
          0.0165771397567878,
          0.016613830171176232,
          0.016650520585564665,
          0.016687210999953093,
          0.016723901414341526,
          0.016760591828729958,
          0.01679728224311839,
          0.01683397265750682,
          0.01687066307189525,
          0.016907353486283683,
          0.016944043900672112,
          0.016980734315060544,
          0.017017424729448977,
          0.01705411514383741,
          0.017090805558225838,
          0.01712749597261427,
          0.017164186387002702,
          0.01720087680139113,
          0.017237567215779563,
          0.017274257630167995,
          0.017310948044556428,
          0.017347638458944856,
          0.01738432887333329,
          0.01742101928772172,
          0.01745770970211015,
          0.017494400116498582,
          0.017531090530887014,
          0.017567780945275443,
          0.017604471359663875,
          0.017641161774052307,
          0.01767785218844074,
          0.01771454260282917,
          0.0177512330172176,
          0.017787923431606033,
          0.01782461384599446,
          0.017861304260382894,
          0.017897994674771326,
          0.017934685089159758,
          0.017971375503548187,
          0.01800806591793662,
          0.01804475633232505,
          0.01808144674671348,
          0.018118137161101912,
          0.018154827575490345,
          0.018191517989878777,
          0.018228208404267206,
          0.018264898818655638,
          0.01830158923304407,
          0.0183382796474325,
          0.01837497006182093,
          0.018411660476209363,
          0.018448350890597796,
          0.018485041304986224
         ],
         "xaxis": "x",
         "y": [
          150.7870607586255,
          152.90504802546798,
          154.96806245107922,
          156.97347194601844,
          158.91872600566683,
          160.80136195426562,
          162.61901094983736,
          164.36940372788052,
          166.05037606281263,
          167.6598739273122,
          169.19595833099493,
          170.65680982122888,
          172.04073263034098,
          173.3461584550003,
          174.57164985514925,
          175.7159032615066,
          176.77775158236108,
          177.75616640210498,
          178.65025976572798,
          179.45928554526157,
          180.18264038596092,
          180.8198642317974,
          181.3706404316099,
          181.83479542902148,
          182.21229804095535,
          182.50325833126385,
          182.7079260876353,
          182.82668891151292,
          182.86006993228716,
          182.8087251584615,
          182.67344047986606,
          182.45512833626307,
          182.1548240688911,
          181.77368197257246,
          181.31297106701322,
          180.77407060680147,
          180.15846535038986,
          179.4677406090179,
          178.70357709707537,
          177.86774560585738,
          176.96210152297584,
          175.98857921991305,
          174.94918633029425,
          173.84599794144336,
          172.6811507216641,
          171.4568370054583,
          170.1752988585607,
          168.83882214423448,
          167.449730611752,
          166.0103800273615,
          164.52315236734458,
          162.99045009199114,
          161.4146905184615,
          159.7983003095977,
          158.14371009475855,
          156.45334923773495,
          154.72964076571827,
          152.97499647218916,
          151.1918122054464,
          149.3824633533276,
          147.54930053349267,
          145.69464549743898,
          143.82078725522953,
          141.92997842671062,
          140.02443182382137,
          138.10631726742315,
          136.17775864093915,
          134.24083118196893,
          132.2975590119727,
          130.34991290306144,
          128.39980827994106,
          126.44910345409595,
          124.49959808639984,
          122.55303187349307,
          120.6110834524731,
          118.67536951771697,
          116.74744414298524,
          114.82879830134974,
          112.92085957495196,
          111.02499204611706,
          109.142496360946,
          107.27460995615877,
          105.4225074396855,
          103.58730111528658,
          101.77004164132843,
          99.97171881375306,
          98.19326246324378,
          96.43554345661444,
          94.69937479252862,
          92.98551278178198,
          91.29465830256123,
          89.62745812131288,
          87.98450627012086,
          86.36634547179311,
          84.77346860419354,
          83.20632019572297,
          81.66529794424649,
          80.15075425218033,
          78.66299777088841,
          77.20229494798988,
          75.76887157164026,
          74.36291430632177,
          72.98457221515163,
          71.63395826419506,
          70.31115080474223,
          69.01619502997578,
          67.74910440291906,
          66.509862052999,
          65.29842213899501,
          64.11471117656367,
          62.95862932892729,
          61.83005165969649,
          60.72882934715211,
          59.6547908596488,
          58.60774309210984,
          57.58747246386873,
          56.59374597836978,
          55.62631224547047,
          54.68490246729496,
          53.76923138876,
          52.878998214049155,
          52.01388749043146,
          51.17356996091909,
          50.357703387329316,
          49.565933345365934,
          48.79789399335722,
          48.05320881629154,
          47.33149134677296,
          46.632345864482055,
          45.955368075671856,
          45.30014577415834,
          44.66625948517949,
          44.053283093398875,
          43.46078445622326,
          42.88832600348412,
          42.335465324410514,
          41.80175574269125,
          41.286746880290984,
          40.78998521055014,
          40.31101460096549,
          39.849376845913305,
          39.40461218944908,
          38.976259838190835,
          38.563858464175574,
          38.16694669746497,
          37.78506360817365,
          37.41774917749802,
          37.06454475724076,
          36.72499351725242,
          36.39864088014875,
          36.085034942616446,
          35.783726882578804,
          35.49427135147263,
          35.216226850873696,
          34.94915609271126,
          34.69262634232482,
          34.446209743644495,
          34.209483625812936,
          33.98203079061806,
          33.763439780165385,
          33.55330512429027,
          33.351227567289946,
          33.15681427364296,
          32.96967901248138,
          32.78944232068077,
          32.61573164454276,
          32.448181460155006,
          32.286433372630114,
          32.13013619453944,
          31.978946003978134,
          31.83252618281234,
          31.690547435776686,
          31.552687791202295,
          31.418632584264827,
          31.28807442374626,
          31.16071314340187,
          31.036255739116136,
          30.914416293113536,
          30.79491588656691,
          30.67748250201,
          30.56185091701743,
          30.44776259066074,
          30.33496554428202,
          30.223214238150554,
          30.11226944557822,
          30.001898126068618,
          29.891873299062137,
          29.781973919814508,
          29.671984758909886,
          29.561696286861505,
          29.450904565193504,
          29.33941114532835,
          29.22702297652272,
          29.113552324006378,
          28.99881669837833,
          28.88263879720829,
          28.76484645967683,
          28.645272634965952,
          28.523755364986474,
          28.400137781895328,
          28.27426812072353,
          28.145999747295193,
          28.015191201481578,
          27.881706255692407,
          27.745413988369222,
          27.606188872107168,
          27.463910875897458,
          27.318465580850837,
          27.169744308636997,
          27.01764426175258,
          26.862068674616697,
          26.702926974385214,
          26.540134950275142,
          26.373614930100924,
          26.203295962641054,
          26.02911400438419,
          25.851012109139678,
          25.668940618949655,
          25.482857354697494,
          25.292727804780274,
          25.09852531019542,
          24.900231244384376,
          24.697835186183088,
          24.4913350842438,
          24.280737411320757,
          24.06605730684938,
          23.847318706297163,
          23.62455445582165,
          23.397806410837966,
          23.167125517174398,
          22.93257187357757,
          22.694214774420853,
          22.452132731566472,
          22.206413474436914,
          21.957153927459053,
          21.70446016415866,
          21.44844733730008,
          21.189239584585074,
          20.926969909547594,
          20.661780037403794,
          20.393820245739906,
          20.123249170044303,
          19.850233584211235,
          19.574948156264586,
          19.2975751796668,
          19.01830428069328,
          18.737332102462183,
          18.454861966316898,
          18.17110351135882,
          17.88627231302465,
          17.60058948169292,
          17.314281242388113,
          17.027578496729348,
          16.740716368341413,
          16.453933733010626,
          16.16747273492569,
          15.881578290394126,
          15.596497580468485,
          15.312479533953107,
          15.029774302292005,
          14.74863272786068,
          14.46930580720116,
          14.19204415074941,
          13.917097440606407,
          13.644713887902832,
          13.375139691297585,
          13.108618498136902,
          12.84539086978145,
          12.58569375258436,
          12.32975995597525,
          12.077817639071208,
          11.830089807200396,
          11.586793819682311,
          11.348140910165945,
          11.114335720780822,
          10.885575851305937,
          10.662051424511553,
          10.44394466877422,
          10.23142951901151,
          10.024671236925228,
          9.823826051484584,
          9.629040820521862,
          9.440452714252766,
          9.258188921473478,
          9.08236637912472,
          8.913091525852069,
          8.750460080128923,
          8.594556843446702,
          8.445455529014101,
          8.30321861634442,
          8.16789723204727,
          8.039531057077818,
          7.918148260633952,
          7.80376546082865,
          7.696387712201471,
          7.5960085200705345,
          7.502609881662634,
          7.416162353896517,
          7.3366251476308255,
          7.263946248125563,
          7.19806256140246,
          7.138900086127215,
          7.086374110573457,
          7.0403894341660305,
          7.000840613039031,
          6.967612228982001,
          6.940579181086898,
          6.919606999347476,
          6.904552179403281,
          6.895262537561512,
          6.8915775851724455,
          6.893328921378013,
          6.900340643198258,
          6.912429771867673,
          6.9294066942826795,
          6.951075618372897,
          6.977235041163009,
          7.007678228248939,
          7.042193703372038,
          7.080565746738351,
          7.122574900697343,
          7.167998481364941,
          7.216611094751539,
          7.268185155934692,
          7.322491409800893,
          7.379299451869888,
          7.438378247709275,
          7.499496649446997,
          7.5624239078941295,
          7.626930178801467,
          7.692787021789472,
          7.759767890513767,
          7.827648612656047,
          7.896207858364545,
          7.9652275958076935,
          8.034493532550178,
          8.10379554151187,
          8.172928070326396,
          8.241690532978657,
          8.309887682667123,
          8.377329964909023,
          8.443833849982969,
          8.509222143884191,
          8.573324277052308,
          8.63597657021945,
          8.697022476817615,
          8.756312801478051,
          8.81370589425081,
          8.869067820270423,
          8.922272504691616,
          8.97320185281841,
          9.021745845448605,
          9.067802609554112,
          9.111278464515248,
          9.152087944222227,
          9.190153795451113,
          9.225406953011829,
          9.257786492253604,
          9.287239559596804,
          9.313721281839662,
          9.337194655063302,
          9.357630414028147,
          9.375006883019003,
          9.389309809154682,
          9.400532179230062,
          9.408674021204536,
          9.413742191489813,
          9.415750149222736,
          9.414717718733783,
          9.410670841440773,
          9.403641318408367,
          9.393666544818585,
          9.380789237594568,
          9.365057157410735,
          9.346522826306105,
          9.325243242095082,
          9.301279590741181,
          9.274696957824405,
          9.245564040192956,
          9.213952858844367,
          9.179938474030944,
          9.14359870353023,
          9.105013844962382,
          9.064266402975166,
          9.021440822052421,
          8.976623225635143,
          8.929901162175712,
          8.881363358675952,
          8.83109948218909,
          8.77919990969514,
          8.725755506688689,
          8.6708574147489,
          8.614596848293235,
          8.557064900650369,
          8.498352359523992,
          8.438549531857838,
          8.377746078054699,
          8.316030855447453,
          8.253491770869704,
          8.190215642127214,
          8.126288068129025,
          8.06179330739998,
          7.996814164663263,
          7.9314318851539305,
          7.8657260563013445,
          7.79977451640027,
          7.733653269877567,
          7.667436408753032,
          7.601196039889555,
          7.535002217629026,
          7.468922881416124,
          7.40302379802196,
          7.337368507993578,
          7.272018275972934,
          7.207032044549972,
          7.142466391338759,
          7.0783754889922195,
          7.014811067900605,
          6.951822381349755,
          6.889456172948238,
          6.827756646166356,
          6.766765435864864,
          6.706521581726447,
          6.647061503538053,
          6.588418978307317,
          6.530625119229896,
          6.47370835655784,
          6.417694420450362,
          6.3626063259180805,
          6.308464359999407,
          6.255286071332806,
          6.203086262311557,
          6.151876984027009,
          6.101667534223434,
          6.05246445850088,
          6.00427155501297,
          5.957089882913189,
          5.910917774806905,
          5.865750853466227,
          5.821582053061263,
          5.778401645154539,
          5.736197269694926,
          5.6949539712340105,
          5.654654240570991,
          5.615278062012634,
          5.576802966412332,
          5.539204090127127,
          5.5024542400041465,
          5.466523964478219,
          5.431381630830964,
          5.396993508628323,
          5.363323859319103,
          5.330335031941454,
          5.297987564847695,
          5.266240293321223,
          5.235050462921909,
          5.20437384835968,
          5.174164877659113,
          5.144376761342187,
          5.114961626321215,
          5.085870654160295,
          5.057054223331304,
          5.028462055059883,
          5.000043362328243,
          4.971747001575028,
          4.943521626608391,
          4.915315844226735,
          4.887078371022515,
          4.858758190828302,
          4.830304712251009,
          4.801667925729804,
          4.772798559545967,
          4.743648234208801,
          4.714169614640711,
          4.684316559586629,
          4.6540442676782385,
          4.62330941959189,
          4.592070315750359,
          4.5602870090330825,
          4.527921431976769,
          4.494937517968267,
          4.4613013159543815,
          4.426981098218445,
          4.391947460801223,
          4.356173416173412,
          4.319634477798986,
          4.282308736262259,
          4.24417692666712,
          4.205222487053567,
          4.165431607614903,
          4.1247932705382215,
          4.083299280330664,
          4.040944284534765,
          3.997725784777095,
          3.953644138135847,
          3.908702548853975,
          3.8629070504656884,
          3.8162664784444904,
          3.7687924335207796,
          3.7204992358560696
         ],
         "yaxis": "y"
        },
        {
         "legendgroup": "Val MSE",
         "marker": {
          "color": "#A6ACEC"
         },
         "mode": "lines",
         "name": "Val MSE",
         "showlegend": false,
         "type": "scatter",
         "x": [
          0.00019878728198818862,
          0.0002479682921548374,
          0.0002971493023214862,
          0.0003463303124881349,
          0.0003955113226547837,
          0.0004446923328214325,
          0.0004938733429880812,
          0.0005430543531547301,
          0.0005922353633213788,
          0.0006414163734880276,
          0.0006905973836546764,
          0.0007397783938213251,
          0.0007889594039879739,
          0.0008381404141546227,
          0.0008873214243212715,
          0.0009365024344879202,
          0.000985683444654569,
          0.001034864454821218,
          0.0010840454649878666,
          0.0011332264751545153,
          0.0011824074853211642,
          0.001231588495487813,
          0.0012807695056544616,
          0.0013299505158211105,
          0.0013791315259877592,
          0.001428312536154408,
          0.0014774935463210568,
          0.0015266745564877055,
          0.0015758555666543544,
          0.0016250365768210031,
          0.0016742175869876518,
          0.0017233985971543007,
          0.0017725796073209494,
          0.0018217606174875981,
          0.001870941627654247,
          0.0019201226378208957,
          0.0019693036479875446,
          0.0020184846581541935,
          0.002067665668320842,
          0.002116846678487491,
          0.00216602768865414,
          0.0022152086988207883,
          0.0022643897089874372,
          0.002313570719154086,
          0.0023627517293207346,
          0.0024119327394873835,
          0.0024611137496540324,
          0.002510294759820681,
          0.00255947576998733,
          0.0026086567801539787,
          0.0026578377903206272,
          0.002707018800487276,
          0.002756199810653925,
          0.0028053808208205735,
          0.0028545618309872224,
          0.0029037428411538713,
          0.0029529238513205202,
          0.0030021048614871687,
          0.0030512858716538176,
          0.0031004668818204665,
          0.003149647891987115,
          0.003198828902153764,
          0.003248009912320413,
          0.0032971909224870613,
          0.0033463719326537102,
          0.003395552942820359,
          0.0034447339529870076,
          0.0034939149631536565,
          0.0035430959733203054,
          0.003592276983486954,
          0.003641457993653603,
          0.0036906390038202517,
          0.0037398200139869007,
          0.003789001024153549,
          0.003838182034320198,
          0.003887363044486847,
          0.003936544054653495,
          0.003985725064820145,
          0.004034906074986793,
          0.004084087085153442,
          0.004133268095320091,
          0.0041824491054867395,
          0.004231630115653388,
          0.004280811125820037,
          0.004329992135986686,
          0.004379173146153334,
          0.004428354156319984,
          0.004477535166486632,
          0.004526716176653281,
          0.00457589718681993,
          0.0046250781969865784,
          0.004674259207153227,
          0.004723440217319876,
          0.004772621227486525,
          0.004821802237653173,
          0.0048709832478198226,
          0.004920164257986471,
          0.0049693452681531195,
          0.005018526278319769,
          0.005067707288486417,
          0.005116888298653066,
          0.005166069308819715,
          0.005215250318986364,
          0.005264431329153012,
          0.0053136123393196615,
          0.00536279334948631,
          0.005411974359652958,
          0.005461155369819608,
          0.005510336379986256,
          0.005559517390152905,
          0.005608698400319554,
          0.0056578794104862025,
          0.005707060420652852,
          0.0057562414308195,
          0.005805422440986149,
          0.005854603451152798,
          0.005903784461319447,
          0.005952965471486095,
          0.0060021464816527445,
          0.006051327491819393,
          0.006100508501986041,
          0.006149689512152691,
          0.006198870522319339,
          0.006248051532485988,
          0.006297232542652637,
          0.0063464135528192855,
          0.006395594562985934,
          0.006444775573152583,
          0.006493956583319232,
          0.00654313759348588,
          0.00659231860365253,
          0.006641499613819178,
          0.006690680623985827,
          0.006739861634152476,
          0.0067890426443191244,
          0.006838223654485773,
          0.006887404664652422,
          0.006936585674819071,
          0.006985766684985719,
          0.0070349476951523686,
          0.007084128705319017,
          0.007133309715485666,
          0.007182490725652315,
          0.007231671735818963,
          0.007280852745985613,
          0.007330033756152261,
          0.00737921476631891,
          0.007428395776485559,
          0.0074775767866522075,
          0.007526757796818856,
          0.007575938806985505,
          0.007625119817152154,
          0.007674300827318802,
          0.007723481837485452,
          0.0077726628476521,
          0.007821843857818749,
          0.007871024867985398,
          0.007920205878152047,
          0.007969386888318695,
          0.008018567898485344,
          0.008067748908651994,
          0.008116929918818641,
          0.00816611092898529,
          0.00821529193915194,
          0.008264472949318587,
          0.008313653959485237,
          0.008362834969651886,
          0.008412015979818534,
          0.008461196989985183,
          0.008510378000151832,
          0.00855955901031848,
          0.00860874002048513,
          0.008657921030651779,
          0.008707102040818426,
          0.008756283050985076,
          0.008805464061151725,
          0.008854645071318373,
          0.008903826081485022,
          0.008953007091651671,
          0.009002188101818319,
          0.009051369111984968,
          0.009100550122151618,
          0.009149731132318265,
          0.009198912142484915,
          0.009248093152651564,
          0.009297274162818212,
          0.00934645517298486,
          0.00939563618315151,
          0.009444817193318158,
          0.009493998203484807,
          0.009543179213651456,
          0.009592360223818104,
          0.009641541233984753,
          0.009690722244151403,
          0.00973990325431805,
          0.0097890842644847,
          0.009838265274651349,
          0.009887446284817997,
          0.009936627294984646,
          0.009985808305151295,
          0.010034989315317943,
          0.010084170325484592,
          0.010133351335651242,
          0.01018253234581789,
          0.010231713355984539,
          0.010280894366151188,
          0.010330075376317836,
          0.010379256386484485,
          0.010428437396651134,
          0.010477618406817782,
          0.010526799416984431,
          0.01057598042715108,
          0.010625161437317728,
          0.010674342447484378,
          0.010723523457651027,
          0.010772704467817674,
          0.010821885477984324,
          0.010871066488150973,
          0.01092024749831762,
          0.01096942850848427,
          0.01101860951865092,
          0.011067790528817569,
          0.011116971538984216,
          0.011166152549150866,
          0.011215333559317515,
          0.011264514569484163,
          0.011313695579650812,
          0.011362876589817461,
          0.011412057599984109,
          0.011461238610150758,
          0.011510419620317408,
          0.011559600630484055,
          0.011608781640650705,
          0.011657962650817354,
          0.011707143660984002,
          0.011756324671150651,
          0.0118055056813173,
          0.011854686691483948,
          0.011903867701650597,
          0.011953048711817247,
          0.012002229721983894,
          0.012051410732150544,
          0.012100591742317193,
          0.01214977275248384,
          0.01219895376265049,
          0.01224813477281714,
          0.012297315782983787,
          0.012346496793150436,
          0.012395677803317086,
          0.012444858813483733,
          0.012494039823650382,
          0.012543220833817032,
          0.01259240184398368,
          0.012641582854150329,
          0.012690763864316978,
          0.012739944874483626,
          0.012789125884650275,
          0.012838306894816924,
          0.012887487904983572,
          0.012936668915150221,
          0.01298584992531687,
          0.013035030935483518,
          0.013084211945650168,
          0.013133392955816817,
          0.013182573965983465,
          0.013231754976150114,
          0.013280935986316763,
          0.013330116996483411,
          0.01337929800665006,
          0.01342847901681671,
          0.013477660026983357,
          0.013526841037150007,
          0.013576022047316656,
          0.013625203057483304,
          0.013674384067649953,
          0.013723565077816602,
          0.01377274608798325,
          0.0138219270981499,
          0.013871108108316548,
          0.013920289118483196,
          0.013969470128649845,
          0.014018651138816495,
          0.014067832148983144,
          0.014117013159149792,
          0.014166194169316441,
          0.01421537517948309,
          0.014264556189649738,
          0.014313737199816387,
          0.014362918209983037,
          0.014412099220149684,
          0.014461280230316334,
          0.014510461240482983,
          0.01455964225064963,
          0.01460882326081628,
          0.01465800427098293,
          0.014707185281149577,
          0.014756366291316226,
          0.014805547301482876,
          0.014854728311649523,
          0.014903909321816173,
          0.014953090331982822,
          0.01500227134214947,
          0.015051452352316119,
          0.015100633362482768,
          0.015149814372649416,
          0.015198995382816065,
          0.015248176392982715,
          0.015297357403149362,
          0.015346538413316011,
          0.01539571942348266,
          0.015444900433649308,
          0.015494081443815958,
          0.015543262453982607,
          0.015592443464149255,
          0.015641624474315906,
          0.015690805484482553,
          0.0157399864946492,
          0.01578916750481585,
          0.0158383485149825,
          0.015887529525149147,
          0.0159367105353158,
          0.015985891545482446,
          0.016035072555649094,
          0.016084253565815745,
          0.016133434575982392,
          0.01618261558614904,
          0.01623179659631569,
          0.01628097760648234,
          0.016330158616648986,
          0.016379339626815637,
          0.016428520636982285,
          0.016477701647148933,
          0.016526882657315584,
          0.01657606366748223,
          0.01662524467764888,
          0.01667442568781553,
          0.016723606697982177,
          0.016772787708148825,
          0.016821968718315476,
          0.016871149728482124,
          0.01692033073864877,
          0.016969511748815422,
          0.01701869275898207,
          0.017067873769148718,
          0.01711705477931537,
          0.017166235789482016,
          0.017215416799648664,
          0.017264597809815315,
          0.017313778819981963,
          0.01736295983014861,
          0.01741214084031526,
          0.01746132185048191,
          0.017510502860648557,
          0.017559683870815208,
          0.017608864880981855,
          0.017658045891148503,
          0.017707226901315154,
          0.0177564079114818,
          0.01780558892164845,
          0.0178547699318151,
          0.017903950941981748,
          0.017953131952148395,
          0.018002312962315047,
          0.018051493972481694,
          0.018100674982648342,
          0.018149855992814993,
          0.01819903700298164,
          0.018248218013148288,
          0.01829739902331494,
          0.018346580033481587,
          0.018395761043648234,
          0.018444942053814885,
          0.018494123063981533,
          0.01854330407414818,
          0.018592485084314832,
          0.01864166609448148,
          0.018690847104648127,
          0.018740028114814778,
          0.018789209124981426,
          0.018838390135148073,
          0.018887571145314724,
          0.018936752155481372,
          0.01898593316564802,
          0.01903511417581467,
          0.01908429518598132,
          0.019133476196147966,
          0.019182657206314617,
          0.019231838216481265,
          0.019281019226647912,
          0.019330200236814563,
          0.01937938124698121,
          0.01942856225714786,
          0.01947774326731451,
          0.019526924277481157,
          0.019576105287647805,
          0.019625286297814456,
          0.019674467307981103,
          0.01972364831814775,
          0.019772829328314402,
          0.01982201033848105,
          0.019871191348647697,
          0.01992037235881435,
          0.019969553368980996,
          0.020018734379147644,
          0.020067915389314295,
          0.020117096399480942,
          0.02016627740964759,
          0.02021545841981424,
          0.02026463942998089,
          0.020313820440147536,
          0.020363001450314187,
          0.020412182460480835,
          0.020461363470647483,
          0.020510544480814134,
          0.02055972549098078,
          0.02060890650114743,
          0.02065808751131408,
          0.020707268521480728,
          0.020756449531647375,
          0.020805630541814026,
          0.020854811551980674,
          0.02090399256214732,
          0.020953173572313973,
          0.02100235458248062,
          0.021051535592647268,
          0.02110071660281392,
          0.021149897612980566,
          0.021199078623147214,
          0.021248259633313865,
          0.021297440643480513,
          0.02134662165364716,
          0.02139580266381381,
          0.02144498367398046,
          0.021494164684147107,
          0.021543345694313758,
          0.021592526704480405,
          0.021641707714647053,
          0.021690888724813704,
          0.02174006973498035,
          0.021789250745147003,
          0.02183843175531365,
          0.021887612765480298,
          0.02193679377564695,
          0.021985974785813597,
          0.022035155795980244,
          0.022084336806146895,
          0.022133517816313543,
          0.02218269882648019,
          0.02223187983664684,
          0.02228106084681349,
          0.022330241856980137,
          0.022379422867146788,
          0.022428603877313436,
          0.022477784887480083,
          0.022526965897646734,
          0.022576146907813382,
          0.02262532791798003,
          0.02267450892814668,
          0.022723689938313328,
          0.022772870948479976,
          0.022822051958646627,
          0.022871232968813274,
          0.022920413978979922,
          0.022969594989146573,
          0.02301877599931322,
          0.02306795700947987,
          0.02311713801964652,
          0.023166319029813167,
          0.023215500039979815,
          0.023264681050146466,
          0.023313862060313113,
          0.02336304307047976,
          0.023412224080646412,
          0.02346140509081306,
          0.023510586100979707,
          0.02355976711114636,
          0.023608948121313006,
          0.023658129131479654,
          0.023707310141646305,
          0.023756491151812952,
          0.0238056721619796,
          0.02385485317214625,
          0.0239040341823129,
          0.023953215192479546,
          0.024002396202646197,
          0.024051577212812845,
          0.024100758222979492,
          0.024149939233146143,
          0.02419912024331279,
          0.02424830125347944,
          0.02429748226364609,
          0.024346663273812737,
          0.024395844283979385,
          0.024445025294146036,
          0.024494206304312684,
          0.02454338731447933,
          0.024592568324645982,
          0.02464174933481263,
          0.024690930344979278,
          0.02474011135514593
         ],
         "xaxis": "x",
         "y": [
          116.80629418996935,
          118.49996333811009,
          120.14695918741303,
          121.7450012842579,
          123.29188500624791,
          124.78548738158558,
          126.22377266242871,
          127.60479763004388,
          128.9267166108064,
          130.18778618344342,
          131.38636955937187,
          132.52094061952195,
          133.59008759267638,
          134.59251636205698,
          135.5270533886633,
          136.39264824169553,
          137.18837572825797,
          137.91343761643859,
          138.5671639477803,
          139.14901393707981,
          139.65857645937436,
          140.09557012587868,
          140.45984295251122,
          140.75137162649239,
          140.97026037827987,
          141.11673946784433,
          141.19116329594632,
          141.19400815265948,
          141.1258696168856,
          140.98745962200493,
          140.77960320411208,
          140.50323495047653,
          140.15939516695343,
          139.74922578402692,
          139.273966022016,
          138.73494783668426,
          138.1335911670911,
          137.4713990079801,
          136.74995232934015,
          135.97090486597858,
          135.13597780003346,
          134.24695435930454,
          133.30567435412675,
          132.31402867522675,
          131.27395377461508,
          130.1874261510666,
          129.0564568611401,
          127.88308607599699,
          126.66937770348584,
          125.41741409410197,
          124.12929084848098,
          122.80711174308382,
          121.45298378965734,
          120.06901244294245,
          118.65729696993385,
          117.21992599280676,
          115.75897321639853,
          114.27649334989647,
          112.7745182311332,
          111.25505316063568,
          109.72007345133049,
          108.1715211985709,
          106.61130227393764,
          105.04128354507696,
          103.46329032268147,
          101.87910403460359,
          100.29046012601648,
          98.69904618351002,
          97.10650028003953,
          95.51440953672679,
          93.92430889665722,
          92.3376801050268,
          90.75595088926177,
          89.18049433207698,
          87.6126284298473,
          86.05361582814248,
          84.50466372582554,
          82.96692393873403,
          81.44149311364565,
          79.92941308298826,
          78.43167135057423,
          76.94920169852394,
          75.48288490549434,
          74.03354956633514,
          72.60197300336095,
          71.18888225955128,
          69.79495516415713,
          68.42082146141625,
          67.06706399333792,
          65.73421992782518,
          64.4227820237379,
          63.133199924873345,
          61.8658814752404,
          60.621194048427775,
          59.39946588430867,
          58.20098742678764,
          57.02601265676589,
          55.8747604149829,
          54.74741570987907,
          53.64413100611144,
          52.56502748983809,
          51.510196307370165,
          50.47969977425828,
          49.47357255234371,
          48.49182279274926,
          47.53443324321619,
          46.601362318604195,
          45.692545133764916,
          44.8078944983668,
          43.947301873595556,
          43.11063829097649,
          42.2977552338586,
          41.50848548236993,
          40.74264392289475,
          40.000028323337794,
          39.280420075626346,
          38.58358490706203,
          37.909273562263955,
          37.25722245755351,
          36.62715430970853,
          36.018778741070825,
          35.431792863022,
          34.86588183985021,
          34.32071943501738,
          33.795968541803454,
          33.29128170025073,
          32.80630160226376,
          32.340661586634035,
          31.89398612566076,
          31.46589130492825,
          31.05598529767911,
          30.663868835092355,
          30.289135673639727,
          29.93137306055013,
          29.590162198267826,
          29.265078708641624,
          28.95569309743503,
          28.66157121960002,
          28.38227474561346,
          28.117361629034338,
          27.866386575305484,
          27.628901511693766,
          27.404456058141783,
          27.19259799869033,
          26.99287375302695,
          26.80482884762076,
          26.628008385819772,
          26.461957516213175,
          26.306221898498563,
          26.160348166042457,
          26.023884384282592,
          25.896380504091745,
          25.777388809205206,
          25.666464356806625,
          25.563165410371894,
          25.467053863883063,
          25.377695656548877,
          25.294661177199405,
          25.21752565756412,
          25.145869553689106,
          25.07927891480459,
          25.017345739014125,
          24.959668315241224,
          24.905851550939673,
          24.855507285144796,
          24.80825458651835,
          24.763720036114805,
          24.721537994673366,
          24.681350854314505,
          24.642809274595866,
          24.605572402951587,
          24.569308079610963,
          24.53369302715507,
          24.498413024933264,
          24.463163068615813,
          24.42764751521109,
          24.391580213920243,
          24.354684623241447,
          24.316693914768216,
          24.277351064153006,
          24.236408929726306,
          24.1936303192742,
          24.14878804548467,
          24.101664970571903,
          24.052054040581794,
          23.999758309870796,
          23.94459095623113,
          23.88637528711429,
          23.82494473737671,
          23.760142858940135,
          23.69182330272551,
          23.61984979318001,
          23.54409609567851,
          23.4644459770382,
          23.380793159343224,
          23.29304126723286,
          23.20110376876493,
          23.10490390992424,
          23.004374642805743,
          22.899458547465148,
          22.790107747393446,
          22.676283818540856,
          22.55795769178686,
          22.435109548729233,
          22.307728710644287,
          22.17581352045642,
          22.03937121754343,
          21.89841780519996,
          21.75297791058021,
          21.603084636946484,
          21.448779408059888,
          21.290111804564503,
          21.127139392236057,
          20.959927541990375,
          20.7885492415758,
          20.61308489890574,
          20.4336221370241,
          20.25025558073571,
          20.063086634975335,
          19.872223255033237,
          19.6777797088019,
          19.479876331254026,
          19.27863927141133,
          19.074200232110098,
          18.866696202918043,
          18.656269186602294,
          18.44306591959426,
          18.227237586939737,
          18.00893953226327,
          17.78833096331333,
          17.565574653690213,
          17.340836641388336,
          17.11428592481247,
          16.886094156950254,
          16.65643533840113,
          16.425485509976554,
          16.193422445594745,
          15.960425346198202,
          15.72667453542157,
          15.49235115773217,
          15.25763687975586,
          15.022713595486211,
          14.787763136056466,
          14.552966984730304,
          14.318505997740168,
          14.084560131571983,
          13.85130817725962,
          13.61892750221598,
          13.387593800087313,
          13.15748084907424,
          12.928760279119098,
          12.701601348312618,
          12.476170728825085,
          12.252632302619247,
          12.031146967152685,
          11.811872451228293,
          11.594963141102742,
          11.380569916913904,
          11.168839999440703,
          10.9599168071626,
          10.753939823540499,
          10.551044474397628,
          10.351362015237846,
          10.155019428299074,
          9.962139329103257,
          9.772839882229432,
          9.587234726005272,
          9.40543290578332,
          9.227538815442326,
          9.053652146731201,
          8.883867846052885,
          8.718276078268993,
          8.55696219709189,
          8.400006721620425,
          8.247485318567787,
          8.099468789725433,
          7.956023064205249,
          7.817209195003774,
          7.6830833594360985,
          7.553696862994443,
          7.429096146195811,
          7.309322793995784,
          7.1944135473602,
          7.08440031660369,
          6.9793101961241675,
          6.879165480183614,
          6.783983679410016,
          6.693777537720901,
          6.608555049397034,
          6.528319476064089,
          6.453069363371574,
          6.3827985571906485,
          6.317496219186457,
          6.25714684165563,
          6.201730261555795,
          6.151221673690468,
          6.105591643050557,
          6.0648061163514795,
          6.028826432843001,
          5.997609334507503,
          5.971106975800124,
          5.949266933122237,
          5.932032214256786,
          5.919341268030215,
          5.911127994501178,
          5.907321756009965,
          5.907847389454961,
          5.91262522019316,
          5.921571077990018,
          5.934596315470355,
          5.95160782954526,
          5.972508086311353,
          5.9971951499358465,
          6.02556271605603,
          6.0575001502323715,
          6.0928925320021685,
          6.131620705084093,
          6.173561334283533,
          6.218586969644175,
          6.266566118382291,
          6.3173633251271575,
          6.370839260973367,
          6.42685082182877,
          6.485251236515426,
          6.545890185049829,
          6.608613927493803,
          6.673265443727519,
          6.73968458445284,
          6.807708233687431,
          6.877170482958658,
          6.947902817351438,
          7.019734313506112,
          7.092491849600854,
          7.1660003272896295,
          7.240082905500271,
          7.3145612459290215,
          7.38925576999829,
          7.463985926973305,
          7.5385704728618,
          7.612827759648886,
          7.6865760343476035,
          7.7596337472745525,
          7.831819868889865,
          7.902954214472782,
          7.972857775837349,
          8.041353059229241,
          8.108264428483864,
          8.17341845246836,
          8.236644255776792,
          8.297773871598382,
          8.356642595633978,
          8.413089339896418,
          8.466956985196123,
          8.51809273108434,
          8.566348442004028,
          8.611580988381451,
          8.653652581381348,
          8.69243110004467,
          8.727790409530721,
          8.75961066919487,
          8.787778629249313,
          8.812187914777242,
          8.832739295900227,
          8.849340942934878,
          8.861908665417518,
          8.870366133924161,
          8.874645083668433,
          8.874685498920439,
          8.870435777356159,
          8.861852873518181,
          8.848902420645121,
          8.831558830207639,
          8.809805368574008,
          8.78363421031644,
          8.75304646776097,
          8.71805219647804,
          8.678670376506904,
          8.634928869205417,
          8.586864349715388,
          8.5345222151334,
          8.477956468576746,
          8.4172295794329,
          8.352412320179065,
          8.283583580254627,
          8.210830157563548,
          8.134246528275106,
          8.053934595679852,
          7.970003418942376,
          7.882568922672662,
          7.7917535883144255,
          7.697686128419309,
          7.6005011449418625,
          7.500338772750189,
          7.397344309601266,
          7.291667833877627,
          7.183463811423643,
          7.072890692854188,
          6.9601105027363035,
          6.84528842206561,
          6.728592365472985,
          6.6101925546040725,
          6.49026108911432,
          6.368971516715219,
          6.246498403693787,
          6.123016907307234,
          5.99870235142797,
          5.873729806781168,
          5.748273677078635,
          5.622507292308245,
          5.496602510388558,
          5.370729328344143,
          5.245055504097998,
          5.119746189914625,
          4.9949635784610225,
          4.870866562383175,
          4.7476104082232915,
          4.6253464454291215,
          4.5042217711303145,
          4.384378971279752,
          4.265955858680306,
          4.149085228339216,
          4.033894630514739,
          3.9205061617431167,
          3.809036274058088,
          3.69959560254127,
          3.592288811270052,
          3.4872144576600013,
          3.3844648751321813,
          3.2841260739723994,
          3.1862776601890572,
          3.0909927721197605,
          2.9983380344842714,
          2.9083735295325797,
          2.821152784892201,
          2.7367227776786978,
          2.655123954397128,
          2.5763902661302835,
          2.5005492184822686,
          2.427621935722328,
          2.3576232385546536,
          2.2905617349247,
          2.226439923260753,
          2.1652543075418436,
          2.106995523578398,
          2.0516484758906315,
          1.9991924845712958,
          1.9496014415234297,
          1.9028439754701123,
          1.8588836251419056,
          1.8176790200576414,
          1.7791840683258848,
          1.7433481509072077,
          1.7101163217908433,
          1.6794295135534134,
          1.6512247477818005,
          1.625435349856507,
          1.6019911676059595,
          1.5808187933558513,
          1.5618417889105585,
          1.5449809130157346,
          1.530154350862388,
          1.5172779452026737,
          1.5062654286564605,
          1.4970286567952888,
          1.4894778415965353,
          1.483521784865542,
          1.4790681112271438,
          1.4760235002904158,
          1.4742939175917888,
          1.4737848439219114,
          1.4744015026409671,
          1.4760490845857792,
          1.4786329701699852,
          1.482058948276202,
          1.486233431536494,
          1.4910636675948479,
          1.4964579459430472,
          1.5023257999193995,
          1.5085782034585893,
          1.5151277621805812,
          1.5218888984073602,
          1.5287780296983922,
          1.535713740499415,
          1.5426169465045452,
          1.5494110513390023,
          1.5560220951790562,
          1.5623788949373636,
          1.5684131756555637,
          1.5740596927622241,
          1.5792563448727084,
          1.5839442768285772,
          1.5880679726975293,
          1.5915753384807538,
          1.594417774302726,
          1.5965502358889616,
          1.5979312851698313,
          1.5985231298831504,
          1.5982916520847352,
          1.5972064255141973,
          1.5952407218028173
         ],
         "yaxis": "y"
        },
        {
         "legendgroup": "Train MSE",
         "marker": {
          "color": "#A56CC1",
          "symbol": "line-ns-open"
         },
         "mode": "markers",
         "name": "Train MSE",
         "showlegend": false,
         "type": "scatter",
         "x": [
          0.013097390532493591,
          0.004860274493694305,
          0.005517732352018356,
          0.0022080340422689915,
          0.0013310657814145088,
          0.0016993398312479258,
          0.001246598083525896,
          0.001110048033297062,
          0.007480985950678587,
          0.0022410135716199875,
          0.0009782902197912335,
          0.0006815647357143462,
          0.0006602139328606427,
          0.000340549013344571,
          0.00033474116935394704,
          0.00019594670447986573,
          0.006734412629157305,
          0.0011025427374988794,
          0.0005227242363616824,
          0.0003936078865081072,
          0.00027279547066427767,
          0.00028156096232123673,
          0.00019858033920172602,
          0.0001765245251590386,
          0.014815829694271088,
          0.004426027648150921,
          0.0035076639614999294,
          0.0034775282256305218,
          0.001872131833806634,
          0.0011915735667571425,
          0.0012838203692808747,
          0.0008894030470401049,
          0.008808371610939503,
          0.0018995088757947087,
          0.0010629631578922272,
          0.0008634469122625887,
          0.00046882868628017604,
          0.0003715981438290328,
          0.0002883403794839978,
          0.0002354237949475646,
          0.007484918925911188,
          0.00218829489313066,
          0.0009062619647011161,
          0.00044782040640711784,
          0.00044181925477460027,
          0.00027500721625983715,
          0.00023166595201473683,
          0.00019931100541725755,
          0.008407016284763813,
          0.006345728412270546,
          0.005359525326639414,
          0.003002565586939454,
          0.0018441521096974611,
          0.0016092559089884162,
          0.0013501738430932164,
          0.0012397085083648562,
          0.008689479902386665,
          0.0022847407963126898,
          0.001205567386932671,
          0.0014653797261416912,
          0.0005817903438583016,
          0.00044268908095546067,
          0.00029290467500686646,
          0.00028071552515029907,
          0.006270409096032381,
          0.0012796700466424227,
          0.0008828762802295387,
          0.0005246323999017477,
          0.00036831237957812846,
          0.00024190734256990254,
          0.00024379536625929177,
          0.00019191006140317768,
          0.018521731719374657,
          0.013199160806834698,
          0.009669245220720768,
          0.00645865872502327,
          0.005588431842625141,
          0.0044374312274158,
          0.0042283013463020325,
          0.0028651412576436996,
          0.013908101245760918,
          0.006691870745271444,
          0.0029556741937994957,
          0.002468615071848035,
          0.0018057451816275716,
          0.0008536608074791729,
          0.0008122537401504815,
          0.0005778467166237533,
          0.008474518544971943,
          0.0029330463148653507,
          0.001973321894183755,
          0.0014268207596614957,
          0.0007480375934392214,
          0.0003635292814578861,
          0.0003376159002073109,
          0.0002869008749257773,
          0.017311986535787582,
          0.008298925124108791,
          0.0040136645548045635,
          0.003718877676874399,
          0.0033846248406916857,
          0.003066947450861335,
          0.002571730874478817,
          0.0022924377117305994,
          0.008236760273575783,
          0.0038792691193521023,
          0.002496614120900631,
          0.0019344318425282836,
          0.00161486875731498,
          0.001421423046849668,
          0.0013863957719877362,
          0.0011345266830176115,
          0.012536287307739258,
          0.003447433467954397,
          0.0020927959121763706,
          0.0014899608213454485,
          0.0016630793688818812,
          0.0008839255315251648,
          0.000785805459599942,
          0.0006265328847803175,
          0.015655919909477234,
          0.005705108400434256,
          0.0035405682865530252,
          0.0032290080562233925,
          0.0024376437067985535,
          0.0018871052889153361,
          0.0015635770978406072,
          0.001677961554378271,
          0.007128091529011726,
          0.0031397927086800337,
          0.0017770129488781095,
          0.0015199354384094477,
          0.0012908645439893007,
          0.0009036135743372142,
          0.0010600939858704805,
          0.0009086801437661052,
          0.009588021785020828,
          0.002486988203600049,
          0.0016011962434276938,
          0.0012693488970398903,
          0.000983186298981309,
          0.000996956368908286,
          0.0007413398707285523,
          0.000700542819686234
         ],
         "xaxis": "x",
         "y": [
          "Train MSE",
          "Train MSE",
          "Train MSE",
          "Train MSE",
          "Train MSE",
          "Train MSE",
          "Train MSE",
          "Train MSE",
          "Train MSE",
          "Train MSE",
          "Train MSE",
          "Train MSE",
          "Train MSE",
          "Train MSE",
          "Train MSE",
          "Train MSE",
          "Train MSE",
          "Train MSE",
          "Train MSE",
          "Train MSE",
          "Train MSE",
          "Train MSE",
          "Train MSE",
          "Train MSE",
          "Train MSE",
          "Train MSE",
          "Train MSE",
          "Train MSE",
          "Train MSE",
          "Train MSE",
          "Train MSE",
          "Train MSE",
          "Train MSE",
          "Train MSE",
          "Train MSE",
          "Train MSE",
          "Train MSE",
          "Train MSE",
          "Train MSE",
          "Train MSE",
          "Train MSE",
          "Train MSE",
          "Train MSE",
          "Train MSE",
          "Train MSE",
          "Train MSE",
          "Train MSE",
          "Train MSE",
          "Train MSE",
          "Train MSE",
          "Train MSE",
          "Train MSE",
          "Train MSE",
          "Train MSE",
          "Train MSE",
          "Train MSE",
          "Train MSE",
          "Train MSE",
          "Train MSE",
          "Train MSE",
          "Train MSE",
          "Train MSE",
          "Train MSE",
          "Train MSE",
          "Train MSE",
          "Train MSE",
          "Train MSE",
          "Train MSE",
          "Train MSE",
          "Train MSE",
          "Train MSE",
          "Train MSE",
          "Train MSE",
          "Train MSE",
          "Train MSE",
          "Train MSE",
          "Train MSE",
          "Train MSE",
          "Train MSE",
          "Train MSE",
          "Train MSE",
          "Train MSE",
          "Train MSE",
          "Train MSE",
          "Train MSE",
          "Train MSE",
          "Train MSE",
          "Train MSE",
          "Train MSE",
          "Train MSE",
          "Train MSE",
          "Train MSE",
          "Train MSE",
          "Train MSE",
          "Train MSE",
          "Train MSE",
          "Train MSE",
          "Train MSE",
          "Train MSE",
          "Train MSE",
          "Train MSE",
          "Train MSE",
          "Train MSE",
          "Train MSE",
          "Train MSE",
          "Train MSE",
          "Train MSE",
          "Train MSE",
          "Train MSE",
          "Train MSE",
          "Train MSE",
          "Train MSE",
          "Train MSE",
          "Train MSE",
          "Train MSE",
          "Train MSE",
          "Train MSE",
          "Train MSE",
          "Train MSE",
          "Train MSE",
          "Train MSE",
          "Train MSE",
          "Train MSE",
          "Train MSE",
          "Train MSE",
          "Train MSE",
          "Train MSE",
          "Train MSE",
          "Train MSE",
          "Train MSE",
          "Train MSE",
          "Train MSE",
          "Train MSE",
          "Train MSE",
          "Train MSE",
          "Train MSE",
          "Train MSE",
          "Train MSE",
          "Train MSE",
          "Train MSE",
          "Train MSE",
          "Train MSE",
          "Train MSE",
          "Train MSE"
         ],
         "yaxis": "y2"
        },
        {
         "legendgroup": "Val MSE",
         "marker": {
          "color": "#A6ACEC",
          "symbol": "line-ns-open"
         },
         "mode": "markers",
         "name": "Val MSE",
         "showlegend": false,
         "type": "scatter",
         "x": [
          0.015410076826810837,
          0.006454497575759888,
          0.008302411995828152,
          0.003021436743438244,
          0.002209750469774008,
          0.0029200694989413023,
          0.0023833250161260366,
          0.0019128200365230441,
          0.010047131218016148,
          0.0028712779749184847,
          0.0012493946123868227,
          0.00073592783883214,
          0.0008760856580920517,
          0.0005310034612193704,
          0.00045677059097215533,
          0.00025275893858633935,
          0.007135523017495871,
          0.001098030828870833,
          0.0004881198692601174,
          0.0003065844939555973,
          0.0003407067561056465,
          0.0008912602788768709,
          0.00028232656768523157,
          0.0011215416016057134,
          0.018781939521431923,
          0.005704141221940517,
          0.0042635356076061726,
          0.004880968015640974,
          0.002414502901956439,
          0.0014915012288838625,
          0.0016286560567095876,
          0.0012624170631170273,
          0.010684686712920666,
          0.001976963598281145,
          0.0012782596750184894,
          0.0007248672773130238,
          0.0005015396163798869,
          0.00048183463513851166,
          0.0003048373619094491,
          0.0003658209752757102,
          0.010829240083694458,
          0.0033696189057081938,
          0.0009417308610863984,
          0.000443653465481475,
          0.00046526940423063934,
          0.00019878728198818862,
          0.0003780870756600052,
          0.004084629472345114,
          0.011486079543828964,
          0.008609426207840443,
          0.007655534893274307,
          0.004012811463326216,
          0.0027017490938305855,
          0.0024018692784011364,
          0.001798739074729383,
          0.0017938415985554457,
          0.010858035646378994,
          0.003297690534964204,
          0.0013737105764448643,
          0.0019046778324991465,
          0.0006221793591976166,
          0.00041988989687524736,
          0.00026137434178963304,
          0.000252862781053409,
          0.008640332147479057,
          0.0013382835313677788,
          0.0009034862159751356,
          0.0004667236644309014,
          0.0003256883064750582,
          0.00023498029622714967,
          0.0005703881033696234,
          0.0003032521635759622,
          0.024789292365312576,
          0.01805184781551361,
          0.013015520758926868,
          0.008749768137931824,
          0.008144005201756954,
          0.006238461006432772,
          0.0062211803160607815,
          0.004552653059363365,
          0.019391724839806557,
          0.009723120369017124,
          0.004619842395186424,
          0.003370143473148346,
          0.0023824037052690983,
          0.0008222797769121826,
          0.0008541339193470776,
          0.0005611850647255778,
          0.009538774378597736,
          0.002939184196293354,
          0.0021618790924549103,
          0.002029831288382411,
          0.0008044574060477316,
          0.0011569565394893289,
          0.00026271920069120824,
          0.0004493913147598505,
          0.01936671882867813,
          0.011697431094944477,
          0.004792416468262672,
          0.004823013208806515,
          0.003941080532968044,
          0.0031766758766025305,
          0.0027497464325278997,
          0.0027360140811651945,
          0.010735896416008472,
          0.004581918474286795,
          0.002619638340547681,
          0.002060502767562866,
          0.0015484142350032926,
          0.001661740941926837,
          0.001341655501164496,
          0.0013455119915306568,
          0.01722915656864643,
          0.0036672293208539486,
          0.002683615079149604,
          0.0013982373056933284,
          0.0018835357623174787,
          0.0007168946322053671,
          0.0009342815610580146,
          0.0006563123897649348,
          0.017784910276532173,
          0.00805167481303215,
          0.005029190797358751,
          0.0038542631082236767,
          0.0030120278242975473,
          0.0021622672211378813,
          0.0018235616153106093,
          0.0020385216921567917,
          0.009918863885104656,
          0.0040339818224310875,
          0.0018579516327008605,
          0.0016878660535439849,
          0.0015533664263784885,
          0.0013061683857813478,
          0.001352960360236466,
          0.0009627445251680911,
          0.012887399643659592,
          0.0029491521418094635,
          0.0019947104156017303,
          0.0013898718170821667,
          0.0013598109362646937,
          0.0010907049290835857,
          0.0008922995184548199,
          0.0009071407839655876
         ],
         "xaxis": "x",
         "y": [
          "Val MSE",
          "Val MSE",
          "Val MSE",
          "Val MSE",
          "Val MSE",
          "Val MSE",
          "Val MSE",
          "Val MSE",
          "Val MSE",
          "Val MSE",
          "Val MSE",
          "Val MSE",
          "Val MSE",
          "Val MSE",
          "Val MSE",
          "Val MSE",
          "Val MSE",
          "Val MSE",
          "Val MSE",
          "Val MSE",
          "Val MSE",
          "Val MSE",
          "Val MSE",
          "Val MSE",
          "Val MSE",
          "Val MSE",
          "Val MSE",
          "Val MSE",
          "Val MSE",
          "Val MSE",
          "Val MSE",
          "Val MSE",
          "Val MSE",
          "Val MSE",
          "Val MSE",
          "Val MSE",
          "Val MSE",
          "Val MSE",
          "Val MSE",
          "Val MSE",
          "Val MSE",
          "Val MSE",
          "Val MSE",
          "Val MSE",
          "Val MSE",
          "Val MSE",
          "Val MSE",
          "Val MSE",
          "Val MSE",
          "Val MSE",
          "Val MSE",
          "Val MSE",
          "Val MSE",
          "Val MSE",
          "Val MSE",
          "Val MSE",
          "Val MSE",
          "Val MSE",
          "Val MSE",
          "Val MSE",
          "Val MSE",
          "Val MSE",
          "Val MSE",
          "Val MSE",
          "Val MSE",
          "Val MSE",
          "Val MSE",
          "Val MSE",
          "Val MSE",
          "Val MSE",
          "Val MSE",
          "Val MSE",
          "Val MSE",
          "Val MSE",
          "Val MSE",
          "Val MSE",
          "Val MSE",
          "Val MSE",
          "Val MSE",
          "Val MSE",
          "Val MSE",
          "Val MSE",
          "Val MSE",
          "Val MSE",
          "Val MSE",
          "Val MSE",
          "Val MSE",
          "Val MSE",
          "Val MSE",
          "Val MSE",
          "Val MSE",
          "Val MSE",
          "Val MSE",
          "Val MSE",
          "Val MSE",
          "Val MSE",
          "Val MSE",
          "Val MSE",
          "Val MSE",
          "Val MSE",
          "Val MSE",
          "Val MSE",
          "Val MSE",
          "Val MSE",
          "Val MSE",
          "Val MSE",
          "Val MSE",
          "Val MSE",
          "Val MSE",
          "Val MSE",
          "Val MSE",
          "Val MSE",
          "Val MSE",
          "Val MSE",
          "Val MSE",
          "Val MSE",
          "Val MSE",
          "Val MSE",
          "Val MSE",
          "Val MSE",
          "Val MSE",
          "Val MSE",
          "Val MSE",
          "Val MSE",
          "Val MSE",
          "Val MSE",
          "Val MSE",
          "Val MSE",
          "Val MSE",
          "Val MSE",
          "Val MSE",
          "Val MSE",
          "Val MSE",
          "Val MSE",
          "Val MSE",
          "Val MSE",
          "Val MSE",
          "Val MSE",
          "Val MSE",
          "Val MSE",
          "Val MSE",
          "Val MSE",
          "Val MSE",
          "Val MSE"
         ],
         "yaxis": "y2"
        }
       ],
       "layout": {
        "barmode": "overlay",
        "hovermode": "closest",
        "legend": {
         "traceorder": "reversed"
        },
        "template": {
         "data": {
          "bar": [
           {
            "error_x": {
             "color": "#2a3f5f"
            },
            "error_y": {
             "color": "#2a3f5f"
            },
            "marker": {
             "line": {
              "color": "#E5ECF6",
              "width": 0.5
             },
             "pattern": {
              "fillmode": "overlay",
              "size": 10,
              "solidity": 0.2
             }
            },
            "type": "bar"
           }
          ],
          "barpolar": [
           {
            "marker": {
             "line": {
              "color": "#E5ECF6",
              "width": 0.5
             },
             "pattern": {
              "fillmode": "overlay",
              "size": 10,
              "solidity": 0.2
             }
            },
            "type": "barpolar"
           }
          ],
          "carpet": [
           {
            "aaxis": {
             "endlinecolor": "#2a3f5f",
             "gridcolor": "white",
             "linecolor": "white",
             "minorgridcolor": "white",
             "startlinecolor": "#2a3f5f"
            },
            "baxis": {
             "endlinecolor": "#2a3f5f",
             "gridcolor": "white",
             "linecolor": "white",
             "minorgridcolor": "white",
             "startlinecolor": "#2a3f5f"
            },
            "type": "carpet"
           }
          ],
          "choropleth": [
           {
            "colorbar": {
             "outlinewidth": 0,
             "ticks": ""
            },
            "type": "choropleth"
           }
          ],
          "contour": [
           {
            "colorbar": {
             "outlinewidth": 0,
             "ticks": ""
            },
            "colorscale": [
             [
              0,
              "#0d0887"
             ],
             [
              0.1111111111111111,
              "#46039f"
             ],
             [
              0.2222222222222222,
              "#7201a8"
             ],
             [
              0.3333333333333333,
              "#9c179e"
             ],
             [
              0.4444444444444444,
              "#bd3786"
             ],
             [
              0.5555555555555556,
              "#d8576b"
             ],
             [
              0.6666666666666666,
              "#ed7953"
             ],
             [
              0.7777777777777778,
              "#fb9f3a"
             ],
             [
              0.8888888888888888,
              "#fdca26"
             ],
             [
              1,
              "#f0f921"
             ]
            ],
            "type": "contour"
           }
          ],
          "contourcarpet": [
           {
            "colorbar": {
             "outlinewidth": 0,
             "ticks": ""
            },
            "type": "contourcarpet"
           }
          ],
          "heatmap": [
           {
            "colorbar": {
             "outlinewidth": 0,
             "ticks": ""
            },
            "colorscale": [
             [
              0,
              "#0d0887"
             ],
             [
              0.1111111111111111,
              "#46039f"
             ],
             [
              0.2222222222222222,
              "#7201a8"
             ],
             [
              0.3333333333333333,
              "#9c179e"
             ],
             [
              0.4444444444444444,
              "#bd3786"
             ],
             [
              0.5555555555555556,
              "#d8576b"
             ],
             [
              0.6666666666666666,
              "#ed7953"
             ],
             [
              0.7777777777777778,
              "#fb9f3a"
             ],
             [
              0.8888888888888888,
              "#fdca26"
             ],
             [
              1,
              "#f0f921"
             ]
            ],
            "type": "heatmap"
           }
          ],
          "heatmapgl": [
           {
            "colorbar": {
             "outlinewidth": 0,
             "ticks": ""
            },
            "colorscale": [
             [
              0,
              "#0d0887"
             ],
             [
              0.1111111111111111,
              "#46039f"
             ],
             [
              0.2222222222222222,
              "#7201a8"
             ],
             [
              0.3333333333333333,
              "#9c179e"
             ],
             [
              0.4444444444444444,
              "#bd3786"
             ],
             [
              0.5555555555555556,
              "#d8576b"
             ],
             [
              0.6666666666666666,
              "#ed7953"
             ],
             [
              0.7777777777777778,
              "#fb9f3a"
             ],
             [
              0.8888888888888888,
              "#fdca26"
             ],
             [
              1,
              "#f0f921"
             ]
            ],
            "type": "heatmapgl"
           }
          ],
          "histogram": [
           {
            "marker": {
             "pattern": {
              "fillmode": "overlay",
              "size": 10,
              "solidity": 0.2
             }
            },
            "type": "histogram"
           }
          ],
          "histogram2d": [
           {
            "colorbar": {
             "outlinewidth": 0,
             "ticks": ""
            },
            "colorscale": [
             [
              0,
              "#0d0887"
             ],
             [
              0.1111111111111111,
              "#46039f"
             ],
             [
              0.2222222222222222,
              "#7201a8"
             ],
             [
              0.3333333333333333,
              "#9c179e"
             ],
             [
              0.4444444444444444,
              "#bd3786"
             ],
             [
              0.5555555555555556,
              "#d8576b"
             ],
             [
              0.6666666666666666,
              "#ed7953"
             ],
             [
              0.7777777777777778,
              "#fb9f3a"
             ],
             [
              0.8888888888888888,
              "#fdca26"
             ],
             [
              1,
              "#f0f921"
             ]
            ],
            "type": "histogram2d"
           }
          ],
          "histogram2dcontour": [
           {
            "colorbar": {
             "outlinewidth": 0,
             "ticks": ""
            },
            "colorscale": [
             [
              0,
              "#0d0887"
             ],
             [
              0.1111111111111111,
              "#46039f"
             ],
             [
              0.2222222222222222,
              "#7201a8"
             ],
             [
              0.3333333333333333,
              "#9c179e"
             ],
             [
              0.4444444444444444,
              "#bd3786"
             ],
             [
              0.5555555555555556,
              "#d8576b"
             ],
             [
              0.6666666666666666,
              "#ed7953"
             ],
             [
              0.7777777777777778,
              "#fb9f3a"
             ],
             [
              0.8888888888888888,
              "#fdca26"
             ],
             [
              1,
              "#f0f921"
             ]
            ],
            "type": "histogram2dcontour"
           }
          ],
          "mesh3d": [
           {
            "colorbar": {
             "outlinewidth": 0,
             "ticks": ""
            },
            "type": "mesh3d"
           }
          ],
          "parcoords": [
           {
            "line": {
             "colorbar": {
              "outlinewidth": 0,
              "ticks": ""
             }
            },
            "type": "parcoords"
           }
          ],
          "pie": [
           {
            "automargin": true,
            "type": "pie"
           }
          ],
          "scatter": [
           {
            "marker": {
             "colorbar": {
              "outlinewidth": 0,
              "ticks": ""
             }
            },
            "type": "scatter"
           }
          ],
          "scatter3d": [
           {
            "line": {
             "colorbar": {
              "outlinewidth": 0,
              "ticks": ""
             }
            },
            "marker": {
             "colorbar": {
              "outlinewidth": 0,
              "ticks": ""
             }
            },
            "type": "scatter3d"
           }
          ],
          "scattercarpet": [
           {
            "marker": {
             "colorbar": {
              "outlinewidth": 0,
              "ticks": ""
             }
            },
            "type": "scattercarpet"
           }
          ],
          "scattergeo": [
           {
            "marker": {
             "colorbar": {
              "outlinewidth": 0,
              "ticks": ""
             }
            },
            "type": "scattergeo"
           }
          ],
          "scattergl": [
           {
            "marker": {
             "colorbar": {
              "outlinewidth": 0,
              "ticks": ""
             }
            },
            "type": "scattergl"
           }
          ],
          "scattermapbox": [
           {
            "marker": {
             "colorbar": {
              "outlinewidth": 0,
              "ticks": ""
             }
            },
            "type": "scattermapbox"
           }
          ],
          "scatterpolar": [
           {
            "marker": {
             "colorbar": {
              "outlinewidth": 0,
              "ticks": ""
             }
            },
            "type": "scatterpolar"
           }
          ],
          "scatterpolargl": [
           {
            "marker": {
             "colorbar": {
              "outlinewidth": 0,
              "ticks": ""
             }
            },
            "type": "scatterpolargl"
           }
          ],
          "scatterternary": [
           {
            "marker": {
             "colorbar": {
              "outlinewidth": 0,
              "ticks": ""
             }
            },
            "type": "scatterternary"
           }
          ],
          "surface": [
           {
            "colorbar": {
             "outlinewidth": 0,
             "ticks": ""
            },
            "colorscale": [
             [
              0,
              "#0d0887"
             ],
             [
              0.1111111111111111,
              "#46039f"
             ],
             [
              0.2222222222222222,
              "#7201a8"
             ],
             [
              0.3333333333333333,
              "#9c179e"
             ],
             [
              0.4444444444444444,
              "#bd3786"
             ],
             [
              0.5555555555555556,
              "#d8576b"
             ],
             [
              0.6666666666666666,
              "#ed7953"
             ],
             [
              0.7777777777777778,
              "#fb9f3a"
             ],
             [
              0.8888888888888888,
              "#fdca26"
             ],
             [
              1,
              "#f0f921"
             ]
            ],
            "type": "surface"
           }
          ],
          "table": [
           {
            "cells": {
             "fill": {
              "color": "#EBF0F8"
             },
             "line": {
              "color": "white"
             }
            },
            "header": {
             "fill": {
              "color": "#C8D4E3"
             },
             "line": {
              "color": "white"
             }
            },
            "type": "table"
           }
          ]
         },
         "layout": {
          "annotationdefaults": {
           "arrowcolor": "#2a3f5f",
           "arrowhead": 0,
           "arrowwidth": 1
          },
          "autotypenumbers": "strict",
          "coloraxis": {
           "colorbar": {
            "outlinewidth": 0,
            "ticks": ""
           }
          },
          "colorscale": {
           "diverging": [
            [
             0,
             "#8e0152"
            ],
            [
             0.1,
             "#c51b7d"
            ],
            [
             0.2,
             "#de77ae"
            ],
            [
             0.3,
             "#f1b6da"
            ],
            [
             0.4,
             "#fde0ef"
            ],
            [
             0.5,
             "#f7f7f7"
            ],
            [
             0.6,
             "#e6f5d0"
            ],
            [
             0.7,
             "#b8e186"
            ],
            [
             0.8,
             "#7fbc41"
            ],
            [
             0.9,
             "#4d9221"
            ],
            [
             1,
             "#276419"
            ]
           ],
           "sequential": [
            [
             0,
             "#0d0887"
            ],
            [
             0.1111111111111111,
             "#46039f"
            ],
            [
             0.2222222222222222,
             "#7201a8"
            ],
            [
             0.3333333333333333,
             "#9c179e"
            ],
            [
             0.4444444444444444,
             "#bd3786"
            ],
            [
             0.5555555555555556,
             "#d8576b"
            ],
            [
             0.6666666666666666,
             "#ed7953"
            ],
            [
             0.7777777777777778,
             "#fb9f3a"
            ],
            [
             0.8888888888888888,
             "#fdca26"
            ],
            [
             1,
             "#f0f921"
            ]
           ],
           "sequentialminus": [
            [
             0,
             "#0d0887"
            ],
            [
             0.1111111111111111,
             "#46039f"
            ],
            [
             0.2222222222222222,
             "#7201a8"
            ],
            [
             0.3333333333333333,
             "#9c179e"
            ],
            [
             0.4444444444444444,
             "#bd3786"
            ],
            [
             0.5555555555555556,
             "#d8576b"
            ],
            [
             0.6666666666666666,
             "#ed7953"
            ],
            [
             0.7777777777777778,
             "#fb9f3a"
            ],
            [
             0.8888888888888888,
             "#fdca26"
            ],
            [
             1,
             "#f0f921"
            ]
           ]
          },
          "colorway": [
           "#636efa",
           "#EF553B",
           "#00cc96",
           "#ab63fa",
           "#FFA15A",
           "#19d3f3",
           "#FF6692",
           "#B6E880",
           "#FF97FF",
           "#FECB52"
          ],
          "font": {
           "color": "#2a3f5f"
          },
          "geo": {
           "bgcolor": "white",
           "lakecolor": "white",
           "landcolor": "#E5ECF6",
           "showlakes": true,
           "showland": true,
           "subunitcolor": "white"
          },
          "hoverlabel": {
           "align": "left"
          },
          "hovermode": "closest",
          "mapbox": {
           "style": "light"
          },
          "paper_bgcolor": "white",
          "plot_bgcolor": "#E5ECF6",
          "polar": {
           "angularaxis": {
            "gridcolor": "white",
            "linecolor": "white",
            "ticks": ""
           },
           "bgcolor": "#E5ECF6",
           "radialaxis": {
            "gridcolor": "white",
            "linecolor": "white",
            "ticks": ""
           }
          },
          "scene": {
           "xaxis": {
            "backgroundcolor": "#E5ECF6",
            "gridcolor": "white",
            "gridwidth": 2,
            "linecolor": "white",
            "showbackground": true,
            "ticks": "",
            "zerolinecolor": "white"
           },
           "yaxis": {
            "backgroundcolor": "#E5ECF6",
            "gridcolor": "white",
            "gridwidth": 2,
            "linecolor": "white",
            "showbackground": true,
            "ticks": "",
            "zerolinecolor": "white"
           },
           "zaxis": {
            "backgroundcolor": "#E5ECF6",
            "gridcolor": "white",
            "gridwidth": 2,
            "linecolor": "white",
            "showbackground": true,
            "ticks": "",
            "zerolinecolor": "white"
           }
          },
          "shapedefaults": {
           "line": {
            "color": "#2a3f5f"
           }
          },
          "ternary": {
           "aaxis": {
            "gridcolor": "white",
            "linecolor": "white",
            "ticks": ""
           },
           "baxis": {
            "gridcolor": "white",
            "linecolor": "white",
            "ticks": ""
           },
           "bgcolor": "#E5ECF6",
           "caxis": {
            "gridcolor": "white",
            "linecolor": "white",
            "ticks": ""
           }
          },
          "title": {
           "x": 0.05
          },
          "xaxis": {
           "automargin": true,
           "gridcolor": "white",
           "linecolor": "white",
           "ticks": "",
           "title": {
            "standoff": 15
           },
           "zerolinecolor": "white",
           "zerolinewidth": 2
          },
          "yaxis": {
           "automargin": true,
           "gridcolor": "white",
           "linecolor": "white",
           "ticks": "",
           "title": {
            "standoff": 15
           },
           "zerolinecolor": "white",
           "zerolinewidth": 2
          }
         }
        },
        "title": {
         "text": "Hist and Curve Plot"
        },
        "xaxis": {
         "anchor": "y2",
         "domain": [
          0,
          1
         ],
         "zeroline": false
        },
        "yaxis": {
         "anchor": "free",
         "domain": [
          0.35,
          1
         ],
         "position": 0
        },
        "yaxis2": {
         "anchor": "x",
         "domain": [
          0,
          0.25
         ],
         "dtick": 1,
         "showticklabels": false
        }
       }
      },
      "text/html": [
       "<div>                            <div id=\"d59a5907-de70-4783-9198-7260f7453438\" class=\"plotly-graph-div\" style=\"height:525px; width:100%;\"></div>            <script type=\"text/javascript\">                require([\"plotly\"], function(Plotly) {                    window.PLOTLYENV=window.PLOTLYENV || {};                                    if (document.getElementById(\"d59a5907-de70-4783-9198-7260f7453438\")) {                    Plotly.newPlot(                        \"d59a5907-de70-4783-9198-7260f7453438\",                        [{\"autobinx\":false,\"histnorm\":\"probability density\",\"legendgroup\":\"Train MSE\",\"marker\":{\"color\":\"#A56CC1\"},\"name\":\"Train MSE\",\"opacity\":0.7,\"x\":[0.013097390532493591,0.004860274493694305,0.005517732352018356,0.0022080340422689915,0.0013310657814145088,0.0016993398312479258,0.001246598083525896,0.001110048033297062,0.007480985950678587,0.0022410135716199875,0.0009782902197912335,0.0006815647357143462,0.0006602139328606427,0.000340549013344571,0.00033474116935394704,0.00019594670447986573,0.006734412629157305,0.0011025427374988794,0.0005227242363616824,0.0003936078865081072,0.00027279547066427767,0.00028156096232123673,0.00019858033920172602,0.0001765245251590386,0.014815829694271088,0.004426027648150921,0.0035076639614999294,0.0034775282256305218,0.001872131833806634,0.0011915735667571425,0.0012838203692808747,0.0008894030470401049,0.008808371610939503,0.0018995088757947087,0.0010629631578922272,0.0008634469122625887,0.00046882868628017604,0.0003715981438290328,0.0002883403794839978,0.0002354237949475646,0.007484918925911188,0.00218829489313066,0.0009062619647011161,0.00044782040640711784,0.00044181925477460027,0.00027500721625983715,0.00023166595201473683,0.00019931100541725755,0.008407016284763813,0.006345728412270546,0.005359525326639414,0.003002565586939454,0.0018441521096974611,0.0016092559089884162,0.0013501738430932164,0.0012397085083648562,0.008689479902386665,0.0022847407963126898,0.001205567386932671,0.0014653797261416912,0.0005817903438583016,0.00044268908095546067,0.00029290467500686646,0.00028071552515029907,0.006270409096032381,0.0012796700466424227,0.0008828762802295387,0.0005246323999017477,0.00036831237957812846,0.00024190734256990254,0.00024379536625929177,0.00019191006140317768,0.018521731719374657,0.013199160806834698,0.009669245220720768,0.00645865872502327,0.005588431842625141,0.0044374312274158,0.0042283013463020325,0.0028651412576436996,0.013908101245760918,0.006691870745271444,0.0029556741937994957,0.002468615071848035,0.0018057451816275716,0.0008536608074791729,0.0008122537401504815,0.0005778467166237533,0.008474518544971943,0.0029330463148653507,0.001973321894183755,0.0014268207596614957,0.0007480375934392214,0.0003635292814578861,0.0003376159002073109,0.0002869008749257773,0.017311986535787582,0.008298925124108791,0.0040136645548045635,0.003718877676874399,0.0033846248406916857,0.003066947450861335,0.002571730874478817,0.0022924377117305994,0.008236760273575783,0.0038792691193521023,0.002496614120900631,0.0019344318425282836,0.00161486875731498,0.001421423046849668,0.0013863957719877362,0.0011345266830176115,0.012536287307739258,0.003447433467954397,0.0020927959121763706,0.0014899608213454485,0.0016630793688818812,0.0008839255315251648,0.000785805459599942,0.0006265328847803175,0.015655919909477234,0.005705108400434256,0.0035405682865530252,0.0032290080562233925,0.0024376437067985535,0.0018871052889153361,0.0015635770978406072,0.001677961554378271,0.007128091529011726,0.0031397927086800337,0.0017770129488781095,0.0015199354384094477,0.0012908645439893007,0.0009036135743372142,0.0010600939858704805,0.0009086801437661052,0.009588021785020828,0.002486988203600049,0.0016011962434276938,0.0012693488970398903,0.000983186298981309,0.000996956368908286,0.0007413398707285523,0.000700542819686234],\"xaxis\":\"x\",\"xbins\":{\"end\":0.018521731719374657,\"size\":0.2,\"start\":0.0001765245251590386},\"yaxis\":\"y\",\"type\":\"histogram\"},{\"autobinx\":false,\"histnorm\":\"probability density\",\"legendgroup\":\"Val MSE\",\"marker\":{\"color\":\"#A6ACEC\"},\"name\":\"Val MSE\",\"opacity\":0.7,\"x\":[0.015410076826810837,0.006454497575759888,0.008302411995828152,0.003021436743438244,0.002209750469774008,0.0029200694989413023,0.0023833250161260366,0.0019128200365230441,0.010047131218016148,0.0028712779749184847,0.0012493946123868227,0.00073592783883214,0.0008760856580920517,0.0005310034612193704,0.00045677059097215533,0.00025275893858633935,0.007135523017495871,0.001098030828870833,0.0004881198692601174,0.0003065844939555973,0.0003407067561056465,0.0008912602788768709,0.00028232656768523157,0.0011215416016057134,0.018781939521431923,0.005704141221940517,0.0042635356076061726,0.004880968015640974,0.002414502901956439,0.0014915012288838625,0.0016286560567095876,0.0012624170631170273,0.010684686712920666,0.001976963598281145,0.0012782596750184894,0.0007248672773130238,0.0005015396163798869,0.00048183463513851166,0.0003048373619094491,0.0003658209752757102,0.010829240083694458,0.0033696189057081938,0.0009417308610863984,0.000443653465481475,0.00046526940423063934,0.00019878728198818862,0.0003780870756600052,0.004084629472345114,0.011486079543828964,0.008609426207840443,0.007655534893274307,0.004012811463326216,0.0027017490938305855,0.0024018692784011364,0.001798739074729383,0.0017938415985554457,0.010858035646378994,0.003297690534964204,0.0013737105764448643,0.0019046778324991465,0.0006221793591976166,0.00041988989687524736,0.00026137434178963304,0.000252862781053409,0.008640332147479057,0.0013382835313677788,0.0009034862159751356,0.0004667236644309014,0.0003256883064750582,0.00023498029622714967,0.0005703881033696234,0.0003032521635759622,0.024789292365312576,0.01805184781551361,0.013015520758926868,0.008749768137931824,0.008144005201756954,0.006238461006432772,0.0062211803160607815,0.004552653059363365,0.019391724839806557,0.009723120369017124,0.004619842395186424,0.003370143473148346,0.0023824037052690983,0.0008222797769121826,0.0008541339193470776,0.0005611850647255778,0.009538774378597736,0.002939184196293354,0.0021618790924549103,0.002029831288382411,0.0008044574060477316,0.0011569565394893289,0.00026271920069120824,0.0004493913147598505,0.01936671882867813,0.011697431094944477,0.004792416468262672,0.004823013208806515,0.003941080532968044,0.0031766758766025305,0.0027497464325278997,0.0027360140811651945,0.010735896416008472,0.004581918474286795,0.002619638340547681,0.002060502767562866,0.0015484142350032926,0.001661740941926837,0.001341655501164496,0.0013455119915306568,0.01722915656864643,0.0036672293208539486,0.002683615079149604,0.0013982373056933284,0.0018835357623174787,0.0007168946322053671,0.0009342815610580146,0.0006563123897649348,0.017784910276532173,0.00805167481303215,0.005029190797358751,0.0038542631082236767,0.0030120278242975473,0.0021622672211378813,0.0018235616153106093,0.0020385216921567917,0.009918863885104656,0.0040339818224310875,0.0018579516327008605,0.0016878660535439849,0.0015533664263784885,0.0013061683857813478,0.001352960360236466,0.0009627445251680911,0.012887399643659592,0.0029491521418094635,0.0019947104156017303,0.0013898718170821667,0.0013598109362646937,0.0010907049290835857,0.0008922995184548199,0.0009071407839655876],\"xaxis\":\"x\",\"xbins\":{\"end\":0.024789292365312576,\"size\":0.2,\"start\":0.00019878728198818862},\"yaxis\":\"y\",\"type\":\"histogram\"},{\"legendgroup\":\"Train MSE\",\"marker\":{\"color\":\"#A56CC1\"},\"mode\":\"lines\",\"name\":\"Train MSE\",\"showlegend\":false,\"x\":[0.0001765245251590386,0.00021321493954746984,0.00024990535393590107,0.00028659576832433233,0.00032328618271276353,0.0003599765971011948,0.00039666701148962605,0.00043335742587805726,0.0004700478402664885,0.0005067382546549197,0.000543428669043351,0.0005801190834317821,0.0006168094978202135,0.0006534999122086447,0.0006901903265970759,0.0007268807409855072,0.0007635711553739384,0.0008002615697623696,0.0008369519841508008,0.0008736423985392321,0.0009103328129276634,0.0009470232273160945,0.0009837136417045257,0.001020404056092957,0.0010570944704813884,0.0010937848848698196,0.0011304752992582507,0.001167165713646682,0.0012038561280351132,0.0012405465424235444,0.0012772369568119757,0.0013139273712004069,0.0013506177855888383,0.0013873081999772694,0.0014239986143657006,0.001460689028754132,0.001497379443142563,0.0015340698575309944,0.0015707602719194256,0.0016074506863078568,0.0016441411006962881,0.0016808315150847193,0.0017175219294731504,0.0017542123438615818,0.001790902758250013,0.0018275931726384443,0.0018642835870268755,0.0019009740014153066,0.001937664415803738,0.001974354830192169,0.0020110452445806005,0.0020477356589690314,0.002084426073357463,0.002121116487745894,0.0021578069021343255,0.0021944973165227565,0.002231187730911188,0.002267878145299619,0.00230456855968805,0.0023412589740764815,0.002377949388464913,0.002414639802853344,0.002451330217241775,0.0024880206316302065,0.002524711046018638,0.002561401460407069,0.0025980918747955,0.0026347822891839316,0.0026714727035723625,0.002708163117960794,0.0027448535323492253,0.002781543946737656,0.0028182343611260876,0.002854924775514519,0.0028916151899029503,0.0029283056042913812,0.0029649960186798126,0.003001686433068244,0.003038376847456675,0.0030750672618451063,0.0031117576762335376,0.0031484480906219686,0.0031851385050104,0.0032218289193988313,0.0032585193337872622,0.0032952097481756936,0.003331900162564125,0.0033685905769525563,0.0034052809913409873,0.0034419714057294186,0.00347866182011785,0.003515352234506281,0.0035520426488947123,0.0035887330632831437,0.0036254234776715746,0.003662113892060006,0.0036988043064484374,0.0037354947208368687,0.0037721851352252997,0.003808875549613731,0.0038455659640021624,0.0038822563783905933,0.003918946792779024,0.0039556372071674565,0.003992327621555887,0.004029018035944318,0.00406570845033275,0.004102398864721181,0.0041390892791096125,0.004175779693498043,0.004212470107886474,0.004249160522274906,0.004285850936663337,0.0043225413510517684,0.0043592317654402,0.004395922179828631,0.004432612594217062,0.004469303008605493,0.004505993422993924,0.004542683837382356,0.004579374251770787,0.0046160646661592185,0.004652755080547649,0.00468944549493608,0.004726135909324512,0.004762826323712943,0.0047995167381013745,0.004836207152489806,0.004872897566878237,0.004909587981266668,0.004946278395655099,0.0049829688100435305,0.005019659224431962,0.005056349638820393,0.0050930400532088246,0.005129730467597255,0.0051664208819856864,0.005203111296374118,0.005239801710762549,0.0052764921251509805,0.005313182539539412,0.005349872953927843,0.005386563368316274,0.005423253782704705,0.0054599441970931365,0.005496634611481568,0.005533325025869999,0.005570015440258431,0.005606705854646862,0.0056433962690352925,0.005680086683423724,0.005716777097812155,0.005753467512200587,0.005790157926589018,0.005826848340977449,0.00586353875536588,0.005900229169754311,0.0059369195841427426,0.005973609998531174,0.006010300412919605,0.006046990827308037,0.006083681241696468,0.0061203716560848985,0.00615706207047333,0.006193752484861761,0.006230442899250193,0.006267133313638624,0.006303823728027055,0.006340514142415486,0.006377204556803917,0.006413894971192349,0.00645058538558078,0.006487275799969211,0.006523966214357643,0.006560656628746074,0.006597347043134505,0.006634037457522936,0.006670727871911367,0.006707418286299799,0.00674410870068823,0.006780799115076661,0.006817489529465092,0.006854179943853523,0.006890870358241955,0.006927560772630386,0.006964251187018817,0.007000941601407249,0.00703763201579568,0.007074322430184111,0.007111012844572542,0.007147703258960973,0.007184393673349405,0.007221084087737836,0.0072577745021262675,0.007294464916514699,0.007331155330903129,0.007367845745291561,0.007404536159679992,0.0074412265740684234,0.007477916988456855,0.007514607402845286,0.007551297817233717,0.007587988231622148,0.007624678646010579,0.007661369060399011,0.007698059474787442,0.0077347498891758735,0.007771440303564305,0.007808130717952735,0.007844821132341168,0.007881511546729598,0.007918201961118029,0.00795489237550646,0.007991582789894891,0.008028273204283324,0.008064963618671754,0.008101654033060186,0.008138344447448617,0.008175034861837047,0.00821172527622548,0.00824841569061391,0.008285106105002342,0.008321796519390773,0.008358486933779205,0.008395177348167636,0.008431867762556066,0.008468558176944498,0.008505248591332929,0.008541939005721361,0.008578629420109792,0.008615319834498224,0.008652010248886654,0.008688700663275085,0.008725391077663517,0.008762081492051947,0.00879877190644038,0.00883546232082881,0.00887215273521724,0.008908843149605673,0.008945533563994103,0.008982223978382536,0.009018914392770966,0.009055604807159398,0.009092295221547829,0.00912898563593626,0.009165676050324692,0.009202366464713122,0.009239056879101554,0.009275747293489985,0.009312437707878417,0.009349128122266848,0.009385818536655278,0.00942250895104371,0.009459199365432141,0.009495889779820573,0.009532580194209004,0.009569270608597436,0.009605961022985866,0.009642651437374297,0.009679341851762729,0.00971603226615116,0.009752722680539592,0.009789413094928022,0.009826103509316455,0.009862793923704885,0.009899484338093316,0.009936174752481748,0.009972865166870178,0.01000955558125861,0.010046245995647041,0.010082936410035472,0.010119626824423904,0.010156317238812334,0.010193007653200767,0.010229698067589197,0.01026638848197763,0.01030307889636606,0.01033976931075449,0.010376459725142922,0.010413150139531353,0.010449840553919785,0.010486530968308216,0.010523221382696648,0.010559911797085078,0.010596602211473509,0.010633292625861941,0.010669983040250372,0.010706673454638804,0.010743363869027234,0.010780054283415667,0.010816744697804097,0.010853435112192528,0.01089012552658096,0.01092681594096939,0.010963506355357823,0.011000196769746253,0.011036887184134685,0.011073577598523116,0.011110268012911546,0.011146958427299979,0.011183648841688409,0.011220339256076841,0.011257029670465272,0.011293720084853702,0.011330410499242135,0.011367100913630565,0.011403791328018997,0.011440481742407428,0.01147717215679586,0.01151386257118429,0.011550552985572721,0.011587243399961153,0.011623933814349584,0.011660624228738016,0.011697314643126447,0.011734005057514879,0.01177069547190331,0.01180738588629174,0.011844076300680172,0.011880766715068602,0.011917457129457035,0.011954147543845465,0.011990837958233897,0.012027528372622328,0.012064218787010758,0.01210090920139919,0.012137599615787621,0.012174290030176053,0.012210980444564484,0.012247670858952914,0.012284361273341347,0.012321051687729777,0.01235774210211821,0.01239443251650664,0.012431122930895072,0.012467813345283503,0.012504503759671933,0.012541194174060365,0.012577884588448796,0.012614575002837228,0.012651265417225659,0.01268795583161409,0.012724646246002521,0.012761336660390952,0.012798027074779384,0.012834717489167815,0.012871407903556247,0.012908098317944677,0.01294478873233311,0.01298147914672154,0.01301816956110997,0.013054859975498403,0.013091550389886833,0.013128240804275266,0.013164931218663696,0.013201621633052128,0.013238312047440559,0.01327500246182899,0.013311692876217422,0.013348383290605852,0.013385073704994284,0.013421764119382715,0.013458454533771145,0.013495144948159577,0.013531835362548008,0.01356852577693644,0.01360521619132487,0.013641906605713303,0.013678597020101733,0.013715287434490164,0.013751977848878596,0.013788668263267027,0.013825358677655459,0.01386204909204389,0.013898739506432322,0.013935429920820752,0.013972120335209183,0.014008810749597615,0.014045501163986045,0.014082191578374478,0.014118881992762908,0.01415557240715134,0.01419226282153977,0.014228953235928201,0.014265643650316634,0.014302334064705064,0.014339024479093496,0.014375714893481927,0.014412405307870359,0.01444909572225879,0.01448578613664722,0.014522476551035652,0.014559166965424083,0.014595857379812515,0.014632547794200946,0.014669238208589376,0.014705928622977808,0.014742619037366239,0.014779309451754671,0.014815999866143102,0.014852690280531534,0.014889380694919964,0.014926071109308395,0.014962761523696827,0.014999451938085257,0.01503614235247369,0.01507283276686212,0.015109523181250552,0.015146213595638983,0.015182904010027413,0.015219594424415846,0.015256284838804276,0.015292975253192708,0.015329665667581139,0.015366356081969571,0.015403046496358002,0.015439736910746432,0.015476427325134864,0.015513117739523295,0.015549808153911727,0.015586498568300158,0.01562318898268859,0.01565987939707702,0.01569656981146545,0.015733260225853883,0.015769950640242315,0.015806641054630744,0.015843331469019176,0.01588002188340761,0.015916712297796037,0.01595340271218447,0.015990093126572902,0.016026783540961334,0.016063473955349763,0.016100164369738195,0.016136854784126627,0.016173545198515056,0.01621023561290349,0.01624692602729192,0.016283616441680353,0.01632030685606878,0.016356997270457214,0.016393687684845646,0.016430378099234075,0.016467068513622507,0.01650375892801094,0.01654044934239937,0.0165771397567878,0.016613830171176232,0.016650520585564665,0.016687210999953093,0.016723901414341526,0.016760591828729958,0.01679728224311839,0.01683397265750682,0.01687066307189525,0.016907353486283683,0.016944043900672112,0.016980734315060544,0.017017424729448977,0.01705411514383741,0.017090805558225838,0.01712749597261427,0.017164186387002702,0.01720087680139113,0.017237567215779563,0.017274257630167995,0.017310948044556428,0.017347638458944856,0.01738432887333329,0.01742101928772172,0.01745770970211015,0.017494400116498582,0.017531090530887014,0.017567780945275443,0.017604471359663875,0.017641161774052307,0.01767785218844074,0.01771454260282917,0.0177512330172176,0.017787923431606033,0.01782461384599446,0.017861304260382894,0.017897994674771326,0.017934685089159758,0.017971375503548187,0.01800806591793662,0.01804475633232505,0.01808144674671348,0.018118137161101912,0.018154827575490345,0.018191517989878777,0.018228208404267206,0.018264898818655638,0.01830158923304407,0.0183382796474325,0.01837497006182093,0.018411660476209363,0.018448350890597796,0.018485041304986224],\"xaxis\":\"x\",\"y\":[150.7870607586255,152.90504802546798,154.96806245107922,156.97347194601844,158.91872600566683,160.80136195426562,162.61901094983736,164.36940372788052,166.05037606281263,167.6598739273122,169.19595833099493,170.65680982122888,172.04073263034098,173.3461584550003,174.57164985514925,175.7159032615066,176.77775158236108,177.75616640210498,178.65025976572798,179.45928554526157,180.18264038596092,180.8198642317974,181.3706404316099,181.83479542902148,182.21229804095535,182.50325833126385,182.7079260876353,182.82668891151292,182.86006993228716,182.8087251584615,182.67344047986606,182.45512833626307,182.1548240688911,181.77368197257246,181.31297106701322,180.77407060680147,180.15846535038986,179.4677406090179,178.70357709707537,177.86774560585738,176.96210152297584,175.98857921991305,174.94918633029425,173.84599794144336,172.6811507216641,171.4568370054583,170.1752988585607,168.83882214423448,167.449730611752,166.0103800273615,164.52315236734458,162.99045009199114,161.4146905184615,159.7983003095977,158.14371009475855,156.45334923773495,154.72964076571827,152.97499647218916,151.1918122054464,149.3824633533276,147.54930053349267,145.69464549743898,143.82078725522953,141.92997842671062,140.02443182382137,138.10631726742315,136.17775864093915,134.24083118196893,132.2975590119727,130.34991290306144,128.39980827994106,126.44910345409595,124.49959808639984,122.55303187349307,120.6110834524731,118.67536951771697,116.74744414298524,114.82879830134974,112.92085957495196,111.02499204611706,109.142496360946,107.27460995615877,105.4225074396855,103.58730111528658,101.77004164132843,99.97171881375306,98.19326246324378,96.43554345661444,94.69937479252862,92.98551278178198,91.29465830256123,89.62745812131288,87.98450627012086,86.36634547179311,84.77346860419354,83.20632019572297,81.66529794424649,80.15075425218033,78.66299777088841,77.20229494798988,75.76887157164026,74.36291430632177,72.98457221515163,71.63395826419506,70.31115080474223,69.01619502997578,67.74910440291906,66.509862052999,65.29842213899501,64.11471117656367,62.95862932892729,61.83005165969649,60.72882934715211,59.6547908596488,58.60774309210984,57.58747246386873,56.59374597836978,55.62631224547047,54.68490246729496,53.76923138876,52.878998214049155,52.01388749043146,51.17356996091909,50.357703387329316,49.565933345365934,48.79789399335722,48.05320881629154,47.33149134677296,46.632345864482055,45.955368075671856,45.30014577415834,44.66625948517949,44.053283093398875,43.46078445622326,42.88832600348412,42.335465324410514,41.80175574269125,41.286746880290984,40.78998521055014,40.31101460096549,39.849376845913305,39.40461218944908,38.976259838190835,38.563858464175574,38.16694669746497,37.78506360817365,37.41774917749802,37.06454475724076,36.72499351725242,36.39864088014875,36.085034942616446,35.783726882578804,35.49427135147263,35.216226850873696,34.94915609271126,34.69262634232482,34.446209743644495,34.209483625812936,33.98203079061806,33.763439780165385,33.55330512429027,33.351227567289946,33.15681427364296,32.96967901248138,32.78944232068077,32.61573164454276,32.448181460155006,32.286433372630114,32.13013619453944,31.978946003978134,31.83252618281234,31.690547435776686,31.552687791202295,31.418632584264827,31.28807442374626,31.16071314340187,31.036255739116136,30.914416293113536,30.79491588656691,30.67748250201,30.56185091701743,30.44776259066074,30.33496554428202,30.223214238150554,30.11226944557822,30.001898126068618,29.891873299062137,29.781973919814508,29.671984758909886,29.561696286861505,29.450904565193504,29.33941114532835,29.22702297652272,29.113552324006378,28.99881669837833,28.88263879720829,28.76484645967683,28.645272634965952,28.523755364986474,28.400137781895328,28.27426812072353,28.145999747295193,28.015191201481578,27.881706255692407,27.745413988369222,27.606188872107168,27.463910875897458,27.318465580850837,27.169744308636997,27.01764426175258,26.862068674616697,26.702926974385214,26.540134950275142,26.373614930100924,26.203295962641054,26.02911400438419,25.851012109139678,25.668940618949655,25.482857354697494,25.292727804780274,25.09852531019542,24.900231244384376,24.697835186183088,24.4913350842438,24.280737411320757,24.06605730684938,23.847318706297163,23.62455445582165,23.397806410837966,23.167125517174398,22.93257187357757,22.694214774420853,22.452132731566472,22.206413474436914,21.957153927459053,21.70446016415866,21.44844733730008,21.189239584585074,20.926969909547594,20.661780037403794,20.393820245739906,20.123249170044303,19.850233584211235,19.574948156264586,19.2975751796668,19.01830428069328,18.737332102462183,18.454861966316898,18.17110351135882,17.88627231302465,17.60058948169292,17.314281242388113,17.027578496729348,16.740716368341413,16.453933733010626,16.16747273492569,15.881578290394126,15.596497580468485,15.312479533953107,15.029774302292005,14.74863272786068,14.46930580720116,14.19204415074941,13.917097440606407,13.644713887902832,13.375139691297585,13.108618498136902,12.84539086978145,12.58569375258436,12.32975995597525,12.077817639071208,11.830089807200396,11.586793819682311,11.348140910165945,11.114335720780822,10.885575851305937,10.662051424511553,10.44394466877422,10.23142951901151,10.024671236925228,9.823826051484584,9.629040820521862,9.440452714252766,9.258188921473478,9.08236637912472,8.913091525852069,8.750460080128923,8.594556843446702,8.445455529014101,8.30321861634442,8.16789723204727,8.039531057077818,7.918148260633952,7.80376546082865,7.696387712201471,7.5960085200705345,7.502609881662634,7.416162353896517,7.3366251476308255,7.263946248125563,7.19806256140246,7.138900086127215,7.086374110573457,7.0403894341660305,7.000840613039031,6.967612228982001,6.940579181086898,6.919606999347476,6.904552179403281,6.895262537561512,6.8915775851724455,6.893328921378013,6.900340643198258,6.912429771867673,6.9294066942826795,6.951075618372897,6.977235041163009,7.007678228248939,7.042193703372038,7.080565746738351,7.122574900697343,7.167998481364941,7.216611094751539,7.268185155934692,7.322491409800893,7.379299451869888,7.438378247709275,7.499496649446997,7.5624239078941295,7.626930178801467,7.692787021789472,7.759767890513767,7.827648612656047,7.896207858364545,7.9652275958076935,8.034493532550178,8.10379554151187,8.172928070326396,8.241690532978657,8.309887682667123,8.377329964909023,8.443833849982969,8.509222143884191,8.573324277052308,8.63597657021945,8.697022476817615,8.756312801478051,8.81370589425081,8.869067820270423,8.922272504691616,8.97320185281841,9.021745845448605,9.067802609554112,9.111278464515248,9.152087944222227,9.190153795451113,9.225406953011829,9.257786492253604,9.287239559596804,9.313721281839662,9.337194655063302,9.357630414028147,9.375006883019003,9.389309809154682,9.400532179230062,9.408674021204536,9.413742191489813,9.415750149222736,9.414717718733783,9.410670841440773,9.403641318408367,9.393666544818585,9.380789237594568,9.365057157410735,9.346522826306105,9.325243242095082,9.301279590741181,9.274696957824405,9.245564040192956,9.213952858844367,9.179938474030944,9.14359870353023,9.105013844962382,9.064266402975166,9.021440822052421,8.976623225635143,8.929901162175712,8.881363358675952,8.83109948218909,8.77919990969514,8.725755506688689,8.6708574147489,8.614596848293235,8.557064900650369,8.498352359523992,8.438549531857838,8.377746078054699,8.316030855447453,8.253491770869704,8.190215642127214,8.126288068129025,8.06179330739998,7.996814164663263,7.9314318851539305,7.8657260563013445,7.79977451640027,7.733653269877567,7.667436408753032,7.601196039889555,7.535002217629026,7.468922881416124,7.40302379802196,7.337368507993578,7.272018275972934,7.207032044549972,7.142466391338759,7.0783754889922195,7.014811067900605,6.951822381349755,6.889456172948238,6.827756646166356,6.766765435864864,6.706521581726447,6.647061503538053,6.588418978307317,6.530625119229896,6.47370835655784,6.417694420450362,6.3626063259180805,6.308464359999407,6.255286071332806,6.203086262311557,6.151876984027009,6.101667534223434,6.05246445850088,6.00427155501297,5.957089882913189,5.910917774806905,5.865750853466227,5.821582053061263,5.778401645154539,5.736197269694926,5.6949539712340105,5.654654240570991,5.615278062012634,5.576802966412332,5.539204090127127,5.5024542400041465,5.466523964478219,5.431381630830964,5.396993508628323,5.363323859319103,5.330335031941454,5.297987564847695,5.266240293321223,5.235050462921909,5.20437384835968,5.174164877659113,5.144376761342187,5.114961626321215,5.085870654160295,5.057054223331304,5.028462055059883,5.000043362328243,4.971747001575028,4.943521626608391,4.915315844226735,4.887078371022515,4.858758190828302,4.830304712251009,4.801667925729804,4.772798559545967,4.743648234208801,4.714169614640711,4.684316559586629,4.6540442676782385,4.62330941959189,4.592070315750359,4.5602870090330825,4.527921431976769,4.494937517968267,4.4613013159543815,4.426981098218445,4.391947460801223,4.356173416173412,4.319634477798986,4.282308736262259,4.24417692666712,4.205222487053567,4.165431607614903,4.1247932705382215,4.083299280330664,4.040944284534765,3.997725784777095,3.953644138135847,3.908702548853975,3.8629070504656884,3.8162664784444904,3.7687924335207796,3.7204992358560696],\"yaxis\":\"y\",\"type\":\"scatter\"},{\"legendgroup\":\"Val MSE\",\"marker\":{\"color\":\"#A6ACEC\"},\"mode\":\"lines\",\"name\":\"Val MSE\",\"showlegend\":false,\"x\":[0.00019878728198818862,0.0002479682921548374,0.0002971493023214862,0.0003463303124881349,0.0003955113226547837,0.0004446923328214325,0.0004938733429880812,0.0005430543531547301,0.0005922353633213788,0.0006414163734880276,0.0006905973836546764,0.0007397783938213251,0.0007889594039879739,0.0008381404141546227,0.0008873214243212715,0.0009365024344879202,0.000985683444654569,0.001034864454821218,0.0010840454649878666,0.0011332264751545153,0.0011824074853211642,0.001231588495487813,0.0012807695056544616,0.0013299505158211105,0.0013791315259877592,0.001428312536154408,0.0014774935463210568,0.0015266745564877055,0.0015758555666543544,0.0016250365768210031,0.0016742175869876518,0.0017233985971543007,0.0017725796073209494,0.0018217606174875981,0.001870941627654247,0.0019201226378208957,0.0019693036479875446,0.0020184846581541935,0.002067665668320842,0.002116846678487491,0.00216602768865414,0.0022152086988207883,0.0022643897089874372,0.002313570719154086,0.0023627517293207346,0.0024119327394873835,0.0024611137496540324,0.002510294759820681,0.00255947576998733,0.0026086567801539787,0.0026578377903206272,0.002707018800487276,0.002756199810653925,0.0028053808208205735,0.0028545618309872224,0.0029037428411538713,0.0029529238513205202,0.0030021048614871687,0.0030512858716538176,0.0031004668818204665,0.003149647891987115,0.003198828902153764,0.003248009912320413,0.0032971909224870613,0.0033463719326537102,0.003395552942820359,0.0034447339529870076,0.0034939149631536565,0.0035430959733203054,0.003592276983486954,0.003641457993653603,0.0036906390038202517,0.0037398200139869007,0.003789001024153549,0.003838182034320198,0.003887363044486847,0.003936544054653495,0.003985725064820145,0.004034906074986793,0.004084087085153442,0.004133268095320091,0.0041824491054867395,0.004231630115653388,0.004280811125820037,0.004329992135986686,0.004379173146153334,0.004428354156319984,0.004477535166486632,0.004526716176653281,0.00457589718681993,0.0046250781969865784,0.004674259207153227,0.004723440217319876,0.004772621227486525,0.004821802237653173,0.0048709832478198226,0.004920164257986471,0.0049693452681531195,0.005018526278319769,0.005067707288486417,0.005116888298653066,0.005166069308819715,0.005215250318986364,0.005264431329153012,0.0053136123393196615,0.00536279334948631,0.005411974359652958,0.005461155369819608,0.005510336379986256,0.005559517390152905,0.005608698400319554,0.0056578794104862025,0.005707060420652852,0.0057562414308195,0.005805422440986149,0.005854603451152798,0.005903784461319447,0.005952965471486095,0.0060021464816527445,0.006051327491819393,0.006100508501986041,0.006149689512152691,0.006198870522319339,0.006248051532485988,0.006297232542652637,0.0063464135528192855,0.006395594562985934,0.006444775573152583,0.006493956583319232,0.00654313759348588,0.00659231860365253,0.006641499613819178,0.006690680623985827,0.006739861634152476,0.0067890426443191244,0.006838223654485773,0.006887404664652422,0.006936585674819071,0.006985766684985719,0.0070349476951523686,0.007084128705319017,0.007133309715485666,0.007182490725652315,0.007231671735818963,0.007280852745985613,0.007330033756152261,0.00737921476631891,0.007428395776485559,0.0074775767866522075,0.007526757796818856,0.007575938806985505,0.007625119817152154,0.007674300827318802,0.007723481837485452,0.0077726628476521,0.007821843857818749,0.007871024867985398,0.007920205878152047,0.007969386888318695,0.008018567898485344,0.008067748908651994,0.008116929918818641,0.00816611092898529,0.00821529193915194,0.008264472949318587,0.008313653959485237,0.008362834969651886,0.008412015979818534,0.008461196989985183,0.008510378000151832,0.00855955901031848,0.00860874002048513,0.008657921030651779,0.008707102040818426,0.008756283050985076,0.008805464061151725,0.008854645071318373,0.008903826081485022,0.008953007091651671,0.009002188101818319,0.009051369111984968,0.009100550122151618,0.009149731132318265,0.009198912142484915,0.009248093152651564,0.009297274162818212,0.00934645517298486,0.00939563618315151,0.009444817193318158,0.009493998203484807,0.009543179213651456,0.009592360223818104,0.009641541233984753,0.009690722244151403,0.00973990325431805,0.0097890842644847,0.009838265274651349,0.009887446284817997,0.009936627294984646,0.009985808305151295,0.010034989315317943,0.010084170325484592,0.010133351335651242,0.01018253234581789,0.010231713355984539,0.010280894366151188,0.010330075376317836,0.010379256386484485,0.010428437396651134,0.010477618406817782,0.010526799416984431,0.01057598042715108,0.010625161437317728,0.010674342447484378,0.010723523457651027,0.010772704467817674,0.010821885477984324,0.010871066488150973,0.01092024749831762,0.01096942850848427,0.01101860951865092,0.011067790528817569,0.011116971538984216,0.011166152549150866,0.011215333559317515,0.011264514569484163,0.011313695579650812,0.011362876589817461,0.011412057599984109,0.011461238610150758,0.011510419620317408,0.011559600630484055,0.011608781640650705,0.011657962650817354,0.011707143660984002,0.011756324671150651,0.0118055056813173,0.011854686691483948,0.011903867701650597,0.011953048711817247,0.012002229721983894,0.012051410732150544,0.012100591742317193,0.01214977275248384,0.01219895376265049,0.01224813477281714,0.012297315782983787,0.012346496793150436,0.012395677803317086,0.012444858813483733,0.012494039823650382,0.012543220833817032,0.01259240184398368,0.012641582854150329,0.012690763864316978,0.012739944874483626,0.012789125884650275,0.012838306894816924,0.012887487904983572,0.012936668915150221,0.01298584992531687,0.013035030935483518,0.013084211945650168,0.013133392955816817,0.013182573965983465,0.013231754976150114,0.013280935986316763,0.013330116996483411,0.01337929800665006,0.01342847901681671,0.013477660026983357,0.013526841037150007,0.013576022047316656,0.013625203057483304,0.013674384067649953,0.013723565077816602,0.01377274608798325,0.0138219270981499,0.013871108108316548,0.013920289118483196,0.013969470128649845,0.014018651138816495,0.014067832148983144,0.014117013159149792,0.014166194169316441,0.01421537517948309,0.014264556189649738,0.014313737199816387,0.014362918209983037,0.014412099220149684,0.014461280230316334,0.014510461240482983,0.01455964225064963,0.01460882326081628,0.01465800427098293,0.014707185281149577,0.014756366291316226,0.014805547301482876,0.014854728311649523,0.014903909321816173,0.014953090331982822,0.01500227134214947,0.015051452352316119,0.015100633362482768,0.015149814372649416,0.015198995382816065,0.015248176392982715,0.015297357403149362,0.015346538413316011,0.01539571942348266,0.015444900433649308,0.015494081443815958,0.015543262453982607,0.015592443464149255,0.015641624474315906,0.015690805484482553,0.0157399864946492,0.01578916750481585,0.0158383485149825,0.015887529525149147,0.0159367105353158,0.015985891545482446,0.016035072555649094,0.016084253565815745,0.016133434575982392,0.01618261558614904,0.01623179659631569,0.01628097760648234,0.016330158616648986,0.016379339626815637,0.016428520636982285,0.016477701647148933,0.016526882657315584,0.01657606366748223,0.01662524467764888,0.01667442568781553,0.016723606697982177,0.016772787708148825,0.016821968718315476,0.016871149728482124,0.01692033073864877,0.016969511748815422,0.01701869275898207,0.017067873769148718,0.01711705477931537,0.017166235789482016,0.017215416799648664,0.017264597809815315,0.017313778819981963,0.01736295983014861,0.01741214084031526,0.01746132185048191,0.017510502860648557,0.017559683870815208,0.017608864880981855,0.017658045891148503,0.017707226901315154,0.0177564079114818,0.01780558892164845,0.0178547699318151,0.017903950941981748,0.017953131952148395,0.018002312962315047,0.018051493972481694,0.018100674982648342,0.018149855992814993,0.01819903700298164,0.018248218013148288,0.01829739902331494,0.018346580033481587,0.018395761043648234,0.018444942053814885,0.018494123063981533,0.01854330407414818,0.018592485084314832,0.01864166609448148,0.018690847104648127,0.018740028114814778,0.018789209124981426,0.018838390135148073,0.018887571145314724,0.018936752155481372,0.01898593316564802,0.01903511417581467,0.01908429518598132,0.019133476196147966,0.019182657206314617,0.019231838216481265,0.019281019226647912,0.019330200236814563,0.01937938124698121,0.01942856225714786,0.01947774326731451,0.019526924277481157,0.019576105287647805,0.019625286297814456,0.019674467307981103,0.01972364831814775,0.019772829328314402,0.01982201033848105,0.019871191348647697,0.01992037235881435,0.019969553368980996,0.020018734379147644,0.020067915389314295,0.020117096399480942,0.02016627740964759,0.02021545841981424,0.02026463942998089,0.020313820440147536,0.020363001450314187,0.020412182460480835,0.020461363470647483,0.020510544480814134,0.02055972549098078,0.02060890650114743,0.02065808751131408,0.020707268521480728,0.020756449531647375,0.020805630541814026,0.020854811551980674,0.02090399256214732,0.020953173572313973,0.02100235458248062,0.021051535592647268,0.02110071660281392,0.021149897612980566,0.021199078623147214,0.021248259633313865,0.021297440643480513,0.02134662165364716,0.02139580266381381,0.02144498367398046,0.021494164684147107,0.021543345694313758,0.021592526704480405,0.021641707714647053,0.021690888724813704,0.02174006973498035,0.021789250745147003,0.02183843175531365,0.021887612765480298,0.02193679377564695,0.021985974785813597,0.022035155795980244,0.022084336806146895,0.022133517816313543,0.02218269882648019,0.02223187983664684,0.02228106084681349,0.022330241856980137,0.022379422867146788,0.022428603877313436,0.022477784887480083,0.022526965897646734,0.022576146907813382,0.02262532791798003,0.02267450892814668,0.022723689938313328,0.022772870948479976,0.022822051958646627,0.022871232968813274,0.022920413978979922,0.022969594989146573,0.02301877599931322,0.02306795700947987,0.02311713801964652,0.023166319029813167,0.023215500039979815,0.023264681050146466,0.023313862060313113,0.02336304307047976,0.023412224080646412,0.02346140509081306,0.023510586100979707,0.02355976711114636,0.023608948121313006,0.023658129131479654,0.023707310141646305,0.023756491151812952,0.0238056721619796,0.02385485317214625,0.0239040341823129,0.023953215192479546,0.024002396202646197,0.024051577212812845,0.024100758222979492,0.024149939233146143,0.02419912024331279,0.02424830125347944,0.02429748226364609,0.024346663273812737,0.024395844283979385,0.024445025294146036,0.024494206304312684,0.02454338731447933,0.024592568324645982,0.02464174933481263,0.024690930344979278,0.02474011135514593],\"xaxis\":\"x\",\"y\":[116.80629418996935,118.49996333811009,120.14695918741303,121.7450012842579,123.29188500624791,124.78548738158558,126.22377266242871,127.60479763004388,128.9267166108064,130.18778618344342,131.38636955937187,132.52094061952195,133.59008759267638,134.59251636205698,135.5270533886633,136.39264824169553,137.18837572825797,137.91343761643859,138.5671639477803,139.14901393707981,139.65857645937436,140.09557012587868,140.45984295251122,140.75137162649239,140.97026037827987,141.11673946784433,141.19116329594632,141.19400815265948,141.1258696168856,140.98745962200493,140.77960320411208,140.50323495047653,140.15939516695343,139.74922578402692,139.273966022016,138.73494783668426,138.1335911670911,137.4713990079801,136.74995232934015,135.97090486597858,135.13597780003346,134.24695435930454,133.30567435412675,132.31402867522675,131.27395377461508,130.1874261510666,129.0564568611401,127.88308607599699,126.66937770348584,125.41741409410197,124.12929084848098,122.80711174308382,121.45298378965734,120.06901244294245,118.65729696993385,117.21992599280676,115.75897321639853,114.27649334989647,112.7745182311332,111.25505316063568,109.72007345133049,108.1715211985709,106.61130227393764,105.04128354507696,103.46329032268147,101.87910403460359,100.29046012601648,98.69904618351002,97.10650028003953,95.51440953672679,93.92430889665722,92.3376801050268,90.75595088926177,89.18049433207698,87.6126284298473,86.05361582814248,84.50466372582554,82.96692393873403,81.44149311364565,79.92941308298826,78.43167135057423,76.94920169852394,75.48288490549434,74.03354956633514,72.60197300336095,71.18888225955128,69.79495516415713,68.42082146141625,67.06706399333792,65.73421992782518,64.4227820237379,63.133199924873345,61.8658814752404,60.621194048427775,59.39946588430867,58.20098742678764,57.02601265676589,55.8747604149829,54.74741570987907,53.64413100611144,52.56502748983809,51.510196307370165,50.47969977425828,49.47357255234371,48.49182279274926,47.53443324321619,46.601362318604195,45.692545133764916,44.8078944983668,43.947301873595556,43.11063829097649,42.2977552338586,41.50848548236993,40.74264392289475,40.000028323337794,39.280420075626346,38.58358490706203,37.909273562263955,37.25722245755351,36.62715430970853,36.018778741070825,35.431792863022,34.86588183985021,34.32071943501738,33.795968541803454,33.29128170025073,32.80630160226376,32.340661586634035,31.89398612566076,31.46589130492825,31.05598529767911,30.663868835092355,30.289135673639727,29.93137306055013,29.590162198267826,29.265078708641624,28.95569309743503,28.66157121960002,28.38227474561346,28.117361629034338,27.866386575305484,27.628901511693766,27.404456058141783,27.19259799869033,26.99287375302695,26.80482884762076,26.628008385819772,26.461957516213175,26.306221898498563,26.160348166042457,26.023884384282592,25.896380504091745,25.777388809205206,25.666464356806625,25.563165410371894,25.467053863883063,25.377695656548877,25.294661177199405,25.21752565756412,25.145869553689106,25.07927891480459,25.017345739014125,24.959668315241224,24.905851550939673,24.855507285144796,24.80825458651835,24.763720036114805,24.721537994673366,24.681350854314505,24.642809274595866,24.605572402951587,24.569308079610963,24.53369302715507,24.498413024933264,24.463163068615813,24.42764751521109,24.391580213920243,24.354684623241447,24.316693914768216,24.277351064153006,24.236408929726306,24.1936303192742,24.14878804548467,24.101664970571903,24.052054040581794,23.999758309870796,23.94459095623113,23.88637528711429,23.82494473737671,23.760142858940135,23.69182330272551,23.61984979318001,23.54409609567851,23.4644459770382,23.380793159343224,23.29304126723286,23.20110376876493,23.10490390992424,23.004374642805743,22.899458547465148,22.790107747393446,22.676283818540856,22.55795769178686,22.435109548729233,22.307728710644287,22.17581352045642,22.03937121754343,21.89841780519996,21.75297791058021,21.603084636946484,21.448779408059888,21.290111804564503,21.127139392236057,20.959927541990375,20.7885492415758,20.61308489890574,20.4336221370241,20.25025558073571,20.063086634975335,19.872223255033237,19.6777797088019,19.479876331254026,19.27863927141133,19.074200232110098,18.866696202918043,18.656269186602294,18.44306591959426,18.227237586939737,18.00893953226327,17.78833096331333,17.565574653690213,17.340836641388336,17.11428592481247,16.886094156950254,16.65643533840113,16.425485509976554,16.193422445594745,15.960425346198202,15.72667453542157,15.49235115773217,15.25763687975586,15.022713595486211,14.787763136056466,14.552966984730304,14.318505997740168,14.084560131571983,13.85130817725962,13.61892750221598,13.387593800087313,13.15748084907424,12.928760279119098,12.701601348312618,12.476170728825085,12.252632302619247,12.031146967152685,11.811872451228293,11.594963141102742,11.380569916913904,11.168839999440703,10.9599168071626,10.753939823540499,10.551044474397628,10.351362015237846,10.155019428299074,9.962139329103257,9.772839882229432,9.587234726005272,9.40543290578332,9.227538815442326,9.053652146731201,8.883867846052885,8.718276078268993,8.55696219709189,8.400006721620425,8.247485318567787,8.099468789725433,7.956023064205249,7.817209195003774,7.6830833594360985,7.553696862994443,7.429096146195811,7.309322793995784,7.1944135473602,7.08440031660369,6.9793101961241675,6.879165480183614,6.783983679410016,6.693777537720901,6.608555049397034,6.528319476064089,6.453069363371574,6.3827985571906485,6.317496219186457,6.25714684165563,6.201730261555795,6.151221673690468,6.105591643050557,6.0648061163514795,6.028826432843001,5.997609334507503,5.971106975800124,5.949266933122237,5.932032214256786,5.919341268030215,5.911127994501178,5.907321756009965,5.907847389454961,5.91262522019316,5.921571077990018,5.934596315470355,5.95160782954526,5.972508086311353,5.9971951499358465,6.02556271605603,6.0575001502323715,6.0928925320021685,6.131620705084093,6.173561334283533,6.218586969644175,6.266566118382291,6.3173633251271575,6.370839260973367,6.42685082182877,6.485251236515426,6.545890185049829,6.608613927493803,6.673265443727519,6.73968458445284,6.807708233687431,6.877170482958658,6.947902817351438,7.019734313506112,7.092491849600854,7.1660003272896295,7.240082905500271,7.3145612459290215,7.38925576999829,7.463985926973305,7.5385704728618,7.612827759648886,7.6865760343476035,7.7596337472745525,7.831819868889865,7.902954214472782,7.972857775837349,8.041353059229241,8.108264428483864,8.17341845246836,8.236644255776792,8.297773871598382,8.356642595633978,8.413089339896418,8.466956985196123,8.51809273108434,8.566348442004028,8.611580988381451,8.653652581381348,8.69243110004467,8.727790409530721,8.75961066919487,8.787778629249313,8.812187914777242,8.832739295900227,8.849340942934878,8.861908665417518,8.870366133924161,8.874645083668433,8.874685498920439,8.870435777356159,8.861852873518181,8.848902420645121,8.831558830207639,8.809805368574008,8.78363421031644,8.75304646776097,8.71805219647804,8.678670376506904,8.634928869205417,8.586864349715388,8.5345222151334,8.477956468576746,8.4172295794329,8.352412320179065,8.283583580254627,8.210830157563548,8.134246528275106,8.053934595679852,7.970003418942376,7.882568922672662,7.7917535883144255,7.697686128419309,7.6005011449418625,7.500338772750189,7.397344309601266,7.291667833877627,7.183463811423643,7.072890692854188,6.9601105027363035,6.84528842206561,6.728592365472985,6.6101925546040725,6.49026108911432,6.368971516715219,6.246498403693787,6.123016907307234,5.99870235142797,5.873729806781168,5.748273677078635,5.622507292308245,5.496602510388558,5.370729328344143,5.245055504097998,5.119746189914625,4.9949635784610225,4.870866562383175,4.7476104082232915,4.6253464454291215,4.5042217711303145,4.384378971279752,4.265955858680306,4.149085228339216,4.033894630514739,3.9205061617431167,3.809036274058088,3.69959560254127,3.592288811270052,3.4872144576600013,3.3844648751321813,3.2841260739723994,3.1862776601890572,3.0909927721197605,2.9983380344842714,2.9083735295325797,2.821152784892201,2.7367227776786978,2.655123954397128,2.5763902661302835,2.5005492184822686,2.427621935722328,2.3576232385546536,2.2905617349247,2.226439923260753,2.1652543075418436,2.106995523578398,2.0516484758906315,1.9991924845712958,1.9496014415234297,1.9028439754701123,1.8588836251419056,1.8176790200576414,1.7791840683258848,1.7433481509072077,1.7101163217908433,1.6794295135534134,1.6512247477818005,1.625435349856507,1.6019911676059595,1.5808187933558513,1.5618417889105585,1.5449809130157346,1.530154350862388,1.5172779452026737,1.5062654286564605,1.4970286567952888,1.4894778415965353,1.483521784865542,1.4790681112271438,1.4760235002904158,1.4742939175917888,1.4737848439219114,1.4744015026409671,1.4760490845857792,1.4786329701699852,1.482058948276202,1.486233431536494,1.4910636675948479,1.4964579459430472,1.5023257999193995,1.5085782034585893,1.5151277621805812,1.5218888984073602,1.5287780296983922,1.535713740499415,1.5426169465045452,1.5494110513390023,1.5560220951790562,1.5623788949373636,1.5684131756555637,1.5740596927622241,1.5792563448727084,1.5839442768285772,1.5880679726975293,1.5915753384807538,1.594417774302726,1.5965502358889616,1.5979312851698313,1.5985231298831504,1.5982916520847352,1.5972064255141973,1.5952407218028173],\"yaxis\":\"y\",\"type\":\"scatter\"},{\"legendgroup\":\"Train MSE\",\"marker\":{\"color\":\"#A56CC1\",\"symbol\":\"line-ns-open\"},\"mode\":\"markers\",\"name\":\"Train MSE\",\"showlegend\":false,\"x\":[0.013097390532493591,0.004860274493694305,0.005517732352018356,0.0022080340422689915,0.0013310657814145088,0.0016993398312479258,0.001246598083525896,0.001110048033297062,0.007480985950678587,0.0022410135716199875,0.0009782902197912335,0.0006815647357143462,0.0006602139328606427,0.000340549013344571,0.00033474116935394704,0.00019594670447986573,0.006734412629157305,0.0011025427374988794,0.0005227242363616824,0.0003936078865081072,0.00027279547066427767,0.00028156096232123673,0.00019858033920172602,0.0001765245251590386,0.014815829694271088,0.004426027648150921,0.0035076639614999294,0.0034775282256305218,0.001872131833806634,0.0011915735667571425,0.0012838203692808747,0.0008894030470401049,0.008808371610939503,0.0018995088757947087,0.0010629631578922272,0.0008634469122625887,0.00046882868628017604,0.0003715981438290328,0.0002883403794839978,0.0002354237949475646,0.007484918925911188,0.00218829489313066,0.0009062619647011161,0.00044782040640711784,0.00044181925477460027,0.00027500721625983715,0.00023166595201473683,0.00019931100541725755,0.008407016284763813,0.006345728412270546,0.005359525326639414,0.003002565586939454,0.0018441521096974611,0.0016092559089884162,0.0013501738430932164,0.0012397085083648562,0.008689479902386665,0.0022847407963126898,0.001205567386932671,0.0014653797261416912,0.0005817903438583016,0.00044268908095546067,0.00029290467500686646,0.00028071552515029907,0.006270409096032381,0.0012796700466424227,0.0008828762802295387,0.0005246323999017477,0.00036831237957812846,0.00024190734256990254,0.00024379536625929177,0.00019191006140317768,0.018521731719374657,0.013199160806834698,0.009669245220720768,0.00645865872502327,0.005588431842625141,0.0044374312274158,0.0042283013463020325,0.0028651412576436996,0.013908101245760918,0.006691870745271444,0.0029556741937994957,0.002468615071848035,0.0018057451816275716,0.0008536608074791729,0.0008122537401504815,0.0005778467166237533,0.008474518544971943,0.0029330463148653507,0.001973321894183755,0.0014268207596614957,0.0007480375934392214,0.0003635292814578861,0.0003376159002073109,0.0002869008749257773,0.017311986535787582,0.008298925124108791,0.0040136645548045635,0.003718877676874399,0.0033846248406916857,0.003066947450861335,0.002571730874478817,0.0022924377117305994,0.008236760273575783,0.0038792691193521023,0.002496614120900631,0.0019344318425282836,0.00161486875731498,0.001421423046849668,0.0013863957719877362,0.0011345266830176115,0.012536287307739258,0.003447433467954397,0.0020927959121763706,0.0014899608213454485,0.0016630793688818812,0.0008839255315251648,0.000785805459599942,0.0006265328847803175,0.015655919909477234,0.005705108400434256,0.0035405682865530252,0.0032290080562233925,0.0024376437067985535,0.0018871052889153361,0.0015635770978406072,0.001677961554378271,0.007128091529011726,0.0031397927086800337,0.0017770129488781095,0.0015199354384094477,0.0012908645439893007,0.0009036135743372142,0.0010600939858704805,0.0009086801437661052,0.009588021785020828,0.002486988203600049,0.0016011962434276938,0.0012693488970398903,0.000983186298981309,0.000996956368908286,0.0007413398707285523,0.000700542819686234],\"xaxis\":\"x\",\"y\":[\"Train MSE\",\"Train MSE\",\"Train MSE\",\"Train MSE\",\"Train MSE\",\"Train MSE\",\"Train MSE\",\"Train MSE\",\"Train MSE\",\"Train MSE\",\"Train MSE\",\"Train MSE\",\"Train MSE\",\"Train MSE\",\"Train MSE\",\"Train MSE\",\"Train MSE\",\"Train MSE\",\"Train MSE\",\"Train MSE\",\"Train MSE\",\"Train MSE\",\"Train MSE\",\"Train MSE\",\"Train MSE\",\"Train MSE\",\"Train MSE\",\"Train MSE\",\"Train MSE\",\"Train MSE\",\"Train MSE\",\"Train MSE\",\"Train MSE\",\"Train MSE\",\"Train MSE\",\"Train MSE\",\"Train MSE\",\"Train MSE\",\"Train MSE\",\"Train MSE\",\"Train MSE\",\"Train MSE\",\"Train MSE\",\"Train MSE\",\"Train MSE\",\"Train MSE\",\"Train MSE\",\"Train MSE\",\"Train MSE\",\"Train MSE\",\"Train MSE\",\"Train MSE\",\"Train MSE\",\"Train MSE\",\"Train MSE\",\"Train MSE\",\"Train MSE\",\"Train MSE\",\"Train MSE\",\"Train MSE\",\"Train MSE\",\"Train MSE\",\"Train MSE\",\"Train MSE\",\"Train MSE\",\"Train MSE\",\"Train MSE\",\"Train MSE\",\"Train MSE\",\"Train MSE\",\"Train MSE\",\"Train MSE\",\"Train MSE\",\"Train MSE\",\"Train MSE\",\"Train MSE\",\"Train MSE\",\"Train MSE\",\"Train MSE\",\"Train MSE\",\"Train MSE\",\"Train MSE\",\"Train MSE\",\"Train MSE\",\"Train MSE\",\"Train MSE\",\"Train MSE\",\"Train MSE\",\"Train MSE\",\"Train MSE\",\"Train MSE\",\"Train MSE\",\"Train MSE\",\"Train MSE\",\"Train MSE\",\"Train MSE\",\"Train MSE\",\"Train MSE\",\"Train MSE\",\"Train MSE\",\"Train MSE\",\"Train MSE\",\"Train MSE\",\"Train MSE\",\"Train MSE\",\"Train MSE\",\"Train MSE\",\"Train MSE\",\"Train MSE\",\"Train MSE\",\"Train MSE\",\"Train MSE\",\"Train MSE\",\"Train MSE\",\"Train MSE\",\"Train MSE\",\"Train MSE\",\"Train MSE\",\"Train MSE\",\"Train MSE\",\"Train MSE\",\"Train MSE\",\"Train MSE\",\"Train MSE\",\"Train MSE\",\"Train MSE\",\"Train MSE\",\"Train MSE\",\"Train MSE\",\"Train MSE\",\"Train MSE\",\"Train MSE\",\"Train MSE\",\"Train MSE\",\"Train MSE\",\"Train MSE\",\"Train MSE\",\"Train MSE\",\"Train MSE\",\"Train MSE\",\"Train MSE\",\"Train MSE\",\"Train MSE\",\"Train MSE\"],\"yaxis\":\"y2\",\"type\":\"scatter\"},{\"legendgroup\":\"Val MSE\",\"marker\":{\"color\":\"#A6ACEC\",\"symbol\":\"line-ns-open\"},\"mode\":\"markers\",\"name\":\"Val MSE\",\"showlegend\":false,\"x\":[0.015410076826810837,0.006454497575759888,0.008302411995828152,0.003021436743438244,0.002209750469774008,0.0029200694989413023,0.0023833250161260366,0.0019128200365230441,0.010047131218016148,0.0028712779749184847,0.0012493946123868227,0.00073592783883214,0.0008760856580920517,0.0005310034612193704,0.00045677059097215533,0.00025275893858633935,0.007135523017495871,0.001098030828870833,0.0004881198692601174,0.0003065844939555973,0.0003407067561056465,0.0008912602788768709,0.00028232656768523157,0.0011215416016057134,0.018781939521431923,0.005704141221940517,0.0042635356076061726,0.004880968015640974,0.002414502901956439,0.0014915012288838625,0.0016286560567095876,0.0012624170631170273,0.010684686712920666,0.001976963598281145,0.0012782596750184894,0.0007248672773130238,0.0005015396163798869,0.00048183463513851166,0.0003048373619094491,0.0003658209752757102,0.010829240083694458,0.0033696189057081938,0.0009417308610863984,0.000443653465481475,0.00046526940423063934,0.00019878728198818862,0.0003780870756600052,0.004084629472345114,0.011486079543828964,0.008609426207840443,0.007655534893274307,0.004012811463326216,0.0027017490938305855,0.0024018692784011364,0.001798739074729383,0.0017938415985554457,0.010858035646378994,0.003297690534964204,0.0013737105764448643,0.0019046778324991465,0.0006221793591976166,0.00041988989687524736,0.00026137434178963304,0.000252862781053409,0.008640332147479057,0.0013382835313677788,0.0009034862159751356,0.0004667236644309014,0.0003256883064750582,0.00023498029622714967,0.0005703881033696234,0.0003032521635759622,0.024789292365312576,0.01805184781551361,0.013015520758926868,0.008749768137931824,0.008144005201756954,0.006238461006432772,0.0062211803160607815,0.004552653059363365,0.019391724839806557,0.009723120369017124,0.004619842395186424,0.003370143473148346,0.0023824037052690983,0.0008222797769121826,0.0008541339193470776,0.0005611850647255778,0.009538774378597736,0.002939184196293354,0.0021618790924549103,0.002029831288382411,0.0008044574060477316,0.0011569565394893289,0.00026271920069120824,0.0004493913147598505,0.01936671882867813,0.011697431094944477,0.004792416468262672,0.004823013208806515,0.003941080532968044,0.0031766758766025305,0.0027497464325278997,0.0027360140811651945,0.010735896416008472,0.004581918474286795,0.002619638340547681,0.002060502767562866,0.0015484142350032926,0.001661740941926837,0.001341655501164496,0.0013455119915306568,0.01722915656864643,0.0036672293208539486,0.002683615079149604,0.0013982373056933284,0.0018835357623174787,0.0007168946322053671,0.0009342815610580146,0.0006563123897649348,0.017784910276532173,0.00805167481303215,0.005029190797358751,0.0038542631082236767,0.0030120278242975473,0.0021622672211378813,0.0018235616153106093,0.0020385216921567917,0.009918863885104656,0.0040339818224310875,0.0018579516327008605,0.0016878660535439849,0.0015533664263784885,0.0013061683857813478,0.001352960360236466,0.0009627445251680911,0.012887399643659592,0.0029491521418094635,0.0019947104156017303,0.0013898718170821667,0.0013598109362646937,0.0010907049290835857,0.0008922995184548199,0.0009071407839655876],\"xaxis\":\"x\",\"y\":[\"Val MSE\",\"Val MSE\",\"Val MSE\",\"Val MSE\",\"Val MSE\",\"Val MSE\",\"Val MSE\",\"Val MSE\",\"Val MSE\",\"Val MSE\",\"Val MSE\",\"Val MSE\",\"Val MSE\",\"Val MSE\",\"Val MSE\",\"Val MSE\",\"Val MSE\",\"Val MSE\",\"Val MSE\",\"Val MSE\",\"Val MSE\",\"Val MSE\",\"Val MSE\",\"Val MSE\",\"Val MSE\",\"Val MSE\",\"Val MSE\",\"Val MSE\",\"Val MSE\",\"Val MSE\",\"Val MSE\",\"Val MSE\",\"Val MSE\",\"Val MSE\",\"Val MSE\",\"Val MSE\",\"Val MSE\",\"Val MSE\",\"Val MSE\",\"Val MSE\",\"Val MSE\",\"Val MSE\",\"Val MSE\",\"Val MSE\",\"Val MSE\",\"Val MSE\",\"Val MSE\",\"Val MSE\",\"Val MSE\",\"Val MSE\",\"Val MSE\",\"Val MSE\",\"Val MSE\",\"Val MSE\",\"Val MSE\",\"Val MSE\",\"Val MSE\",\"Val MSE\",\"Val MSE\",\"Val MSE\",\"Val MSE\",\"Val MSE\",\"Val MSE\",\"Val MSE\",\"Val MSE\",\"Val MSE\",\"Val MSE\",\"Val MSE\",\"Val MSE\",\"Val MSE\",\"Val MSE\",\"Val MSE\",\"Val MSE\",\"Val MSE\",\"Val MSE\",\"Val MSE\",\"Val MSE\",\"Val MSE\",\"Val MSE\",\"Val MSE\",\"Val MSE\",\"Val MSE\",\"Val MSE\",\"Val MSE\",\"Val MSE\",\"Val MSE\",\"Val MSE\",\"Val MSE\",\"Val MSE\",\"Val MSE\",\"Val MSE\",\"Val MSE\",\"Val MSE\",\"Val MSE\",\"Val MSE\",\"Val MSE\",\"Val MSE\",\"Val MSE\",\"Val MSE\",\"Val MSE\",\"Val MSE\",\"Val MSE\",\"Val MSE\",\"Val MSE\",\"Val MSE\",\"Val MSE\",\"Val MSE\",\"Val MSE\",\"Val MSE\",\"Val MSE\",\"Val MSE\",\"Val MSE\",\"Val MSE\",\"Val MSE\",\"Val MSE\",\"Val MSE\",\"Val MSE\",\"Val MSE\",\"Val MSE\",\"Val MSE\",\"Val MSE\",\"Val MSE\",\"Val MSE\",\"Val MSE\",\"Val MSE\",\"Val MSE\",\"Val MSE\",\"Val MSE\",\"Val MSE\",\"Val MSE\",\"Val MSE\",\"Val MSE\",\"Val MSE\",\"Val MSE\",\"Val MSE\",\"Val MSE\",\"Val MSE\",\"Val MSE\",\"Val MSE\",\"Val MSE\",\"Val MSE\",\"Val MSE\",\"Val MSE\",\"Val MSE\"],\"yaxis\":\"y2\",\"type\":\"scatter\"}],                        {\"barmode\":\"overlay\",\"hovermode\":\"closest\",\"legend\":{\"traceorder\":\"reversed\"},\"xaxis\":{\"anchor\":\"y2\",\"domain\":[0.0,1.0],\"zeroline\":false},\"yaxis\":{\"anchor\":\"free\",\"domain\":[0.35,1],\"position\":0.0},\"yaxis2\":{\"anchor\":\"x\",\"domain\":[0,0.25],\"dtick\":1,\"showticklabels\":false},\"template\":{\"data\":{\"bar\":[{\"error_x\":{\"color\":\"#2a3f5f\"},\"error_y\":{\"color\":\"#2a3f5f\"},\"marker\":{\"line\":{\"color\":\"#E5ECF6\",\"width\":0.5},\"pattern\":{\"fillmode\":\"overlay\",\"size\":10,\"solidity\":0.2}},\"type\":\"bar\"}],\"barpolar\":[{\"marker\":{\"line\":{\"color\":\"#E5ECF6\",\"width\":0.5},\"pattern\":{\"fillmode\":\"overlay\",\"size\":10,\"solidity\":0.2}},\"type\":\"barpolar\"}],\"carpet\":[{\"aaxis\":{\"endlinecolor\":\"#2a3f5f\",\"gridcolor\":\"white\",\"linecolor\":\"white\",\"minorgridcolor\":\"white\",\"startlinecolor\":\"#2a3f5f\"},\"baxis\":{\"endlinecolor\":\"#2a3f5f\",\"gridcolor\":\"white\",\"linecolor\":\"white\",\"minorgridcolor\":\"white\",\"startlinecolor\":\"#2a3f5f\"},\"type\":\"carpet\"}],\"choropleth\":[{\"colorbar\":{\"outlinewidth\":0,\"ticks\":\"\"},\"type\":\"choropleth\"}],\"contour\":[{\"colorbar\":{\"outlinewidth\":0,\"ticks\":\"\"},\"colorscale\":[[0.0,\"#0d0887\"],[0.1111111111111111,\"#46039f\"],[0.2222222222222222,\"#7201a8\"],[0.3333333333333333,\"#9c179e\"],[0.4444444444444444,\"#bd3786\"],[0.5555555555555556,\"#d8576b\"],[0.6666666666666666,\"#ed7953\"],[0.7777777777777778,\"#fb9f3a\"],[0.8888888888888888,\"#fdca26\"],[1.0,\"#f0f921\"]],\"type\":\"contour\"}],\"contourcarpet\":[{\"colorbar\":{\"outlinewidth\":0,\"ticks\":\"\"},\"type\":\"contourcarpet\"}],\"heatmap\":[{\"colorbar\":{\"outlinewidth\":0,\"ticks\":\"\"},\"colorscale\":[[0.0,\"#0d0887\"],[0.1111111111111111,\"#46039f\"],[0.2222222222222222,\"#7201a8\"],[0.3333333333333333,\"#9c179e\"],[0.4444444444444444,\"#bd3786\"],[0.5555555555555556,\"#d8576b\"],[0.6666666666666666,\"#ed7953\"],[0.7777777777777778,\"#fb9f3a\"],[0.8888888888888888,\"#fdca26\"],[1.0,\"#f0f921\"]],\"type\":\"heatmap\"}],\"heatmapgl\":[{\"colorbar\":{\"outlinewidth\":0,\"ticks\":\"\"},\"colorscale\":[[0.0,\"#0d0887\"],[0.1111111111111111,\"#46039f\"],[0.2222222222222222,\"#7201a8\"],[0.3333333333333333,\"#9c179e\"],[0.4444444444444444,\"#bd3786\"],[0.5555555555555556,\"#d8576b\"],[0.6666666666666666,\"#ed7953\"],[0.7777777777777778,\"#fb9f3a\"],[0.8888888888888888,\"#fdca26\"],[1.0,\"#f0f921\"]],\"type\":\"heatmapgl\"}],\"histogram\":[{\"marker\":{\"pattern\":{\"fillmode\":\"overlay\",\"size\":10,\"solidity\":0.2}},\"type\":\"histogram\"}],\"histogram2d\":[{\"colorbar\":{\"outlinewidth\":0,\"ticks\":\"\"},\"colorscale\":[[0.0,\"#0d0887\"],[0.1111111111111111,\"#46039f\"],[0.2222222222222222,\"#7201a8\"],[0.3333333333333333,\"#9c179e\"],[0.4444444444444444,\"#bd3786\"],[0.5555555555555556,\"#d8576b\"],[0.6666666666666666,\"#ed7953\"],[0.7777777777777778,\"#fb9f3a\"],[0.8888888888888888,\"#fdca26\"],[1.0,\"#f0f921\"]],\"type\":\"histogram2d\"}],\"histogram2dcontour\":[{\"colorbar\":{\"outlinewidth\":0,\"ticks\":\"\"},\"colorscale\":[[0.0,\"#0d0887\"],[0.1111111111111111,\"#46039f\"],[0.2222222222222222,\"#7201a8\"],[0.3333333333333333,\"#9c179e\"],[0.4444444444444444,\"#bd3786\"],[0.5555555555555556,\"#d8576b\"],[0.6666666666666666,\"#ed7953\"],[0.7777777777777778,\"#fb9f3a\"],[0.8888888888888888,\"#fdca26\"],[1.0,\"#f0f921\"]],\"type\":\"histogram2dcontour\"}],\"mesh3d\":[{\"colorbar\":{\"outlinewidth\":0,\"ticks\":\"\"},\"type\":\"mesh3d\"}],\"parcoords\":[{\"line\":{\"colorbar\":{\"outlinewidth\":0,\"ticks\":\"\"}},\"type\":\"parcoords\"}],\"pie\":[{\"automargin\":true,\"type\":\"pie\"}],\"scatter\":[{\"marker\":{\"colorbar\":{\"outlinewidth\":0,\"ticks\":\"\"}},\"type\":\"scatter\"}],\"scatter3d\":[{\"line\":{\"colorbar\":{\"outlinewidth\":0,\"ticks\":\"\"}},\"marker\":{\"colorbar\":{\"outlinewidth\":0,\"ticks\":\"\"}},\"type\":\"scatter3d\"}],\"scattercarpet\":[{\"marker\":{\"colorbar\":{\"outlinewidth\":0,\"ticks\":\"\"}},\"type\":\"scattercarpet\"}],\"scattergeo\":[{\"marker\":{\"colorbar\":{\"outlinewidth\":0,\"ticks\":\"\"}},\"type\":\"scattergeo\"}],\"scattergl\":[{\"marker\":{\"colorbar\":{\"outlinewidth\":0,\"ticks\":\"\"}},\"type\":\"scattergl\"}],\"scattermapbox\":[{\"marker\":{\"colorbar\":{\"outlinewidth\":0,\"ticks\":\"\"}},\"type\":\"scattermapbox\"}],\"scatterpolar\":[{\"marker\":{\"colorbar\":{\"outlinewidth\":0,\"ticks\":\"\"}},\"type\":\"scatterpolar\"}],\"scatterpolargl\":[{\"marker\":{\"colorbar\":{\"outlinewidth\":0,\"ticks\":\"\"}},\"type\":\"scatterpolargl\"}],\"scatterternary\":[{\"marker\":{\"colorbar\":{\"outlinewidth\":0,\"ticks\":\"\"}},\"type\":\"scatterternary\"}],\"surface\":[{\"colorbar\":{\"outlinewidth\":0,\"ticks\":\"\"},\"colorscale\":[[0.0,\"#0d0887\"],[0.1111111111111111,\"#46039f\"],[0.2222222222222222,\"#7201a8\"],[0.3333333333333333,\"#9c179e\"],[0.4444444444444444,\"#bd3786\"],[0.5555555555555556,\"#d8576b\"],[0.6666666666666666,\"#ed7953\"],[0.7777777777777778,\"#fb9f3a\"],[0.8888888888888888,\"#fdca26\"],[1.0,\"#f0f921\"]],\"type\":\"surface\"}],\"table\":[{\"cells\":{\"fill\":{\"color\":\"#EBF0F8\"},\"line\":{\"color\":\"white\"}},\"header\":{\"fill\":{\"color\":\"#C8D4E3\"},\"line\":{\"color\":\"white\"}},\"type\":\"table\"}]},\"layout\":{\"annotationdefaults\":{\"arrowcolor\":\"#2a3f5f\",\"arrowhead\":0,\"arrowwidth\":1},\"autotypenumbers\":\"strict\",\"coloraxis\":{\"colorbar\":{\"outlinewidth\":0,\"ticks\":\"\"}},\"colorscale\":{\"diverging\":[[0,\"#8e0152\"],[0.1,\"#c51b7d\"],[0.2,\"#de77ae\"],[0.3,\"#f1b6da\"],[0.4,\"#fde0ef\"],[0.5,\"#f7f7f7\"],[0.6,\"#e6f5d0\"],[0.7,\"#b8e186\"],[0.8,\"#7fbc41\"],[0.9,\"#4d9221\"],[1,\"#276419\"]],\"sequential\":[[0.0,\"#0d0887\"],[0.1111111111111111,\"#46039f\"],[0.2222222222222222,\"#7201a8\"],[0.3333333333333333,\"#9c179e\"],[0.4444444444444444,\"#bd3786\"],[0.5555555555555556,\"#d8576b\"],[0.6666666666666666,\"#ed7953\"],[0.7777777777777778,\"#fb9f3a\"],[0.8888888888888888,\"#fdca26\"],[1.0,\"#f0f921\"]],\"sequentialminus\":[[0.0,\"#0d0887\"],[0.1111111111111111,\"#46039f\"],[0.2222222222222222,\"#7201a8\"],[0.3333333333333333,\"#9c179e\"],[0.4444444444444444,\"#bd3786\"],[0.5555555555555556,\"#d8576b\"],[0.6666666666666666,\"#ed7953\"],[0.7777777777777778,\"#fb9f3a\"],[0.8888888888888888,\"#fdca26\"],[1.0,\"#f0f921\"]]},\"colorway\":[\"#636efa\",\"#EF553B\",\"#00cc96\",\"#ab63fa\",\"#FFA15A\",\"#19d3f3\",\"#FF6692\",\"#B6E880\",\"#FF97FF\",\"#FECB52\"],\"font\":{\"color\":\"#2a3f5f\"},\"geo\":{\"bgcolor\":\"white\",\"lakecolor\":\"white\",\"landcolor\":\"#E5ECF6\",\"showlakes\":true,\"showland\":true,\"subunitcolor\":\"white\"},\"hoverlabel\":{\"align\":\"left\"},\"hovermode\":\"closest\",\"mapbox\":{\"style\":\"light\"},\"paper_bgcolor\":\"white\",\"plot_bgcolor\":\"#E5ECF6\",\"polar\":{\"angularaxis\":{\"gridcolor\":\"white\",\"linecolor\":\"white\",\"ticks\":\"\"},\"bgcolor\":\"#E5ECF6\",\"radialaxis\":{\"gridcolor\":\"white\",\"linecolor\":\"white\",\"ticks\":\"\"}},\"scene\":{\"xaxis\":{\"backgroundcolor\":\"#E5ECF6\",\"gridcolor\":\"white\",\"gridwidth\":2,\"linecolor\":\"white\",\"showbackground\":true,\"ticks\":\"\",\"zerolinecolor\":\"white\"},\"yaxis\":{\"backgroundcolor\":\"#E5ECF6\",\"gridcolor\":\"white\",\"gridwidth\":2,\"linecolor\":\"white\",\"showbackground\":true,\"ticks\":\"\",\"zerolinecolor\":\"white\"},\"zaxis\":{\"backgroundcolor\":\"#E5ECF6\",\"gridcolor\":\"white\",\"gridwidth\":2,\"linecolor\":\"white\",\"showbackground\":true,\"ticks\":\"\",\"zerolinecolor\":\"white\"}},\"shapedefaults\":{\"line\":{\"color\":\"#2a3f5f\"}},\"ternary\":{\"aaxis\":{\"gridcolor\":\"white\",\"linecolor\":\"white\",\"ticks\":\"\"},\"baxis\":{\"gridcolor\":\"white\",\"linecolor\":\"white\",\"ticks\":\"\"},\"bgcolor\":\"#E5ECF6\",\"caxis\":{\"gridcolor\":\"white\",\"linecolor\":\"white\",\"ticks\":\"\"}},\"title\":{\"x\":0.05},\"xaxis\":{\"automargin\":true,\"gridcolor\":\"white\",\"linecolor\":\"white\",\"ticks\":\"\",\"title\":{\"standoff\":15},\"zerolinecolor\":\"white\",\"zerolinewidth\":2},\"yaxis\":{\"automargin\":true,\"gridcolor\":\"white\",\"linecolor\":\"white\",\"ticks\":\"\",\"title\":{\"standoff\":15},\"zerolinecolor\":\"white\",\"zerolinewidth\":2}}},\"title\":{\"text\":\"Hist and Curve Plot\"}},                        {\"responsive\": true}                    ).then(function(){\n",
       "                            \n",
       "var gd = document.getElementById('d59a5907-de70-4783-9198-7260f7453438');\n",
       "var x = new MutationObserver(function (mutations, observer) {{\n",
       "        var display = window.getComputedStyle(gd).display;\n",
       "        if (!display || display === 'none') {{\n",
       "            console.log([gd, 'removed!']);\n",
       "            Plotly.purge(gd);\n",
       "            observer.disconnect();\n",
       "        }}\n",
       "}});\n",
       "\n",
       "// Listen for the removal of the full notebook cells\n",
       "var notebookContainer = gd.closest('#notebook-container');\n",
       "if (notebookContainer) {{\n",
       "    x.observe(notebookContainer, {childList: true});\n",
       "}}\n",
       "\n",
       "// Listen for the clearing of the current output cell\n",
       "var outputEl = gd.closest('.output');\n",
       "if (outputEl) {{\n",
       "    x.observe(outputEl, {childList: true});\n",
       "}}\n",
       "\n",
       "                        })                };                });            </script>        </div>"
      ]
     },
     "metadata": {},
     "output_type": "display_data"
    }
   ],
   "source": [
    "import plotly.figure_factory as ff\n",
    "import numpy as np\n",
    "\n",
    "x0 = report_df['train_mse']\n",
    "x1 = report_df['val_mse']\n",
    "\n",
    "\n",
    "hist_data = [x0, x1]\n",
    "\n",
    "group_labels = ['Train MSE', 'Val MSE']\n",
    "colors = ['#A56CC1', '#A6ACEC']\n",
    "\n",
    "# Create distplot with curve_type set to 'normal'\n",
    "fig = ff.create_distplot(hist_data, group_labels, colors=colors,\n",
    "                         bin_size=.2, show_rug=True)\n",
    "\n",
    "# Add title\n",
    "fig.update_layout(title_text='Hist and Curve Plot')\n",
    "fig.show()"
   ]
  },
  {
   "cell_type": "code",
   "execution_count": 154,
   "id": "2de5d63d",
   "metadata": {
    "ExecuteTime": {
     "end_time": "2022-09-07T10:10:30.626165Z",
     "start_time": "2022-09-07T10:10:30.487494Z"
    }
   },
   "outputs": [
    {
     "data": {
      "application/vnd.plotly.v1+json": {
       "config": {
        "plotlyServerURL": "https://plot.ly"
       },
       "data": [
        {
         "hovertemplate": "variable=Delta_val_train_mse<br>index=%{x}<br>value=%{y}<extra></extra>",
         "legendgroup": "Delta_val_train_mse",
         "line": {
          "color": "#636efa",
          "dash": "solid"
         },
         "marker": {
          "symbol": "circle"
         },
         "mode": "lines",
         "name": "Delta_val_train_mse",
         "orientation": "v",
         "showlegend": true,
         "type": "scatter",
         "x": [
          0,
          1,
          2,
          3,
          4,
          5,
          6,
          7,
          8,
          9,
          10,
          11,
          12,
          13,
          14,
          15,
          16,
          17,
          18,
          19,
          20,
          21,
          22,
          23,
          24,
          25,
          26,
          27,
          28,
          29,
          30,
          31,
          32,
          33,
          34,
          35,
          36,
          37,
          38,
          39,
          40,
          41,
          42,
          43,
          44,
          45,
          46,
          47,
          48,
          49,
          50,
          51,
          52,
          53,
          54,
          55,
          56,
          57,
          58,
          59,
          60,
          61,
          62,
          63,
          64,
          65,
          66,
          67,
          68,
          69,
          70,
          71,
          72,
          73,
          74,
          75,
          76,
          77,
          78,
          79,
          80,
          81,
          82,
          83,
          84,
          85,
          86,
          87,
          88,
          89,
          90,
          91,
          92,
          93,
          94,
          95,
          96,
          97,
          98,
          99,
          100,
          101,
          102,
          103,
          104,
          105,
          106,
          107,
          108,
          109,
          110,
          111,
          112,
          113,
          114,
          115,
          116,
          117,
          118,
          119,
          120,
          121,
          122,
          123,
          124,
          125,
          126,
          127,
          128,
          129,
          130,
          131,
          132,
          133,
          134,
          135,
          136,
          137,
          138,
          139,
          140,
          141,
          142,
          143
         ],
         "xaxis": "x",
         "y": [
          0.0023126862943172455,
          0.0015942230820655823,
          0.0027846796438097954,
          0.0008134027011692524,
          0.000878684688359499,
          0.0012207296676933765,
          0.0011367269326001406,
          0.0008027720032259822,
          0.0025661452673375607,
          0.0006302644032984972,
          0.00027110439259558916,
          0.0000543631031177938,
          0.00021587172523140907,
          0.00019045444787479937,
          0.00012202942161820829,
          0.000056812234106473625,
          0.0004011103883385658,
          -0.000004511908628046513,
          -0.000034604367101565003,
          -0.0000870233925525099,
          0.00006791128544136882,
          0.0006096993165556341,
          0.00008374622848350555,
          0.0009450170764466748,
          0.003966109827160835,
          0.0012781135737895966,
          0.0007558716461062431,
          0.0014034397900104523,
          0.0005423710681498051,
          0.00029992766212671995,
          0.00034483568742871284,
          0.0003730140160769224,
          0.001876315101981163,
          0.00007745472248643637,
          0.0002152965171262622,
          -0.00013857963494956493,
          0.00003271093009971082,
          0.00011023649130947888,
          0.00001649698242545128,
          0.00013039718032814562,
          0.00334432115778327,
          0.0011813240125775337,
          0.00003546889638528228,
          -0.000004166940925642848,
          0.00002345014945603907,
          -0.00007621993427164853,
          0.00014642112364526838,
          0.003885318466927856,
          0.003079063259065151,
          0.0022636977955698967,
          0.0022960095666348934,
          0.0010102458763867617,
          0.0008575969841331244,
          0.0007926133694127202,
          0.00044856523163616657,
          0.0005541330901905894,
          0.0021685557439923286,
          0.001012949738651514,
          0.0001681431895121932,
          0.00043929810635745525,
          0.00004038901533931494,
          -0.00002279918408021331,
          -0.00003153033321723342,
          -0.000027852744096890092,
          0.0023699230514466763,
          0.0000586134847253561,
          0.000020609935745596886,
          -0.000057908735470846295,
          -0.00004262407310307026,
          -0.000006927046342752874,
          0.00032659273711033165,
          0.00011134210217278451,
          0.00626756064593792,
          0.004852687008678913,
          0.0033462755382061005,
          0.002291109412908554,
          0.002555573359131813,
          0.0018010297790169716,
          0.001992878969758749,
          0.0016875118017196655,
          0.005483623594045639,
          0.00303124962374568,
          0.0016641682013869286,
          0.0009015284013003111,
          0.0005766585236415267,
          -0.000031381030566990376,
          0.000041880179196596146,
          -0.000016661651898175478,
          0.0010642558336257935,
          0.000006137881428003311,
          0.00018855719827115536,
          0.0006030105287209153,
          0.000056419812608510256,
          0.0007934272580314428,
          -0.00007489669951610267,
          0.00016249043983407319,
          0.0020547322928905487,
          0.0033985059708356857,
          0.0007787519134581089,
          0.0011041355319321156,
          0.0005564556922763586,
          0.00010972842574119568,
          0.00017801555804908276,
          0.0004435763694345951,
          0.0024991361424326897,
          0.0007026493549346924,
          0.0001230242196470499,
          0.00012607092503458261,
          -0.00006645452231168747,
          0.00024031789507716894,
          -0.00004474027082324028,
          0.0002109853085130453,
          0.004692869260907173,
          0.0002197958528995514,
          0.0005908191669732332,
          -0.00009172351565212011,
          0.00022045639343559742,
          -0.00016703089931979775,
          0.00014847610145807266,
          0.000029779504984617233,
          0.0021289903670549393,
          0.0023465664125978947,
          0.001488622510805726,
          0.0006252550520002842,
          0.0005743841174989939,
          0.00027516193222254515,
          0.0002599845174700022,
          0.0003605601377785206,
          0.00279077235609293,
          0.0008941891137510538,
          0.00008093868382275105,
          0.00016793061513453722,
          0.0002625018823891878,
          0.0004025548114441335,
          0.0002928663743659854,
          0.000054064381401985884,
          0.0032993778586387634,
          0.0004621639382094145,
          0.0003935141721740365,
          0.00012052292004227638,
          0.0003766246372833848,
          0.00009374856017529964,
          0.00015095964772626758,
          0.00020659796427935362
         ],
         "yaxis": "y"
        }
       ],
       "layout": {
        "legend": {
         "title": {
          "text": "variable"
         },
         "tracegroupgap": 0
        },
        "margin": {
         "t": 60
        },
        "template": {
         "data": {
          "bar": [
           {
            "error_x": {
             "color": "#2a3f5f"
            },
            "error_y": {
             "color": "#2a3f5f"
            },
            "marker": {
             "line": {
              "color": "#E5ECF6",
              "width": 0.5
             },
             "pattern": {
              "fillmode": "overlay",
              "size": 10,
              "solidity": 0.2
             }
            },
            "type": "bar"
           }
          ],
          "barpolar": [
           {
            "marker": {
             "line": {
              "color": "#E5ECF6",
              "width": 0.5
             },
             "pattern": {
              "fillmode": "overlay",
              "size": 10,
              "solidity": 0.2
             }
            },
            "type": "barpolar"
           }
          ],
          "carpet": [
           {
            "aaxis": {
             "endlinecolor": "#2a3f5f",
             "gridcolor": "white",
             "linecolor": "white",
             "minorgridcolor": "white",
             "startlinecolor": "#2a3f5f"
            },
            "baxis": {
             "endlinecolor": "#2a3f5f",
             "gridcolor": "white",
             "linecolor": "white",
             "minorgridcolor": "white",
             "startlinecolor": "#2a3f5f"
            },
            "type": "carpet"
           }
          ],
          "choropleth": [
           {
            "colorbar": {
             "outlinewidth": 0,
             "ticks": ""
            },
            "type": "choropleth"
           }
          ],
          "contour": [
           {
            "colorbar": {
             "outlinewidth": 0,
             "ticks": ""
            },
            "colorscale": [
             [
              0,
              "#0d0887"
             ],
             [
              0.1111111111111111,
              "#46039f"
             ],
             [
              0.2222222222222222,
              "#7201a8"
             ],
             [
              0.3333333333333333,
              "#9c179e"
             ],
             [
              0.4444444444444444,
              "#bd3786"
             ],
             [
              0.5555555555555556,
              "#d8576b"
             ],
             [
              0.6666666666666666,
              "#ed7953"
             ],
             [
              0.7777777777777778,
              "#fb9f3a"
             ],
             [
              0.8888888888888888,
              "#fdca26"
             ],
             [
              1,
              "#f0f921"
             ]
            ],
            "type": "contour"
           }
          ],
          "contourcarpet": [
           {
            "colorbar": {
             "outlinewidth": 0,
             "ticks": ""
            },
            "type": "contourcarpet"
           }
          ],
          "heatmap": [
           {
            "colorbar": {
             "outlinewidth": 0,
             "ticks": ""
            },
            "colorscale": [
             [
              0,
              "#0d0887"
             ],
             [
              0.1111111111111111,
              "#46039f"
             ],
             [
              0.2222222222222222,
              "#7201a8"
             ],
             [
              0.3333333333333333,
              "#9c179e"
             ],
             [
              0.4444444444444444,
              "#bd3786"
             ],
             [
              0.5555555555555556,
              "#d8576b"
             ],
             [
              0.6666666666666666,
              "#ed7953"
             ],
             [
              0.7777777777777778,
              "#fb9f3a"
             ],
             [
              0.8888888888888888,
              "#fdca26"
             ],
             [
              1,
              "#f0f921"
             ]
            ],
            "type": "heatmap"
           }
          ],
          "heatmapgl": [
           {
            "colorbar": {
             "outlinewidth": 0,
             "ticks": ""
            },
            "colorscale": [
             [
              0,
              "#0d0887"
             ],
             [
              0.1111111111111111,
              "#46039f"
             ],
             [
              0.2222222222222222,
              "#7201a8"
             ],
             [
              0.3333333333333333,
              "#9c179e"
             ],
             [
              0.4444444444444444,
              "#bd3786"
             ],
             [
              0.5555555555555556,
              "#d8576b"
             ],
             [
              0.6666666666666666,
              "#ed7953"
             ],
             [
              0.7777777777777778,
              "#fb9f3a"
             ],
             [
              0.8888888888888888,
              "#fdca26"
             ],
             [
              1,
              "#f0f921"
             ]
            ],
            "type": "heatmapgl"
           }
          ],
          "histogram": [
           {
            "marker": {
             "pattern": {
              "fillmode": "overlay",
              "size": 10,
              "solidity": 0.2
             }
            },
            "type": "histogram"
           }
          ],
          "histogram2d": [
           {
            "colorbar": {
             "outlinewidth": 0,
             "ticks": ""
            },
            "colorscale": [
             [
              0,
              "#0d0887"
             ],
             [
              0.1111111111111111,
              "#46039f"
             ],
             [
              0.2222222222222222,
              "#7201a8"
             ],
             [
              0.3333333333333333,
              "#9c179e"
             ],
             [
              0.4444444444444444,
              "#bd3786"
             ],
             [
              0.5555555555555556,
              "#d8576b"
             ],
             [
              0.6666666666666666,
              "#ed7953"
             ],
             [
              0.7777777777777778,
              "#fb9f3a"
             ],
             [
              0.8888888888888888,
              "#fdca26"
             ],
             [
              1,
              "#f0f921"
             ]
            ],
            "type": "histogram2d"
           }
          ],
          "histogram2dcontour": [
           {
            "colorbar": {
             "outlinewidth": 0,
             "ticks": ""
            },
            "colorscale": [
             [
              0,
              "#0d0887"
             ],
             [
              0.1111111111111111,
              "#46039f"
             ],
             [
              0.2222222222222222,
              "#7201a8"
             ],
             [
              0.3333333333333333,
              "#9c179e"
             ],
             [
              0.4444444444444444,
              "#bd3786"
             ],
             [
              0.5555555555555556,
              "#d8576b"
             ],
             [
              0.6666666666666666,
              "#ed7953"
             ],
             [
              0.7777777777777778,
              "#fb9f3a"
             ],
             [
              0.8888888888888888,
              "#fdca26"
             ],
             [
              1,
              "#f0f921"
             ]
            ],
            "type": "histogram2dcontour"
           }
          ],
          "mesh3d": [
           {
            "colorbar": {
             "outlinewidth": 0,
             "ticks": ""
            },
            "type": "mesh3d"
           }
          ],
          "parcoords": [
           {
            "line": {
             "colorbar": {
              "outlinewidth": 0,
              "ticks": ""
             }
            },
            "type": "parcoords"
           }
          ],
          "pie": [
           {
            "automargin": true,
            "type": "pie"
           }
          ],
          "scatter": [
           {
            "marker": {
             "colorbar": {
              "outlinewidth": 0,
              "ticks": ""
             }
            },
            "type": "scatter"
           }
          ],
          "scatter3d": [
           {
            "line": {
             "colorbar": {
              "outlinewidth": 0,
              "ticks": ""
             }
            },
            "marker": {
             "colorbar": {
              "outlinewidth": 0,
              "ticks": ""
             }
            },
            "type": "scatter3d"
           }
          ],
          "scattercarpet": [
           {
            "marker": {
             "colorbar": {
              "outlinewidth": 0,
              "ticks": ""
             }
            },
            "type": "scattercarpet"
           }
          ],
          "scattergeo": [
           {
            "marker": {
             "colorbar": {
              "outlinewidth": 0,
              "ticks": ""
             }
            },
            "type": "scattergeo"
           }
          ],
          "scattergl": [
           {
            "marker": {
             "colorbar": {
              "outlinewidth": 0,
              "ticks": ""
             }
            },
            "type": "scattergl"
           }
          ],
          "scattermapbox": [
           {
            "marker": {
             "colorbar": {
              "outlinewidth": 0,
              "ticks": ""
             }
            },
            "type": "scattermapbox"
           }
          ],
          "scatterpolar": [
           {
            "marker": {
             "colorbar": {
              "outlinewidth": 0,
              "ticks": ""
             }
            },
            "type": "scatterpolar"
           }
          ],
          "scatterpolargl": [
           {
            "marker": {
             "colorbar": {
              "outlinewidth": 0,
              "ticks": ""
             }
            },
            "type": "scatterpolargl"
           }
          ],
          "scatterternary": [
           {
            "marker": {
             "colorbar": {
              "outlinewidth": 0,
              "ticks": ""
             }
            },
            "type": "scatterternary"
           }
          ],
          "surface": [
           {
            "colorbar": {
             "outlinewidth": 0,
             "ticks": ""
            },
            "colorscale": [
             [
              0,
              "#0d0887"
             ],
             [
              0.1111111111111111,
              "#46039f"
             ],
             [
              0.2222222222222222,
              "#7201a8"
             ],
             [
              0.3333333333333333,
              "#9c179e"
             ],
             [
              0.4444444444444444,
              "#bd3786"
             ],
             [
              0.5555555555555556,
              "#d8576b"
             ],
             [
              0.6666666666666666,
              "#ed7953"
             ],
             [
              0.7777777777777778,
              "#fb9f3a"
             ],
             [
              0.8888888888888888,
              "#fdca26"
             ],
             [
              1,
              "#f0f921"
             ]
            ],
            "type": "surface"
           }
          ],
          "table": [
           {
            "cells": {
             "fill": {
              "color": "#EBF0F8"
             },
             "line": {
              "color": "white"
             }
            },
            "header": {
             "fill": {
              "color": "#C8D4E3"
             },
             "line": {
              "color": "white"
             }
            },
            "type": "table"
           }
          ]
         },
         "layout": {
          "annotationdefaults": {
           "arrowcolor": "#2a3f5f",
           "arrowhead": 0,
           "arrowwidth": 1
          },
          "autotypenumbers": "strict",
          "coloraxis": {
           "colorbar": {
            "outlinewidth": 0,
            "ticks": ""
           }
          },
          "colorscale": {
           "diverging": [
            [
             0,
             "#8e0152"
            ],
            [
             0.1,
             "#c51b7d"
            ],
            [
             0.2,
             "#de77ae"
            ],
            [
             0.3,
             "#f1b6da"
            ],
            [
             0.4,
             "#fde0ef"
            ],
            [
             0.5,
             "#f7f7f7"
            ],
            [
             0.6,
             "#e6f5d0"
            ],
            [
             0.7,
             "#b8e186"
            ],
            [
             0.8,
             "#7fbc41"
            ],
            [
             0.9,
             "#4d9221"
            ],
            [
             1,
             "#276419"
            ]
           ],
           "sequential": [
            [
             0,
             "#0d0887"
            ],
            [
             0.1111111111111111,
             "#46039f"
            ],
            [
             0.2222222222222222,
             "#7201a8"
            ],
            [
             0.3333333333333333,
             "#9c179e"
            ],
            [
             0.4444444444444444,
             "#bd3786"
            ],
            [
             0.5555555555555556,
             "#d8576b"
            ],
            [
             0.6666666666666666,
             "#ed7953"
            ],
            [
             0.7777777777777778,
             "#fb9f3a"
            ],
            [
             0.8888888888888888,
             "#fdca26"
            ],
            [
             1,
             "#f0f921"
            ]
           ],
           "sequentialminus": [
            [
             0,
             "#0d0887"
            ],
            [
             0.1111111111111111,
             "#46039f"
            ],
            [
             0.2222222222222222,
             "#7201a8"
            ],
            [
             0.3333333333333333,
             "#9c179e"
            ],
            [
             0.4444444444444444,
             "#bd3786"
            ],
            [
             0.5555555555555556,
             "#d8576b"
            ],
            [
             0.6666666666666666,
             "#ed7953"
            ],
            [
             0.7777777777777778,
             "#fb9f3a"
            ],
            [
             0.8888888888888888,
             "#fdca26"
            ],
            [
             1,
             "#f0f921"
            ]
           ]
          },
          "colorway": [
           "#636efa",
           "#EF553B",
           "#00cc96",
           "#ab63fa",
           "#FFA15A",
           "#19d3f3",
           "#FF6692",
           "#B6E880",
           "#FF97FF",
           "#FECB52"
          ],
          "font": {
           "color": "#2a3f5f"
          },
          "geo": {
           "bgcolor": "white",
           "lakecolor": "white",
           "landcolor": "#E5ECF6",
           "showlakes": true,
           "showland": true,
           "subunitcolor": "white"
          },
          "hoverlabel": {
           "align": "left"
          },
          "hovermode": "closest",
          "mapbox": {
           "style": "light"
          },
          "paper_bgcolor": "white",
          "plot_bgcolor": "#E5ECF6",
          "polar": {
           "angularaxis": {
            "gridcolor": "white",
            "linecolor": "white",
            "ticks": ""
           },
           "bgcolor": "#E5ECF6",
           "radialaxis": {
            "gridcolor": "white",
            "linecolor": "white",
            "ticks": ""
           }
          },
          "scene": {
           "xaxis": {
            "backgroundcolor": "#E5ECF6",
            "gridcolor": "white",
            "gridwidth": 2,
            "linecolor": "white",
            "showbackground": true,
            "ticks": "",
            "zerolinecolor": "white"
           },
           "yaxis": {
            "backgroundcolor": "#E5ECF6",
            "gridcolor": "white",
            "gridwidth": 2,
            "linecolor": "white",
            "showbackground": true,
            "ticks": "",
            "zerolinecolor": "white"
           },
           "zaxis": {
            "backgroundcolor": "#E5ECF6",
            "gridcolor": "white",
            "gridwidth": 2,
            "linecolor": "white",
            "showbackground": true,
            "ticks": "",
            "zerolinecolor": "white"
           }
          },
          "shapedefaults": {
           "line": {
            "color": "#2a3f5f"
           }
          },
          "ternary": {
           "aaxis": {
            "gridcolor": "white",
            "linecolor": "white",
            "ticks": ""
           },
           "baxis": {
            "gridcolor": "white",
            "linecolor": "white",
            "ticks": ""
           },
           "bgcolor": "#E5ECF6",
           "caxis": {
            "gridcolor": "white",
            "linecolor": "white",
            "ticks": ""
           }
          },
          "title": {
           "x": 0.05
          },
          "xaxis": {
           "automargin": true,
           "gridcolor": "white",
           "linecolor": "white",
           "ticks": "",
           "title": {
            "standoff": 15
           },
           "zerolinecolor": "white",
           "zerolinewidth": 2
          },
          "yaxis": {
           "automargin": true,
           "gridcolor": "white",
           "linecolor": "white",
           "ticks": "",
           "title": {
            "standoff": 15
           },
           "zerolinecolor": "white",
           "zerolinewidth": 2
          }
         }
        },
        "xaxis": {
         "anchor": "y",
         "domain": [
          0,
          1
         ],
         "title": {
          "text": "index"
         }
        },
        "yaxis": {
         "anchor": "x",
         "domain": [
          0,
          1
         ],
         "title": {
          "text": "value"
         }
        }
       }
      },
      "text/html": [
       "<div>                            <div id=\"4c83f965-ff07-4e33-b851-2e411c31807e\" class=\"plotly-graph-div\" style=\"height:525px; width:100%;\"></div>            <script type=\"text/javascript\">                require([\"plotly\"], function(Plotly) {                    window.PLOTLYENV=window.PLOTLYENV || {};                                    if (document.getElementById(\"4c83f965-ff07-4e33-b851-2e411c31807e\")) {                    Plotly.newPlot(                        \"4c83f965-ff07-4e33-b851-2e411c31807e\",                        [{\"hovertemplate\":\"variable=Delta_val_train_mse<br>index=%{x}<br>value=%{y}<extra></extra>\",\"legendgroup\":\"Delta_val_train_mse\",\"line\":{\"color\":\"#636efa\",\"dash\":\"solid\"},\"marker\":{\"symbol\":\"circle\"},\"mode\":\"lines\",\"name\":\"Delta_val_train_mse\",\"orientation\":\"v\",\"showlegend\":true,\"x\":[0,1,2,3,4,5,6,7,8,9,10,11,12,13,14,15,16,17,18,19,20,21,22,23,24,25,26,27,28,29,30,31,32,33,34,35,36,37,38,39,40,41,42,43,44,45,46,47,48,49,50,51,52,53,54,55,56,57,58,59,60,61,62,63,64,65,66,67,68,69,70,71,72,73,74,75,76,77,78,79,80,81,82,83,84,85,86,87,88,89,90,91,92,93,94,95,96,97,98,99,100,101,102,103,104,105,106,107,108,109,110,111,112,113,114,115,116,117,118,119,120,121,122,123,124,125,126,127,128,129,130,131,132,133,134,135,136,137,138,139,140,141,142,143],\"xaxis\":\"x\",\"y\":[0.0023126862943172455,0.0015942230820655823,0.0027846796438097954,0.0008134027011692524,0.000878684688359499,0.0012207296676933765,0.0011367269326001406,0.0008027720032259822,0.0025661452673375607,0.0006302644032984972,0.00027110439259558916,0.0000543631031177938,0.00021587172523140907,0.00019045444787479937,0.00012202942161820829,0.000056812234106473625,0.0004011103883385658,-4.511908628046513e-6,-0.000034604367101565003,-0.0000870233925525099,0.00006791128544136882,0.0006096993165556341,0.00008374622848350555,0.0009450170764466748,0.003966109827160835,0.0012781135737895966,0.0007558716461062431,0.0014034397900104523,0.0005423710681498051,0.00029992766212671995,0.00034483568742871284,0.0003730140160769224,0.001876315101981163,0.00007745472248643637,0.0002152965171262622,-0.00013857963494956493,0.00003271093009971082,0.00011023649130947888,0.00001649698242545128,0.00013039718032814562,0.00334432115778327,0.0011813240125775337,0.00003546889638528228,-4.166940925642848e-6,0.00002345014945603907,-0.00007621993427164853,0.00014642112364526838,0.003885318466927856,0.003079063259065151,0.0022636977955698967,0.0022960095666348934,0.0010102458763867617,0.0008575969841331244,0.0007926133694127202,0.00044856523163616657,0.0005541330901905894,0.0021685557439923286,0.001012949738651514,0.0001681431895121932,0.00043929810635745525,0.00004038901533931494,-0.00002279918408021331,-0.00003153033321723342,-0.000027852744096890092,0.0023699230514466763,0.0000586134847253561,0.000020609935745596886,-0.000057908735470846295,-0.00004262407310307026,-6.927046342752874e-6,0.00032659273711033165,0.00011134210217278451,0.00626756064593792,0.004852687008678913,0.0033462755382061005,0.002291109412908554,0.002555573359131813,0.0018010297790169716,0.001992878969758749,0.0016875118017196655,0.005483623594045639,0.00303124962374568,0.0016641682013869286,0.0009015284013003111,0.0005766585236415267,-0.000031381030566990376,0.000041880179196596146,-0.000016661651898175478,0.0010642558336257935,6.137881428003311e-6,0.00018855719827115536,0.0006030105287209153,0.000056419812608510256,0.0007934272580314428,-0.00007489669951610267,0.00016249043983407319,0.0020547322928905487,0.0033985059708356857,0.0007787519134581089,0.0011041355319321156,0.0005564556922763586,0.00010972842574119568,0.00017801555804908276,0.0004435763694345951,0.0024991361424326897,0.0007026493549346924,0.0001230242196470499,0.00012607092503458261,-0.00006645452231168747,0.00024031789507716894,-0.00004474027082324028,0.0002109853085130453,0.004692869260907173,0.0002197958528995514,0.0005908191669732332,-0.00009172351565212011,0.00022045639343559742,-0.00016703089931979775,0.00014847610145807266,0.000029779504984617233,0.0021289903670549393,0.0023465664125978947,0.001488622510805726,0.0006252550520002842,0.0005743841174989939,0.00027516193222254515,0.0002599845174700022,0.0003605601377785206,0.00279077235609293,0.0008941891137510538,0.00008093868382275105,0.00016793061513453722,0.0002625018823891878,0.0004025548114441335,0.0002928663743659854,0.000054064381401985884,0.0032993778586387634,0.0004621639382094145,0.0003935141721740365,0.00012052292004227638,0.0003766246372833848,0.00009374856017529964,0.00015095964772626758,0.00020659796427935362],\"yaxis\":\"y\",\"type\":\"scatter\"}],                        {\"template\":{\"data\":{\"bar\":[{\"error_x\":{\"color\":\"#2a3f5f\"},\"error_y\":{\"color\":\"#2a3f5f\"},\"marker\":{\"line\":{\"color\":\"#E5ECF6\",\"width\":0.5},\"pattern\":{\"fillmode\":\"overlay\",\"size\":10,\"solidity\":0.2}},\"type\":\"bar\"}],\"barpolar\":[{\"marker\":{\"line\":{\"color\":\"#E5ECF6\",\"width\":0.5},\"pattern\":{\"fillmode\":\"overlay\",\"size\":10,\"solidity\":0.2}},\"type\":\"barpolar\"}],\"carpet\":[{\"aaxis\":{\"endlinecolor\":\"#2a3f5f\",\"gridcolor\":\"white\",\"linecolor\":\"white\",\"minorgridcolor\":\"white\",\"startlinecolor\":\"#2a3f5f\"},\"baxis\":{\"endlinecolor\":\"#2a3f5f\",\"gridcolor\":\"white\",\"linecolor\":\"white\",\"minorgridcolor\":\"white\",\"startlinecolor\":\"#2a3f5f\"},\"type\":\"carpet\"}],\"choropleth\":[{\"colorbar\":{\"outlinewidth\":0,\"ticks\":\"\"},\"type\":\"choropleth\"}],\"contour\":[{\"colorbar\":{\"outlinewidth\":0,\"ticks\":\"\"},\"colorscale\":[[0.0,\"#0d0887\"],[0.1111111111111111,\"#46039f\"],[0.2222222222222222,\"#7201a8\"],[0.3333333333333333,\"#9c179e\"],[0.4444444444444444,\"#bd3786\"],[0.5555555555555556,\"#d8576b\"],[0.6666666666666666,\"#ed7953\"],[0.7777777777777778,\"#fb9f3a\"],[0.8888888888888888,\"#fdca26\"],[1.0,\"#f0f921\"]],\"type\":\"contour\"}],\"contourcarpet\":[{\"colorbar\":{\"outlinewidth\":0,\"ticks\":\"\"},\"type\":\"contourcarpet\"}],\"heatmap\":[{\"colorbar\":{\"outlinewidth\":0,\"ticks\":\"\"},\"colorscale\":[[0.0,\"#0d0887\"],[0.1111111111111111,\"#46039f\"],[0.2222222222222222,\"#7201a8\"],[0.3333333333333333,\"#9c179e\"],[0.4444444444444444,\"#bd3786\"],[0.5555555555555556,\"#d8576b\"],[0.6666666666666666,\"#ed7953\"],[0.7777777777777778,\"#fb9f3a\"],[0.8888888888888888,\"#fdca26\"],[1.0,\"#f0f921\"]],\"type\":\"heatmap\"}],\"heatmapgl\":[{\"colorbar\":{\"outlinewidth\":0,\"ticks\":\"\"},\"colorscale\":[[0.0,\"#0d0887\"],[0.1111111111111111,\"#46039f\"],[0.2222222222222222,\"#7201a8\"],[0.3333333333333333,\"#9c179e\"],[0.4444444444444444,\"#bd3786\"],[0.5555555555555556,\"#d8576b\"],[0.6666666666666666,\"#ed7953\"],[0.7777777777777778,\"#fb9f3a\"],[0.8888888888888888,\"#fdca26\"],[1.0,\"#f0f921\"]],\"type\":\"heatmapgl\"}],\"histogram\":[{\"marker\":{\"pattern\":{\"fillmode\":\"overlay\",\"size\":10,\"solidity\":0.2}},\"type\":\"histogram\"}],\"histogram2d\":[{\"colorbar\":{\"outlinewidth\":0,\"ticks\":\"\"},\"colorscale\":[[0.0,\"#0d0887\"],[0.1111111111111111,\"#46039f\"],[0.2222222222222222,\"#7201a8\"],[0.3333333333333333,\"#9c179e\"],[0.4444444444444444,\"#bd3786\"],[0.5555555555555556,\"#d8576b\"],[0.6666666666666666,\"#ed7953\"],[0.7777777777777778,\"#fb9f3a\"],[0.8888888888888888,\"#fdca26\"],[1.0,\"#f0f921\"]],\"type\":\"histogram2d\"}],\"histogram2dcontour\":[{\"colorbar\":{\"outlinewidth\":0,\"ticks\":\"\"},\"colorscale\":[[0.0,\"#0d0887\"],[0.1111111111111111,\"#46039f\"],[0.2222222222222222,\"#7201a8\"],[0.3333333333333333,\"#9c179e\"],[0.4444444444444444,\"#bd3786\"],[0.5555555555555556,\"#d8576b\"],[0.6666666666666666,\"#ed7953\"],[0.7777777777777778,\"#fb9f3a\"],[0.8888888888888888,\"#fdca26\"],[1.0,\"#f0f921\"]],\"type\":\"histogram2dcontour\"}],\"mesh3d\":[{\"colorbar\":{\"outlinewidth\":0,\"ticks\":\"\"},\"type\":\"mesh3d\"}],\"parcoords\":[{\"line\":{\"colorbar\":{\"outlinewidth\":0,\"ticks\":\"\"}},\"type\":\"parcoords\"}],\"pie\":[{\"automargin\":true,\"type\":\"pie\"}],\"scatter\":[{\"marker\":{\"colorbar\":{\"outlinewidth\":0,\"ticks\":\"\"}},\"type\":\"scatter\"}],\"scatter3d\":[{\"line\":{\"colorbar\":{\"outlinewidth\":0,\"ticks\":\"\"}},\"marker\":{\"colorbar\":{\"outlinewidth\":0,\"ticks\":\"\"}},\"type\":\"scatter3d\"}],\"scattercarpet\":[{\"marker\":{\"colorbar\":{\"outlinewidth\":0,\"ticks\":\"\"}},\"type\":\"scattercarpet\"}],\"scattergeo\":[{\"marker\":{\"colorbar\":{\"outlinewidth\":0,\"ticks\":\"\"}},\"type\":\"scattergeo\"}],\"scattergl\":[{\"marker\":{\"colorbar\":{\"outlinewidth\":0,\"ticks\":\"\"}},\"type\":\"scattergl\"}],\"scattermapbox\":[{\"marker\":{\"colorbar\":{\"outlinewidth\":0,\"ticks\":\"\"}},\"type\":\"scattermapbox\"}],\"scatterpolar\":[{\"marker\":{\"colorbar\":{\"outlinewidth\":0,\"ticks\":\"\"}},\"type\":\"scatterpolar\"}],\"scatterpolargl\":[{\"marker\":{\"colorbar\":{\"outlinewidth\":0,\"ticks\":\"\"}},\"type\":\"scatterpolargl\"}],\"scatterternary\":[{\"marker\":{\"colorbar\":{\"outlinewidth\":0,\"ticks\":\"\"}},\"type\":\"scatterternary\"}],\"surface\":[{\"colorbar\":{\"outlinewidth\":0,\"ticks\":\"\"},\"colorscale\":[[0.0,\"#0d0887\"],[0.1111111111111111,\"#46039f\"],[0.2222222222222222,\"#7201a8\"],[0.3333333333333333,\"#9c179e\"],[0.4444444444444444,\"#bd3786\"],[0.5555555555555556,\"#d8576b\"],[0.6666666666666666,\"#ed7953\"],[0.7777777777777778,\"#fb9f3a\"],[0.8888888888888888,\"#fdca26\"],[1.0,\"#f0f921\"]],\"type\":\"surface\"}],\"table\":[{\"cells\":{\"fill\":{\"color\":\"#EBF0F8\"},\"line\":{\"color\":\"white\"}},\"header\":{\"fill\":{\"color\":\"#C8D4E3\"},\"line\":{\"color\":\"white\"}},\"type\":\"table\"}]},\"layout\":{\"annotationdefaults\":{\"arrowcolor\":\"#2a3f5f\",\"arrowhead\":0,\"arrowwidth\":1},\"autotypenumbers\":\"strict\",\"coloraxis\":{\"colorbar\":{\"outlinewidth\":0,\"ticks\":\"\"}},\"colorscale\":{\"diverging\":[[0,\"#8e0152\"],[0.1,\"#c51b7d\"],[0.2,\"#de77ae\"],[0.3,\"#f1b6da\"],[0.4,\"#fde0ef\"],[0.5,\"#f7f7f7\"],[0.6,\"#e6f5d0\"],[0.7,\"#b8e186\"],[0.8,\"#7fbc41\"],[0.9,\"#4d9221\"],[1,\"#276419\"]],\"sequential\":[[0.0,\"#0d0887\"],[0.1111111111111111,\"#46039f\"],[0.2222222222222222,\"#7201a8\"],[0.3333333333333333,\"#9c179e\"],[0.4444444444444444,\"#bd3786\"],[0.5555555555555556,\"#d8576b\"],[0.6666666666666666,\"#ed7953\"],[0.7777777777777778,\"#fb9f3a\"],[0.8888888888888888,\"#fdca26\"],[1.0,\"#f0f921\"]],\"sequentialminus\":[[0.0,\"#0d0887\"],[0.1111111111111111,\"#46039f\"],[0.2222222222222222,\"#7201a8\"],[0.3333333333333333,\"#9c179e\"],[0.4444444444444444,\"#bd3786\"],[0.5555555555555556,\"#d8576b\"],[0.6666666666666666,\"#ed7953\"],[0.7777777777777778,\"#fb9f3a\"],[0.8888888888888888,\"#fdca26\"],[1.0,\"#f0f921\"]]},\"colorway\":[\"#636efa\",\"#EF553B\",\"#00cc96\",\"#ab63fa\",\"#FFA15A\",\"#19d3f3\",\"#FF6692\",\"#B6E880\",\"#FF97FF\",\"#FECB52\"],\"font\":{\"color\":\"#2a3f5f\"},\"geo\":{\"bgcolor\":\"white\",\"lakecolor\":\"white\",\"landcolor\":\"#E5ECF6\",\"showlakes\":true,\"showland\":true,\"subunitcolor\":\"white\"},\"hoverlabel\":{\"align\":\"left\"},\"hovermode\":\"closest\",\"mapbox\":{\"style\":\"light\"},\"paper_bgcolor\":\"white\",\"plot_bgcolor\":\"#E5ECF6\",\"polar\":{\"angularaxis\":{\"gridcolor\":\"white\",\"linecolor\":\"white\",\"ticks\":\"\"},\"bgcolor\":\"#E5ECF6\",\"radialaxis\":{\"gridcolor\":\"white\",\"linecolor\":\"white\",\"ticks\":\"\"}},\"scene\":{\"xaxis\":{\"backgroundcolor\":\"#E5ECF6\",\"gridcolor\":\"white\",\"gridwidth\":2,\"linecolor\":\"white\",\"showbackground\":true,\"ticks\":\"\",\"zerolinecolor\":\"white\"},\"yaxis\":{\"backgroundcolor\":\"#E5ECF6\",\"gridcolor\":\"white\",\"gridwidth\":2,\"linecolor\":\"white\",\"showbackground\":true,\"ticks\":\"\",\"zerolinecolor\":\"white\"},\"zaxis\":{\"backgroundcolor\":\"#E5ECF6\",\"gridcolor\":\"white\",\"gridwidth\":2,\"linecolor\":\"white\",\"showbackground\":true,\"ticks\":\"\",\"zerolinecolor\":\"white\"}},\"shapedefaults\":{\"line\":{\"color\":\"#2a3f5f\"}},\"ternary\":{\"aaxis\":{\"gridcolor\":\"white\",\"linecolor\":\"white\",\"ticks\":\"\"},\"baxis\":{\"gridcolor\":\"white\",\"linecolor\":\"white\",\"ticks\":\"\"},\"bgcolor\":\"#E5ECF6\",\"caxis\":{\"gridcolor\":\"white\",\"linecolor\":\"white\",\"ticks\":\"\"}},\"title\":{\"x\":0.05},\"xaxis\":{\"automargin\":true,\"gridcolor\":\"white\",\"linecolor\":\"white\",\"ticks\":\"\",\"title\":{\"standoff\":15},\"zerolinecolor\":\"white\",\"zerolinewidth\":2},\"yaxis\":{\"automargin\":true,\"gridcolor\":\"white\",\"linecolor\":\"white\",\"ticks\":\"\",\"title\":{\"standoff\":15},\"zerolinecolor\":\"white\",\"zerolinewidth\":2}}},\"xaxis\":{\"anchor\":\"y\",\"domain\":[0.0,1.0],\"title\":{\"text\":\"index\"}},\"yaxis\":{\"anchor\":\"x\",\"domain\":[0.0,1.0],\"title\":{\"text\":\"value\"}},\"legend\":{\"title\":{\"text\":\"variable\"},\"tracegroupgap\":0},\"margin\":{\"t\":60}},                        {\"responsive\": true}                    ).then(function(){\n",
       "                            \n",
       "var gd = document.getElementById('4c83f965-ff07-4e33-b851-2e411c31807e');\n",
       "var x = new MutationObserver(function (mutations, observer) {{\n",
       "        var display = window.getComputedStyle(gd).display;\n",
       "        if (!display || display === 'none') {{\n",
       "            console.log([gd, 'removed!']);\n",
       "            Plotly.purge(gd);\n",
       "            observer.disconnect();\n",
       "        }}\n",
       "}});\n",
       "\n",
       "// Listen for the removal of the full notebook cells\n",
       "var notebookContainer = gd.closest('#notebook-container');\n",
       "if (notebookContainer) {{\n",
       "    x.observe(notebookContainer, {childList: true});\n",
       "}}\n",
       "\n",
       "// Listen for the clearing of the current output cell\n",
       "var outputEl = gd.closest('.output');\n",
       "if (outputEl) {{\n",
       "    x.observe(outputEl, {childList: true});\n",
       "}}\n",
       "\n",
       "                        })                };                });            </script>        </div>"
      ]
     },
     "metadata": {},
     "output_type": "display_data"
    }
   ],
   "source": [
    "report_df['Delta_val_train_mse'].plot()"
   ]
  },
  {
   "cell_type": "code",
   "execution_count": 155,
   "id": "096f188a",
   "metadata": {
    "ExecuteTime": {
     "end_time": "2022-09-07T10:11:54.960030Z",
     "start_time": "2022-09-07T10:11:54.927486Z"
    }
   },
   "outputs": [
    {
     "data": {
      "text/html": [
       "<div>\n",
       "<style scoped>\n",
       "    .dataframe tbody tr th:only-of-type {\n",
       "        vertical-align: middle;\n",
       "    }\n",
       "\n",
       "    .dataframe tbody tr th {\n",
       "        vertical-align: top;\n",
       "    }\n",
       "\n",
       "    .dataframe thead th {\n",
       "        text-align: right;\n",
       "    }\n",
       "</style>\n",
       "<table border=\"1\" class=\"dataframe\">\n",
       "  <thead>\n",
       "    <tr style=\"text-align: right;\">\n",
       "      <th></th>\n",
       "      <th>binned_vars</th>\n",
       "      <th>n_bins</th>\n",
       "      <th>n_layers</th>\n",
       "      <th>n_neurons_per_layer</th>\n",
       "      <th>train_mse</th>\n",
       "      <th>val_mse</th>\n",
       "      <th>Delta_val_train_mse</th>\n",
       "    </tr>\n",
       "  </thead>\n",
       "  <tbody>\n",
       "    <tr>\n",
       "      <th>0</th>\n",
       "      <td>1</td>\n",
       "      <td>2</td>\n",
       "      <td>1</td>\n",
       "      <td>8</td>\n",
       "      <td>0.013097</td>\n",
       "      <td>0.015410</td>\n",
       "      <td>0.002313</td>\n",
       "    </tr>\n",
       "    <tr>\n",
       "      <th>1</th>\n",
       "      <td>1</td>\n",
       "      <td>2</td>\n",
       "      <td>1</td>\n",
       "      <td>16</td>\n",
       "      <td>0.004860</td>\n",
       "      <td>0.006454</td>\n",
       "      <td>0.001594</td>\n",
       "    </tr>\n",
       "    <tr>\n",
       "      <th>2</th>\n",
       "      <td>1</td>\n",
       "      <td>2</td>\n",
       "      <td>1</td>\n",
       "      <td>24</td>\n",
       "      <td>0.005518</td>\n",
       "      <td>0.008302</td>\n",
       "      <td>0.002785</td>\n",
       "    </tr>\n",
       "    <tr>\n",
       "      <th>3</th>\n",
       "      <td>1</td>\n",
       "      <td>2</td>\n",
       "      <td>1</td>\n",
       "      <td>32</td>\n",
       "      <td>0.002208</td>\n",
       "      <td>0.003021</td>\n",
       "      <td>0.000813</td>\n",
       "    </tr>\n",
       "    <tr>\n",
       "      <th>4</th>\n",
       "      <td>1</td>\n",
       "      <td>2</td>\n",
       "      <td>1</td>\n",
       "      <td>40</td>\n",
       "      <td>0.001331</td>\n",
       "      <td>0.002210</td>\n",
       "      <td>0.000879</td>\n",
       "    </tr>\n",
       "    <tr>\n",
       "      <th>5</th>\n",
       "      <td>1</td>\n",
       "      <td>2</td>\n",
       "      <td>1</td>\n",
       "      <td>48</td>\n",
       "      <td>0.001699</td>\n",
       "      <td>0.002920</td>\n",
       "      <td>0.001221</td>\n",
       "    </tr>\n",
       "    <tr>\n",
       "      <th>6</th>\n",
       "      <td>1</td>\n",
       "      <td>2</td>\n",
       "      <td>1</td>\n",
       "      <td>56</td>\n",
       "      <td>0.001247</td>\n",
       "      <td>0.002383</td>\n",
       "      <td>0.001137</td>\n",
       "    </tr>\n",
       "    <tr>\n",
       "      <th>7</th>\n",
       "      <td>1</td>\n",
       "      <td>2</td>\n",
       "      <td>1</td>\n",
       "      <td>64</td>\n",
       "      <td>0.001110</td>\n",
       "      <td>0.001913</td>\n",
       "      <td>0.000803</td>\n",
       "    </tr>\n",
       "    <tr>\n",
       "      <th>8</th>\n",
       "      <td>1</td>\n",
       "      <td>2</td>\n",
       "      <td>2</td>\n",
       "      <td>8</td>\n",
       "      <td>0.007481</td>\n",
       "      <td>0.010047</td>\n",
       "      <td>0.002566</td>\n",
       "    </tr>\n",
       "    <tr>\n",
       "      <th>9</th>\n",
       "      <td>1</td>\n",
       "      <td>2</td>\n",
       "      <td>2</td>\n",
       "      <td>16</td>\n",
       "      <td>0.002241</td>\n",
       "      <td>0.002871</td>\n",
       "      <td>0.000630</td>\n",
       "    </tr>\n",
       "  </tbody>\n",
       "</table>\n",
       "</div>"
      ],
      "text/plain": [
       "   binned_vars  n_bins  n_layers  n_neurons_per_layer  train_mse   val_mse  \\\n",
       "0            1       2         1                    8   0.013097  0.015410   \n",
       "1            1       2         1                   16   0.004860  0.006454   \n",
       "2            1       2         1                   24   0.005518  0.008302   \n",
       "3            1       2         1                   32   0.002208  0.003021   \n",
       "4            1       2         1                   40   0.001331  0.002210   \n",
       "5            1       2         1                   48   0.001699  0.002920   \n",
       "6            1       2         1                   56   0.001247  0.002383   \n",
       "7            1       2         1                   64   0.001110  0.001913   \n",
       "8            1       2         2                    8   0.007481  0.010047   \n",
       "9            1       2         2                   16   0.002241  0.002871   \n",
       "\n",
       "   Delta_val_train_mse  \n",
       "0             0.002313  \n",
       "1             0.001594  \n",
       "2             0.002785  \n",
       "3             0.000813  \n",
       "4             0.000879  \n",
       "5             0.001221  \n",
       "6             0.001137  \n",
       "7             0.000803  \n",
       "8             0.002566  \n",
       "9             0.000630  "
      ]
     },
     "execution_count": 155,
     "metadata": {},
     "output_type": "execute_result"
    }
   ],
   "source": [
    "# Find top 5 models with minimum positive delta\n",
    "\n",
    "top_min_delta = report_df[(report_df['Delta_val_train_mse'] > 0) & (report_df['Delta_val_train_mse'] < 0.01)]\n",
    "top_min_delta.head(10)"
   ]
  },
  {
   "cell_type": "code",
   "execution_count": 156,
   "id": "228ba094",
   "metadata": {
    "ExecuteTime": {
     "end_time": "2022-09-07T10:12:08.053567Z",
     "start_time": "2022-09-07T10:12:07.879002Z"
    }
   },
   "outputs": [
    {
     "data": {
      "application/vnd.plotly.v1+json": {
       "config": {
        "plotlyServerURL": "https://plot.ly"
       },
       "data": [
        {
         "hovertemplate": "variable=Delta_val_train_mse<br>index=%{x}<br>value=%{y}<extra></extra>",
         "legendgroup": "Delta_val_train_mse",
         "marker": {
          "color": "#636efa",
          "symbol": "circle"
         },
         "mode": "markers",
         "name": "Delta_val_train_mse",
         "orientation": "v",
         "showlegend": true,
         "type": "scatter",
         "x": [
          0,
          1,
          2,
          3,
          4,
          5,
          6,
          7,
          8,
          9,
          10,
          11,
          12,
          13,
          14,
          15,
          16,
          20,
          21,
          22,
          23,
          24,
          25,
          26,
          27,
          28,
          29,
          30,
          31,
          32,
          33,
          34,
          36,
          37,
          38,
          39,
          40,
          41,
          42,
          44,
          46,
          47,
          48,
          49,
          50,
          51,
          52,
          53,
          54,
          55,
          56,
          57,
          58,
          59,
          60,
          64,
          65,
          66,
          70,
          71,
          72,
          73,
          74,
          75,
          76,
          77,
          78,
          79,
          80,
          81,
          82,
          83,
          84,
          86,
          88,
          89,
          90,
          91,
          92,
          93,
          95,
          96,
          97,
          98,
          99,
          100,
          101,
          102,
          103,
          104,
          105,
          106,
          107,
          109,
          111,
          112,
          113,
          114,
          116,
          118,
          119,
          120,
          121,
          122,
          123,
          124,
          125,
          126,
          127,
          128,
          129,
          130,
          131,
          132,
          133,
          134,
          135,
          136,
          137,
          138,
          139,
          140,
          141,
          142,
          143
         ],
         "xaxis": "x",
         "y": [
          0.0023126862943172455,
          0.0015942230820655823,
          0.0027846796438097954,
          0.0008134027011692524,
          0.000878684688359499,
          0.0012207296676933765,
          0.0011367269326001406,
          0.0008027720032259822,
          0.0025661452673375607,
          0.0006302644032984972,
          0.00027110439259558916,
          0.0000543631031177938,
          0.00021587172523140907,
          0.00019045444787479937,
          0.00012202942161820829,
          0.000056812234106473625,
          0.0004011103883385658,
          0.00006791128544136882,
          0.0006096993165556341,
          0.00008374622848350555,
          0.0009450170764466748,
          0.003966109827160835,
          0.0012781135737895966,
          0.0007558716461062431,
          0.0014034397900104523,
          0.0005423710681498051,
          0.00029992766212671995,
          0.00034483568742871284,
          0.0003730140160769224,
          0.001876315101981163,
          0.00007745472248643637,
          0.0002152965171262622,
          0.00003271093009971082,
          0.00011023649130947888,
          0.00001649698242545128,
          0.00013039718032814562,
          0.00334432115778327,
          0.0011813240125775337,
          0.00003546889638528228,
          0.00002345014945603907,
          0.00014642112364526838,
          0.003885318466927856,
          0.003079063259065151,
          0.0022636977955698967,
          0.0022960095666348934,
          0.0010102458763867617,
          0.0008575969841331244,
          0.0007926133694127202,
          0.00044856523163616657,
          0.0005541330901905894,
          0.0021685557439923286,
          0.001012949738651514,
          0.0001681431895121932,
          0.00043929810635745525,
          0.00004038901533931494,
          0.0023699230514466763,
          0.0000586134847253561,
          0.000020609935745596886,
          0.00032659273711033165,
          0.00011134210217278451,
          0.00626756064593792,
          0.004852687008678913,
          0.0033462755382061005,
          0.002291109412908554,
          0.002555573359131813,
          0.0018010297790169716,
          0.001992878969758749,
          0.0016875118017196655,
          0.005483623594045639,
          0.00303124962374568,
          0.0016641682013869286,
          0.0009015284013003111,
          0.0005766585236415267,
          0.000041880179196596146,
          0.0010642558336257935,
          0.000006137881428003311,
          0.00018855719827115536,
          0.0006030105287209153,
          0.000056419812608510256,
          0.0007934272580314428,
          0.00016249043983407319,
          0.0020547322928905487,
          0.0033985059708356857,
          0.0007787519134581089,
          0.0011041355319321156,
          0.0005564556922763586,
          0.00010972842574119568,
          0.00017801555804908276,
          0.0004435763694345951,
          0.0024991361424326897,
          0.0007026493549346924,
          0.0001230242196470499,
          0.00012607092503458261,
          0.00024031789507716894,
          0.0002109853085130453,
          0.004692869260907173,
          0.0002197958528995514,
          0.0005908191669732332,
          0.00022045639343559742,
          0.00014847610145807266,
          0.000029779504984617233,
          0.0021289903670549393,
          0.0023465664125978947,
          0.001488622510805726,
          0.0006252550520002842,
          0.0005743841174989939,
          0.00027516193222254515,
          0.0002599845174700022,
          0.0003605601377785206,
          0.00279077235609293,
          0.0008941891137510538,
          0.00008093868382275105,
          0.00016793061513453722,
          0.0002625018823891878,
          0.0004025548114441335,
          0.0002928663743659854,
          0.000054064381401985884,
          0.0032993778586387634,
          0.0004621639382094145,
          0.0003935141721740365,
          0.00012052292004227638,
          0.0003766246372833848,
          0.00009374856017529964,
          0.00015095964772626758,
          0.00020659796427935362
         ],
         "yaxis": "y"
        }
       ],
       "layout": {
        "legend": {
         "title": {
          "text": "variable"
         },
         "tracegroupgap": 0
        },
        "margin": {
         "t": 60
        },
        "template": {
         "data": {
          "bar": [
           {
            "error_x": {
             "color": "#2a3f5f"
            },
            "error_y": {
             "color": "#2a3f5f"
            },
            "marker": {
             "line": {
              "color": "#E5ECF6",
              "width": 0.5
             },
             "pattern": {
              "fillmode": "overlay",
              "size": 10,
              "solidity": 0.2
             }
            },
            "type": "bar"
           }
          ],
          "barpolar": [
           {
            "marker": {
             "line": {
              "color": "#E5ECF6",
              "width": 0.5
             },
             "pattern": {
              "fillmode": "overlay",
              "size": 10,
              "solidity": 0.2
             }
            },
            "type": "barpolar"
           }
          ],
          "carpet": [
           {
            "aaxis": {
             "endlinecolor": "#2a3f5f",
             "gridcolor": "white",
             "linecolor": "white",
             "minorgridcolor": "white",
             "startlinecolor": "#2a3f5f"
            },
            "baxis": {
             "endlinecolor": "#2a3f5f",
             "gridcolor": "white",
             "linecolor": "white",
             "minorgridcolor": "white",
             "startlinecolor": "#2a3f5f"
            },
            "type": "carpet"
           }
          ],
          "choropleth": [
           {
            "colorbar": {
             "outlinewidth": 0,
             "ticks": ""
            },
            "type": "choropleth"
           }
          ],
          "contour": [
           {
            "colorbar": {
             "outlinewidth": 0,
             "ticks": ""
            },
            "colorscale": [
             [
              0,
              "#0d0887"
             ],
             [
              0.1111111111111111,
              "#46039f"
             ],
             [
              0.2222222222222222,
              "#7201a8"
             ],
             [
              0.3333333333333333,
              "#9c179e"
             ],
             [
              0.4444444444444444,
              "#bd3786"
             ],
             [
              0.5555555555555556,
              "#d8576b"
             ],
             [
              0.6666666666666666,
              "#ed7953"
             ],
             [
              0.7777777777777778,
              "#fb9f3a"
             ],
             [
              0.8888888888888888,
              "#fdca26"
             ],
             [
              1,
              "#f0f921"
             ]
            ],
            "type": "contour"
           }
          ],
          "contourcarpet": [
           {
            "colorbar": {
             "outlinewidth": 0,
             "ticks": ""
            },
            "type": "contourcarpet"
           }
          ],
          "heatmap": [
           {
            "colorbar": {
             "outlinewidth": 0,
             "ticks": ""
            },
            "colorscale": [
             [
              0,
              "#0d0887"
             ],
             [
              0.1111111111111111,
              "#46039f"
             ],
             [
              0.2222222222222222,
              "#7201a8"
             ],
             [
              0.3333333333333333,
              "#9c179e"
             ],
             [
              0.4444444444444444,
              "#bd3786"
             ],
             [
              0.5555555555555556,
              "#d8576b"
             ],
             [
              0.6666666666666666,
              "#ed7953"
             ],
             [
              0.7777777777777778,
              "#fb9f3a"
             ],
             [
              0.8888888888888888,
              "#fdca26"
             ],
             [
              1,
              "#f0f921"
             ]
            ],
            "type": "heatmap"
           }
          ],
          "heatmapgl": [
           {
            "colorbar": {
             "outlinewidth": 0,
             "ticks": ""
            },
            "colorscale": [
             [
              0,
              "#0d0887"
             ],
             [
              0.1111111111111111,
              "#46039f"
             ],
             [
              0.2222222222222222,
              "#7201a8"
             ],
             [
              0.3333333333333333,
              "#9c179e"
             ],
             [
              0.4444444444444444,
              "#bd3786"
             ],
             [
              0.5555555555555556,
              "#d8576b"
             ],
             [
              0.6666666666666666,
              "#ed7953"
             ],
             [
              0.7777777777777778,
              "#fb9f3a"
             ],
             [
              0.8888888888888888,
              "#fdca26"
             ],
             [
              1,
              "#f0f921"
             ]
            ],
            "type": "heatmapgl"
           }
          ],
          "histogram": [
           {
            "marker": {
             "pattern": {
              "fillmode": "overlay",
              "size": 10,
              "solidity": 0.2
             }
            },
            "type": "histogram"
           }
          ],
          "histogram2d": [
           {
            "colorbar": {
             "outlinewidth": 0,
             "ticks": ""
            },
            "colorscale": [
             [
              0,
              "#0d0887"
             ],
             [
              0.1111111111111111,
              "#46039f"
             ],
             [
              0.2222222222222222,
              "#7201a8"
             ],
             [
              0.3333333333333333,
              "#9c179e"
             ],
             [
              0.4444444444444444,
              "#bd3786"
             ],
             [
              0.5555555555555556,
              "#d8576b"
             ],
             [
              0.6666666666666666,
              "#ed7953"
             ],
             [
              0.7777777777777778,
              "#fb9f3a"
             ],
             [
              0.8888888888888888,
              "#fdca26"
             ],
             [
              1,
              "#f0f921"
             ]
            ],
            "type": "histogram2d"
           }
          ],
          "histogram2dcontour": [
           {
            "colorbar": {
             "outlinewidth": 0,
             "ticks": ""
            },
            "colorscale": [
             [
              0,
              "#0d0887"
             ],
             [
              0.1111111111111111,
              "#46039f"
             ],
             [
              0.2222222222222222,
              "#7201a8"
             ],
             [
              0.3333333333333333,
              "#9c179e"
             ],
             [
              0.4444444444444444,
              "#bd3786"
             ],
             [
              0.5555555555555556,
              "#d8576b"
             ],
             [
              0.6666666666666666,
              "#ed7953"
             ],
             [
              0.7777777777777778,
              "#fb9f3a"
             ],
             [
              0.8888888888888888,
              "#fdca26"
             ],
             [
              1,
              "#f0f921"
             ]
            ],
            "type": "histogram2dcontour"
           }
          ],
          "mesh3d": [
           {
            "colorbar": {
             "outlinewidth": 0,
             "ticks": ""
            },
            "type": "mesh3d"
           }
          ],
          "parcoords": [
           {
            "line": {
             "colorbar": {
              "outlinewidth": 0,
              "ticks": ""
             }
            },
            "type": "parcoords"
           }
          ],
          "pie": [
           {
            "automargin": true,
            "type": "pie"
           }
          ],
          "scatter": [
           {
            "marker": {
             "colorbar": {
              "outlinewidth": 0,
              "ticks": ""
             }
            },
            "type": "scatter"
           }
          ],
          "scatter3d": [
           {
            "line": {
             "colorbar": {
              "outlinewidth": 0,
              "ticks": ""
             }
            },
            "marker": {
             "colorbar": {
              "outlinewidth": 0,
              "ticks": ""
             }
            },
            "type": "scatter3d"
           }
          ],
          "scattercarpet": [
           {
            "marker": {
             "colorbar": {
              "outlinewidth": 0,
              "ticks": ""
             }
            },
            "type": "scattercarpet"
           }
          ],
          "scattergeo": [
           {
            "marker": {
             "colorbar": {
              "outlinewidth": 0,
              "ticks": ""
             }
            },
            "type": "scattergeo"
           }
          ],
          "scattergl": [
           {
            "marker": {
             "colorbar": {
              "outlinewidth": 0,
              "ticks": ""
             }
            },
            "type": "scattergl"
           }
          ],
          "scattermapbox": [
           {
            "marker": {
             "colorbar": {
              "outlinewidth": 0,
              "ticks": ""
             }
            },
            "type": "scattermapbox"
           }
          ],
          "scatterpolar": [
           {
            "marker": {
             "colorbar": {
              "outlinewidth": 0,
              "ticks": ""
             }
            },
            "type": "scatterpolar"
           }
          ],
          "scatterpolargl": [
           {
            "marker": {
             "colorbar": {
              "outlinewidth": 0,
              "ticks": ""
             }
            },
            "type": "scatterpolargl"
           }
          ],
          "scatterternary": [
           {
            "marker": {
             "colorbar": {
              "outlinewidth": 0,
              "ticks": ""
             }
            },
            "type": "scatterternary"
           }
          ],
          "surface": [
           {
            "colorbar": {
             "outlinewidth": 0,
             "ticks": ""
            },
            "colorscale": [
             [
              0,
              "#0d0887"
             ],
             [
              0.1111111111111111,
              "#46039f"
             ],
             [
              0.2222222222222222,
              "#7201a8"
             ],
             [
              0.3333333333333333,
              "#9c179e"
             ],
             [
              0.4444444444444444,
              "#bd3786"
             ],
             [
              0.5555555555555556,
              "#d8576b"
             ],
             [
              0.6666666666666666,
              "#ed7953"
             ],
             [
              0.7777777777777778,
              "#fb9f3a"
             ],
             [
              0.8888888888888888,
              "#fdca26"
             ],
             [
              1,
              "#f0f921"
             ]
            ],
            "type": "surface"
           }
          ],
          "table": [
           {
            "cells": {
             "fill": {
              "color": "#EBF0F8"
             },
             "line": {
              "color": "white"
             }
            },
            "header": {
             "fill": {
              "color": "#C8D4E3"
             },
             "line": {
              "color": "white"
             }
            },
            "type": "table"
           }
          ]
         },
         "layout": {
          "annotationdefaults": {
           "arrowcolor": "#2a3f5f",
           "arrowhead": 0,
           "arrowwidth": 1
          },
          "autotypenumbers": "strict",
          "coloraxis": {
           "colorbar": {
            "outlinewidth": 0,
            "ticks": ""
           }
          },
          "colorscale": {
           "diverging": [
            [
             0,
             "#8e0152"
            ],
            [
             0.1,
             "#c51b7d"
            ],
            [
             0.2,
             "#de77ae"
            ],
            [
             0.3,
             "#f1b6da"
            ],
            [
             0.4,
             "#fde0ef"
            ],
            [
             0.5,
             "#f7f7f7"
            ],
            [
             0.6,
             "#e6f5d0"
            ],
            [
             0.7,
             "#b8e186"
            ],
            [
             0.8,
             "#7fbc41"
            ],
            [
             0.9,
             "#4d9221"
            ],
            [
             1,
             "#276419"
            ]
           ],
           "sequential": [
            [
             0,
             "#0d0887"
            ],
            [
             0.1111111111111111,
             "#46039f"
            ],
            [
             0.2222222222222222,
             "#7201a8"
            ],
            [
             0.3333333333333333,
             "#9c179e"
            ],
            [
             0.4444444444444444,
             "#bd3786"
            ],
            [
             0.5555555555555556,
             "#d8576b"
            ],
            [
             0.6666666666666666,
             "#ed7953"
            ],
            [
             0.7777777777777778,
             "#fb9f3a"
            ],
            [
             0.8888888888888888,
             "#fdca26"
            ],
            [
             1,
             "#f0f921"
            ]
           ],
           "sequentialminus": [
            [
             0,
             "#0d0887"
            ],
            [
             0.1111111111111111,
             "#46039f"
            ],
            [
             0.2222222222222222,
             "#7201a8"
            ],
            [
             0.3333333333333333,
             "#9c179e"
            ],
            [
             0.4444444444444444,
             "#bd3786"
            ],
            [
             0.5555555555555556,
             "#d8576b"
            ],
            [
             0.6666666666666666,
             "#ed7953"
            ],
            [
             0.7777777777777778,
             "#fb9f3a"
            ],
            [
             0.8888888888888888,
             "#fdca26"
            ],
            [
             1,
             "#f0f921"
            ]
           ]
          },
          "colorway": [
           "#636efa",
           "#EF553B",
           "#00cc96",
           "#ab63fa",
           "#FFA15A",
           "#19d3f3",
           "#FF6692",
           "#B6E880",
           "#FF97FF",
           "#FECB52"
          ],
          "font": {
           "color": "#2a3f5f"
          },
          "geo": {
           "bgcolor": "white",
           "lakecolor": "white",
           "landcolor": "#E5ECF6",
           "showlakes": true,
           "showland": true,
           "subunitcolor": "white"
          },
          "hoverlabel": {
           "align": "left"
          },
          "hovermode": "closest",
          "mapbox": {
           "style": "light"
          },
          "paper_bgcolor": "white",
          "plot_bgcolor": "#E5ECF6",
          "polar": {
           "angularaxis": {
            "gridcolor": "white",
            "linecolor": "white",
            "ticks": ""
           },
           "bgcolor": "#E5ECF6",
           "radialaxis": {
            "gridcolor": "white",
            "linecolor": "white",
            "ticks": ""
           }
          },
          "scene": {
           "xaxis": {
            "backgroundcolor": "#E5ECF6",
            "gridcolor": "white",
            "gridwidth": 2,
            "linecolor": "white",
            "showbackground": true,
            "ticks": "",
            "zerolinecolor": "white"
           },
           "yaxis": {
            "backgroundcolor": "#E5ECF6",
            "gridcolor": "white",
            "gridwidth": 2,
            "linecolor": "white",
            "showbackground": true,
            "ticks": "",
            "zerolinecolor": "white"
           },
           "zaxis": {
            "backgroundcolor": "#E5ECF6",
            "gridcolor": "white",
            "gridwidth": 2,
            "linecolor": "white",
            "showbackground": true,
            "ticks": "",
            "zerolinecolor": "white"
           }
          },
          "shapedefaults": {
           "line": {
            "color": "#2a3f5f"
           }
          },
          "ternary": {
           "aaxis": {
            "gridcolor": "white",
            "linecolor": "white",
            "ticks": ""
           },
           "baxis": {
            "gridcolor": "white",
            "linecolor": "white",
            "ticks": ""
           },
           "bgcolor": "#E5ECF6",
           "caxis": {
            "gridcolor": "white",
            "linecolor": "white",
            "ticks": ""
           }
          },
          "title": {
           "x": 0.05
          },
          "xaxis": {
           "automargin": true,
           "gridcolor": "white",
           "linecolor": "white",
           "ticks": "",
           "title": {
            "standoff": 15
           },
           "zerolinecolor": "white",
           "zerolinewidth": 2
          },
          "yaxis": {
           "automargin": true,
           "gridcolor": "white",
           "linecolor": "white",
           "ticks": "",
           "title": {
            "standoff": 15
           },
           "zerolinecolor": "white",
           "zerolinewidth": 2
          }
         }
        },
        "xaxis": {
         "anchor": "y",
         "domain": [
          0,
          1
         ],
         "title": {
          "text": "index"
         }
        },
        "yaxis": {
         "anchor": "x",
         "domain": [
          0,
          1
         ],
         "title": {
          "text": "value"
         }
        }
       }
      },
      "text/html": [
       "<div>                            <div id=\"0e5b2bdb-bb8a-4a3a-ab46-3034dceb104b\" class=\"plotly-graph-div\" style=\"height:525px; width:100%;\"></div>            <script type=\"text/javascript\">                require([\"plotly\"], function(Plotly) {                    window.PLOTLYENV=window.PLOTLYENV || {};                                    if (document.getElementById(\"0e5b2bdb-bb8a-4a3a-ab46-3034dceb104b\")) {                    Plotly.newPlot(                        \"0e5b2bdb-bb8a-4a3a-ab46-3034dceb104b\",                        [{\"hovertemplate\":\"variable=Delta_val_train_mse<br>index=%{x}<br>value=%{y}<extra></extra>\",\"legendgroup\":\"Delta_val_train_mse\",\"marker\":{\"color\":\"#636efa\",\"symbol\":\"circle\"},\"mode\":\"markers\",\"name\":\"Delta_val_train_mse\",\"orientation\":\"v\",\"showlegend\":true,\"x\":[0,1,2,3,4,5,6,7,8,9,10,11,12,13,14,15,16,20,21,22,23,24,25,26,27,28,29,30,31,32,33,34,36,37,38,39,40,41,42,44,46,47,48,49,50,51,52,53,54,55,56,57,58,59,60,64,65,66,70,71,72,73,74,75,76,77,78,79,80,81,82,83,84,86,88,89,90,91,92,93,95,96,97,98,99,100,101,102,103,104,105,106,107,109,111,112,113,114,116,118,119,120,121,122,123,124,125,126,127,128,129,130,131,132,133,134,135,136,137,138,139,140,141,142,143],\"xaxis\":\"x\",\"y\":[0.0023126862943172455,0.0015942230820655823,0.0027846796438097954,0.0008134027011692524,0.000878684688359499,0.0012207296676933765,0.0011367269326001406,0.0008027720032259822,0.0025661452673375607,0.0006302644032984972,0.00027110439259558916,0.0000543631031177938,0.00021587172523140907,0.00019045444787479937,0.00012202942161820829,0.000056812234106473625,0.0004011103883385658,0.00006791128544136882,0.0006096993165556341,0.00008374622848350555,0.0009450170764466748,0.003966109827160835,0.0012781135737895966,0.0007558716461062431,0.0014034397900104523,0.0005423710681498051,0.00029992766212671995,0.00034483568742871284,0.0003730140160769224,0.001876315101981163,0.00007745472248643637,0.0002152965171262622,0.00003271093009971082,0.00011023649130947888,0.00001649698242545128,0.00013039718032814562,0.00334432115778327,0.0011813240125775337,0.00003546889638528228,0.00002345014945603907,0.00014642112364526838,0.003885318466927856,0.003079063259065151,0.0022636977955698967,0.0022960095666348934,0.0010102458763867617,0.0008575969841331244,0.0007926133694127202,0.00044856523163616657,0.0005541330901905894,0.0021685557439923286,0.001012949738651514,0.0001681431895121932,0.00043929810635745525,0.00004038901533931494,0.0023699230514466763,0.0000586134847253561,0.000020609935745596886,0.00032659273711033165,0.00011134210217278451,0.00626756064593792,0.004852687008678913,0.0033462755382061005,0.002291109412908554,0.002555573359131813,0.0018010297790169716,0.001992878969758749,0.0016875118017196655,0.005483623594045639,0.00303124962374568,0.0016641682013869286,0.0009015284013003111,0.0005766585236415267,0.000041880179196596146,0.0010642558336257935,6.137881428003311e-6,0.00018855719827115536,0.0006030105287209153,0.000056419812608510256,0.0007934272580314428,0.00016249043983407319,0.0020547322928905487,0.0033985059708356857,0.0007787519134581089,0.0011041355319321156,0.0005564556922763586,0.00010972842574119568,0.00017801555804908276,0.0004435763694345951,0.0024991361424326897,0.0007026493549346924,0.0001230242196470499,0.00012607092503458261,0.00024031789507716894,0.0002109853085130453,0.004692869260907173,0.0002197958528995514,0.0005908191669732332,0.00022045639343559742,0.00014847610145807266,0.000029779504984617233,0.0021289903670549393,0.0023465664125978947,0.001488622510805726,0.0006252550520002842,0.0005743841174989939,0.00027516193222254515,0.0002599845174700022,0.0003605601377785206,0.00279077235609293,0.0008941891137510538,0.00008093868382275105,0.00016793061513453722,0.0002625018823891878,0.0004025548114441335,0.0002928663743659854,0.000054064381401985884,0.0032993778586387634,0.0004621639382094145,0.0003935141721740365,0.00012052292004227638,0.0003766246372833848,0.00009374856017529964,0.00015095964772626758,0.00020659796427935362],\"yaxis\":\"y\",\"type\":\"scatter\"}],                        {\"template\":{\"data\":{\"bar\":[{\"error_x\":{\"color\":\"#2a3f5f\"},\"error_y\":{\"color\":\"#2a3f5f\"},\"marker\":{\"line\":{\"color\":\"#E5ECF6\",\"width\":0.5},\"pattern\":{\"fillmode\":\"overlay\",\"size\":10,\"solidity\":0.2}},\"type\":\"bar\"}],\"barpolar\":[{\"marker\":{\"line\":{\"color\":\"#E5ECF6\",\"width\":0.5},\"pattern\":{\"fillmode\":\"overlay\",\"size\":10,\"solidity\":0.2}},\"type\":\"barpolar\"}],\"carpet\":[{\"aaxis\":{\"endlinecolor\":\"#2a3f5f\",\"gridcolor\":\"white\",\"linecolor\":\"white\",\"minorgridcolor\":\"white\",\"startlinecolor\":\"#2a3f5f\"},\"baxis\":{\"endlinecolor\":\"#2a3f5f\",\"gridcolor\":\"white\",\"linecolor\":\"white\",\"minorgridcolor\":\"white\",\"startlinecolor\":\"#2a3f5f\"},\"type\":\"carpet\"}],\"choropleth\":[{\"colorbar\":{\"outlinewidth\":0,\"ticks\":\"\"},\"type\":\"choropleth\"}],\"contour\":[{\"colorbar\":{\"outlinewidth\":0,\"ticks\":\"\"},\"colorscale\":[[0.0,\"#0d0887\"],[0.1111111111111111,\"#46039f\"],[0.2222222222222222,\"#7201a8\"],[0.3333333333333333,\"#9c179e\"],[0.4444444444444444,\"#bd3786\"],[0.5555555555555556,\"#d8576b\"],[0.6666666666666666,\"#ed7953\"],[0.7777777777777778,\"#fb9f3a\"],[0.8888888888888888,\"#fdca26\"],[1.0,\"#f0f921\"]],\"type\":\"contour\"}],\"contourcarpet\":[{\"colorbar\":{\"outlinewidth\":0,\"ticks\":\"\"},\"type\":\"contourcarpet\"}],\"heatmap\":[{\"colorbar\":{\"outlinewidth\":0,\"ticks\":\"\"},\"colorscale\":[[0.0,\"#0d0887\"],[0.1111111111111111,\"#46039f\"],[0.2222222222222222,\"#7201a8\"],[0.3333333333333333,\"#9c179e\"],[0.4444444444444444,\"#bd3786\"],[0.5555555555555556,\"#d8576b\"],[0.6666666666666666,\"#ed7953\"],[0.7777777777777778,\"#fb9f3a\"],[0.8888888888888888,\"#fdca26\"],[1.0,\"#f0f921\"]],\"type\":\"heatmap\"}],\"heatmapgl\":[{\"colorbar\":{\"outlinewidth\":0,\"ticks\":\"\"},\"colorscale\":[[0.0,\"#0d0887\"],[0.1111111111111111,\"#46039f\"],[0.2222222222222222,\"#7201a8\"],[0.3333333333333333,\"#9c179e\"],[0.4444444444444444,\"#bd3786\"],[0.5555555555555556,\"#d8576b\"],[0.6666666666666666,\"#ed7953\"],[0.7777777777777778,\"#fb9f3a\"],[0.8888888888888888,\"#fdca26\"],[1.0,\"#f0f921\"]],\"type\":\"heatmapgl\"}],\"histogram\":[{\"marker\":{\"pattern\":{\"fillmode\":\"overlay\",\"size\":10,\"solidity\":0.2}},\"type\":\"histogram\"}],\"histogram2d\":[{\"colorbar\":{\"outlinewidth\":0,\"ticks\":\"\"},\"colorscale\":[[0.0,\"#0d0887\"],[0.1111111111111111,\"#46039f\"],[0.2222222222222222,\"#7201a8\"],[0.3333333333333333,\"#9c179e\"],[0.4444444444444444,\"#bd3786\"],[0.5555555555555556,\"#d8576b\"],[0.6666666666666666,\"#ed7953\"],[0.7777777777777778,\"#fb9f3a\"],[0.8888888888888888,\"#fdca26\"],[1.0,\"#f0f921\"]],\"type\":\"histogram2d\"}],\"histogram2dcontour\":[{\"colorbar\":{\"outlinewidth\":0,\"ticks\":\"\"},\"colorscale\":[[0.0,\"#0d0887\"],[0.1111111111111111,\"#46039f\"],[0.2222222222222222,\"#7201a8\"],[0.3333333333333333,\"#9c179e\"],[0.4444444444444444,\"#bd3786\"],[0.5555555555555556,\"#d8576b\"],[0.6666666666666666,\"#ed7953\"],[0.7777777777777778,\"#fb9f3a\"],[0.8888888888888888,\"#fdca26\"],[1.0,\"#f0f921\"]],\"type\":\"histogram2dcontour\"}],\"mesh3d\":[{\"colorbar\":{\"outlinewidth\":0,\"ticks\":\"\"},\"type\":\"mesh3d\"}],\"parcoords\":[{\"line\":{\"colorbar\":{\"outlinewidth\":0,\"ticks\":\"\"}},\"type\":\"parcoords\"}],\"pie\":[{\"automargin\":true,\"type\":\"pie\"}],\"scatter\":[{\"marker\":{\"colorbar\":{\"outlinewidth\":0,\"ticks\":\"\"}},\"type\":\"scatter\"}],\"scatter3d\":[{\"line\":{\"colorbar\":{\"outlinewidth\":0,\"ticks\":\"\"}},\"marker\":{\"colorbar\":{\"outlinewidth\":0,\"ticks\":\"\"}},\"type\":\"scatter3d\"}],\"scattercarpet\":[{\"marker\":{\"colorbar\":{\"outlinewidth\":0,\"ticks\":\"\"}},\"type\":\"scattercarpet\"}],\"scattergeo\":[{\"marker\":{\"colorbar\":{\"outlinewidth\":0,\"ticks\":\"\"}},\"type\":\"scattergeo\"}],\"scattergl\":[{\"marker\":{\"colorbar\":{\"outlinewidth\":0,\"ticks\":\"\"}},\"type\":\"scattergl\"}],\"scattermapbox\":[{\"marker\":{\"colorbar\":{\"outlinewidth\":0,\"ticks\":\"\"}},\"type\":\"scattermapbox\"}],\"scatterpolar\":[{\"marker\":{\"colorbar\":{\"outlinewidth\":0,\"ticks\":\"\"}},\"type\":\"scatterpolar\"}],\"scatterpolargl\":[{\"marker\":{\"colorbar\":{\"outlinewidth\":0,\"ticks\":\"\"}},\"type\":\"scatterpolargl\"}],\"scatterternary\":[{\"marker\":{\"colorbar\":{\"outlinewidth\":0,\"ticks\":\"\"}},\"type\":\"scatterternary\"}],\"surface\":[{\"colorbar\":{\"outlinewidth\":0,\"ticks\":\"\"},\"colorscale\":[[0.0,\"#0d0887\"],[0.1111111111111111,\"#46039f\"],[0.2222222222222222,\"#7201a8\"],[0.3333333333333333,\"#9c179e\"],[0.4444444444444444,\"#bd3786\"],[0.5555555555555556,\"#d8576b\"],[0.6666666666666666,\"#ed7953\"],[0.7777777777777778,\"#fb9f3a\"],[0.8888888888888888,\"#fdca26\"],[1.0,\"#f0f921\"]],\"type\":\"surface\"}],\"table\":[{\"cells\":{\"fill\":{\"color\":\"#EBF0F8\"},\"line\":{\"color\":\"white\"}},\"header\":{\"fill\":{\"color\":\"#C8D4E3\"},\"line\":{\"color\":\"white\"}},\"type\":\"table\"}]},\"layout\":{\"annotationdefaults\":{\"arrowcolor\":\"#2a3f5f\",\"arrowhead\":0,\"arrowwidth\":1},\"autotypenumbers\":\"strict\",\"coloraxis\":{\"colorbar\":{\"outlinewidth\":0,\"ticks\":\"\"}},\"colorscale\":{\"diverging\":[[0,\"#8e0152\"],[0.1,\"#c51b7d\"],[0.2,\"#de77ae\"],[0.3,\"#f1b6da\"],[0.4,\"#fde0ef\"],[0.5,\"#f7f7f7\"],[0.6,\"#e6f5d0\"],[0.7,\"#b8e186\"],[0.8,\"#7fbc41\"],[0.9,\"#4d9221\"],[1,\"#276419\"]],\"sequential\":[[0.0,\"#0d0887\"],[0.1111111111111111,\"#46039f\"],[0.2222222222222222,\"#7201a8\"],[0.3333333333333333,\"#9c179e\"],[0.4444444444444444,\"#bd3786\"],[0.5555555555555556,\"#d8576b\"],[0.6666666666666666,\"#ed7953\"],[0.7777777777777778,\"#fb9f3a\"],[0.8888888888888888,\"#fdca26\"],[1.0,\"#f0f921\"]],\"sequentialminus\":[[0.0,\"#0d0887\"],[0.1111111111111111,\"#46039f\"],[0.2222222222222222,\"#7201a8\"],[0.3333333333333333,\"#9c179e\"],[0.4444444444444444,\"#bd3786\"],[0.5555555555555556,\"#d8576b\"],[0.6666666666666666,\"#ed7953\"],[0.7777777777777778,\"#fb9f3a\"],[0.8888888888888888,\"#fdca26\"],[1.0,\"#f0f921\"]]},\"colorway\":[\"#636efa\",\"#EF553B\",\"#00cc96\",\"#ab63fa\",\"#FFA15A\",\"#19d3f3\",\"#FF6692\",\"#B6E880\",\"#FF97FF\",\"#FECB52\"],\"font\":{\"color\":\"#2a3f5f\"},\"geo\":{\"bgcolor\":\"white\",\"lakecolor\":\"white\",\"landcolor\":\"#E5ECF6\",\"showlakes\":true,\"showland\":true,\"subunitcolor\":\"white\"},\"hoverlabel\":{\"align\":\"left\"},\"hovermode\":\"closest\",\"mapbox\":{\"style\":\"light\"},\"paper_bgcolor\":\"white\",\"plot_bgcolor\":\"#E5ECF6\",\"polar\":{\"angularaxis\":{\"gridcolor\":\"white\",\"linecolor\":\"white\",\"ticks\":\"\"},\"bgcolor\":\"#E5ECF6\",\"radialaxis\":{\"gridcolor\":\"white\",\"linecolor\":\"white\",\"ticks\":\"\"}},\"scene\":{\"xaxis\":{\"backgroundcolor\":\"#E5ECF6\",\"gridcolor\":\"white\",\"gridwidth\":2,\"linecolor\":\"white\",\"showbackground\":true,\"ticks\":\"\",\"zerolinecolor\":\"white\"},\"yaxis\":{\"backgroundcolor\":\"#E5ECF6\",\"gridcolor\":\"white\",\"gridwidth\":2,\"linecolor\":\"white\",\"showbackground\":true,\"ticks\":\"\",\"zerolinecolor\":\"white\"},\"zaxis\":{\"backgroundcolor\":\"#E5ECF6\",\"gridcolor\":\"white\",\"gridwidth\":2,\"linecolor\":\"white\",\"showbackground\":true,\"ticks\":\"\",\"zerolinecolor\":\"white\"}},\"shapedefaults\":{\"line\":{\"color\":\"#2a3f5f\"}},\"ternary\":{\"aaxis\":{\"gridcolor\":\"white\",\"linecolor\":\"white\",\"ticks\":\"\"},\"baxis\":{\"gridcolor\":\"white\",\"linecolor\":\"white\",\"ticks\":\"\"},\"bgcolor\":\"#E5ECF6\",\"caxis\":{\"gridcolor\":\"white\",\"linecolor\":\"white\",\"ticks\":\"\"}},\"title\":{\"x\":0.05},\"xaxis\":{\"automargin\":true,\"gridcolor\":\"white\",\"linecolor\":\"white\",\"ticks\":\"\",\"title\":{\"standoff\":15},\"zerolinecolor\":\"white\",\"zerolinewidth\":2},\"yaxis\":{\"automargin\":true,\"gridcolor\":\"white\",\"linecolor\":\"white\",\"ticks\":\"\",\"title\":{\"standoff\":15},\"zerolinecolor\":\"white\",\"zerolinewidth\":2}}},\"xaxis\":{\"anchor\":\"y\",\"domain\":[0.0,1.0],\"title\":{\"text\":\"index\"}},\"yaxis\":{\"anchor\":\"x\",\"domain\":[0.0,1.0],\"title\":{\"text\":\"value\"}},\"legend\":{\"title\":{\"text\":\"variable\"},\"tracegroupgap\":0},\"margin\":{\"t\":60}},                        {\"responsive\": true}                    ).then(function(){\n",
       "                            \n",
       "var gd = document.getElementById('0e5b2bdb-bb8a-4a3a-ab46-3034dceb104b');\n",
       "var x = new MutationObserver(function (mutations, observer) {{\n",
       "        var display = window.getComputedStyle(gd).display;\n",
       "        if (!display || display === 'none') {{\n",
       "            console.log([gd, 'removed!']);\n",
       "            Plotly.purge(gd);\n",
       "            observer.disconnect();\n",
       "        }}\n",
       "}});\n",
       "\n",
       "// Listen for the removal of the full notebook cells\n",
       "var notebookContainer = gd.closest('#notebook-container');\n",
       "if (notebookContainer) {{\n",
       "    x.observe(notebookContainer, {childList: true});\n",
       "}}\n",
       "\n",
       "// Listen for the clearing of the current output cell\n",
       "var outputEl = gd.closest('.output');\n",
       "if (outputEl) {{\n",
       "    x.observe(outputEl, {childList: true});\n",
       "}}\n",
       "\n",
       "                        })                };                });            </script>        </div>"
      ]
     },
     "metadata": {},
     "output_type": "display_data"
    }
   ],
   "source": [
    "top_min_delta['Delta_val_train_mse'].plot(kind = 'scatter')"
   ]
  },
  {
   "cell_type": "code",
   "execution_count": 157,
   "id": "c367dce8",
   "metadata": {
    "ExecuteTime": {
     "end_time": "2022-09-07T10:12:33.155513Z",
     "start_time": "2022-09-07T10:12:33.120859Z"
    }
   },
   "outputs": [
    {
     "data": {
      "text/html": [
       "<div>\n",
       "<style scoped>\n",
       "    .dataframe tbody tr th:only-of-type {\n",
       "        vertical-align: middle;\n",
       "    }\n",
       "\n",
       "    .dataframe tbody tr th {\n",
       "        vertical-align: top;\n",
       "    }\n",
       "\n",
       "    .dataframe thead th {\n",
       "        text-align: right;\n",
       "    }\n",
       "</style>\n",
       "<table border=\"1\" class=\"dataframe\">\n",
       "  <thead>\n",
       "    <tr style=\"text-align: right;\">\n",
       "      <th></th>\n",
       "      <th>binned_vars</th>\n",
       "      <th>n_bins</th>\n",
       "      <th>n_layers</th>\n",
       "      <th>n_neurons_per_layer</th>\n",
       "      <th>train_mse</th>\n",
       "      <th>val_mse</th>\n",
       "      <th>Delta_val_train_mse</th>\n",
       "    </tr>\n",
       "  </thead>\n",
       "  <tbody>\n",
       "    <tr>\n",
       "      <th>89</th>\n",
       "      <td>2</td>\n",
       "      <td>2</td>\n",
       "      <td>3</td>\n",
       "      <td>16</td>\n",
       "      <td>0.002933</td>\n",
       "      <td>0.002939</td>\n",
       "      <td>0.000006</td>\n",
       "    </tr>\n",
       "    <tr>\n",
       "      <th>38</th>\n",
       "      <td>1</td>\n",
       "      <td>4</td>\n",
       "      <td>2</td>\n",
       "      <td>56</td>\n",
       "      <td>0.000288</td>\n",
       "      <td>0.000305</td>\n",
       "      <td>0.000016</td>\n",
       "    </tr>\n",
       "    <tr>\n",
       "      <th>66</th>\n",
       "      <td>1</td>\n",
       "      <td>6</td>\n",
       "      <td>3</td>\n",
       "      <td>24</td>\n",
       "      <td>0.000883</td>\n",
       "      <td>0.000903</td>\n",
       "      <td>0.000021</td>\n",
       "    </tr>\n",
       "    <tr>\n",
       "      <th>44</th>\n",
       "      <td>1</td>\n",
       "      <td>4</td>\n",
       "      <td>3</td>\n",
       "      <td>40</td>\n",
       "      <td>0.000442</td>\n",
       "      <td>0.000465</td>\n",
       "      <td>0.000023</td>\n",
       "    </tr>\n",
       "    <tr>\n",
       "      <th>119</th>\n",
       "      <td>2</td>\n",
       "      <td>4</td>\n",
       "      <td>3</td>\n",
       "      <td>64</td>\n",
       "      <td>0.000627</td>\n",
       "      <td>0.000656</td>\n",
       "      <td>0.000030</td>\n",
       "    </tr>\n",
       "    <tr>\n",
       "      <th>36</th>\n",
       "      <td>1</td>\n",
       "      <td>4</td>\n",
       "      <td>2</td>\n",
       "      <td>40</td>\n",
       "      <td>0.000469</td>\n",
       "      <td>0.000502</td>\n",
       "      <td>0.000033</td>\n",
       "    </tr>\n",
       "  </tbody>\n",
       "</table>\n",
       "</div>"
      ],
      "text/plain": [
       "     binned_vars  n_bins  n_layers  n_neurons_per_layer  train_mse   val_mse  \\\n",
       "89             2       2         3                   16   0.002933  0.002939   \n",
       "38             1       4         2                   56   0.000288  0.000305   \n",
       "66             1       6         3                   24   0.000883  0.000903   \n",
       "44             1       4         3                   40   0.000442  0.000465   \n",
       "119            2       4         3                   64   0.000627  0.000656   \n",
       "36             1       4         2                   40   0.000469  0.000502   \n",
       "\n",
       "     Delta_val_train_mse  \n",
       "89              0.000006  \n",
       "38              0.000016  \n",
       "66              0.000021  \n",
       "44              0.000023  \n",
       "119             0.000030  \n",
       "36              0.000033  "
      ]
     },
     "execution_count": 157,
     "metadata": {},
     "output_type": "execute_result"
    }
   ],
   "source": [
    "top_min_delta = top_min_delta.sort_values(by = 'Delta_val_train_mse')\n",
    "top_5_min_delta = top_min_delta.iloc[0:6,:]\n",
    "top_5_min_delta.to_csv('Top_5_NN_confs.csv',header = True)\n",
    "top_5_min_delta"
   ]
  },
  {
   "cell_type": "code",
   "execution_count": 159,
   "id": "6cffd94b",
   "metadata": {
    "ExecuteTime": {
     "end_time": "2022-09-07T11:17:13.309291Z",
     "start_time": "2022-09-07T11:17:13.284628Z"
    }
   },
   "outputs": [
    {
     "data": {
      "text/plain": [
       "{'binned_vars': [2, 1, 1, 1, 2],\n",
       " 'n_bins': [2, 4, 6, 4, 4],\n",
       " 'n_layers': [3, 2, 3, 3, 3],\n",
       " 'n_neurons_per_layer': [16, 56, 24, 40, 64]}"
      ]
     },
     "execution_count": 159,
     "metadata": {},
     "output_type": "execute_result"
    }
   ],
   "source": [
    "# Convert to dict with keys 'binned_vars', 'n_bins', 'n_layers','n_neurons_per_layer'\n",
    "\n",
    "top_5_min_delta.iloc[0:5,:4].to_dict(orient = 'list')"
   ]
  },
  {
   "cell_type": "raw",
   "id": "482b1b15",
   "metadata": {
    "ExecuteTime": {
     "end_time": "2022-09-02T19:33:15.846869Z",
     "start_time": "2022-09-02T19:33:15.831659Z"
    }
   },
   "source": [
    "history=np.load('C:/Users/c40656/DATA_ANALYTICS/Airbus_ML_AI/Nanodegree IA/POC_Nanodegree/src/NN_binning_eval/history_n_vars_bin_1_bins_2_nlayers_1_neurons_8_.npy',allow_pickle='TRUE').item()\n",
    "history"
   ]
  },
  {
   "cell_type": "code",
   "execution_count": 57,
   "id": "fe69f9b7",
   "metadata": {
    "ExecuteTime": {
     "end_time": "2022-09-02T19:34:27.705740Z",
     "start_time": "2022-09-02T19:34:27.684661Z"
    }
   },
   "outputs": [
    {
     "data": {
      "text/plain": [
       "24"
      ]
     },
     "execution_count": 57,
     "metadata": {},
     "output_type": "execute_result"
    }
   ],
   "source": []
  }
 ],
 "metadata": {
  "kernelspec": {
   "display_name": "Python 3.7.4 ('base')",
   "language": "python",
   "name": "python3"
  },
  "language_info": {
   "codemirror_mode": {
    "name": "ipython",
    "version": 3
   },
   "file_extension": ".py",
   "mimetype": "text/x-python",
   "name": "python",
   "nbconvert_exporter": "python",
   "pygments_lexer": "ipython3",
   "version": "3.7.4"
  },
  "toc": {
   "base_numbering": 1,
   "nav_menu": {},
   "number_sections": true,
   "sideBar": true,
   "skip_h1_title": false,
   "title_cell": "Table of Contents",
   "title_sidebar": "Contents",
   "toc_cell": false,
   "toc_position": {},
   "toc_section_display": true,
   "toc_window_display": false
  },
  "varInspector": {
   "cols": {
    "lenName": 16,
    "lenType": 16,
    "lenVar": 40
   },
   "kernels_config": {
    "python": {
     "delete_cmd_postfix": "",
     "delete_cmd_prefix": "del ",
     "library": "var_list.py",
     "varRefreshCmd": "print(var_dic_list())"
    },
    "r": {
     "delete_cmd_postfix": ") ",
     "delete_cmd_prefix": "rm(",
     "library": "var_list.r",
     "varRefreshCmd": "cat(var_dic_list()) "
    }
   },
   "types_to_exclude": [
    "module",
    "function",
    "builtin_function_or_method",
    "instance",
    "_Feature"
   ],
   "window_display": false
  },
  "vscode": {
   "interpreter": {
    "hash": "ad2bdc8ecc057115af97d19610ffacc2b4e99fae6737bb82f5d7fb13d2f2c186"
   }
  }
 },
 "nbformat": 4,
 "nbformat_minor": 5
}
