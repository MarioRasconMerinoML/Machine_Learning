{
 "cells": [
  {
   "attachments": {},
   "cell_type": "markdown",
   "metadata": {},
   "source": [
    "# IMDB Classification with Pytorch"
   ]
  },
  {
   "attachments": {},
   "cell_type": "markdown",
   "metadata": {},
   "source": [
    "Comment:\n",
    "\n",
    "We have an already downloaded copy of the IMDB dataset, which is prepared to use with keras.utils.text_dataset_from_directory.\n",
    "\n",
    "In PyTorch, the equivalent function to Keras' text_dataset_from_directory for creating a text dataset from a directory is not available out-of-the-box. However, you can achieve similar functionality by leveraging PyTorch's data loading utilities and some custom code. Thanks to ChatGPT"
   ]
  },
  {
   "cell_type": "code",
   "execution_count": null,
   "metadata": {},
   "outputs": [],
   "source": [
    "import os\n",
    "import pathlib\n",
    "import numpy as np\n",
    "import pandas as pd\n",
    "import os.path as op\n",
    "from tqdm import tqdm\n",
    "\n",
    "import torch\n",
    "import torch.nn as nn\n",
    "\n",
    "import lightning as L\n",
    "from lightning.pytorch.loggers import CSVLogger\n",
    "from lightning.pytorch.callbacks import ModelCheckpoint\n",
    "\n",
    "\n",
    "DEVICE = torch.device(\"cuda\") if torch.cuda.is_available() else torch.device(\"cpu\")\n",
    "print(DEVICE)\n",
    "\n",
    "from torch.utils.data import Dataset, DataLoader\n",
    "from torchvision.datasets.folder import default_loader\n",
    "from torchvision.datasets.utils import check_integrity\n",
    "from torchvision import datasets\n",
    "from torchvision.transforms import ToTensor\n",
    "\n",
    "\n",
    "\n",
    "from torch.utils.data.dataset import random_split\n",
    "import torchtext\n",
    "from torchtext.datasets import IMDB\n",
    "\n",
    "from local_utilities import LightningModel\n",
    "\n",
    "print(torch.__version__)\n",
    "print(torchtext.__version__)"
   ]
  },
  {
   "cell_type": "code",
   "execution_count": null,
   "metadata": {},
   "outputs": [],
   "source": [
    "%load_ext watermark\n",
    "%watermark -p torch,lightning,pandas --conda"
   ]
  },
  {
   "attachments": {},
   "cell_type": "markdown",
   "metadata": {},
   "source": [
    "## Data Preparation"
   ]
  },
  {
   "cell_type": "code",
   "execution_count": null,
   "metadata": {},
   "outputs": [],
   "source": [
    "\n",
    "class TextDatasetFromDir(Dataset):\n",
    "    '''\n",
    "    This class is equivalent to keras.utils.text_dataset_from_directory\n",
    "    \n",
    "    it helps to load every dataset from the pre-configured folder structure like:\n",
    "    main_directory/\n",
    "        ...class_a/\n",
    "        ......a_text_1.txt\n",
    "        ......a_text_2.txt\n",
    "        ...class_b/\n",
    "        ......b_text_1.txt\n",
    "        ......b_text_2.txt\n",
    "    \n",
    "    '''\n",
    "    def __init__(self, root, transform=None, target_transform=None, loader=default_loader):\n",
    "        self.root = root\n",
    "        self.transform = transform\n",
    "        self.target_transform = target_transform\n",
    "        self.loader = loader\n",
    "\n",
    "        self.classes = sorted([d.name for d in os.scandir(self.root) if d.is_dir()])\n",
    "        self.class_to_idx = {cls_name: idx for idx, cls_name in enumerate(self.classes)}\n",
    "        self.samples = self._load_samples()\n",
    "\n",
    "    def _load_samples(self):\n",
    "        samples = []\n",
    "        \n",
    "        for class_name in self.classes:\n",
    "            class_dir = os.path.join(self.root, class_name)\n",
    "            if not os.path.isdir(class_dir):\n",
    "                continue\n",
    "            with tqdm(total=12000) as pbar:\n",
    "                for filename in os.listdir(class_dir):\n",
    "                    path = os.path.join(class_dir, filename)\n",
    "                    if not os.path.isfile(path):\n",
    "                        continue\n",
    "                    if self._has_valid_extension(filename):\n",
    "                        item = (path, self.class_to_idx[class_name])\n",
    "                        samples.append(item)\n",
    "                        pbar.update()\n",
    "        return samples\n",
    "\n",
    "    def _has_valid_extension(self, filename):\n",
    "        valid_extensions = ['.txt']  # Add more extensions if needed\n",
    "        return any(filename.endswith(ext) for ext in valid_extensions)\n",
    "\n",
    "    def __getitem__(self, index):\n",
    "        path, target = self.samples[index]\n",
    "        sample = self.loader(path)\n",
    "        if self.transform is not None:\n",
    "            sample = self.transform(sample)\n",
    "        if self.target_transform is not None:\n",
    "            target = self.target_transform(target)\n",
    "        return sample, target\n",
    "\n",
    "    def __len__(self):\n",
    "        return len(self.samples)\n"
   ]
  },
  {
   "cell_type": "code",
   "execution_count": null,
   "metadata": {},
   "outputs": [],
   "source": [
    "\n",
    "'''\n",
    "The default loader from Pytorch will point to the one from torchvision which at the same time will look for PIL Images,\n",
    "leading to an error.\n",
    "\n",
    "If we want to use the already downloaded IMDB dataset as it was prepared for keras, it is needed to override the loader\n",
    "of the TextDataset class we have created with the function below.\n",
    "\n",
    "'''\n",
    "def load_text(filename):\n",
    "    with open(filename, \"r\") as f:\n",
    "        text = f.read()\n",
    "    return text\n",
    "\n",
    "#root_dir = '/path/to/dataset'  # Path to the root directory of your text dataset\n",
    "train_dir = pathlib.Path('C:/Users/MRM/Desktop/Data_Analytics/Medium_and_PPB/Machine_Learning/Machine_Learning_Projects/NLP/Intro_to_deep_learning_for_text/aclImdb/train')\n",
    "val_dir = pathlib.Path('C:/Users/MRM/Desktop/Data_Analytics/Medium_and_PPB/Machine_Learning/Machine_Learning_Projects/NLP/Intro_to_deep_learning_for_text/aclImdb/val')\n",
    "test_dir = pathlib.Path('C:/Users/MRM/Desktop/Data_Analytics/Medium_and_PPB/Machine_Learning/Machine_Learning_Projects/NLP/Intro_to_deep_learning_for_text/aclImdb/test')\n",
    "\n",
    "batch_size = 32\n",
    "\n",
    "train_dataset = TextDatasetFromDir(train_dir, transform=None, loader = load_text)\n",
    "\n",
    "val_dataset = TextDatasetFromDir(val_dir, transform=None,loader = load_text)\n",
    "\n",
    "test_dataset = TextDatasetFromDir(test_dir, transform=None,loader = load_text)\n",
    "\n",
    "# Later on they will be needed other operations depending on the preprocessig approach, either BoW or Embeddings"
   ]
  },
  {
   "cell_type": "code",
   "execution_count": null,
   "metadata": {},
   "outputs": [],
   "source": [
    "\n",
    "for (data, target) in enumerate(train_dataset):\n",
    "    # Do something with the data and target tensors\n",
    "    print('Train Set')\n",
    "    print(' data: ', data, ' Review: ', target[0], 'Sentiment:',  target[1])\n",
    "    if data > 3: \n",
    "        break\n",
    "    "
   ]
  },
  {
   "cell_type": "code",
   "execution_count": null,
   "metadata": {},
   "outputs": [],
   "source": [
    "type(train_dataset)"
   ]
  },
  {
   "cell_type": "code",
   "execution_count": null,
   "metadata": {},
   "outputs": [],
   "source": [
    "# We can also assign them to dataframes if we want to operate over them with pandas or scikit-learn\n",
    "\n",
    "review_train = []\n",
    "sent_train = []\n",
    "\n",
    "for (data, target) in enumerate(train_dataset):\n",
    "    # Do something with the data and target tensors\n",
    "    review_train.append(target[0])\n",
    "    sent_train.append(target[1])\n",
    "\n",
    "train_df= pd.DataFrame(list(zip(review_train, sent_train)), columns = ['Review', 'Sentiment'])\n",
    "train_df.head()"
   ]
  },
  {
   "cell_type": "code",
   "execution_count": null,
   "metadata": {},
   "outputs": [],
   "source": [
    "\n",
    "review_val = []\n",
    "sent_val = []\n",
    "\n",
    "for (data, target) in enumerate(val_dataset):\n",
    "    # Do something with the data and target tensors\n",
    "    review_val.append(target[0])\n",
    "    sent_val.append(target[1])\n",
    "\n",
    "val_df= pd.DataFrame(list(zip(review_val, sent_val)), columns = ['Review', 'Sentiment'])\n",
    "val_df.head()"
   ]
  },
  {
   "cell_type": "code",
   "execution_count": null,
   "metadata": {},
   "outputs": [],
   "source": [
    "review_test = []\n",
    "sent_test = []\n",
    "\n",
    "for (data, target) in enumerate(test_dataset):\n",
    "    # Do something with the data and target tensors\n",
    "    review_test.append(target[0])\n",
    "    sent_test.append(target[1])\n",
    "\n",
    "test_df= pd.DataFrame(list(zip(review_test, sent_test)), columns = ['Review', 'Sentiment'])\n",
    "test_df.head()"
   ]
  },
  {
   "cell_type": "code",
   "execution_count": null,
   "metadata": {},
   "outputs": [],
   "source": [
    "print(len(train_dataset))\n",
    "print(len(val_dataset))\n",
    "print(len(test_dataset))"
   ]
  },
  {
   "cell_type": "code",
   "execution_count": null,
   "metadata": {},
   "outputs": [],
   "source": [
    "#import portalocker\n",
    "# In order to work you must install portalocker in your environment in miniforge or conda with\n",
    "# pip install 'portalocker>=2.0.0\n",
    "train_new = IMDB(split='train')\n",
    "test_new = IMDB(split='test')\n",
    "\n",
    "for example in train_new:\n",
    "    print(' Review: ', example[0], ' Sentiment: ', example[1])\n",
    "    break"
   ]
  },
  {
   "attachments": {},
   "cell_type": "markdown",
   "metadata": {},
   "source": [
    "As seen above in the IMBD loaded from torchtext the dataset has changed columns, in the first columns are the\n",
    "sentiment classification and in the second element of the tuple is the comment in text.\n",
    "In order to use the 'collate_batch' function below from Sebastian Raschka, some changes need to be made."
   ]
  },
  {
   "cell_type": "code",
   "execution_count": null,
   "metadata": {},
   "outputs": [],
   "source": [
    "# Tokenize (find unique words) and Counter frequencies of words\n",
    "\n",
    "import re\n",
    "from collections import Counter, OrderedDict\n",
    "\n",
    "token_counts_train = Counter()\n",
    "\n",
    "def tokenizer(text):\n",
    "    # Standarize text. \n",
    "    text = re.sub('<[^>]*>', '', text)\n",
    "    emoticons = re.findall('(?::|;|=)(?:-)?(?:\\)|\\(|D|P)', text.lower())\n",
    "    text = re.sub('[\\W]+', ' ', text.lower()) +\\\n",
    "        ' '.join(emoticons).replace('-', '')\n",
    "    # Split the words into tokens\n",
    "    tokenized = text.split()\n",
    "    return tokenized\n",
    "\n",
    "# Changed from the original in the book\n",
    "# Tokenize and count on the train_dataset\n",
    "with tqdm(total=len(train_dataset)) as pbar:\n",
    "    for line, label in train_dataset:\n",
    "        tokens_train = tokenizer(line)\n",
    "        token_counts_train.update(tokens_train)\n",
    "    pbar.update()\n",
    "    \n",
    "print('Vocab-size:', len(token_counts_train))"
   ]
  },
  {
   "cell_type": "code",
   "execution_count": null,
   "metadata": {},
   "outputs": [],
   "source": [
    "tokens_train[0:10]"
   ]
  },
  {
   "cell_type": "code",
   "execution_count": null,
   "metadata": {},
   "outputs": [],
   "source": [
    "token_counts_train"
   ]
  },
  {
   "attachments": {},
   "cell_type": "markdown",
   "metadata": {},
   "source": [
    "The same that was done with the Counter can be done with the Scikit-Learn class CountVectorizer.\n",
    "We need to extract the reviews from the train_dataset tuple to a dictionary and the keys with the text will be passed to the CountVectorizer."
   ]
  },
  {
   "cell_type": "code",
   "execution_count": null,
   "metadata": {},
   "outputs": [],
   "source": [
    "train_ds_dict = dict(train_dataset)\n",
    "list(train_ds_dict.keys())"
   ]
  },
  {
   "cell_type": "code",
   "execution_count": null,
   "metadata": {},
   "outputs": [],
   "source": [
    "list(train_ds_dict.values())"
   ]
  },
  {
   "cell_type": "code",
   "execution_count": null,
   "metadata": {},
   "outputs": [],
   "source": [
    "# Encoding each unique token into integers\n",
    "from torchtext.vocab import vocab\n",
    "\n",
    "sorted_by_freq_tuples = sorted(token_counts_train.items(), key=lambda x: x[1], reverse=True)\n",
    "ordered_dict = OrderedDict(sorted_by_freq_tuples)\n",
    "\n",
    "vocab = vocab(ordered_dict)\n",
    "\n",
    "vocab.insert_token(\"<pad>\", 0)\n",
    "vocab.insert_token(\"<unk>\", 1)\n",
    "vocab.set_default_index(1)\n",
    "\n",
    "print([vocab[token] for token in ['this', 'is', 'an', 'example']])"
   ]
  },
  {
   "cell_type": "code",
   "execution_count": null,
   "metadata": {},
   "outputs": [],
   "source": [
    "## Step 3-A: define the functions for transformation\n",
    "device = 'cpu'\n",
    "\n",
    "text_pipeline = lambda x: [vocab[token] for token in tokenizer(x)]\n",
    "label_pipeline = lambda x: 1. if x == 'pos' else 0.\n",
    "\n",
    "\n",
    "## Step 3-B: wrap the encode and transformation function\n",
    "def collate_batch(batch):\n",
    "    label_list, text_list, lengths = [], [], []\n",
    "    for _text, _label in batch:\n",
    "        label_list.append(label_pipeline(_label))\n",
    "        processed_text = torch.tensor(text_pipeline(_text), \n",
    "                                      dtype=torch.int64)\n",
    "        text_list.append(processed_text)\n",
    "        lengths.append(processed_text.size(0))\n",
    "    label_list = torch.tensor(label_list)\n",
    "    lengths = torch.tensor(lengths)\n",
    "    padded_text_list = nn.utils.rnn.pad_sequence(\n",
    "        text_list, batch_first=True)\n",
    "    return padded_text_list.to(device), label_list.to(device), lengths.to(device)"
   ]
  },
  {
   "cell_type": "code",
   "execution_count": null,
   "metadata": {},
   "outputs": [],
   "source": [
    "train_dataloader = DataLoader(train_dataset, batch_size=batch_size, shuffle=False, collate_fn = collate_batch)\n",
    "\n",
    "val_dataloader = DataLoader(val_dataset, batch_size=batch_size, shuffle=False, collate_fn = collate_batch)\n",
    "\n",
    "test_dataloader = DataLoader(test_dataset, batch_size=batch_size, shuffle=False, collate_fn = collate_batch)\n"
   ]
  },
  {
   "cell_type": "code",
   "execution_count": null,
   "metadata": {},
   "outputs": [],
   "source": [
    "\n",
    "for (data, target) in enumerate(train_dataloader):\n",
    "    # Do something with the data and target tensors\n",
    "    print('Train Set')\n",
    "    print('Sentiment Coded: ',  target[0])\n",
    "    print('Label list Coded: ', target[1])\n",
    "    if data > 3: break\n",
    "    "
   ]
  },
  {
   "cell_type": "code",
   "execution_count": null,
   "metadata": {},
   "outputs": [],
   "source": [
    "text_batch, label_batch, length_batch = next(iter(train_dataloader))\n",
    "print(text_batch)\n",
    "print(label_batch)\n",
    "print(length_batch)\n",
    "print(text_batch.shape)\n"
   ]
  },
  {
   "attachments": {},
   "cell_type": "markdown",
   "metadata": {},
   "source": [
    "## Embedding Approach with a Bidirectional RNN (LSTM)"
   ]
  },
  {
   "cell_type": "code",
   "execution_count": null,
   "metadata": {},
   "outputs": [],
   "source": [
    "class RNN(nn.Module):\n",
    "    def __init__(self, vocab_size, embed_dim, rnn_hidden_size, fc_hidden_size):\n",
    "        super().__init__()\n",
    "        self.embedding = nn.Embedding(vocab_size, \n",
    "                                      embed_dim, \n",
    "                                      padding_idx=0) \n",
    "        self.rnn = nn.LSTM(embed_dim, rnn_hidden_size, \n",
    "                           batch_first=True, bidirectional=True)\n",
    "        self.fc1 = nn.Linear(rnn_hidden_size*2, fc_hidden_size)\n",
    "        self.relu = nn.ReLU()\n",
    "        self.fc2 = nn.Linear(fc_hidden_size, 1)\n",
    "        self.sigmoid = nn.Sigmoid()\n",
    "\n",
    "    def forward(self, text, lengths):\n",
    "        out = self.embedding(text)\n",
    "        out = nn.utils.rnn.pack_padded_sequence(out, lengths.cpu().numpy(), enforce_sorted=False, batch_first=True)\n",
    "        _, (hidden, cell) = self.rnn(out)\n",
    "        out = torch.cat((hidden[-2, :, :], hidden[-1, :, :]), dim=1)\n",
    "        out = self.fc1(out)\n",
    "        out = self.relu(out)\n",
    "        out = self.fc2(out)\n",
    "        out = self.sigmoid(out)\n",
    "        return out\n",
    "\n",
    "\n",
    "      "
   ]
  },
  {
   "cell_type": "code",
   "execution_count": null,
   "metadata": {},
   "outputs": [],
   "source": [
    "  \n",
    "vocab_size = len(vocab)\n",
    "embed_dim = 20\n",
    "rnn_hidden_size = 64\n",
    "fc_hidden_size = 64    \n",
    "\n",
    "\n",
    "torch.manual_seed(1)\n",
    "model = RNN(vocab_size, embed_dim, rnn_hidden_size, fc_hidden_size) \n",
    "model = model.to(device)\n",
    "\n",
    "loss_fn = nn.BCELoss()\n",
    "optimizer = torch.optim.Adam(model.parameters(), lr=0.001)"
   ]
  },
  {
   "cell_type": "code",
   "execution_count": null,
   "metadata": {},
   "outputs": [],
   "source": [
    "def train(dataloader):\n",
    "    model.train()\n",
    "    total_acc, total_loss = 0, 0\n",
    "    for text_batch, label_batch, batch_lengths in dataloader:\n",
    "        optimizer.zero_grad()\n",
    "        pred = model(text_batch, batch_lengths)[:, 0]\n",
    "        loss = loss_fn(pred, label_batch)\n",
    "        loss.backward()\n",
    "        optimizer.step()\n",
    "        total_acc += ((pred>=0.5).float() == label_batch).float().sum().item()\n",
    "        total_loss += loss.item()*label_batch.size(0)\n",
    "    return total_acc/len(dataloader.dataset), total_loss/len(dataloader.dataset)\n",
    " \n",
    "def evaluate(dataloader):\n",
    "    model.eval()\n",
    "    total_acc, total_loss = 0, 0\n",
    "    with torch.no_grad():\n",
    "        for text_batch, label_batch, lengths in dataloader:\n",
    "            pred = model(text_batch, lengths)[:, 0]\n",
    "            loss = loss_fn(pred, label_batch)\n",
    "            total_acc += ((pred>=0.5).float() == label_batch).float().sum().item()\n",
    "            total_loss += loss.item()*label_batch.size(0)\n",
    "    return total_acc/len(dataloader.dataset), total_loss/len(dataloader.dataset)"
   ]
  },
  {
   "cell_type": "code",
   "execution_count": null,
   "metadata": {},
   "outputs": [],
   "source": [
    "# The code will not run in CPU. Use Colab or something with GPU\n",
    "num_epochs = 10 \n",
    "\n",
    "torch.manual_seed(1)\n",
    "with tqdm(total = num_epochs) as pbar: \n",
    "    for epoch in range(num_epochs):\n",
    "        acc_train, loss_train = train(train_dataloader)\n",
    "        acc_valid, loss_valid = evaluate(val_dataloader)\n",
    "        print(f'Epoch {epoch} accuracy: {acc_train:.4f} val_accuracy: {acc_valid:.4f}')\n",
    "    pbar.update()"
   ]
  },
  {
   "cell_type": "code",
   "execution_count": null,
   "metadata": {},
   "outputs": [],
   "source": [
    "acc_test, _ = evaluate(test_dataloader)\n",
    "print(f'test_accuracy: {acc_test:.4f}') "
   ]
  },
  {
   "attachments": {},
   "cell_type": "markdown",
   "metadata": {},
   "source": [
    "## Bag of Words Approach"
   ]
  },
  {
   "cell_type": "code",
   "execution_count": null,
   "metadata": {},
   "outputs": [],
   "source": [
    "from sklearn.feature_extraction.text import CountVectorizer\n",
    "# Convert a collection of text documents to a matrix of token counts.\n",
    "vectorizer = CountVectorizer(lowercase = True, max_features=10000, stop_words = 'english', tokenizer = tokenizer)\n",
    "\n",
    "# If we set up the max_features to 70000 we get the same vocabulary length thant with the Counter class previously used\n",
    "\n",
    "# If we don´t use stop_words we will get the same result than with the Counter class before\n",
    "#vectorizer = CountVectorizer(lowercase = True, max_features=50000)"
   ]
  },
  {
   "cell_type": "code",
   "execution_count": null,
   "metadata": {},
   "outputs": [],
   "source": [
    "vectorizer.fit(list(train_ds_dict.keys()))"
   ]
  },
  {
   "cell_type": "code",
   "execution_count": null,
   "metadata": {},
   "outputs": [],
   "source": [
    "# The following command will give us the position of each word in the 20000 more frequent words\n",
    "vectorizer.vocabulary_"
   ]
  },
  {
   "cell_type": "code",
   "execution_count": null,
   "metadata": {},
   "outputs": [],
   "source": [
    "len(vectorizer.vocabulary_)"
   ]
  },
  {
   "cell_type": "code",
   "execution_count": null,
   "metadata": {},
   "outputs": [],
   "source": [
    "train_ds_dict = dict(train_dataset)\n",
    "val_ds_dict = dict(val_dataset)\n",
    "test_ds_dict = dict(test_dataset)\n",
    "\n",
    "X_train = vectorizer.transform(train_ds_dict.keys())\n",
    "X_val = vectorizer.transform(val_ds_dict.keys())\n",
    "X_test = vectorizer.transform(test_ds_dict.keys())"
   ]
  },
  {
   "cell_type": "code",
   "execution_count": null,
   "metadata": {},
   "outputs": [],
   "source": [
    "X_train.shape"
   ]
  },
  {
   "cell_type": "code",
   "execution_count": null,
   "metadata": {},
   "outputs": [],
   "source": [
    "import numpy as np\n",
    "np.array(X_train[0].todense())[0]"
   ]
  },
  {
   "cell_type": "code",
   "execution_count": null,
   "metadata": {},
   "outputs": [],
   "source": [
    "\n",
    "np.bincount(np.array(X_train[0].todense())[0])"
   ]
  },
  {
   "cell_type": "code",
   "execution_count": null,
   "metadata": {},
   "outputs": [],
   "source": [
    "np.array(X_train.todense()).shape"
   ]
  },
  {
   "cell_type": "code",
   "execution_count": null,
   "metadata": {},
   "outputs": [],
   "source": [
    "\n",
    "class TextDataset(Dataset):\n",
    "    def __init__(self, X, y):\n",
    "\n",
    "        self.features = torch.tensor(X, dtype=torch.float32)\n",
    "        self.labels = torch.tensor(y, dtype=torch.int64)\n",
    "\n",
    "    def __getitem__(self, index):\n",
    "        x = self.features[index]\n",
    "        y = self.labels[index]        \n",
    "        return x, y\n",
    "\n",
    "    def __len__(self):\n",
    "        return self.labels.shape[0]\n",
    "    \n",
    "train_ds = TextDataset(X_train.todense(),np.fromiter(train_ds_dict.values(),dtype = int))\n",
    "\n",
    "train_loader = DataLoader(\n",
    "    dataset=train_ds,\n",
    "    batch_size=32,\n",
    "    shuffle=True,\n",
    ")\n",
    "\n",
    "val_ds = TextDataset(X_val.todense(), np.fromiter(val_ds_dict.values(),dtype = int))\n",
    "\n",
    "val_loader = DataLoader(\n",
    "    dataset=val_ds,\n",
    "    batch_size=32,\n",
    "    shuffle=True,\n",
    ")\n",
    "\n",
    "test_ds = TextDataset(X_test.todense(), np.fromiter(test_ds_dict.values(),dtype = int))\n",
    "\n",
    "test_loader = DataLoader(\n",
    "    dataset=test_ds,\n",
    "    batch_size=32,\n",
    "    shuffle=True,\n",
    ")"
   ]
  },
  {
   "attachments": {},
   "cell_type": "markdown",
   "metadata": {},
   "source": [
    "### A basic baseline with LogisticRegression from the BoW preparation"
   ]
  },
  {
   "cell_type": "code",
   "execution_count": null,
   "metadata": {},
   "outputs": [],
   "source": [
    "class LogisticRegression(torch.nn.Module):\n",
    "    \n",
    "    def __init__(self, num_features, num_classes):\n",
    "        super().__init__()\n",
    "        self.linear = torch.nn.Linear(num_features, num_classes)\n",
    "    \n",
    "    def forward(self, x):\n",
    "        logits = self.linear(x)\n",
    "        return logits\n",
    "    \n",
    "    \n",
    "pytorch_model = LogisticRegression(num_features=10_000, num_classes=2)"
   ]
  },
  {
   "cell_type": "code",
   "execution_count": null,
   "metadata": {},
   "outputs": [],
   "source": [
    "callbacks = [\n",
    "    ModelCheckpoint(save_top_k=1, mode=\"max\", monitor=\"val_acc\", save_last=True)\n",
    "]"
   ]
  },
  {
   "cell_type": "code",
   "execution_count": null,
   "metadata": {},
   "outputs": [],
   "source": [
    "lightning_model = LightningModel(model=pytorch_model, learning_rate=0.05)\n",
    "\n",
    "trainer = L.Trainer(\n",
    "    callbacks=callbacks,\n",
    "    max_epochs=30,\n",
    "    accelerator=\"cpu\",\n",
    "    logger=CSVLogger(save_dir=\"logs/\", name=\"my-model\"),\n",
    "    deterministic=True,\n",
    ")\n",
    "\n",
    "trainer.fit(model=lightning_model, train_dataloaders=train_loader, val_dataloaders=val_loader)"
   ]
  },
  {
   "cell_type": "code",
   "execution_count": null,
   "metadata": {},
   "outputs": [],
   "source": [
    "from local_utilities import plot_csv_logger\n",
    "\n",
    "plot_csv_logger(csv_path=f\"{trainer.logger.log_dir}/metrics.csv\")"
   ]
  },
  {
   "cell_type": "code",
   "execution_count": null,
   "metadata": {},
   "outputs": [],
   "source": [
    "trainer.test(model=lightning_model, dataloaders=test_loader)"
   ]
  }
 ],
 "metadata": {
  "kernelspec": {
   "display_name": "base",
   "language": "python",
   "name": "python3"
  },
  "language_info": {
   "codemirror_mode": {
    "name": "ipython",
    "version": 3
   },
   "file_extension": ".py",
   "mimetype": "text/x-python",
   "name": "python",
   "nbconvert_exporter": "python",
   "pygments_lexer": "ipython3",
   "version": "3.9.12"
  },
  "orig_nbformat": 4
 },
 "nbformat": 4,
 "nbformat_minor": 2
}
