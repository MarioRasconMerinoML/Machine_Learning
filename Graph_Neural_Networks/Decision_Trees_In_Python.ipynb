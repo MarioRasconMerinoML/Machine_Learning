{
 "cells": [
  {
   "cell_type": "markdown",
   "metadata": {},
   "source": [
    " ### Making Decision Trees in Python\n",
    " \n",
    "    <url> https://medium.com/swlh/making-data-trees-in-python-3a3ceb050cfd"
   ]
  },
  {
   "cell_type": "code",
   "execution_count": 1,
   "metadata": {},
   "outputs": [
    {
     "name": "stdout",
     "output_type": "stream",
     "text": [
      "Peter is Paul's Dad\n",
      "Jim is Tommy's Dad\n",
      "Carlos is Diego's Dad\n"
     ]
    }
   ],
   "source": [
    "# Dictionary:\n",
    "Families = {'Peter':'Paul', 'Jim':'Tommy', 'Carlos':'Diego'}\n",
    "for Parent, Son in Families.items():\n",
    "  print(f\"{Parent} is {Son}'s Dad\")"
   ]
  },
  {
   "cell_type": "code",
   "execution_count": 2,
   "metadata": {},
   "outputs": [
    {
     "name": "stdout",
     "output_type": "stream",
     "text": [
      "Place number 1 gets Gold\n",
      "Place number 2 gets Silver\n",
      "Place number 3 gets Bronze\n",
      "Place number 4 gets Nothing\n",
      "Place number 5 gets Zilch\n"
     ]
    }
   ],
   "source": [
    "# Lists\n",
    "Prizes = ['Gold','Silver','Bronze','Nothing','Zilch']\n",
    "for place, prize in enumerate(Prizes):\n",
    "    print(f\"Place number {place+1} gets {prize}\")"
   ]
  },
  {
   "cell_type": "code",
   "execution_count": 3,
   "metadata": {},
   "outputs": [
    {
     "name": "stdout",
     "output_type": "stream",
     "text": [
      "Peter has 2 kid(s):\n",
      "Paul, and Patty\n",
      "Jim has 3 kid(s):\n",
      "Tommy, and Timmy, and Tammy\n",
      "Carlos has 1 kid(s):\n",
      "Diego\n"
     ]
    }
   ],
   "source": [
    "# Dictionary \n",
    "#(Same note as before, these are multiple trees, family trees in this example) :\n",
    "Families = {'Peter':['Paul','Patty'], 'Jim':['Tommy','Timmy','Tammy'], 'Carlos':['Diego']}\n",
    "for Parent, Children in Families.items():\n",
    "        print(f\"{Parent} has {len(Children)} kid(s):\" )\n",
    "        print(f\"{', and '.join([str(Child) for Child in [*Children]])}\")\n",
    "        # Note the use of the *Operator for unpacking the list.   "
   ]
  },
  {
   "cell_type": "code",
   "execution_count": 4,
   "metadata": {},
   "outputs": [
    {
     "name": "stdout",
     "output_type": "stream",
     "text": [
      "Place # 1 gets the following prize(s)\n",
      "Gold Medal, and $10000, and Sports Car, and Brand Sponsorship\n",
      "Place # 2 gets the following prize(s)\n",
      "Silver Medal, and $5000, and Budget Car\n",
      "Place # 3 gets the following prize(s)\n",
      "Bronze Medal, and $2500, and Motorcycle\n",
      "Place # 4 gets the following prize(s)\n",
      "Participation Trophy, and Swag\n",
      "Place # 5 gets the following prize(s)\n",
      "Swag\n"
     ]
    }
   ],
   "source": [
    " #List:\n",
    "Prizes = [['Gold Medal','$10000','Sports Car','Brand Sponsorship'],\n",
    "          ['Silver Medal','$5000','Budget Car'],\n",
    "          ['Bronze Medal','$2500','Motorcycle'],\n",
    "          ['Participation Trophy','Swag'],\n",
    "          ['Swag']]\n",
    "for place, prizelist in enumerate(Prizes):\n",
    "    print(f\"Place # {place+1} gets the following prize(s)\")\n",
    "    print(f\"{', and '.join([str(prize) for prize in [*prizelist]])}\")"
   ]
  },
  {
   "cell_type": "markdown",
   "metadata": {},
   "source": [
    "Trees in real life (some examples):\n",
    "- Some neurons and their connections ( but by many accounts the brain can be considered a complex dynamic graph).\n",
    "- AI/CS: Neural Networks.\n",
    "- AI/Neuroscience: Semantic Trees.\n",
    "- AI/CS: Pathfinding.\n",
    "- ML/Statistics/AI/CS: Search.\n",
    "- Web/General use: Any nested relationship, (e.g. Ad/site/tracking)\n",
    "- General use: Classification ( e.g. Family, Evolutionary/Biological Trees).\n",
    "And many many more, the point here is that in between a tree and a graph ( non linear data structures ) you can cover a lot of complex data relationships not covered by simpler linear ones."
   ]
  },
  {
   "cell_type": "markdown",
   "metadata": {},
   "source": [
    "#### Implementing the Hard Way : from scratch\n",
    "Let’s first deal with the recursion problem, by that I mean that a tree can grow by adding nodes at any level below the root, let’s first grow one of our previous trees to get a feel for what’s needed:"
   ]
  },
  {
   "cell_type": "code",
   "execution_count": 5,
   "metadata": {},
   "outputs": [
    {
     "name": "stdout",
     "output_type": "stream",
     "text": [
      "Peter has 2 kid(s):\n",
      " Paul, and Patty\n",
      "  Paul has 2 pet(s):\n",
      "    Toucan, and Dog\n",
      "  Patty has 1 pet(s):\n",
      "    Turtle\n",
      "Jim has 3 kid(s):\n",
      " Tommy, and Timmy, and Tammy\n",
      "  Tommy has 1 pet(s):\n",
      "    Hamster\n",
      "  Timmy has 1 pet(s):\n",
      "    Hamster\n",
      "  Tammy has 1 pet(s):\n",
      "    Hamster\n",
      "Carlos has 2 kid(s):\n",
      " Diego, and Ferret\n",
      "  Diego has 3 pet(s):\n",
      "    C, and a, and t\n",
      "  Ferret has 3 pet(s):\n",
      "    F, and o, and x\n"
     ]
    }
   ],
   "source": [
    "# Dictionary (once more this is a forest of 3 trees:)\n",
    "Families = {\n",
    "            'Peter':\n",
    "                   {'Paul':{'Dog','Toucan'} ,\n",
    "                    'Patty': {'Turtle'}},\n",
    "            'Jim':\n",
    "                   {'Tommy':{'Hamster'},\n",
    "                    'Timmy':{'Hamster'},\n",
    "                    'Tammy':{'Hamster'}},\n",
    "            'Carlos':\n",
    "                   {'Diego':'Cat','Ferret':'Fox'}}\n",
    "for Parent, Children in Families.items():\n",
    "        print(f\"{Parent} has {len(Children)} kid(s):\" )\n",
    "        print(f\" {', and '.join([str(Child) for Child in [*Children]])}\")\n",
    "        for Child, pets in Children.items():\n",
    "            print(f\"  {Child} has {len(pets)} pet(s):\")\n",
    "            print(f\"    {', and '.join([str(pet) for pet in [*pets]])}\")"
   ]
  },
  {
   "cell_type": "markdown",
   "metadata": {},
   "source": [
    "One solution to the level problem is nesting more dictionaries or lists and adding the same amount of loops to read said dictionaries, we’ll to automate the process soon, but you might be wondering how do we operate on a tree, that is how do we add or remove things at any level :"
   ]
  },
  {
   "cell_type": "code",
   "execution_count": 6,
   "metadata": {},
   "outputs": [],
   "source": [
    "# Removing (Let's say a Hamster pandemic hit Jim's house and Diego's Fox escaped ):\n",
    "# Within a loop:\n",
    "for Parent, Children in Families.items():\n",
    "    for Child, pets in Children.items():\n",
    "        for pet in pets:\n",
    "            if pet == 'Hamster':\n",
    "                Families[Parent][Child] = {}\n",
    "# Directly Updating:\n",
    "Families['Carlos']['Diego']  =  {'Cat','Ferret'}\n",
    "# Addition can work in the same way: \n",
    "Families[Parent][Child] = {'Snake'}\n",
    "Families['Carlos']['Diego']  =  {'Cat','Ferret', 'Fox'}\n",
    "# You could also use any other Dictionary or iterable method to suit your needs, if for instance you wanted to delete whole branch or family tree:\n",
    "del Families['Peter'] ['Paul']\n",
    "# or\n",
    "del Families['Peter']"
   ]
  },
  {
   "cell_type": "markdown",
   "metadata": {},
   "source": [
    "#### Let’s now start moving everything into classes for reuse:"
   ]
  },
  {
   "cell_type": "code",
   "execution_count": 7,
   "metadata": {},
   "outputs": [],
   "source": [
    "\"\"\"Barebones minimal general Tree & Node, using lists, but can also use dictionaries if you need key value pairs\"\"\"\n",
    "class Tree():\n",
    "    def __init__(self,root):\n",
    "        self.root = root\n",
    "        self.children = []\n",
    "    def addNode(self,obj):\n",
    "        self.children.append(obj)\n",
    "class Node():\n",
    "    def __init__(self, data):\n",
    "        self.data = data\n",
    "        self.children = []\n",
    "    def addNode(self,obj):\n",
    "        self.children.append(obj)"
   ]
  },
  {
   "cell_type": "code",
   "execution_count": 8,
   "metadata": {},
   "outputs": [
    {
     "name": "stdout",
     "output_type": "stream",
     "text": [
      "Head Honcho\n"
     ]
    }
   ],
   "source": [
    "FunCorp =  Tree('Head Honcho') # Create a tree and add root data.\n",
    "print(FunCorp.root) # ask the Tree for it's root."
   ]
  },
  {
   "cell_type": "code",
   "execution_count": 9,
   "metadata": {},
   "outputs": [
    {
     "name": "stdout",
     "output_type": "stream",
     "text": [
      "C suite: VP of Stuff, VP of Shenanigans, VP of Hootenanny\n",
      "The position under VP of Stuff is: General manager of Fun\n"
     ]
    }
   ],
   "source": [
    "# Add children to root:\n",
    "FunCorp.addNode(Node('VP of Stuff'))\n",
    "FunCorp.addNode(Node('VP of Shenanigans'))\n",
    "FunCorp.addNode(Node('VP of Hootenanny'))\n",
    "# Get children of root:\n",
    "print(f'C suite: {\", \".join(str(child.data) for child in FunCorp.children)}')\n",
    "\n",
    "# Add Node to the first child of the Tree:\n",
    "FunCorp.children[0].addNode(Node('General manager of Fun'))\n",
    "# Get the first child of the first child of the Tree:\n",
    "print(f'The position under {FunCorp.children[0].data} is: {FunCorp.children[0].children[0].data}')"
   ]
  },
  {
   "cell_type": "markdown",
   "metadata": {},
   "source": [
    "This is a minimal implementation, you’d need to add methods to either the tree or node classes to make it more user friendly or implement a specific feature, one such feature which can serve as a template for other ones is asking the tree for all it’s nodes:"
   ]
  },
  {
   "cell_type": "code",
   "execution_count": 10,
   "metadata": {},
   "outputs": [
    {
     "name": "stdout",
     "output_type": "stream",
     "text": [
      "Head Honcho\n",
      "VP of Stuff\n",
      "VP of Shenanigans\n",
      "VP of Hootenanny\n",
      "Employee of the month\n",
      "Sub manager of Fun\n",
      "General manager of Fun\n",
      "General manager Shindings\n",
      "Tree Size:8\n"
     ]
    }
   ],
   "source": [
    "\"\"\"Barebones general Tree & Node\"\"\"\n",
    "class Tree():\n",
    "    def __init__(self,root):\n",
    "        self.root = root\n",
    "        self.children = []\n",
    "        self.Nodes = []\n",
    "    def addNode(self,obj):\n",
    "        self.children.append(obj)\n",
    "    def getAllNodes(self):\n",
    "        self.Nodes.append(self.root)\n",
    "        for child in self.children:\n",
    "            self.Nodes.append(child.data)\n",
    "        for child in self.children:\n",
    "            if child.getChildNodes(self.Nodes) != None:\n",
    "                child.getChildNodes(self.Nodes)\n",
    "        print(*self.Nodes, sep = \"\\n\")\n",
    "        print('Tree Size:' + str(len(self.Nodes)))\n",
    "class Node():\n",
    "    def __init__(self, data):\n",
    "        self.data = data\n",
    "        self.children = []\n",
    "    def addNode(self,obj):\n",
    "        self.children.append(obj)\n",
    "    def getChildNodes(self,Tree):\n",
    "        for child in self.children:\n",
    "            if child.children:\n",
    "                child.getChildNodes(Tree)\n",
    "                Tree.append(child.data)\n",
    "            else:\n",
    "                Tree.append(child.data)\n",
    "# Add a bunch of nodes\n",
    "FunCorp =  Tree('Head Honcho')\n",
    "FunCorp.addNode(Node('VP of Stuff'))\n",
    "FunCorp.addNode(Node('VP of Shenanigans'))\n",
    "FunCorp.addNode(Node('VP of Hootenanny'))\n",
    "FunCorp.children[0].addNode(Node('General manager of Fun'))\n",
    "FunCorp.children[1].addNode(Node('General manager Shindings'))\n",
    "FunCorp.children[0].children[0].addNode(Node('Sub manager of Fun'))\n",
    "FunCorp.children[0].children[0].children[0].addNode(Node('Employee of the month'))\n",
    "# Get all nodes (unordered):\n",
    "FunCorp.getAllNodes()"
   ]
  }
 ],
 "metadata": {
  "kernelspec": {
   "display_name": "Python 3",
   "language": "python",
   "name": "python3"
  },
  "language_info": {
   "codemirror_mode": {
    "name": "ipython",
    "version": 3
   },
   "file_extension": ".py",
   "mimetype": "text/x-python",
   "name": "python",
   "nbconvert_exporter": "python",
   "pygments_lexer": "ipython3",
   "version": "3.9.12"
  },
  "latex_envs": {
   "LaTeX_envs_menu_present": true,
   "autoclose": false,
   "autocomplete": true,
   "bibliofile": "biblio.bib",
   "cite_by": "apalike",
   "current_citInitial": 1,
   "eqLabelWithNumbers": true,
   "eqNumInitial": 1,
   "hotkeys": {
    "equation": "Ctrl-E",
    "itemize": "Ctrl-I"
   },
   "labels_anchors": false,
   "latex_user_defs": false,
   "report_style_numbering": false,
   "user_envs_cfg": false
  },
  "nbTranslate": {
   "displayLangs": [
    "*"
   ],
   "hotkey": "alt-t",
   "langInMainMenu": true,
   "sourceLang": "en",
   "targetLang": "fr",
   "useGoogleTranslate": true
  },
  "toc": {
   "base_numbering": 1,
   "nav_menu": {},
   "number_sections": true,
   "sideBar": true,
   "skip_h1_title": false,
   "title_cell": "Table of Contents",
   "title_sidebar": "Contents",
   "toc_cell": false,
   "toc_position": {},
   "toc_section_display": true,
   "toc_window_display": false
  },
  "varInspector": {
   "cols": {
    "lenName": 16,
    "lenType": 16,
    "lenVar": 40
   },
   "kernels_config": {
    "python": {
     "delete_cmd_postfix": "",
     "delete_cmd_prefix": "del ",
     "library": "var_list.py",
     "varRefreshCmd": "print(var_dic_list())"
    },
    "r": {
     "delete_cmd_postfix": ") ",
     "delete_cmd_prefix": "rm(",
     "library": "var_list.r",
     "varRefreshCmd": "cat(var_dic_list()) "
    }
   },
   "types_to_exclude": [
    "module",
    "function",
    "builtin_function_or_method",
    "instance",
    "_Feature"
   ],
   "window_display": false
  }
 },
 "nbformat": 4,
 "nbformat_minor": 4
}
